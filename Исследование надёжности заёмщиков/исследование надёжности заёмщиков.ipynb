{
 "cells": [
  {
   "cell_type": "markdown",
   "id": "386f2ae7",
   "metadata": {
    "deletable": false,
    "editable": false,
    "id": "386f2ae7"
   },
   "source": [
    "# Исследование надежности заемщиков\n"
   ]
  },
  {
   "cell_type": "markdown",
   "id": "ffe86f65",
   "metadata": {
    "deletable": false,
    "editable": false,
    "id": "ffe86f65"
   },
   "source": [
    "Во второй части проекта вы выполните шаги 3 и 4. Их вручную проверит ревьюер.\n",
    "Чтобы вам не пришлось писать код заново для шагов 1 и 2, мы добавили авторские решения в ячейки с кодом. \n",
    "\n"
   ]
  },
  {
   "cell_type": "markdown",
   "id": "26613308",
   "metadata": {
    "deletable": false,
    "editable": false,
    "id": "26613308"
   },
   "source": [
    "## Откройте таблицу и изучите общую информацию о данных"
   ]
  },
  {
   "cell_type": "markdown",
   "id": "3c9f838e",
   "metadata": {
    "deletable": false,
    "editable": false,
    "id": "3c9f838e"
   },
   "source": [
    "**Задание 1. Импортируйте библиотеку pandas. Считайте данные из csv-файла в датафрейм и сохраните в переменную `data`. Путь к файлу:**\n",
    "\n",
    "`/datasets/data.csv`"
   ]
  },
  {
   "cell_type": "code",
   "execution_count": 1,
   "id": "77a68a90",
   "metadata": {
    "deletable": false,
    "id": "77a68a90"
   },
   "outputs": [],
   "source": [
    "import pandas as pd\n",
    "import matplotlib.pyplot as plt\n",
    "\n",
    "try:\n",
    "    data = pd.read_csv('')\n",
    "except:\n",
    "    data = pd.read_csv('')"
   ]
  },
  {
   "cell_type": "markdown",
   "id": "45365635",
   "metadata": {
    "deletable": false,
    "editable": false,
    "id": "45365635"
   },
   "source": [
    "**Задание 2. Выведите первые 20 строчек датафрейма `data` на экран.**"
   ]
  },
  {
   "cell_type": "code",
   "execution_count": 2,
   "id": "b0451a9a",
   "metadata": {
    "deletable": false,
    "id": "b0451a9a",
    "outputId": "1a8f3ef2-d323-4ec2-ddf7-89670b5944c4"
   },
   "outputs": [
    {
     "data": {
      "text/html": [
       "<div>\n",
       "<style scoped>\n",
       "    .dataframe tbody tr th:only-of-type {\n",
       "        vertical-align: middle;\n",
       "    }\n",
       "\n",
       "    .dataframe tbody tr th {\n",
       "        vertical-align: top;\n",
       "    }\n",
       "\n",
       "    .dataframe thead th {\n",
       "        text-align: right;\n",
       "    }\n",
       "</style>\n",
       "<table border=\"1\" class=\"dataframe\">\n",
       "  <thead>\n",
       "    <tr style=\"text-align: right;\">\n",
       "      <th></th>\n",
       "      <th>children</th>\n",
       "      <th>days_employed</th>\n",
       "      <th>dob_years</th>\n",
       "      <th>education</th>\n",
       "      <th>education_id</th>\n",
       "      <th>family_status</th>\n",
       "      <th>family_status_id</th>\n",
       "      <th>gender</th>\n",
       "      <th>income_type</th>\n",
       "      <th>debt</th>\n",
       "      <th>total_income</th>\n",
       "      <th>purpose</th>\n",
       "    </tr>\n",
       "  </thead>\n",
       "  <tbody>\n",
       "    <tr>\n",
       "      <th>0</th>\n",
       "      <td>1</td>\n",
       "      <td>-8437.673028</td>\n",
       "      <td>42</td>\n",
       "      <td>высшее</td>\n",
       "      <td>0</td>\n",
       "      <td>женат / замужем</td>\n",
       "      <td>0</td>\n",
       "      <td>F</td>\n",
       "      <td>сотрудник</td>\n",
       "      <td>0</td>\n",
       "      <td>253875.639453</td>\n",
       "      <td>покупка жилья</td>\n",
       "    </tr>\n",
       "    <tr>\n",
       "      <th>1</th>\n",
       "      <td>1</td>\n",
       "      <td>-4024.803754</td>\n",
       "      <td>36</td>\n",
       "      <td>среднее</td>\n",
       "      <td>1</td>\n",
       "      <td>женат / замужем</td>\n",
       "      <td>0</td>\n",
       "      <td>F</td>\n",
       "      <td>сотрудник</td>\n",
       "      <td>0</td>\n",
       "      <td>112080.014102</td>\n",
       "      <td>приобретение автомобиля</td>\n",
       "    </tr>\n",
       "    <tr>\n",
       "      <th>2</th>\n",
       "      <td>0</td>\n",
       "      <td>-5623.422610</td>\n",
       "      <td>33</td>\n",
       "      <td>Среднее</td>\n",
       "      <td>1</td>\n",
       "      <td>женат / замужем</td>\n",
       "      <td>0</td>\n",
       "      <td>M</td>\n",
       "      <td>сотрудник</td>\n",
       "      <td>0</td>\n",
       "      <td>145885.952297</td>\n",
       "      <td>покупка жилья</td>\n",
       "    </tr>\n",
       "    <tr>\n",
       "      <th>3</th>\n",
       "      <td>3</td>\n",
       "      <td>-4124.747207</td>\n",
       "      <td>32</td>\n",
       "      <td>среднее</td>\n",
       "      <td>1</td>\n",
       "      <td>женат / замужем</td>\n",
       "      <td>0</td>\n",
       "      <td>M</td>\n",
       "      <td>сотрудник</td>\n",
       "      <td>0</td>\n",
       "      <td>267628.550329</td>\n",
       "      <td>дополнительное образование</td>\n",
       "    </tr>\n",
       "    <tr>\n",
       "      <th>4</th>\n",
       "      <td>0</td>\n",
       "      <td>340266.072047</td>\n",
       "      <td>53</td>\n",
       "      <td>среднее</td>\n",
       "      <td>1</td>\n",
       "      <td>гражданский брак</td>\n",
       "      <td>1</td>\n",
       "      <td>F</td>\n",
       "      <td>пенсионер</td>\n",
       "      <td>0</td>\n",
       "      <td>158616.077870</td>\n",
       "      <td>сыграть свадьбу</td>\n",
       "    </tr>\n",
       "    <tr>\n",
       "      <th>5</th>\n",
       "      <td>0</td>\n",
       "      <td>-926.185831</td>\n",
       "      <td>27</td>\n",
       "      <td>высшее</td>\n",
       "      <td>0</td>\n",
       "      <td>гражданский брак</td>\n",
       "      <td>1</td>\n",
       "      <td>M</td>\n",
       "      <td>компаньон</td>\n",
       "      <td>0</td>\n",
       "      <td>255763.565419</td>\n",
       "      <td>покупка жилья</td>\n",
       "    </tr>\n",
       "    <tr>\n",
       "      <th>6</th>\n",
       "      <td>0</td>\n",
       "      <td>-2879.202052</td>\n",
       "      <td>43</td>\n",
       "      <td>высшее</td>\n",
       "      <td>0</td>\n",
       "      <td>женат / замужем</td>\n",
       "      <td>0</td>\n",
       "      <td>F</td>\n",
       "      <td>компаньон</td>\n",
       "      <td>0</td>\n",
       "      <td>240525.971920</td>\n",
       "      <td>операции с жильем</td>\n",
       "    </tr>\n",
       "    <tr>\n",
       "      <th>7</th>\n",
       "      <td>0</td>\n",
       "      <td>-152.779569</td>\n",
       "      <td>50</td>\n",
       "      <td>СРЕДНЕЕ</td>\n",
       "      <td>1</td>\n",
       "      <td>женат / замужем</td>\n",
       "      <td>0</td>\n",
       "      <td>M</td>\n",
       "      <td>сотрудник</td>\n",
       "      <td>0</td>\n",
       "      <td>135823.934197</td>\n",
       "      <td>образование</td>\n",
       "    </tr>\n",
       "    <tr>\n",
       "      <th>8</th>\n",
       "      <td>2</td>\n",
       "      <td>-6929.865299</td>\n",
       "      <td>35</td>\n",
       "      <td>ВЫСШЕЕ</td>\n",
       "      <td>0</td>\n",
       "      <td>гражданский брак</td>\n",
       "      <td>1</td>\n",
       "      <td>F</td>\n",
       "      <td>сотрудник</td>\n",
       "      <td>0</td>\n",
       "      <td>95856.832424</td>\n",
       "      <td>на проведение свадьбы</td>\n",
       "    </tr>\n",
       "    <tr>\n",
       "      <th>9</th>\n",
       "      <td>0</td>\n",
       "      <td>-2188.756445</td>\n",
       "      <td>41</td>\n",
       "      <td>среднее</td>\n",
       "      <td>1</td>\n",
       "      <td>женат / замужем</td>\n",
       "      <td>0</td>\n",
       "      <td>M</td>\n",
       "      <td>сотрудник</td>\n",
       "      <td>0</td>\n",
       "      <td>144425.938277</td>\n",
       "      <td>покупка жилья для семьи</td>\n",
       "    </tr>\n",
       "    <tr>\n",
       "      <th>10</th>\n",
       "      <td>2</td>\n",
       "      <td>-4171.483647</td>\n",
       "      <td>36</td>\n",
       "      <td>высшее</td>\n",
       "      <td>0</td>\n",
       "      <td>женат / замужем</td>\n",
       "      <td>0</td>\n",
       "      <td>M</td>\n",
       "      <td>компаньон</td>\n",
       "      <td>0</td>\n",
       "      <td>113943.491460</td>\n",
       "      <td>покупка недвижимости</td>\n",
       "    </tr>\n",
       "    <tr>\n",
       "      <th>11</th>\n",
       "      <td>0</td>\n",
       "      <td>-792.701887</td>\n",
       "      <td>40</td>\n",
       "      <td>среднее</td>\n",
       "      <td>1</td>\n",
       "      <td>женат / замужем</td>\n",
       "      <td>0</td>\n",
       "      <td>F</td>\n",
       "      <td>сотрудник</td>\n",
       "      <td>0</td>\n",
       "      <td>77069.234271</td>\n",
       "      <td>покупка коммерческой недвижимости</td>\n",
       "    </tr>\n",
       "    <tr>\n",
       "      <th>12</th>\n",
       "      <td>0</td>\n",
       "      <td>NaN</td>\n",
       "      <td>65</td>\n",
       "      <td>среднее</td>\n",
       "      <td>1</td>\n",
       "      <td>гражданский брак</td>\n",
       "      <td>1</td>\n",
       "      <td>M</td>\n",
       "      <td>пенсионер</td>\n",
       "      <td>0</td>\n",
       "      <td>NaN</td>\n",
       "      <td>сыграть свадьбу</td>\n",
       "    </tr>\n",
       "    <tr>\n",
       "      <th>13</th>\n",
       "      <td>0</td>\n",
       "      <td>-1846.641941</td>\n",
       "      <td>54</td>\n",
       "      <td>неоконченное высшее</td>\n",
       "      <td>2</td>\n",
       "      <td>женат / замужем</td>\n",
       "      <td>0</td>\n",
       "      <td>F</td>\n",
       "      <td>сотрудник</td>\n",
       "      <td>0</td>\n",
       "      <td>130458.228857</td>\n",
       "      <td>приобретение автомобиля</td>\n",
       "    </tr>\n",
       "    <tr>\n",
       "      <th>14</th>\n",
       "      <td>0</td>\n",
       "      <td>-1844.956182</td>\n",
       "      <td>56</td>\n",
       "      <td>высшее</td>\n",
       "      <td>0</td>\n",
       "      <td>гражданский брак</td>\n",
       "      <td>1</td>\n",
       "      <td>F</td>\n",
       "      <td>компаньон</td>\n",
       "      <td>1</td>\n",
       "      <td>165127.911772</td>\n",
       "      <td>покупка жилой недвижимости</td>\n",
       "    </tr>\n",
       "    <tr>\n",
       "      <th>15</th>\n",
       "      <td>1</td>\n",
       "      <td>-972.364419</td>\n",
       "      <td>26</td>\n",
       "      <td>среднее</td>\n",
       "      <td>1</td>\n",
       "      <td>женат / замужем</td>\n",
       "      <td>0</td>\n",
       "      <td>F</td>\n",
       "      <td>сотрудник</td>\n",
       "      <td>0</td>\n",
       "      <td>116820.904450</td>\n",
       "      <td>строительство собственной недвижимости</td>\n",
       "    </tr>\n",
       "    <tr>\n",
       "      <th>16</th>\n",
       "      <td>0</td>\n",
       "      <td>-1719.934226</td>\n",
       "      <td>35</td>\n",
       "      <td>среднее</td>\n",
       "      <td>1</td>\n",
       "      <td>женат / замужем</td>\n",
       "      <td>0</td>\n",
       "      <td>F</td>\n",
       "      <td>сотрудник</td>\n",
       "      <td>0</td>\n",
       "      <td>289202.704229</td>\n",
       "      <td>недвижимость</td>\n",
       "    </tr>\n",
       "    <tr>\n",
       "      <th>17</th>\n",
       "      <td>0</td>\n",
       "      <td>-2369.999720</td>\n",
       "      <td>33</td>\n",
       "      <td>высшее</td>\n",
       "      <td>0</td>\n",
       "      <td>гражданский брак</td>\n",
       "      <td>1</td>\n",
       "      <td>M</td>\n",
       "      <td>сотрудник</td>\n",
       "      <td>0</td>\n",
       "      <td>90410.586745</td>\n",
       "      <td>строительство недвижимости</td>\n",
       "    </tr>\n",
       "    <tr>\n",
       "      <th>18</th>\n",
       "      <td>0</td>\n",
       "      <td>400281.136913</td>\n",
       "      <td>53</td>\n",
       "      <td>среднее</td>\n",
       "      <td>1</td>\n",
       "      <td>вдовец / вдова</td>\n",
       "      <td>2</td>\n",
       "      <td>F</td>\n",
       "      <td>пенсионер</td>\n",
       "      <td>0</td>\n",
       "      <td>56823.777243</td>\n",
       "      <td>на покупку подержанного автомобиля</td>\n",
       "    </tr>\n",
       "    <tr>\n",
       "      <th>19</th>\n",
       "      <td>0</td>\n",
       "      <td>-10038.818549</td>\n",
       "      <td>48</td>\n",
       "      <td>СРЕДНЕЕ</td>\n",
       "      <td>1</td>\n",
       "      <td>в разводе</td>\n",
       "      <td>3</td>\n",
       "      <td>F</td>\n",
       "      <td>сотрудник</td>\n",
       "      <td>0</td>\n",
       "      <td>242831.107982</td>\n",
       "      <td>на покупку своего автомобиля</td>\n",
       "    </tr>\n",
       "  </tbody>\n",
       "</table>\n",
       "</div>"
      ],
      "text/plain": [
       "    children  days_employed  dob_years            education  education_id  \\\n",
       "0          1   -8437.673028         42               высшее             0   \n",
       "1          1   -4024.803754         36              среднее             1   \n",
       "2          0   -5623.422610         33              Среднее             1   \n",
       "3          3   -4124.747207         32              среднее             1   \n",
       "4          0  340266.072047         53              среднее             1   \n",
       "5          0    -926.185831         27               высшее             0   \n",
       "6          0   -2879.202052         43               высшее             0   \n",
       "7          0    -152.779569         50              СРЕДНЕЕ             1   \n",
       "8          2   -6929.865299         35               ВЫСШЕЕ             0   \n",
       "9          0   -2188.756445         41              среднее             1   \n",
       "10         2   -4171.483647         36               высшее             0   \n",
       "11         0    -792.701887         40              среднее             1   \n",
       "12         0            NaN         65              среднее             1   \n",
       "13         0   -1846.641941         54  неоконченное высшее             2   \n",
       "14         0   -1844.956182         56               высшее             0   \n",
       "15         1    -972.364419         26              среднее             1   \n",
       "16         0   -1719.934226         35              среднее             1   \n",
       "17         0   -2369.999720         33               высшее             0   \n",
       "18         0  400281.136913         53              среднее             1   \n",
       "19         0  -10038.818549         48              СРЕДНЕЕ             1   \n",
       "\n",
       "       family_status  family_status_id gender income_type  debt  \\\n",
       "0    женат / замужем                 0      F   сотрудник     0   \n",
       "1    женат / замужем                 0      F   сотрудник     0   \n",
       "2    женат / замужем                 0      M   сотрудник     0   \n",
       "3    женат / замужем                 0      M   сотрудник     0   \n",
       "4   гражданский брак                 1      F   пенсионер     0   \n",
       "5   гражданский брак                 1      M   компаньон     0   \n",
       "6    женат / замужем                 0      F   компаньон     0   \n",
       "7    женат / замужем                 0      M   сотрудник     0   \n",
       "8   гражданский брак                 1      F   сотрудник     0   \n",
       "9    женат / замужем                 0      M   сотрудник     0   \n",
       "10   женат / замужем                 0      M   компаньон     0   \n",
       "11   женат / замужем                 0      F   сотрудник     0   \n",
       "12  гражданский брак                 1      M   пенсионер     0   \n",
       "13   женат / замужем                 0      F   сотрудник     0   \n",
       "14  гражданский брак                 1      F   компаньон     1   \n",
       "15   женат / замужем                 0      F   сотрудник     0   \n",
       "16   женат / замужем                 0      F   сотрудник     0   \n",
       "17  гражданский брак                 1      M   сотрудник     0   \n",
       "18    вдовец / вдова                 2      F   пенсионер     0   \n",
       "19         в разводе                 3      F   сотрудник     0   \n",
       "\n",
       "     total_income                                 purpose  \n",
       "0   253875.639453                           покупка жилья  \n",
       "1   112080.014102                 приобретение автомобиля  \n",
       "2   145885.952297                           покупка жилья  \n",
       "3   267628.550329              дополнительное образование  \n",
       "4   158616.077870                         сыграть свадьбу  \n",
       "5   255763.565419                           покупка жилья  \n",
       "6   240525.971920                       операции с жильем  \n",
       "7   135823.934197                             образование  \n",
       "8    95856.832424                   на проведение свадьбы  \n",
       "9   144425.938277                 покупка жилья для семьи  \n",
       "10  113943.491460                    покупка недвижимости  \n",
       "11   77069.234271       покупка коммерческой недвижимости  \n",
       "12            NaN                         сыграть свадьбу  \n",
       "13  130458.228857                 приобретение автомобиля  \n",
       "14  165127.911772              покупка жилой недвижимости  \n",
       "15  116820.904450  строительство собственной недвижимости  \n",
       "16  289202.704229                            недвижимость  \n",
       "17   90410.586745              строительство недвижимости  \n",
       "18   56823.777243      на покупку подержанного автомобиля  \n",
       "19  242831.107982            на покупку своего автомобиля  "
      ]
     },
     "execution_count": 2,
     "metadata": {},
     "output_type": "execute_result"
    }
   ],
   "source": [
    "data.head(20)"
   ]
  },
  {
   "cell_type": "markdown",
   "id": "0ed8f27f",
   "metadata": {
    "deletable": false,
    "editable": false,
    "id": "0ed8f27f"
   },
   "source": [
    "**Задание 3. Выведите основную информацию о датафрейме с помощью метода `info()`.**"
   ]
  },
  {
   "cell_type": "code",
   "execution_count": 3,
   "id": "ab3f863b",
   "metadata": {
    "deletable": false,
    "id": "ab3f863b",
    "outputId": "15376089-8dad-46c9-b520-c05248d43158"
   },
   "outputs": [
    {
     "name": "stdout",
     "output_type": "stream",
     "text": [
      "<class 'pandas.core.frame.DataFrame'>\n",
      "RangeIndex: 21525 entries, 0 to 21524\n",
      "Data columns (total 12 columns):\n",
      " #   Column            Non-Null Count  Dtype  \n",
      "---  ------            --------------  -----  \n",
      " 0   children          21525 non-null  int64  \n",
      " 1   days_employed     19351 non-null  float64\n",
      " 2   dob_years         21525 non-null  int64  \n",
      " 3   education         21525 non-null  object \n",
      " 4   education_id      21525 non-null  int64  \n",
      " 5   family_status     21525 non-null  object \n",
      " 6   family_status_id  21525 non-null  int64  \n",
      " 7   gender            21525 non-null  object \n",
      " 8   income_type       21525 non-null  object \n",
      " 9   debt              21525 non-null  int64  \n",
      " 10  total_income      19351 non-null  float64\n",
      " 11  purpose           21525 non-null  object \n",
      "dtypes: float64(2), int64(5), object(5)\n",
      "memory usage: 2.0+ MB\n"
     ]
    }
   ],
   "source": [
    "data.info()"
   ]
  },
  {
   "cell_type": "markdown",
   "id": "60e3e22d",
   "metadata": {
    "deletable": false,
    "editable": false,
    "id": "60e3e22d"
   },
   "source": [
    "## Предобработка данных"
   ]
  },
  {
   "cell_type": "markdown",
   "id": "03dc170c",
   "metadata": {
    "deletable": false,
    "editable": false,
    "id": "03dc170c"
   },
   "source": [
    "### Удаление пропусков"
   ]
  },
  {
   "cell_type": "markdown",
   "id": "a4f54eef",
   "metadata": {
    "deletable": false,
    "editable": false,
    "id": "a4f54eef"
   },
   "source": [
    "**Задание 4. Выведите количество пропущенных значений для каждого столбца. Используйте комбинацию двух методов.**"
   ]
  },
  {
   "cell_type": "code",
   "execution_count": 4,
   "id": "2dc372b2",
   "metadata": {
    "deletable": false,
    "id": "2dc372b2",
    "outputId": "81f4d817-781c-465c-ed15-91ce4446810d"
   },
   "outputs": [
    {
     "data": {
      "text/plain": [
       "children               0\n",
       "days_employed       2174\n",
       "dob_years              0\n",
       "education              0\n",
       "education_id           0\n",
       "family_status          0\n",
       "family_status_id       0\n",
       "gender                 0\n",
       "income_type            0\n",
       "debt                   0\n",
       "total_income        2174\n",
       "purpose                0\n",
       "dtype: int64"
      ]
     },
     "execution_count": 4,
     "metadata": {},
     "output_type": "execute_result"
    }
   ],
   "source": [
    "data.isna().sum()"
   ]
  },
  {
   "cell_type": "markdown",
   "id": "14f011b1",
   "metadata": {
    "deletable": false,
    "editable": false,
    "id": "14f011b1"
   },
   "source": [
    "**Задание 5. В двух столбцах есть пропущенные значения. Один из них — `days_employed`. Пропуски в этом столбце вы обработаете на следующем этапе. Другой столбец с пропущенными значениями — `total_income` — хранит данные о доходах. На сумму дохода сильнее всего влияет тип занятости, поэтому заполнить пропуски в этом столбце нужно медианным значением по каждому типу из столбца `income_type`. Например, у человека с типом занятости `сотрудник` пропуск в столбце `total_income` должен быть заполнен медианным доходом среди всех записей с тем же типом.**"
   ]
  },
  {
   "cell_type": "code",
   "execution_count": 5,
   "id": "bdabfb6e",
   "metadata": {
    "deletable": false,
    "id": "bdabfb6e"
   },
   "outputs": [],
   "source": [
    "for t in data['income_type'].unique():\n",
    "    data.loc[(data['income_type'] == t) & (data['total_income'].isna()), 'total_income'] = \\\n",
    "    data.loc[(data['income_type'] == t), 'total_income'].median()"
   ]
  },
  {
   "cell_type": "markdown",
   "id": "5be34059",
   "metadata": {
    "deletable": false,
    "editable": false,
    "id": "5be34059"
   },
   "source": [
    "### Обработка аномальных значений"
   ]
  },
  {
   "cell_type": "markdown",
   "id": "a87606cb",
   "metadata": {
    "deletable": false,
    "editable": false,
    "id": "a87606cb"
   },
   "source": [
    "**Задание 6. В данных могут встречаться артефакты (аномалии) — значения, которые не отражают действительность и появились по какой-то ошибке. таким артефактом будет отрицательное количество дней трудового стажа в столбце `days_employed`. Для реальных данных это нормально. Обработайте значения в этом столбце: замените все отрицательные значения положительными с помощью метода `abs()`.**"
   ]
  },
  {
   "cell_type": "code",
   "execution_count": 6,
   "id": "020c46cc",
   "metadata": {
    "deletable": false,
    "id": "020c46cc"
   },
   "outputs": [],
   "source": [
    "data['days_employed'] = data['days_employed'].abs()"
   ]
  },
  {
   "cell_type": "markdown",
   "id": "45538a3a",
   "metadata": {
    "deletable": false,
    "editable": false,
    "id": "45538a3a"
   },
   "source": [
    "**Задание 7. Для каждого типа занятости выведите медианное значение трудового стажа `days_employed` в днях.**"
   ]
  },
  {
   "cell_type": "code",
   "execution_count": 7,
   "id": "cd3e6328",
   "metadata": {
    "deletable": false,
    "id": "cd3e6328",
    "outputId": "801ef80e-522b-4668-f34e-565af7432bcf"
   },
   "outputs": [
    {
     "data": {
      "text/plain": [
       "income_type\n",
       "безработный        366413.652744\n",
       "в декрете            3296.759962\n",
       "госслужащий          2689.368353\n",
       "компаньон            1547.382223\n",
       "пенсионер          365213.306266\n",
       "предприниматель       520.848083\n",
       "сотрудник            1574.202821\n",
       "студент               578.751554\n",
       "Name: days_employed, dtype: float64"
      ]
     },
     "execution_count": 7,
     "metadata": {},
     "output_type": "execute_result"
    }
   ],
   "source": [
    "data.groupby('income_type')['days_employed'].agg('median')"
   ]
  },
  {
   "cell_type": "markdown",
   "id": "90c5f058",
   "metadata": {
    "deletable": false,
    "editable": false,
    "id": "90c5f058"
   },
   "source": [
    "У двух типов (безработные и пенсионеры) получатся аномально большие значения. Исправить такие значения сложно, поэтому оставьте их как есть."
   ]
  },
  {
   "cell_type": "markdown",
   "id": "9652e50d",
   "metadata": {
    "deletable": false,
    "editable": false,
    "id": "9652e50d"
   },
   "source": [
    "**Задание 8. Выведите перечень уникальных значений столбца `children`.**"
   ]
  },
  {
   "cell_type": "code",
   "execution_count": 8,
   "id": "dbb37b8e",
   "metadata": {
    "deletable": false,
    "id": "dbb37b8e",
    "outputId": "6975b15c-7f95-4697-d16d-a0c79b657b03"
   },
   "outputs": [
    {
     "data": {
      "text/plain": [
       "array([ 1,  0,  3,  2, -1,  4, 20,  5])"
      ]
     },
     "execution_count": 8,
     "metadata": {},
     "output_type": "execute_result"
    }
   ],
   "source": [
    "data['children'].unique()"
   ]
  },
  {
   "cell_type": "markdown",
   "id": "2b8b0715",
   "metadata": {
    "deletable": false,
    "editable": false,
    "id": "2b8b0715"
   },
   "source": [
    "**Задание 9. В столбце `children` есть два аномальных значения. Удалите строки, в которых встречаются такие аномальные значения из датафрейма `data`.**"
   ]
  },
  {
   "cell_type": "code",
   "execution_count": 9,
   "id": "20009df8",
   "metadata": {
    "deletable": false,
    "id": "20009df8"
   },
   "outputs": [],
   "source": [
    "data = data[(data['children'] != -1) & (data['children'] != 20)]"
   ]
  },
  {
   "cell_type": "markdown",
   "id": "8c6ac9f1",
   "metadata": {
    "deletable": false,
    "editable": false,
    "id": "8c6ac9f1"
   },
   "source": [
    "**Задание 10. Ещё раз выведите перечень уникальных значений столбца `children`, чтобы убедиться, что артефакты удалены.**"
   ]
  },
  {
   "cell_type": "code",
   "execution_count": 10,
   "id": "07337b81",
   "metadata": {
    "deletable": false,
    "id": "07337b81",
    "outputId": "b2097101-d49d-44d9-901b-32a65c9463d1"
   },
   "outputs": [
    {
     "data": {
      "text/plain": [
       "array([1, 0, 3, 2, 4, 5])"
      ]
     },
     "execution_count": 10,
     "metadata": {},
     "output_type": "execute_result"
    }
   ],
   "source": [
    "data['children'].unique()"
   ]
  },
  {
   "cell_type": "markdown",
   "id": "ee3f52d4",
   "metadata": {
    "deletable": false,
    "editable": false,
    "id": "ee3f52d4"
   },
   "source": [
    "### Удаление пропусков (продолжение)"
   ]
  },
  {
   "cell_type": "markdown",
   "id": "a700b0e4",
   "metadata": {
    "deletable": false,
    "editable": false,
    "id": "a700b0e4"
   },
   "source": [
    "**Задание 11. Заполните пропуски в столбце `days_employed` медианными значениями по каждого типа занятости `income_type`.**"
   ]
  },
  {
   "cell_type": "code",
   "execution_count": 11,
   "id": "61946b83",
   "metadata": {
    "deletable": false,
    "id": "61946b83"
   },
   "outputs": [],
   "source": [
    "for t in data['income_type'].unique():\n",
    "    data.loc[(data['income_type'] == t) & (data['days_employed'].isna()), 'days_employed'] = \\\n",
    "    data.loc[(data['income_type'] == t), 'days_employed'].median()"
   ]
  },
  {
   "cell_type": "markdown",
   "id": "550dcd9b",
   "metadata": {
    "deletable": false,
    "editable": false,
    "id": "550dcd9b"
   },
   "source": [
    "**Задание 12. Убедитесь, что все пропуски заполнены. Проверьте себя и ещё раз выведите количество пропущенных значений для каждого столбца с помощью двух методов.**"
   ]
  },
  {
   "cell_type": "code",
   "execution_count": 12,
   "id": "937c7014",
   "metadata": {
    "deletable": false,
    "id": "937c7014",
    "outputId": "8da1e4e1-358e-4e87-98c9-f261bce0a7b2"
   },
   "outputs": [
    {
     "data": {
      "text/plain": [
       "children            0\n",
       "days_employed       0\n",
       "dob_years           0\n",
       "education           0\n",
       "education_id        0\n",
       "family_status       0\n",
       "family_status_id    0\n",
       "gender              0\n",
       "income_type         0\n",
       "debt                0\n",
       "total_income        0\n",
       "purpose             0\n",
       "dtype: int64"
      ]
     },
     "execution_count": 12,
     "metadata": {},
     "output_type": "execute_result"
    }
   ],
   "source": [
    "data.isna().sum()"
   ]
  },
  {
   "cell_type": "markdown",
   "id": "d522e295",
   "metadata": {
    "deletable": false,
    "editable": false,
    "id": "d522e295"
   },
   "source": [
    "### Изменение типов данных"
   ]
  },
  {
   "cell_type": "markdown",
   "id": "c229c581",
   "metadata": {
    "deletable": false,
    "editable": false,
    "id": "c229c581"
   },
   "source": [
    "**Задание 13. Замените вещественный тип данных в столбце `total_income` на целочисленный с помощью метода `astype()`.**"
   ]
  },
  {
   "cell_type": "code",
   "execution_count": 13,
   "id": "31036462",
   "metadata": {
    "deletable": false,
    "id": "31036462"
   },
   "outputs": [],
   "source": [
    "data['total_income'] = data['total_income'].astype(int)"
   ]
  },
  {
   "cell_type": "markdown",
   "id": "b8e3d1d9",
   "metadata": {
    "deletable": false,
    "editable": false,
    "id": "b8e3d1d9"
   },
   "source": [
    "### Обработка дубликатов"
   ]
  },
  {
   "cell_type": "markdown",
   "id": "9be53c49",
   "metadata": {
    "deletable": false,
    "editable": false,
    "id": "9be53c49"
   },
   "source": [
    "**Задание 14. Обработайте неявные дубликаты в столбце `education`. В этом столбце есть одни и те же значения, но записанные по-разному: с использованием заглавных и строчных букв. Приведите их к нижнему регистру.**"
   ]
  },
  {
   "cell_type": "code",
   "execution_count": 14,
   "id": "d89e73e1",
   "metadata": {
    "deletable": false,
    "id": "d89e73e1"
   },
   "outputs": [],
   "source": [
    "data['education'] = data['education'].str.lower()"
   ]
  },
  {
   "cell_type": "markdown",
   "id": "01d4500e",
   "metadata": {
    "deletable": false,
    "editable": false,
    "id": "01d4500e"
   },
   "source": [
    "**Задание 15. Выведите на экран количество строк-дубликатов в данных. Если такие строки присутствуют, удалите их.**"
   ]
  },
  {
   "cell_type": "code",
   "execution_count": 15,
   "id": "e10efb23",
   "metadata": {
    "deletable": false,
    "id": "e10efb23",
    "outputId": "9684deba-1934-42d1-99e1-cda61740f822"
   },
   "outputs": [
    {
     "data": {
      "text/plain": [
       "71"
      ]
     },
     "execution_count": 15,
     "metadata": {},
     "output_type": "execute_result"
    }
   ],
   "source": [
    "data.duplicated().sum()"
   ]
  },
  {
   "cell_type": "code",
   "execution_count": 16,
   "id": "df853f20",
   "metadata": {
    "deletable": false,
    "id": "df853f20"
   },
   "outputs": [],
   "source": [
    "data = data.drop_duplicates()"
   ]
  },
  {
   "cell_type": "markdown",
   "id": "627be38f",
   "metadata": {
    "deletable": false,
    "editable": false,
    "id": "627be38f"
   },
   "source": [
    "### Категоризация данных"
   ]
  },
  {
   "cell_type": "markdown",
   "id": "4684c3e0",
   "metadata": {
    "deletable": false,
    "editable": false,
    "id": "4684c3e0"
   },
   "source": [
    "**Задание 16. На основании диапазонов, указанных ниже, создайте в датафрейме `data` столбец `total_income_category` с категориями:**\n",
    "\n",
    "- 0–30000 — `'E'`;\n",
    "- 30001–50000 — `'D'`;\n",
    "- 50001–200000 — `'C'`;\n",
    "- 200001–1000000 — `'B'`;\n",
    "- 1000001 и выше — `'A'`.\n",
    "\n",
    "\n",
    "**Например, кредитополучателю с доходом 25000 нужно назначить категорию `'E'`, а клиенту, получающему 235000, — `'B'`. Используйте собственную функцию с именем `categorize_income()` и метод `apply()`.**"
   ]
  },
  {
   "cell_type": "code",
   "execution_count": 17,
   "id": "78965238",
   "metadata": {
    "deletable": false,
    "id": "78965238"
   },
   "outputs": [],
   "source": [
    "def categorize_income(income):\n",
    "    try:\n",
    "        if 0 <= income <= 30000:\n",
    "            return 'E'\n",
    "        elif 30001 <= income <= 50000:\n",
    "            return 'D'\n",
    "        elif 50001 <= income <= 200000:\n",
    "            return 'C'\n",
    "        elif 200001 <= income <= 1000000:\n",
    "            return 'B'\n",
    "        elif income >= 1000001:\n",
    "            return 'A'\n",
    "    except:\n",
    "        pass"
   ]
  },
  {
   "cell_type": "code",
   "execution_count": 18,
   "id": "0980ada1",
   "metadata": {
    "deletable": false,
    "id": "0980ada1"
   },
   "outputs": [],
   "source": [
    "data['total_income_category'] = data['total_income'].apply(categorize_income)"
   ]
  },
  {
   "cell_type": "markdown",
   "id": "9917bba0",
   "metadata": {
    "deletable": false,
    "editable": false,
    "id": "9917bba0"
   },
   "source": [
    "**Задание 17. Выведите на экран перечень уникальных целей взятия кредита из столбца `purpose`.**"
   ]
  },
  {
   "cell_type": "code",
   "execution_count": 19,
   "id": "ee07b65e",
   "metadata": {
    "deletable": false,
    "id": "ee07b65e",
    "outputId": "673c12d9-7d7e-4ae0-9812-c622c89dd244"
   },
   "outputs": [
    {
     "data": {
      "text/plain": [
       "array(['покупка жилья', 'приобретение автомобиля',\n",
       "       'дополнительное образование', 'сыграть свадьбу',\n",
       "       'операции с жильем', 'образование', 'на проведение свадьбы',\n",
       "       'покупка жилья для семьи', 'покупка недвижимости',\n",
       "       'покупка коммерческой недвижимости', 'покупка жилой недвижимости',\n",
       "       'строительство собственной недвижимости', 'недвижимость',\n",
       "       'строительство недвижимости', 'на покупку подержанного автомобиля',\n",
       "       'на покупку своего автомобиля',\n",
       "       'операции с коммерческой недвижимостью',\n",
       "       'строительство жилой недвижимости', 'жилье',\n",
       "       'операции со своей недвижимостью', 'автомобили',\n",
       "       'заняться образованием', 'сделка с подержанным автомобилем',\n",
       "       'получение образования', 'автомобиль', 'свадьба',\n",
       "       'получение дополнительного образования', 'покупка своего жилья',\n",
       "       'операции с недвижимостью', 'получение высшего образования',\n",
       "       'свой автомобиль', 'сделка с автомобилем',\n",
       "       'профильное образование', 'высшее образование',\n",
       "       'покупка жилья для сдачи', 'на покупку автомобиля', 'ремонт жилью',\n",
       "       'заняться высшим образованием'], dtype=object)"
      ]
     },
     "execution_count": 19,
     "metadata": {},
     "output_type": "execute_result"
    }
   ],
   "source": [
    "data['purpose'].unique()"
   ]
  },
  {
   "cell_type": "markdown",
   "id": "52b79d56",
   "metadata": {
    "deletable": false,
    "editable": false,
    "id": "52b79d56"
   },
   "source": [
    "**Задание 18. Создайте функцию, которая на основании данных из столбца `purpose` сформирует новый столбец `purpose_category`, в который войдут следующие категории:**\n",
    "\n",
    "- `'операции с автомобилем'`,\n",
    "- `'операции с недвижимостью'`,\n",
    "- `'проведение свадьбы'`,\n",
    "- `'получение образования'`.\n",
    "\n",
    "**Например, если в столбце `purpose` находится подстрока `'на покупку автомобиля'`, то в столбце `purpose_category` должна появиться строка `'операции с автомобилем'`.**\n",
    "\n",
    "**Используйте собственную функцию с именем `categorize_purpose()` и метод `apply()`. Изучите данные в столбце `purpose` и определите, какие подстроки помогут вам правильно определить категорию.**"
   ]
  },
  {
   "cell_type": "code",
   "execution_count": 20,
   "id": "be41da5d",
   "metadata": {
    "deletable": false,
    "id": "be41da5d"
   },
   "outputs": [],
   "source": [
    "def categorize_purpose(row):\n",
    "    try:\n",
    "        if 'автом' in row:\n",
    "            return 'операции с автомобилем'\n",
    "        elif 'жил' in row or 'недвиж' in row:\n",
    "            return 'операции с недвижимостью'\n",
    "        elif 'свад' in row:\n",
    "            return 'проведение свадьбы'\n",
    "        elif 'образов' in row:\n",
    "            return 'получение образования'\n",
    "    except:\n",
    "        return 'нет категории'"
   ]
  },
  {
   "cell_type": "code",
   "execution_count": 21,
   "id": "94c4a19a",
   "metadata": {
    "deletable": false,
    "id": "94c4a19a"
   },
   "outputs": [],
   "source": [
    "data['purpose_category'] = data['purpose'].apply(categorize_purpose)"
   ]
  },
  {
   "cell_type": "markdown",
   "id": "3d596c34",
   "metadata": {
    "deletable": false,
    "editable": false,
    "id": "3d596c34"
   },
   "source": [
    "### Шаг 3. Исследуйте данные и ответьте на вопросы"
   ]
  },
  {
   "cell_type": "markdown",
   "id": "648db036",
   "metadata": {
    "deletable": false,
    "editable": false,
    "id": "648db036"
   },
   "source": [
    "#### 3.1 Есть ли зависимость между количеством детей и возвратом кредита в срок?"
   ]
  },
  {
   "cell_type": "markdown",
   "id": "4cd35fa8",
   "metadata": {},
   "source": [
    "<div style=\"background-color:silver; color:#black; text-align:center; padding:1%\">"
   ]
  },
  {
   "cell_type": "markdown",
   "id": "b0f99fe9",
   "metadata": {},
   "source": [
    "<font color=\"grey\">Сперва выясним, как влияет наличие детей на возврат кредита в срок. Для этого вычислим какой процент составляет количество задолженностей в двух категориях получателя кредита: имеющих детей и не имеющих детей.</font>"
   ]
  },
  {
   "cell_type": "code",
   "execution_count": 22,
   "id": "7fcff25e",
   "metadata": {
    "deletable": false,
    "id": "7fcff25e"
   },
   "outputs": [
    {
     "data": {
      "text/html": [
       "<div>\n",
       "<style scoped>\n",
       "    .dataframe tbody tr th:only-of-type {\n",
       "        vertical-align: middle;\n",
       "    }\n",
       "\n",
       "    .dataframe tbody tr th {\n",
       "        vertical-align: top;\n",
       "    }\n",
       "\n",
       "    .dataframe thead th {\n",
       "        text-align: right;\n",
       "    }\n",
       "</style>\n",
       "<table border=\"1\" class=\"dataframe\">\n",
       "  <thead>\n",
       "    <tr style=\"text-align: right;\">\n",
       "      <th></th>\n",
       "      <th>children</th>\n",
       "      <th>appeal</th>\n",
       "      <th>debt</th>\n",
       "      <th>ratio_debt</th>\n",
       "    </tr>\n",
       "  </thead>\n",
       "  <tbody>\n",
       "    <tr>\n",
       "      <th>0</th>\n",
       "      <td>есть дети</td>\n",
       "      <td>7240</td>\n",
       "      <td>669</td>\n",
       "      <td>9.240331</td>\n",
       "    </tr>\n",
       "    <tr>\n",
       "      <th>1</th>\n",
       "      <td>нет детей</td>\n",
       "      <td>14091</td>\n",
       "      <td>1063</td>\n",
       "      <td>7.543822</td>\n",
       "    </tr>\n",
       "  </tbody>\n",
       "</table>\n",
       "</div>"
      ],
      "text/plain": [
       "    children  appeal  debt  ratio_debt\n",
       "0  есть дети    7240   669    9.240331\n",
       "1  нет детей   14091  1063    7.543822"
      ]
     },
     "metadata": {},
     "output_type": "display_data"
    }
   ],
   "source": [
    "# Данную группировку данных следует проводить по наличию и отсутствию детей:\n",
    "#    \"wilth_children\" и \"no_cildren\"\n",
    "# Для анализа расчитаем отношение количества должников к общему количеству выданных\n",
    "#    кредитов в каждой категории.\n",
    "\n",
    "# Посчитаем, сколько всего имеется обращений для каждой категории:\n",
    "wilth_children = data[data['children'] != 0]['children'].count()\n",
    "no_cildren = data[data['children'] == 0]['children'].count()\n",
    "\n",
    "# Посчитаем количество задолженностей для каждой категории:\n",
    "debt_wilth_children = data[data['children'] != 0]['debt'].sum()\n",
    "debt_no_cildren = data[data['children'] == 0]['debt'].sum()\n",
    "\n",
    "# Создадим новый датафрейм для работы с полученными данными:\n",
    "df_children = {\n",
    "    'children':['есть дети', 'нет детей'],\n",
    "    'appeal':[wilth_children, no_cildren],\n",
    "    'debt':[debt_wilth_children, debt_no_cildren]\n",
    "}\n",
    "df_children = pd.DataFrame(df_children)\n",
    "\n",
    "# Добавим в данные о процентном содержании должников в каждой категории:\n",
    "df_children['ratio_debt'] = df_children['debt'] / df_children['appeal'] * 100\n",
    "\n",
    "# Выведем данные для дальнейшей работы:\n",
    "display(df_children)"
   ]
  },
  {
   "cell_type": "markdown",
   "id": "5a826d1d",
   "metadata": {},
   "source": [
    "<font color=\"grey\">По полученным данным можно заметить, что клиенты с детьми значительно реже обращаются к кредитным услугам, зато клиенты без детей чаще соблюдают сроки платежей.</font>"
   ]
  },
  {
   "cell_type": "code",
   "execution_count": 23,
   "id": "53061f69",
   "metadata": {},
   "outputs": [
    {
     "name": "stdout",
     "output_type": "stream",
     "text": [
      "Клиенты с детьми составляют 33.9%\n",
      "Задолженность по выплатам у этой категории клиентов  выше на 1.7%, нежели у клиенов без детей.\n"
     ]
    },
    {
     "data": {
      "image/png": "[encoded data removed]",
      "text/plain": [
       "<Figure size 432x288 with 1 Axes>"
      ]
     },
     "metadata": {
      "needs_background": "light"
     },
     "output_type": "display_data"
    }
   ],
   "source": [
    "# Для наглядности построим гистограмму уровня задолженности обеих категорий:\n",
    "hist_fraction = df_children['ratio_debt'].plot(kind=\"bar\", color='grey')\n",
    "plt.title('Зависимость уровня задолженности от наличия детей')\n",
    "plt.ylabel('Уровень задолженности, %')\n",
    "plt.xlabel('Наличие детей')\n",
    "\n",
    "# и посчитаем разницу:\n",
    "ratio_wilth_children = df_children.loc[0, 'appeal'] / df_children['appeal'].sum() * 100\n",
    "diff_ratio_debt = df_children.loc[0, 'ratio_debt'] - df_children.loc[1, 'ratio_debt']\n",
    "print('Клиенты с детьми составляют', f'{ratio_wilth_children:.3}'+'%')\n",
    "print('Задолженность по выплатам у этой категории клиентов  выше на', f'{diff_ratio_debt:.3}'+'%, нежели у клиенов без детей.')"
   ]
  },
  {
   "cell_type": "markdown",
   "id": "6f400345",
   "metadata": {},
   "source": [
    "<font color=\"grey\">Для общего вывода оценим точнее во сколько раз клиентов без детей больше, чем клиентов с детьми:.</font>"
   ]
  },
  {
   "cell_type": "code",
   "execution_count": 24,
   "id": "73077f53",
   "metadata": {
    "scrolled": true
   },
   "outputs": [
    {
     "name": "stdout",
     "output_type": "stream",
     "text": [
      "Клиентов дез детей в 1.95 раза больше, чем клиентов с детьми.\n"
     ]
    }
   ],
   "source": [
    "relative = df_children['appeal'][1]/df_children['appeal'][0]\n",
    "print('Клиентов дез детей в', f'{relative:.3}', 'раза больше, чем клиентов с детьми.')"
   ]
  },
  {
   "cell_type": "markdown",
   "id": "20a8e313",
   "metadata": {},
   "source": [
    "<div style=\"background-color:silver; color:#black; text-align:center; padding:1%\">"
   ]
  },
  {
   "cell_type": "markdown",
   "id": "ad3b87ce",
   "metadata": {},
   "source": [
    "<font color=\"grey\">Уточним, влияет ли количество детей на возврат кредита в срок.</font>"
   ]
  },
  {
   "cell_type": "code",
   "execution_count": 25,
   "id": "a35ba5fa",
   "metadata": {},
   "outputs": [],
   "source": [
    "# Для этого и последующих вычислений создадим функцию comparison(parameter),\n",
    "# аргументом которой станет интересующий нас социальный или финансовый параметр.\n",
    "def comparison(parameter):\n",
    "    df = data[[parameter_name, 'debt']] # функция отбирёт столбцы, с интересующими нас данными \n",
    "    \n",
    "# сгруппирует их по заданному интересуещему нас параметру, подсчитав количество\n",
    "# выданных кредитов и задолженностей:\n",
    "    parameter_debt = df.groupby(parameter).agg({'debt': ['sum', 'count']})\n",
    "# выделит показатели в отдельные переменные\n",
    "    debt = parameter_debt['debt']['sum'] # количество должников в подкатегории\n",
    "    appeal = parameter_debt['debt']['count'] # общее количество выданных кредитов в подкатегории\n",
    "# на основании полученных данных посчитает процент просроченных кредитов:\n",
    "    ratio_debt = debt / appeal * 100\n",
    "# создаст датафрейм для визуализации данных и дальнейшего анализа: \n",
    "    parameter_debt_fraction = {\n",
    "        'debt':debt,\n",
    "        'appeal':appeal,\n",
    "        'ratio_debt':ratio_debt\n",
    "    }\n",
    "    parameter_debt_fraction = pd.DataFrame(parameter_debt_fraction)\n",
    "# объявит голбальную переменную с сохранённой в ней таблицей данных для дальнейшего анализа: \n",
    "    global table\n",
    "    table = parameter_debt_fraction\n",
    "    \n",
    "# визуализирует данные о доле должников в виде гистограммы:\n",
    "    hist = parameter_debt_fraction['ratio_debt'].plot(kind=\"bar\", rot=20, color='grey')\n",
    "    plt.title('Зависимость уровня задолженности от '+title_name)\n",
    "    plt.ylabel('Уровень задолженности, %')\n",
    "    plt.xlabel(parameter_gyst_name)\n",
    "    \n",
    "    \n",
    "# вернёт переменную с расчётными данными и гистограмму:    \n",
    "    return parameter_debt_fraction\n",
    "    return hist"
   ]
  },
  {
   "cell_type": "code",
   "execution_count": 26,
   "id": "588406ca",
   "metadata": {},
   "outputs": [
    {
     "data": {
      "text/html": [
       "<div>\n",
       "<style scoped>\n",
       "    .dataframe tbody tr th:only-of-type {\n",
       "        vertical-align: middle;\n",
       "    }\n",
       "\n",
       "    .dataframe tbody tr th {\n",
       "        vertical-align: top;\n",
       "    }\n",
       "\n",
       "    .dataframe thead th {\n",
       "        text-align: right;\n",
       "    }\n",
       "</style>\n",
       "<table border=\"1\" class=\"dataframe\">\n",
       "  <thead>\n",
       "    <tr style=\"text-align: right;\">\n",
       "      <th></th>\n",
       "      <th>debt</th>\n",
       "      <th>appeal</th>\n",
       "      <th>ratio_debt</th>\n",
       "    </tr>\n",
       "    <tr>\n",
       "      <th>children</th>\n",
       "      <th></th>\n",
       "      <th></th>\n",
       "      <th></th>\n",
       "    </tr>\n",
       "  </thead>\n",
       "  <tbody>\n",
       "    <tr>\n",
       "      <th>0</th>\n",
       "      <td>1063</td>\n",
       "      <td>14091</td>\n",
       "      <td>7.543822</td>\n",
       "    </tr>\n",
       "    <tr>\n",
       "      <th>1</th>\n",
       "      <td>444</td>\n",
       "      <td>4808</td>\n",
       "      <td>9.234609</td>\n",
       "    </tr>\n",
       "    <tr>\n",
       "      <th>2</th>\n",
       "      <td>194</td>\n",
       "      <td>2052</td>\n",
       "      <td>9.454191</td>\n",
       "    </tr>\n",
       "    <tr>\n",
       "      <th>3</th>\n",
       "      <td>27</td>\n",
       "      <td>330</td>\n",
       "      <td>8.181818</td>\n",
       "    </tr>\n",
       "    <tr>\n",
       "      <th>4</th>\n",
       "      <td>4</td>\n",
       "      <td>41</td>\n",
       "      <td>9.756098</td>\n",
       "    </tr>\n",
       "    <tr>\n",
       "      <th>5</th>\n",
       "      <td>0</td>\n",
       "      <td>9</td>\n",
       "      <td>0.000000</td>\n",
       "    </tr>\n",
       "  </tbody>\n",
       "</table>\n",
       "</div>"
      ],
      "text/plain": [
       "          debt  appeal  ratio_debt\n",
       "children                          \n",
       "0         1063   14091    7.543822\n",
       "1          444    4808    9.234609\n",
       "2          194    2052    9.454191\n",
       "3           27     330    8.181818\n",
       "4            4      41    9.756098\n",
       "5            0       9    0.000000"
      ]
     },
     "metadata": {},
     "output_type": "display_data"
    },
    {
     "data": {
      "image/png": "[encoded data removed]",
      "text/plain": [
       "<Figure size 432x288 with 1 Axes>"
      ]
     },
     "metadata": {
      "needs_background": "light"
     },
     "output_type": "display_data"
    }
   ],
   "source": [
    "# Для посчета влияния количества детей на погашение кредита в срок передадим аргументу функции\n",
    "# значение столбца с данными о количестве детей из предобработанной ранее таблицы:\n",
    "parameter = data['children']\n",
    "\n",
    "# переменной, включённой в функцию для уточнения источника данных передадим\n",
    "# соответствующее выбранному столбцу имя:\n",
    "parameter_name = 'children'\n",
    "\n",
    "# уточним характеристики гистограммы:\n",
    "parameter_gyst_name = 'Количество детей'\n",
    "title_name = 'количества детей'\n",
    "\n",
    "# вызовем функцию\n",
    "display(comparison(parameter))"
   ]
  },
  {
   "cell_type": "markdown",
   "id": "0a901433",
   "metadata": {},
   "source": [
    "<font color=\"grey\">Из показателей общего количества выданных кредитов в каждой категории понятно, что обращений клиентов с тремя и более детьми значительно меньше, нежели остальных категорий, поэтому данные этих трех строк можно обьединить, обозначив их категорией \"более двух\" (more_two).</font>"
   ]
  },
  {
   "cell_type": "code",
   "execution_count": 27,
   "id": "358ae1fc",
   "metadata": {},
   "outputs": [
    {
     "data": {
      "text/html": [
       "<div>\n",
       "<style scoped>\n",
       "    .dataframe tbody tr th:only-of-type {\n",
       "        vertical-align: middle;\n",
       "    }\n",
       "\n",
       "    .dataframe tbody tr th {\n",
       "        vertical-align: top;\n",
       "    }\n",
       "\n",
       "    .dataframe thead th {\n",
       "        text-align: right;\n",
       "    }\n",
       "</style>\n",
       "<table border=\"1\" class=\"dataframe\">\n",
       "  <thead>\n",
       "    <tr style=\"text-align: right;\">\n",
       "      <th></th>\n",
       "      <th>children</th>\n",
       "      <th>debt</th>\n",
       "      <th>appeal</th>\n",
       "      <th>ratio_debt</th>\n",
       "    </tr>\n",
       "  </thead>\n",
       "  <tbody>\n",
       "    <tr>\n",
       "      <th>0</th>\n",
       "      <td>0</td>\n",
       "      <td>1063</td>\n",
       "      <td>14091</td>\n",
       "      <td>7.543822</td>\n",
       "    </tr>\n",
       "    <tr>\n",
       "      <th>1</th>\n",
       "      <td>1</td>\n",
       "      <td>444</td>\n",
       "      <td>4808</td>\n",
       "      <td>9.234609</td>\n",
       "    </tr>\n",
       "    <tr>\n",
       "      <th>2</th>\n",
       "      <td>2</td>\n",
       "      <td>194</td>\n",
       "      <td>2052</td>\n",
       "      <td>9.454191</td>\n",
       "    </tr>\n",
       "    <tr>\n",
       "      <th>3</th>\n",
       "      <td>more_two</td>\n",
       "      <td>31</td>\n",
       "      <td>380</td>\n",
       "      <td>8.157895</td>\n",
       "    </tr>\n",
       "  </tbody>\n",
       "</table>\n",
       "</div>"
      ],
      "text/plain": [
       "   children  debt  appeal  ratio_debt\n",
       "0         0  1063   14091    7.543822\n",
       "1         1   444    4808    9.234609\n",
       "2         2   194    2052    9.454191\n",
       "3  more_two    31     380    8.157895"
      ]
     },
     "metadata": {},
     "output_type": "display_data"
    }
   ],
   "source": [
    "# Возьмём полученные в виде таблицы данные и преобразуем их:\n",
    "# сбросим индексы для перезаписи данных\n",
    "table_cild = table.copy().reset_index()\n",
    "\n",
    "# отбросим строки с данным о клиентах с четырьмя и пятью детьми\n",
    "table_cild = table_cild.loc[:3]\n",
    "\n",
    "# подсчитаем общее количество задолженностей для новой категории \"более двух\",\n",
    "# подсчитаем общее количество обращений для новой категории \"более двух\",\n",
    "# подсчитаем процент задолженности для новой категории \"более двух\":\n",
    "more_cildren_debt = table.loc[3,'debt']+table.loc[4,'debt']+table.loc[5,'debt']\n",
    "more_cildren_appeal = table.loc[3,'appeal']+table.loc[4,'appeal']+table.loc[5,'appeal']\n",
    "more_cildren_ratio = more_cildren_debt / more_cildren_appeal * 100\n",
    "\n",
    "# заменим данные таблицы в новой категории на вычесленные:\n",
    "table_cild = table_cild.replace(table_cild.loc[3,'debt'], more_cildren_debt)\\\n",
    "            .replace(table_cild.loc[3,'appeal'], more_cildren_appeal)\\\n",
    "            .replace(table_cild.loc[3,'ratio_debt'], more_cildren_ratio)\\\n",
    "            .replace(table_cild.loc[3,'children'], 'more_two')\n",
    "# выведем результат\n",
    "display(table_cild)"
   ]
  },
  {
   "cell_type": "markdown",
   "id": "28e60007",
   "metadata": {},
   "source": [
    "<font color=\"grey\">По уточненным данным можно заметить, что клиенты с одним и двумя детьми имеют близкий уровень задолженности, а клиенты многодетных семей обращаются за кредитными услугами реже и в среднем имеют уровень задолженности ниже первых двух категорий.</font>"
   ]
  },
  {
   "cell_type": "code",
   "execution_count": 28,
   "id": "737f502f",
   "metadata": {},
   "outputs": [
    {
     "name": "stdout",
     "output_type": "stream",
     "text": [
      "Средний процент возврата кредита позже срока для семей с одним и двумя детьми составляет: 9.3 %\n",
      "Средний процент возврата кредита позже срока для многодетных семей составляет: 8.16 %\n",
      "Средний процент возврата кредита позже срока для семей с детьми составляет: 9.24 %\n"
     ]
    }
   ],
   "source": [
    "one_two_children_mean = table_cild.loc[1:2, 'debt'].sum() / table_cild.loc[1:2, 'appeal'].sum() * 100\n",
    "more_two_children_mean = table_cild.loc[3, 'ratio_debt']\n",
    "children_mean = table_cild.loc[1:3, 'debt'].sum() / table_cild.loc[1:3, 'appeal'].sum() * 100\n",
    "print('Средний процент возврата кредита позже срока для семей с одним и двумя детьми составляет:', f'{one_two_children_mean:.3}', '%')\n",
    "print('Средний процент возврата кредита позже срока для многодетных семей составляет:', f'{more_two_children_mean:.3}', '%')\n",
    "print('Средний процент возврата кредита позже срока для семей с детьми составляет:', f'{children_mean:.3}', '%')"
   ]
  },
  {
   "cell_type": "markdown",
   "id": "2eb9088e",
   "metadata": {
    "deletable": false,
    "id": "2eb9088e"
   },
   "source": [
    "**Вывод:**"
   ]
  },
  {
   "cell_type": "markdown",
   "id": "e36f3d0c",
   "metadata": {},
   "source": [
    "<div style=\"border:solid grey 2px; padding: 20px\"> \n",
    "    Наличие детей негативно сказывается на сроке возврата кредита. Несмотря на то, что клиенты с детьми почти в два раза реже берут кредит и составляют треть общего количества клиентов, вне зависимости от количества детей в семье количество случаев задолженности среди них остаётся выше, чем у клиентов без детей, на 1,7%.\n",
    "    Исследование влияния количества детей у заёмщика на образование задолженности по кредитным договорам показали, что семьи с одним и двумя детьми обращаются за кредитом чаще семей с тремя и более детьми и имеют большую вероятность образования долга, чем многодетная категория. Так клиенты с небольшим количеством детей задерживают выплаты в среднем в 9,3% случаев, а многодетные клиенты - в 8,16% случаев."
   ]
  },
  {
   "cell_type": "markdown",
   "id": "74c9b3a7",
   "metadata": {
    "deletable": false,
    "editable": false,
    "id": "74c9b3a7"
   },
   "source": [
    "#### 3.2 Есть ли зависимость между семейным положением и возвратом кредита в срок?"
   ]
  },
  {
   "cell_type": "markdown",
   "id": "ff8c6db4",
   "metadata": {},
   "source": [
    "<div style=\"background-color:silver; color:#black; text-align:center; padding:1%\">"
   ]
  },
  {
   "cell_type": "markdown",
   "id": "2880a54d",
   "metadata": {},
   "source": [
    "<font color=\"grey\"> Для оценки влияния семейного положения на возврат кредита в срок оценим количество обращений за кредитом и количество задолженностей в каждой категории.  </font>"
   ]
  },
  {
   "cell_type": "code",
   "execution_count": 29,
   "id": "8098ab3b",
   "metadata": {
    "deletable": false,
    "id": "8098ab3b",
    "scrolled": true
   },
   "outputs": [
    {
     "data": {
      "text/html": [
       "<div>\n",
       "<style scoped>\n",
       "    .dataframe tbody tr th:only-of-type {\n",
       "        vertical-align: middle;\n",
       "    }\n",
       "\n",
       "    .dataframe tbody tr th {\n",
       "        vertical-align: top;\n",
       "    }\n",
       "\n",
       "    .dataframe thead th {\n",
       "        text-align: right;\n",
       "    }\n",
       "</style>\n",
       "<table border=\"1\" class=\"dataframe\">\n",
       "  <thead>\n",
       "    <tr style=\"text-align: right;\">\n",
       "      <th></th>\n",
       "      <th>debt</th>\n",
       "      <th>appeal</th>\n",
       "      <th>ratio_debt</th>\n",
       "    </tr>\n",
       "    <tr>\n",
       "      <th>family_status</th>\n",
       "      <th></th>\n",
       "      <th></th>\n",
       "      <th></th>\n",
       "    </tr>\n",
       "  </thead>\n",
       "  <tbody>\n",
       "    <tr>\n",
       "      <th>Не женат / не замужем</th>\n",
       "      <td>273</td>\n",
       "      <td>2796</td>\n",
       "      <td>9.763948</td>\n",
       "    </tr>\n",
       "    <tr>\n",
       "      <th>в разводе</th>\n",
       "      <td>84</td>\n",
       "      <td>1189</td>\n",
       "      <td>7.064760</td>\n",
       "    </tr>\n",
       "    <tr>\n",
       "      <th>вдовец / вдова</th>\n",
       "      <td>63</td>\n",
       "      <td>951</td>\n",
       "      <td>6.624606</td>\n",
       "    </tr>\n",
       "    <tr>\n",
       "      <th>гражданский брак</th>\n",
       "      <td>385</td>\n",
       "      <td>4134</td>\n",
       "      <td>9.313014</td>\n",
       "    </tr>\n",
       "    <tr>\n",
       "      <th>женат / замужем</th>\n",
       "      <td>927</td>\n",
       "      <td>12261</td>\n",
       "      <td>7.560558</td>\n",
       "    </tr>\n",
       "  </tbody>\n",
       "</table>\n",
       "</div>"
      ],
      "text/plain": [
       "                       debt  appeal  ratio_debt\n",
       "family_status                                  \n",
       "Не женат / не замужем   273    2796    9.763948\n",
       "в разводе                84    1189    7.064760\n",
       "вдовец / вдова           63     951    6.624606\n",
       "гражданский брак        385    4134    9.313014\n",
       "женат / замужем         927   12261    7.560558"
      ]
     },
     "metadata": {},
     "output_type": "display_data"
    },
    {
     "data": {
      "image/png": "[encoded data removed]",
      "text/plain": [
       "<Figure size 432x288 with 1 Axes>"
      ]
     },
     "metadata": {
      "needs_background": "light"
     },
     "output_type": "display_data"
    }
   ],
   "source": [
    "# Для группировки исходных данных по семейному положению возьмём столбец 'family_status'.\n",
    "# Подставим его данные в качестве аргумента в написанную ранее для анализа функцию:\n",
    "parameter = data['family_status']\n",
    "parameter_name = 'family_status'\n",
    "parameter_gyst_name = 'Семейное положение'\n",
    "title_name = 'семейного положения'\n",
    "display(comparison(parameter))"
   ]
  },
  {
   "cell_type": "markdown",
   "id": "2901104a",
   "metadata": {},
   "source": [
    "<font color=\"grey\">Наибольшее количество обращений за кредитом фиксируется в категориях состоящих в отношениях клиентов (женат/замужем и гражданский брак), однако процент образования задолженности в них сильно отличается. Следующей по количеству выданных кредитов стала категория \"не женат/ не замужем\" и в ней наблюдается самый высокий процент задолженностей.\n",
    "</font>"
   ]
  },
  {
   "cell_type": "markdown",
   "id": "19e961ff",
   "metadata": {},
   "source": [
    "<font color=\"grey\">Наиболее исполнительными выглядят категории имевших брак, но на данный момент не состоящих в отношениях клиенты категорий \"в разводе\" и \"вдовец/вдова\". Однако можно заметить, что состоящие в браке клиенты имеют близкий к вышеупомянутым категориям процент задолженности.\n",
    "</font>"
   ]
  },
  {
   "cell_type": "markdown",
   "id": "fac8f918",
   "metadata": {},
   "source": [
    "<font color=\"grey\"> Выделим две обощённые категории и стравним их показатели между собой.\n",
    "</font>"
   ]
  },
  {
   "cell_type": "code",
   "execution_count": 30,
   "id": "b52dff5d",
   "metadata": {},
   "outputs": [
    {
     "name": "stdout",
     "output_type": "stream",
     "text": [
      "Среднее количество задолженностей у клиентов, не имеющих/имевших брачных отношений 9.54%\n",
      "Доля таких клиентов составляет 32.5%\n",
      "Среднее количество задолженностей у клиентов, имеющих/имевших брачные отношения 7.08%\n",
      "Доля таких клиентов составляет 67.5%\n"
     ]
    }
   ],
   "source": [
    "# Посчитаем доли задолженностей и общего числа обращений для двух обобщённых категорий:\n",
    "table_status = table.copy().reset_index()\n",
    "free_marriage = (table_status.loc[0, 'ratio_debt'] + table_status.loc[3, 'ratio_debt']) / 2\n",
    "free_marriage_ratio = (table_status.loc[0, 'appeal'] + table_status.loc[3, 'appeal']) / table_status['appeal'].sum() * 100\n",
    "marriage = (table_status.loc[1, 'ratio_debt'] + table_status.loc[2, 'ratio_debt'] + table_status.loc[4, 'ratio_debt'])/3\n",
    "marriage_ratio = (table_status.loc[1, 'appeal'] + table_status.loc[2, 'appeal'] + table_status.loc[4, 'appeal']) / table_status['appeal'].sum() * 100\n",
    "print('Среднее количество задолженностей у клиентов, не имеющих/имевших брачных отношений', f'{free_marriage:.3}' + '%')\n",
    "print('Доля таких клиентов составляет', f'{free_marriage_ratio:.3}' + '%')\n",
    "print('Среднее количество задолженностей у клиентов, имеющих/имевших брачные отношения', f'{marriage:.3}' + '%')\n",
    "print('Доля таких клиентов составляет', f'{marriage_ratio:.3}' + '%')"
   ]
  },
  {
   "cell_type": "markdown",
   "id": "c389ca63",
   "metadata": {
    "deletable": false,
    "id": "c389ca63"
   },
   "source": [
    "**Вывод:** "
   ]
  },
  {
   "cell_type": "markdown",
   "id": "c1aec72c",
   "metadata": {},
   "source": [
    "<div style=\"border:solid grey 2px; padding: 20px\">\n",
    "    Статус семейного положения играет важную роль в вопросе возврата кредита в срок. По результатам исследования можно сказать, что наиболее исполнительными являются клиенты, состоящие или ранее состоявшие в законном браке: женатые/замужние, в разводе и вдовые. Количество таких клиентов с задержкой выплат состовляет в среднем 7,08%, в то время как у клиентов без официально оформленных отношений этот показатель 9,54%. В то же время следует заметить, что категория клиентов, состоящих в брачных отношениях, наиболее многочисленна и имеет медиальное значение процента задолженности среди всех категорий.\n",
    "    Наименее многочисленные категории \"в разводе\" и \"вдовец/вдова\" имеют наименьшие показатели вероятности образования задолженности. А вот одинокие и не состоящие в семейных отношениях клиенты категорий \"не женат/ не замужем\" и \"гражданский брак\" имеют наибольший риск невыплаты кредита в срок."
   ]
  },
  {
   "cell_type": "markdown",
   "id": "9529de68",
   "metadata": {
    "deletable": false,
    "editable": false,
    "id": "9529de68"
   },
   "source": [
    "#### 3.3 Есть ли зависимость между уровнем дохода и возвратом кредита в срок?"
   ]
  },
  {
   "cell_type": "markdown",
   "id": "c0d30f84",
   "metadata": {},
   "source": [
    "<div style=\"background-color:silver; color:#black; text-align:center; padding:1%\">"
   ]
  },
  {
   "cell_type": "markdown",
   "id": "db1b1442",
   "metadata": {},
   "source": [
    "<font color=\"grey\"> Уровень доходов клиентов уточнялся по следующим диапазонам:   \n",
    "</font>"
   ]
  },
  {
   "cell_type": "markdown",
   "id": "56ac75f9",
   "metadata": {},
   "source": [
    "    А -    0-30000\n",
    "    B -  30001-50000\n",
    "    C -  50001-200000\n",
    "    D - 200001-1000000\n",
    "    E - 1000001 и выше"
   ]
  },
  {
   "cell_type": "code",
   "execution_count": 31,
   "id": "8787f44a",
   "metadata": {
    "deletable": false,
    "id": "8787f44a"
   },
   "outputs": [
    {
     "data": {
      "text/html": [
       "<div>\n",
       "<style scoped>\n",
       "    .dataframe tbody tr th:only-of-type {\n",
       "        vertical-align: middle;\n",
       "    }\n",
       "\n",
       "    .dataframe tbody tr th {\n",
       "        vertical-align: top;\n",
       "    }\n",
       "\n",
       "    .dataframe thead th {\n",
       "        text-align: right;\n",
       "    }\n",
       "</style>\n",
       "<table border=\"1\" class=\"dataframe\">\n",
       "  <thead>\n",
       "    <tr style=\"text-align: right;\">\n",
       "      <th></th>\n",
       "      <th>debt</th>\n",
       "      <th>appeal</th>\n",
       "      <th>ratio_debt</th>\n",
       "    </tr>\n",
       "    <tr>\n",
       "      <th>total_income_category</th>\n",
       "      <th></th>\n",
       "      <th></th>\n",
       "      <th></th>\n",
       "    </tr>\n",
       "  </thead>\n",
       "  <tbody>\n",
       "    <tr>\n",
       "      <th>A</th>\n",
       "      <td>2</td>\n",
       "      <td>25</td>\n",
       "      <td>8.000000</td>\n",
       "    </tr>\n",
       "    <tr>\n",
       "      <th>B</th>\n",
       "      <td>354</td>\n",
       "      <td>5014</td>\n",
       "      <td>7.060231</td>\n",
       "    </tr>\n",
       "    <tr>\n",
       "      <th>C</th>\n",
       "      <td>1353</td>\n",
       "      <td>15921</td>\n",
       "      <td>8.498210</td>\n",
       "    </tr>\n",
       "    <tr>\n",
       "      <th>D</th>\n",
       "      <td>21</td>\n",
       "      <td>349</td>\n",
       "      <td>6.017192</td>\n",
       "    </tr>\n",
       "    <tr>\n",
       "      <th>E</th>\n",
       "      <td>2</td>\n",
       "      <td>22</td>\n",
       "      <td>9.090909</td>\n",
       "    </tr>\n",
       "  </tbody>\n",
       "</table>\n",
       "</div>"
      ],
      "text/plain": [
       "                       debt  appeal  ratio_debt\n",
       "total_income_category                          \n",
       "A                         2      25    8.000000\n",
       "B                       354    5014    7.060231\n",
       "C                      1353   15921    8.498210\n",
       "D                        21     349    6.017192\n",
       "E                         2      22    9.090909"
      ]
     },
     "metadata": {},
     "output_type": "display_data"
    },
    {
     "data": {
      "image/png": "[encoded data removed]",
      "text/plain": [
       "<Figure size 432x288 with 1 Axes>"
      ]
     },
     "metadata": {
      "needs_background": "light"
     },
     "output_type": "display_data"
    }
   ],
   "source": [
    "# Для группировки исходных данных по уровню дохода клиентов возьмём столбец 'total_income_category'.\n",
    "# Подставим его данные в качестве аргумента в написанную ранее для анализа функцию:\n",
    "parameter = data['total_income_category']\n",
    "parameter_name = 'total_income_category'\n",
    "parameter_gyst_name = 'Уровень дохода'\n",
    "title_name = 'уровня дохода'\n",
    "display(comparison(parameter))"
   ]
  },
  {
   "cell_type": "markdown",
   "id": "43eb12d9",
   "metadata": {},
   "source": [
    "<font color=\"grey\"> Из-за малого количества обращений показатели категорий A и E наименее информативны, поэтому исключим их влияние  на дальнейший анализ.\n",
    "</font>"
   ]
  },
  {
   "cell_type": "code",
   "execution_count": 32,
   "id": "056cd425",
   "metadata": {},
   "outputs": [
    {
     "name": "stdout",
     "output_type": "stream",
     "text": [
      "  total_income_category  debt  appeal  ratio_debt\n",
      "1                     B   354    5014    7.060231\n",
      "2                     C  1353   15921    8.498210\n",
      "3                     D    21     349    6.017192\n"
     ]
    }
   ],
   "source": [
    "income_category_table = table.copy().reset_index().drop([0, 4])\n",
    "print(income_category_table)"
   ]
  },
  {
   "cell_type": "markdown",
   "id": "8634fc78",
   "metadata": {},
   "source": [
    "<font color=\"grey\"> Наиболее многочисленной является категория клиентов со средним доходом от 50001 до 200000 рублей. Она имеет больший процент образования задолженности, нежели категории с доходом выше среднего и ниже среднего. \n",
    "</font>"
   ]
  },
  {
   "cell_type": "code",
   "execution_count": 33,
   "id": "0dbb4b12",
   "metadata": {},
   "outputs": [
    {
     "name": "stdout",
     "output_type": "stream",
     "text": [
      "Среднее значение процентного количества задолженности 7.73%\n",
      "Медианное значение процентного количества задолженности 8.0%\n"
     ]
    }
   ],
   "source": [
    "# Найдём среднее и медианное значение уровня задолженности\n",
    "ratio_debt_mean = table['ratio_debt'].mean()\n",
    "ratio_debt_mediane = table['ratio_debt'].median()\n",
    "print('Среднее значение процентного количества задолженности', f'{ratio_debt_mean:.3}' + '%')\n",
    "print('Медианное значение процентного количества задолженности', f'{ratio_debt_mediane:.3}' + '%')"
   ]
  },
  {
   "cell_type": "markdown",
   "id": "6dd14b57",
   "metadata": {
    "deletable": false,
    "id": "6dd14b57"
   },
   "source": [
    "**Вывод:** "
   ]
  },
  {
   "cell_type": "markdown",
   "id": "d30d27c6",
   "metadata": {},
   "source": [
    "<div style=\"border:solid grey 2px; padding: 20px\">\n",
    "    В зависимости от уровня дохода клиентов можно разделить на пять категорий. Среди них замечено, что клиенты с очень низким и очень высоким уровнем доходов крайне редко обращаются за кредитом и имеют процент образования задолженности выше остальных категорий.\n",
    "    Клиенты со средним уровнем дохода составляют большинство обращений и имеют 8,50% задолженности, что также выше среднего среди обозначенных категорий.\n",
    "    Клиенты с доходом выше среднего имеют наименьший процент задолженности 6,02%. Однако следует отметить, что как и клиенты с очень высоким уровнем дохода, они значительно реже обращаются за кредитом.\n",
    "    Клиенты с уровнем дохода ниже среднего обращаются за кредитом часто и имеют 7,06% задолженности, что ниже среднего показателя для всех категорий.\n",
    "    Определённой закономерности между уровнем дохода и возвратом кредита в срок не наблюдается, однако при анализе наиболее многочисленных категорий выявлено, что больший уровень дохода поволяет уменьшить риск образования задолженности."
   ]
  },
  {
   "cell_type": "markdown",
   "id": "1dcc9b12",
   "metadata": {
    "deletable": false,
    "editable": false,
    "id": "1dcc9b12"
   },
   "source": [
    "#### 3.4 Как разные цели кредита влияют на его возврат в срок?"
   ]
  },
  {
   "cell_type": "markdown",
   "id": "bf8a6585",
   "metadata": {},
   "source": [
    "<div style=\"background-color:silver; color:#black; text-align:center; padding:1%\">"
   ]
  },
  {
   "cell_type": "code",
   "execution_count": 34,
   "id": "c602bc8b",
   "metadata": {
    "deletable": false,
    "id": "c602bc8b"
   },
   "outputs": [
    {
     "data": {
      "text/html": [
       "<div>\n",
       "<style scoped>\n",
       "    .dataframe tbody tr th:only-of-type {\n",
       "        vertical-align: middle;\n",
       "    }\n",
       "\n",
       "    .dataframe tbody tr th {\n",
       "        vertical-align: top;\n",
       "    }\n",
       "\n",
       "    .dataframe thead th {\n",
       "        text-align: right;\n",
       "    }\n",
       "</style>\n",
       "<table border=\"1\" class=\"dataframe\">\n",
       "  <thead>\n",
       "    <tr style=\"text-align: right;\">\n",
       "      <th></th>\n",
       "      <th>debt</th>\n",
       "      <th>appeal</th>\n",
       "      <th>ratio_debt</th>\n",
       "    </tr>\n",
       "    <tr>\n",
       "      <th>purpose_category</th>\n",
       "      <th></th>\n",
       "      <th></th>\n",
       "      <th></th>\n",
       "    </tr>\n",
       "  </thead>\n",
       "  <tbody>\n",
       "    <tr>\n",
       "      <th>операции с автомобилем</th>\n",
       "      <td>400</td>\n",
       "      <td>4279</td>\n",
       "      <td>9.347978</td>\n",
       "    </tr>\n",
       "    <tr>\n",
       "      <th>операции с недвижимостью</th>\n",
       "      <td>780</td>\n",
       "      <td>10751</td>\n",
       "      <td>7.255139</td>\n",
       "    </tr>\n",
       "    <tr>\n",
       "      <th>получение образования</th>\n",
       "      <td>369</td>\n",
       "      <td>3988</td>\n",
       "      <td>9.252758</td>\n",
       "    </tr>\n",
       "    <tr>\n",
       "      <th>проведение свадьбы</th>\n",
       "      <td>183</td>\n",
       "      <td>2313</td>\n",
       "      <td>7.911803</td>\n",
       "    </tr>\n",
       "  </tbody>\n",
       "</table>\n",
       "</div>"
      ],
      "text/plain": [
       "                          debt  appeal  ratio_debt\n",
       "purpose_category                                  \n",
       "операции с автомобилем     400    4279    9.347978\n",
       "операции с недвижимостью   780   10751    7.255139\n",
       "получение образования      369    3988    9.252758\n",
       "проведение свадьбы         183    2313    7.911803"
      ]
     },
     "metadata": {},
     "output_type": "display_data"
    },
    {
     "data": {
      "image/png": "[encoded data removed]",
      "text/plain": [
       "<Figure size 432x288 with 1 Axes>"
      ]
     },
     "metadata": {
      "needs_background": "light"
     },
     "output_type": "display_data"
    }
   ],
   "source": [
    "# Для группировки исходных данных по цели кредита возьмём столбец 'purpose_category'.\n",
    "# Подставим его данные в качестве аргумента в написанную ранее для анализа функцию:\n",
    "parameter = data['purpose_category']\n",
    "parameter_name = 'purpose_category'\n",
    "parameter_gyst_name = 'Цель кредитования'\n",
    "title_name = 'уровня дохода'\n",
    "display(comparison(parameter))"
   ]
  },
  {
   "cell_type": "markdown",
   "id": "cf05ed63",
   "metadata": {
    "deletable": false,
    "id": "cf05ed63"
   },
   "source": [
    "**Вывод:** "
   ]
  },
  {
   "cell_type": "markdown",
   "id": "adf91c6f",
   "metadata": {},
   "source": [
    "<div style=\"border:solid grey 2px; padding: 20px\">\n",
    "Цели кредита не могут быть основной характеристикой в оценке способности потенциального заёмщика вернуть кредит банку, поскольку эта возможность больше зависит от уровня  материального и социального статуса заёмщика. При одной и той же цели кредитования заёмщики разных категорий семейного и финансового положения будут иметь разные возможности погашения кредита. Исследованные цели кредитования имеют разную социальную и финансовую значимость. Так операции с недвижимостью в большинстве случаев имеют фундаментальную значимость для клиента ввиду большой суммы кредитования и более ответственный подход к распределению платежей, а потому и наиболее низкий уровень задолженности при наибольшем числе обращений - 7,25%. Вторая по объёму категория - автокредиты, имеет наибольший процент верояности образования задолженности - 9,35%, что может обуславливаться доступностью ввиду сравнительно небольшой суммы займа и меньшей фундаментальной значимостью. Категория кредитов на образование так же имеет высокий уровень задолженности - 9,25%, что может быть обьяснимо невозможностью обучающегося совмещать работу и обучение. Категория кредитов на проведение свадьбы наименее многочислена и имеет невысокий уровень задолженности - 7,91%, что может быть обусловлено меньшими суммами и более ответственным подходом при смене социального и финансового статуса заёмщика."
   ]
  },
  {
   "cell_type": "markdown",
   "id": "46c1f10b",
   "metadata": {
    "deletable": false,
    "editable": false,
    "id": "46c1f10b"
   },
   "source": [
    "#### 3.5 Приведите возможные причины появления пропусков в исходных данных."
   ]
  },
  {
   "cell_type": "markdown",
   "id": "3697d2a9",
   "metadata": {
    "deletable": false,
    "id": "3697d2a9"
   },
   "source": [
    "*Ответ:* отсутствие данных в столбцах \"days_employed\" и \"total_income\" может быть вызвано отсутсвием сведений о трудовом стаже и размере выплат у пенсионеров или безработных. Возможно, подобную выписку из государственных структур должен запрашивать сотрудник банка и отдельно вносить данные в заявку по кредитованию. Этим же может объясняться аномальные медианные значения трудового стажа days_employed в днях при расчетах для каждого типа занятости. Кроме того возможен вариант технической ошибки, например, при автоматическом заполнении данных о доходах и стаже из других источников или выгрузке из электронных источников. Нельзя исключать и возможность ошибки при выгрузке числовых данных в другом формате. Например, произошел сбой перевода стажа в систему Unix-time."
   ]
  },
  {
   "cell_type": "markdown",
   "id": "3137d257",
   "metadata": {
    "deletable": false,
    "editable": false,
    "id": "3137d257"
   },
   "source": [
    "#### 3.6 Объясните, почему заполнить пропуски медианным значением — лучшее решение для количественных переменных."
   ]
  },
  {
   "cell_type": "markdown",
   "id": "cf40012a",
   "metadata": {
    "deletable": false,
    "id": "cf40012a"
   },
   "source": [
    "*Ответ:* медианные значения позволят выделить средние показатели при наличии экстримальных значений и неравномерного распределения, которые могут сильно исказить значение среднего арифметического."
   ]
  },
  {
   "cell_type": "markdown",
   "id": "57bc304e",
   "metadata": {
    "deletable": false,
    "editable": false,
    "id": "57bc304e"
   },
   "source": [
    "### Шаг 4: общий вывод."
   ]
  },
  {
   "cell_type": "markdown",
   "id": "1ab75d1c",
   "metadata": {
    "deletable": false,
    "id": "1ab75d1c"
   },
   "source": [
    "<div style=\"border:solid grey 2px; padding: 20px\">\n",
    "    При построении модели кредитного скоринга следует учитывать несколько показателей характеристики потенциального заёмщика. Каждая категория, к которой будет относиться заёмщик, отдельно оценит риски невозврата кредита в срок и выявит уровень риска для банка по конкретному случаю.\n",
    "    Для рассмотрения кредитный отдел предоставил данные статистики о платёжеспособности клиентов. На этапе обработки полученных данных было выявлено отсутствие информации о стаже и доходе некоторых клиентов. На доход и стаж сильнее всего влияет тип занятости, поэтому заполнить пропуски этих данных заменены медианным значением соответствующего параметра по каждому типу занятости. Кроме того из исследования были исключены данные о клиентах с аномальными значениями количества детей и дублирующая информация. Для облегчения анализа клиентам были присвоены дополнительные категории по уровню дохода и по цели кредитования. В ходе исследования данные группировались по интересующим категориям для вычисления их влияния на возможность образования задолженности. \n",
    "    В ходе исследования было установлено, что наличие детей негативно сказывается на сроке возврата кредита. Несмотря на то, что клиенты с детьми почти в два раза реже берут кредит и составляют треть общего количества клиентов, вне зависимости от количества детей в семье количество случаев задолженности среди них остаётся выше, чем у клиентов без детей, на 1,7%. Так же было замечено, что семьи с одним и двумя детьми обращаются за кредитом чаще и имеют риск образования задолженности 9,23-9,45%, что чуть больше, чем многодетная категория.\n",
    "    Анализ влияния статуса семейного положения показал его важное влияние в вопросе возврата кредита в срок. По результатам исследования можно сказать, что наиболее исполнительными являются клиенты, на данный момент состоящие или ранее состоявшие в законном браке: женатые/замужние, в разводе и вдовые. Количество таких клиентов с задержкой выплат состовляет в среднем 7,08%, в то время как у клиентов без официально оформленных отношений этот показатель 9,54%. Было замечено, что категория клиентов, состоящих в брачных отношениях, наиболее многочисленна и имеет медиальное значение процента задолженности среди всех категорий. Эти данные следует учитывать в совокупности с наличием детей у клиента. Наименее многочисленные категории \"в разводе\" и \"вдовец/вдова\" имеют наименьшие показатели вероятности образования задолженности. А вот одинокие и не состоящие в семейных отношениях клиенты категорий \"не женат/не замужем\" и \"гражданский брак\" имеют наибольший риск невыплаты кредита в срок.\n",
    "    Для анализа влияния уровня дохода клиентов можно разделить на пять категорий. Среди них замечено, что клиенты с очень низким и очень высоким уровнем доходов крайне редко обращаются за кредитом. Их данные не будут учитываться в результатах. Клиенты со средним уровнем дохода составляют большинство обращений и имеют 8,50% задолженностей. Клиенты с доходом выше среднего имеют наименьший процент задолженности 6,02%. Но следует отметить, что как и клиенты с очень высоким уровнем дохода, они значительно реже обращаются за кредитыми услугами. Клиенты с уровнем дохода ниже среднего обращаются за кредитом часто и имеют 7,06% задолженностей. Определенной закономерности между уровнем дохода и возвратом кредита в срок не наблюдается, однако из данных двух наиболее многочисленных категорий можно утверждать, что более высокий уровень дохода позволяет снизить вероятность образования задолженности.\n",
    "    Цели кредита не могут быть основной характеристикой в оценке способности потенциального заёмщика вернуть кредит банку, поскольку эта возможность больше зависит от характеристик матереального и социального состояния заёмщика. При одной и той же цели кредитования заёмщики разных категорий семейного и финансового положения будут иметь разные возможности погашения кредита. Исследованные цели кредитования имеют разную социальную и финансовую значимость. Так операции с недвижимостью в большинстве случаев имеют фундаментальную значимость для клиента ввиду большой суммы кредитования и более ответственный подход к распределению платежей, а потому и наиболее низкий уровень задолженности при наибольшем числе обращений - 7, 25%. Вторая по объёму категория - автокредиты, имеет наибольший процент верояности образования задолженности - 9,35%, что может обуславливаться доступностью ввиду сравнительно небольшой суммы займа и меньшей фундаментальной значимостью. Категория кредитов на образование так же имеет высокий уровень задолженности - 9,25%, что может быть обьяснимо невозможность обучающегося совмещать работу и обучение. Категория кредитов на проведение свадьбы наименее многочислена и имеет невысокий уровень задолженности - 7,91%, что может быть обусловлено меньшими суммами и более ответственным подходом при смене социального и финансового статуса заёмщика.\n",
    "    Цели кредитования не следует рассмоатривать как основную характеристику в оценке способности потенциального заёмщика вернуть кредит банку. Возможность возврата кредита в срок больше зависит от характеристик  материального и социального статуса заёмщика. При одной и той же цели кредитования заёмщики разных категорий семейного и финансового положения будут иметь разные возможности погашения кредита. Исследованные цели кредитования имеют разную социальную и финансовую значимость. Так операции с недвижимостью в большинстве случаев имеют фундаментальную значимость для клиента ввиду большой суммы кредитования и несут более ответственный подход к распределению платежей. Поэтому им характерен наиболее низкий уровень задолженности при наибольшем числе обращений - 7,25%. Вторая по объёму категория - автокредиты, имеет наибольший процент верояности образования задолженности - 9,35%. Такой высокий риск может обуславливаться доступностью ввиду сравнительно небольшой суммы займа и менее фундаментальной значимостью. В большинстве случаев покупка автомобиля является вторичной потебностью, а значит клиент может иметь более важные расходы. Категория кредитов на образование так же имеет высокий уровень задолженности - 9,25%, что может быть обьяснимо невозможностью обучающегося совмещать работу и обучение или изначально низким уровнем дохода. Категория кредитов на проведение свадьбы наименее многочислена и имеет невысокий уровень задолженности - 7,91%, что может быть объяснимо меньшими суммами и более ответственным подходом при смене социального и финансового статуса заёмщика.\n",
    "    Таким образом, можно сказать, что низкий доход, наличие детей и свободный семейный статус увеличивают риск невыплаты кредита в срок, а влияния цели кредитования следует рассматривать в совокупности с другими данными внутри соответствующей категории характеристик потенциального клиента."
   ]
  }
 ],
 "metadata": {
  "ExecuteTimeLog": [
   {
    "duration": 49,
    "start_time": "2023-12-07T09:37:50.809Z"
   },
   {
    "duration": 1120,
    "start_time": "2023-12-07T09:38:14.886Z"
   },
   {
    "duration": 19,
    "start_time": "2023-12-07T09:38:21.992Z"
   },
   {
    "duration": 15,
    "start_time": "2023-12-07T09:38:25.635Z"
   },
   {
    "duration": 20,
    "start_time": "2023-12-07T09:38:28.478Z"
   },
   {
    "duration": 32,
    "start_time": "2023-12-07T09:38:34.606Z"
   },
   {
    "duration": 3,
    "start_time": "2023-12-07T09:38:38.174Z"
   },
   {
    "duration": 7,
    "start_time": "2023-12-07T09:38:41.467Z"
   },
   {
    "duration": 5,
    "start_time": "2023-12-07T09:38:44.370Z"
   },
   {
    "duration": 8,
    "start_time": "2023-12-07T09:38:45.393Z"
   },
   {
    "duration": 4,
    "start_time": "2023-12-07T09:38:47.670Z"
   },
   {
    "duration": 42,
    "start_time": "2023-12-07T09:38:50.549Z"
   },
   {
    "duration": 18,
    "start_time": "2023-12-07T09:38:52.322Z"
   },
   {
    "duration": 3,
    "start_time": "2023-12-07T09:38:54.347Z"
   },
   {
    "duration": 11,
    "start_time": "2023-12-07T09:38:56.133Z"
   },
   {
    "duration": 18,
    "start_time": "2023-12-07T09:38:56.942Z"
   },
   {
    "duration": 17,
    "start_time": "2023-12-07T09:38:57.493Z"
   },
   {
    "duration": 4,
    "start_time": "2023-12-07T09:39:00.492Z"
   },
   {
    "duration": 14,
    "start_time": "2023-12-07T09:39:01.693Z"
   },
   {
    "duration": 6,
    "start_time": "2023-12-07T09:39:03.101Z"
   },
   {
    "duration": 4,
    "start_time": "2023-12-07T09:39:04.998Z"
   },
   {
    "duration": 8,
    "start_time": "2023-12-07T09:39:05.630Z"
   },
   {
    "duration": 19,
    "start_time": "2023-12-07T09:39:13.110Z"
   },
   {
    "duration": 102,
    "start_time": "2023-12-07T09:44:00.503Z"
   },
   {
    "duration": 85,
    "start_time": "2023-12-07T09:45:05.692Z"
   },
   {
    "duration": 14,
    "start_time": "2023-12-07T09:57:40.146Z"
   },
   {
    "duration": 94,
    "start_time": "2023-12-07T09:57:42.900Z"
   },
   {
    "duration": 4,
    "start_time": "2023-12-07T10:16:35.476Z"
   },
   {
    "duration": 126,
    "start_time": "2023-12-07T10:22:30.794Z"
   },
   {
    "duration": 5,
    "start_time": "2023-12-07T10:41:02.834Z"
   },
   {
    "duration": 162,
    "start_time": "2023-12-07T10:41:04.293Z"
   },
   {
    "duration": 4,
    "start_time": "2023-12-07T10:41:26.937Z"
   },
   {
    "duration": 113,
    "start_time": "2023-12-07T10:41:27.370Z"
   },
   {
    "duration": 5,
    "start_time": "2023-12-07T11:58:52.533Z"
   },
   {
    "duration": 122,
    "start_time": "2023-12-07T11:58:54.712Z"
   },
   {
    "duration": 11,
    "start_time": "2023-12-07T12:00:39.820Z"
   },
   {
    "duration": 11,
    "start_time": "2023-12-07T12:10:24.966Z"
   },
   {
    "duration": 10,
    "start_time": "2023-12-07T12:10:47.296Z"
   },
   {
    "duration": 16,
    "start_time": "2023-12-07T12:24:56.492Z"
   },
   {
    "duration": 85,
    "start_time": "2023-12-07T12:25:17.389Z"
   },
   {
    "duration": 4,
    "start_time": "2023-12-07T12:25:54.843Z"
   },
   {
    "duration": 131,
    "start_time": "2023-12-07T12:25:58.277Z"
   },
   {
    "duration": 11,
    "start_time": "2023-12-07T12:26:13.422Z"
   },
   {
    "duration": 4,
    "start_time": "2023-12-07T12:26:45.495Z"
   },
   {
    "duration": 187,
    "start_time": "2023-12-07T12:26:45.922Z"
   },
   {
    "duration": 19,
    "start_time": "2023-12-07T12:26:48.574Z"
   },
   {
    "duration": 5,
    "start_time": "2023-12-07T12:31:27.854Z"
   },
   {
    "duration": 10,
    "start_time": "2023-12-07T12:33:50.621Z"
   },
   {
    "duration": 74,
    "start_time": "2023-12-07T12:37:55.602Z"
   },
   {
    "duration": 86,
    "start_time": "2023-12-07T12:38:05.613Z"
   },
   {
    "duration": 89,
    "start_time": "2023-12-07T12:38:33.180Z"
   },
   {
    "duration": 82,
    "start_time": "2023-12-07T12:38:36.243Z"
   },
   {
    "duration": 84,
    "start_time": "2023-12-07T12:38:49.952Z"
   },
   {
    "duration": 69,
    "start_time": "2023-12-07T12:38:56.532Z"
   },
   {
    "duration": 72,
    "start_time": "2023-12-07T12:39:00.042Z"
   },
   {
    "duration": 75,
    "start_time": "2023-12-07T12:40:40.863Z"
   },
   {
    "duration": 91,
    "start_time": "2023-12-07T12:41:09.517Z"
   },
   {
    "duration": 91,
    "start_time": "2023-12-07T12:42:00.180Z"
   },
   {
    "duration": 4,
    "start_time": "2023-12-07T12:42:16.412Z"
   },
   {
    "duration": 4,
    "start_time": "2023-12-07T12:42:25.310Z"
   },
   {
    "duration": 5,
    "start_time": "2023-12-07T12:42:40.998Z"
   },
   {
    "duration": 4,
    "start_time": "2023-12-07T12:42:54.368Z"
   },
   {
    "duration": 4,
    "start_time": "2023-12-07T12:43:02.338Z"
   },
   {
    "duration": 4,
    "start_time": "2023-12-07T12:44:16.256Z"
   },
   {
    "duration": 4,
    "start_time": "2023-12-07T12:44:32.072Z"
   },
   {
    "duration": 7,
    "start_time": "2023-12-07T12:46:50.778Z"
   },
   {
    "duration": 8,
    "start_time": "2023-12-07T12:46:55.682Z"
   },
   {
    "duration": 15,
    "start_time": "2023-12-07T12:47:57.701Z"
   },
   {
    "duration": 14,
    "start_time": "2023-12-07T12:48:19.333Z"
   },
   {
    "duration": 97,
    "start_time": "2023-12-07T12:48:25.096Z"
   },
   {
    "duration": 5,
    "start_time": "2023-12-07T12:48:30.201Z"
   },
   {
    "duration": 107,
    "start_time": "2023-12-07T12:48:38.836Z"
   },
   {
    "duration": 10,
    "start_time": "2023-12-07T12:49:04.650Z"
   },
   {
    "duration": 6,
    "start_time": "2023-12-07T12:49:21.992Z"
   },
   {
    "duration": 36,
    "start_time": "2023-12-07T13:00:30.428Z"
   },
   {
    "duration": 3,
    "start_time": "2023-12-07T13:00:38.861Z"
   },
   {
    "duration": 4,
    "start_time": "2023-12-07T13:04:04.725Z"
   },
   {
    "duration": 3,
    "start_time": "2023-12-07T13:04:57.615Z"
   },
   {
    "duration": 3,
    "start_time": "2023-12-07T13:05:04.656Z"
   },
   {
    "duration": 4,
    "start_time": "2023-12-07T13:05:25.947Z"
   },
   {
    "duration": 4,
    "start_time": "2023-12-07T13:06:16.323Z"
   },
   {
    "duration": 4,
    "start_time": "2023-12-07T13:06:48.912Z"
   },
   {
    "duration": 15,
    "start_time": "2023-12-07T13:09:56.813Z"
   },
   {
    "duration": 102,
    "start_time": "2023-12-07T13:10:43.843Z"
   },
   {
    "duration": 3,
    "start_time": "2023-12-07T13:17:02.217Z"
   },
   {
    "duration": 74,
    "start_time": "2023-12-07T13:18:34.674Z"
   },
   {
    "duration": 65,
    "start_time": "2023-12-07T13:19:21.938Z"
   },
   {
    "duration": 4,
    "start_time": "2023-12-07T13:20:42.535Z"
   },
   {
    "duration": 3,
    "start_time": "2023-12-07T13:20:49.940Z"
   },
   {
    "duration": 4,
    "start_time": "2023-12-07T13:21:58.099Z"
   },
   {
    "duration": 4,
    "start_time": "2023-12-07T13:23:02.809Z"
   },
   {
    "duration": 88,
    "start_time": "2023-12-07T13:29:37.324Z"
   },
   {
    "duration": 104,
    "start_time": "2023-12-07T13:29:53.270Z"
   },
   {
    "duration": 108,
    "start_time": "2023-12-07T13:30:18.489Z"
   },
   {
    "duration": 4,
    "start_time": "2023-12-07T13:31:03.493Z"
   },
   {
    "duration": 5,
    "start_time": "2023-12-07T13:31:09.349Z"
   },
   {
    "duration": 114,
    "start_time": "2023-12-07T13:31:09.946Z"
   },
   {
    "duration": 4,
    "start_time": "2023-12-07T13:31:26.297Z"
   },
   {
    "duration": 114,
    "start_time": "2023-12-07T13:31:28.141Z"
   },
   {
    "duration": 11,
    "start_time": "2023-12-07T13:31:41.736Z"
   },
   {
    "duration": 1056,
    "start_time": "2023-12-08T06:33:18.894Z"
   },
   {
    "duration": 19,
    "start_time": "2023-12-08T06:33:21.891Z"
   },
   {
    "duration": 16,
    "start_time": "2023-12-08T06:33:23.857Z"
   },
   {
    "duration": 9,
    "start_time": "2023-12-08T06:33:27.274Z"
   },
   {
    "duration": 34,
    "start_time": "2023-12-08T06:33:29.008Z"
   },
   {
    "duration": 3,
    "start_time": "2023-12-08T06:33:31.649Z"
   },
   {
    "duration": 7,
    "start_time": "2023-12-08T06:33:33.680Z"
   },
   {
    "duration": 5,
    "start_time": "2023-12-08T06:33:43.017Z"
   },
   {
    "duration": 7,
    "start_time": "2023-12-08T06:33:51.163Z"
   },
   {
    "duration": 5,
    "start_time": "2023-12-08T06:33:53.125Z"
   },
   {
    "duration": 32,
    "start_time": "2023-12-08T06:33:55.824Z"
   },
   {
    "duration": 9,
    "start_time": "2023-12-08T06:33:57.244Z"
   },
   {
    "duration": 4,
    "start_time": "2023-12-08T06:33:59.512Z"
   },
   {
    "duration": 14,
    "start_time": "2023-12-08T06:34:01.658Z"
   },
   {
    "duration": 19,
    "start_time": "2023-12-08T06:34:02.937Z"
   },
   {
    "duration": 17,
    "start_time": "2023-12-08T06:34:03.662Z"
   },
   {
    "duration": 3,
    "start_time": "2023-12-08T06:34:06.377Z"
   },
   {
    "duration": 10,
    "start_time": "2023-12-08T06:34:07.244Z"
   },
   {
    "duration": 5,
    "start_time": "2023-12-08T06:34:08.708Z"
   },
   {
    "duration": 3,
    "start_time": "2023-12-08T06:34:10.365Z"
   },
   {
    "duration": 9,
    "start_time": "2023-12-08T06:34:11.260Z"
   },
   {
    "duration": 75,
    "start_time": "2023-12-08T07:00:47.204Z"
   },
   {
    "duration": 80,
    "start_time": "2023-12-08T07:00:54.291Z"
   },
   {
    "duration": 14,
    "start_time": "2023-12-08T07:00:56.694Z"
   },
   {
    "duration": 15,
    "start_time": "2023-12-08T07:00:58.319Z"
   },
   {
    "duration": 11,
    "start_time": "2023-12-08T07:01:00.433Z"
   },
   {
    "duration": 41,
    "start_time": "2023-12-08T07:01:01.751Z"
   },
   {
    "duration": 3,
    "start_time": "2023-12-08T07:01:03.417Z"
   },
   {
    "duration": 8,
    "start_time": "2023-12-08T07:01:05.005Z"
   },
   {
    "duration": 4,
    "start_time": "2023-12-08T07:01:06.614Z"
   },
   {
    "duration": 6,
    "start_time": "2023-12-08T07:01:07.682Z"
   },
   {
    "duration": 4,
    "start_time": "2023-12-08T07:01:09.131Z"
   },
   {
    "duration": 36,
    "start_time": "2023-12-08T07:01:11.751Z"
   },
   {
    "duration": 12,
    "start_time": "2023-12-08T07:01:13.242Z"
   },
   {
    "duration": 4,
    "start_time": "2023-12-08T07:01:15.186Z"
   },
   {
    "duration": 12,
    "start_time": "2023-12-08T07:01:17.163Z"
   },
   {
    "duration": 18,
    "start_time": "2023-12-08T07:01:18.263Z"
   },
   {
    "duration": 19,
    "start_time": "2023-12-08T07:01:18.775Z"
   },
   {
    "duration": 4,
    "start_time": "2023-12-08T07:01:20.871Z"
   },
   {
    "duration": 10,
    "start_time": "2023-12-08T07:01:21.539Z"
   },
   {
    "duration": 6,
    "start_time": "2023-12-08T07:01:22.989Z"
   },
   {
    "duration": 4,
    "start_time": "2023-12-08T07:01:24.583Z"
   },
   {
    "duration": 8,
    "start_time": "2023-12-08T07:01:25.212Z"
   },
   {
    "duration": 18,
    "start_time": "2023-12-08T07:01:33.514Z"
   },
   {
    "duration": 107,
    "start_time": "2023-12-08T07:01:35.738Z"
   },
   {
    "duration": 4,
    "start_time": "2023-12-08T07:01:41.571Z"
   },
   {
    "duration": 4,
    "start_time": "2023-12-08T07:01:48.746Z"
   },
   {
    "duration": 131,
    "start_time": "2023-12-08T07:01:53.198Z"
   },
   {
    "duration": 11,
    "start_time": "2023-12-08T07:02:06.682Z"
   },
   {
    "duration": 4,
    "start_time": "2023-12-08T07:02:12.523Z"
   },
   {
    "duration": 134,
    "start_time": "2023-12-08T07:04:08.818Z"
   },
   {
    "duration": 118,
    "start_time": "2023-12-08T07:07:42.588Z"
   },
   {
    "duration": 153,
    "start_time": "2023-12-08T07:36:09.019Z"
   },
   {
    "duration": 121,
    "start_time": "2023-12-08T07:39:26.888Z"
   },
   {
    "duration": 5,
    "start_time": "2023-12-08T07:55:07.465Z"
   },
   {
    "duration": 105,
    "start_time": "2023-12-08T07:55:07.965Z"
   },
   {
    "duration": 120,
    "start_time": "2023-12-08T07:55:17.143Z"
   },
   {
    "duration": 4,
    "start_time": "2023-12-08T07:55:25.897Z"
   },
   {
    "duration": 112,
    "start_time": "2023-12-08T07:55:26.351Z"
   },
   {
    "duration": 11,
    "start_time": "2023-12-08T07:55:27.417Z"
   },
   {
    "duration": 4,
    "start_time": "2023-12-08T07:55:28.548Z"
   },
   {
    "duration": 132,
    "start_time": "2023-12-08T07:55:32.151Z"
   },
   {
    "duration": 4,
    "start_time": "2023-12-08T07:55:47.993Z"
   },
   {
    "duration": 105,
    "start_time": "2023-12-08T07:55:49.693Z"
   },
   {
    "duration": 127,
    "start_time": "2023-12-08T07:55:56.278Z"
   },
   {
    "duration": 5,
    "start_time": "2023-12-08T07:56:11.568Z"
   },
   {
    "duration": 121,
    "start_time": "2023-12-08T07:56:12.418Z"
   },
   {
    "duration": 125,
    "start_time": "2023-12-08T07:56:16.482Z"
   },
   {
    "duration": 123,
    "start_time": "2023-12-08T07:56:34.666Z"
   },
   {
    "duration": 176,
    "start_time": "2023-12-08T07:56:38.655Z"
   },
   {
    "duration": 4,
    "start_time": "2023-12-08T08:16:18.040Z"
   },
   {
    "duration": 1380,
    "start_time": "2023-12-08T08:26:30.359Z"
   },
   {
    "duration": 1299,
    "start_time": "2023-12-08T08:26:47.407Z"
   },
   {
    "duration": 101,
    "start_time": "2023-12-08T08:27:09.157Z"
   },
   {
    "duration": 1319,
    "start_time": "2023-12-08T08:27:15.766Z"
   },
   {
    "duration": 111,
    "start_time": "2023-12-08T08:27:35.211Z"
   },
   {
    "duration": 115,
    "start_time": "2023-12-08T08:27:52.478Z"
   },
   {
    "duration": 100,
    "start_time": "2023-12-08T08:28:13.724Z"
   },
   {
    "duration": 102,
    "start_time": "2023-12-08T08:29:13.052Z"
   },
   {
    "duration": 91,
    "start_time": "2023-12-08T08:30:09.222Z"
   },
   {
    "duration": 100,
    "start_time": "2023-12-08T08:32:31.071Z"
   },
   {
    "duration": 96,
    "start_time": "2023-12-08T08:32:36.242Z"
   },
   {
    "duration": 161,
    "start_time": "2023-12-08T08:38:21.714Z"
   },
   {
    "duration": 1279,
    "start_time": "2023-12-08T08:41:22.312Z"
   },
   {
    "duration": 15,
    "start_time": "2023-12-08T08:41:51.296Z"
   },
   {
    "duration": 107,
    "start_time": "2023-12-08T08:41:53.496Z"
   },
   {
    "duration": 101,
    "start_time": "2023-12-08T08:42:03.581Z"
   },
   {
    "duration": 91,
    "start_time": "2023-12-08T08:42:52.361Z"
   },
   {
    "duration": 102,
    "start_time": "2023-12-08T08:43:07.214Z"
   },
   {
    "duration": 91,
    "start_time": "2023-12-08T08:43:29.155Z"
   },
   {
    "duration": 97,
    "start_time": "2023-12-08T08:43:38.603Z"
   },
   {
    "duration": 93,
    "start_time": "2023-12-08T08:46:10.503Z"
   },
   {
    "duration": 5,
    "start_time": "2023-12-08T08:46:35.627Z"
   },
   {
    "duration": 112,
    "start_time": "2023-12-08T08:46:36.375Z"
   },
   {
    "duration": 11,
    "start_time": "2023-12-08T08:46:43.003Z"
   },
   {
    "duration": 4,
    "start_time": "2023-12-08T08:46:46.535Z"
   },
   {
    "duration": 119,
    "start_time": "2023-12-08T08:46:49.709Z"
   },
   {
    "duration": 188,
    "start_time": "2023-12-08T08:46:53.768Z"
   },
   {
    "duration": 123,
    "start_time": "2023-12-08T08:46:57.068Z"
   },
   {
    "duration": 957,
    "start_time": "2023-12-10T08:30:04.919Z"
   },
   {
    "duration": 21,
    "start_time": "2023-12-10T08:30:06.510Z"
   },
   {
    "duration": 17,
    "start_time": "2023-12-10T08:30:08.129Z"
   },
   {
    "duration": 10,
    "start_time": "2023-12-10T08:30:10.770Z"
   },
   {
    "duration": 38,
    "start_time": "2023-12-10T08:30:12.205Z"
   },
   {
    "duration": 4,
    "start_time": "2023-12-10T08:30:13.811Z"
   },
   {
    "duration": 8,
    "start_time": "2023-12-10T08:30:15.066Z"
   },
   {
    "duration": 4,
    "start_time": "2023-12-10T08:30:16.736Z"
   },
   {
    "duration": 7,
    "start_time": "2023-12-10T08:30:17.638Z"
   },
   {
    "duration": 4,
    "start_time": "2023-12-10T08:30:18.656Z"
   },
   {
    "duration": 34,
    "start_time": "2023-12-10T08:30:20.250Z"
   },
   {
    "duration": 10,
    "start_time": "2023-12-10T08:30:21.234Z"
   },
   {
    "duration": 4,
    "start_time": "2023-12-10T08:30:32.808Z"
   },
   {
    "duration": 12,
    "start_time": "2023-12-10T08:30:34.498Z"
   },
   {
    "duration": 25,
    "start_time": "2023-12-10T08:30:35.089Z"
   },
   {
    "duration": 17,
    "start_time": "2023-12-10T08:30:35.362Z"
   },
   {
    "duration": 3,
    "start_time": "2023-12-10T08:30:36.321Z"
   },
   {
    "duration": 10,
    "start_time": "2023-12-10T08:30:36.656Z"
   },
   {
    "duration": 5,
    "start_time": "2023-12-10T08:30:37.329Z"
   },
   {
    "duration": 4,
    "start_time": "2023-12-10T08:30:38.063Z"
   },
   {
    "duration": 9,
    "start_time": "2023-12-10T08:30:38.506Z"
   },
   {
    "duration": 19,
    "start_time": "2023-12-10T08:30:53.019Z"
   },
   {
    "duration": 132,
    "start_time": "2023-12-10T08:30:59.556Z"
   },
   {
    "duration": 827,
    "start_time": "2023-12-10T08:31:07.378Z"
   },
   {
    "duration": 866,
    "start_time": "2023-12-10T08:31:14.539Z"
   },
   {
    "duration": 4,
    "start_time": "2023-12-10T08:31:32.453Z"
   },
   {
    "duration": 4,
    "start_time": "2023-12-10T08:36:00.899Z"
   },
   {
    "duration": 9,
    "start_time": "2023-12-10T08:59:48.195Z"
   },
   {
    "duration": 10,
    "start_time": "2023-12-10T08:59:54.141Z"
   },
   {
    "duration": 7,
    "start_time": "2023-12-10T08:59:57.032Z"
   },
   {
    "duration": 10,
    "start_time": "2023-12-10T09:02:02.671Z"
   },
   {
    "duration": 10,
    "start_time": "2023-12-10T09:02:07.742Z"
   },
   {
    "duration": 17,
    "start_time": "2023-12-10T09:02:18.792Z"
   },
   {
    "duration": 112,
    "start_time": "2023-12-10T09:02:20.641Z"
   },
   {
    "duration": 5,
    "start_time": "2023-12-10T09:02:22.293Z"
   },
   {
    "duration": 5,
    "start_time": "2023-12-10T09:02:24.421Z"
   },
   {
    "duration": 109,
    "start_time": "2023-12-10T09:02:25.401Z"
   },
   {
    "duration": 11,
    "start_time": "2023-12-10T09:02:27.896Z"
   },
   {
    "duration": 6,
    "start_time": "2023-12-10T09:02:31.369Z"
   },
   {
    "duration": 5,
    "start_time": "2023-12-10T09:03:27.915Z"
   },
   {
    "duration": 51,
    "start_time": "2023-12-10T09:07:49.053Z"
   },
   {
    "duration": 6,
    "start_time": "2023-12-10T09:09:04.291Z"
   },
   {
    "duration": 19,
    "start_time": "2023-12-10T09:19:22.420Z"
   },
   {
    "duration": 107,
    "start_time": "2023-12-10T09:19:24.584Z"
   },
   {
    "duration": 4,
    "start_time": "2023-12-10T09:19:26.681Z"
   },
   {
    "duration": 5,
    "start_time": "2023-12-10T09:19:29.530Z"
   },
   {
    "duration": 190,
    "start_time": "2023-12-10T09:19:31.540Z"
   },
   {
    "duration": 11,
    "start_time": "2023-12-10T09:19:33.319Z"
   },
   {
    "duration": 6,
    "start_time": "2023-12-10T09:19:35.179Z"
   },
   {
    "duration": 100,
    "start_time": "2023-12-10T10:09:33.440Z"
   },
   {
    "duration": 5,
    "start_time": "2023-12-10T10:21:36.800Z"
   },
   {
    "duration": 129,
    "start_time": "2023-12-10T10:26:05.591Z"
   },
   {
    "duration": 7,
    "start_time": "2023-12-10T10:26:09.804Z"
   },
   {
    "duration": 7,
    "start_time": "2023-12-10T10:29:46.445Z"
   },
   {
    "duration": 803,
    "start_time": "2023-12-10T10:38:33.103Z"
   },
   {
    "duration": 746,
    "start_time": "2023-12-10T10:38:47.420Z"
   },
   {
    "duration": 8,
    "start_time": "2023-12-10T10:39:17.448Z"
   },
   {
    "duration": 5,
    "start_time": "2023-12-10T10:41:00.627Z"
   },
   {
    "duration": 117,
    "start_time": "2023-12-10T10:41:03.662Z"
   },
   {
    "duration": 6,
    "start_time": "2023-12-10T10:41:21.190Z"
   },
   {
    "duration": 118,
    "start_time": "2023-12-10T10:41:21.902Z"
   },
   {
    "duration": 5,
    "start_time": "2023-12-10T10:41:38.860Z"
   },
   {
    "duration": 110,
    "start_time": "2023-12-10T10:41:39.324Z"
   },
   {
    "duration": 11,
    "start_time": "2023-12-10T10:41:43.901Z"
   },
   {
    "duration": 6,
    "start_time": "2023-12-10T10:41:47.324Z"
   },
   {
    "duration": 142,
    "start_time": "2023-12-10T10:41:54.820Z"
   },
   {
    "duration": 8,
    "start_time": "2023-12-10T10:48:58.218Z"
   },
   {
    "duration": 108,
    "start_time": "2023-12-10T11:10:29.097Z"
   },
   {
    "duration": 15,
    "start_time": "2023-12-10T11:20:30.250Z"
   },
   {
    "duration": 8,
    "start_time": "2023-12-10T11:20:43.802Z"
   },
   {
    "duration": 7,
    "start_time": "2023-12-10T11:26:40.793Z"
   },
   {
    "duration": 5,
    "start_time": "2023-12-10T11:45:39.618Z"
   },
   {
    "duration": 6,
    "start_time": "2023-12-10T11:46:04.260Z"
   },
   {
    "duration": 5,
    "start_time": "2023-12-10T11:47:04.047Z"
   },
   {
    "duration": 7,
    "start_time": "2023-12-10T11:47:53.013Z"
   },
   {
    "duration": 6,
    "start_time": "2023-12-10T11:48:14.100Z"
   },
   {
    "duration": 53,
    "start_time": "2023-12-10T14:54:14.337Z"
   },
   {
    "duration": 1176,
    "start_time": "2023-12-10T14:54:20.988Z"
   },
   {
    "duration": 21,
    "start_time": "2023-12-10T14:54:22.166Z"
   },
   {
    "duration": 17,
    "start_time": "2023-12-10T14:54:22.189Z"
   },
   {
    "duration": 11,
    "start_time": "2023-12-10T14:54:22.208Z"
   },
   {
    "duration": 41,
    "start_time": "2023-12-10T14:54:22.222Z"
   },
   {
    "duration": 4,
    "start_time": "2023-12-10T14:54:22.264Z"
   },
   {
    "duration": 13,
    "start_time": "2023-12-10T14:54:22.269Z"
   },
   {
    "duration": 4,
    "start_time": "2023-12-10T14:54:22.284Z"
   },
   {
    "duration": 14,
    "start_time": "2023-12-10T14:54:22.290Z"
   },
   {
    "duration": 18,
    "start_time": "2023-12-10T14:54:22.307Z"
   },
   {
    "duration": 45,
    "start_time": "2023-12-10T14:54:22.327Z"
   },
   {
    "duration": 11,
    "start_time": "2023-12-10T14:54:22.373Z"
   },
   {
    "duration": 14,
    "start_time": "2023-12-10T14:54:22.385Z"
   },
   {
    "duration": 29,
    "start_time": "2023-12-10T14:54:22.401Z"
   },
   {
    "duration": 29,
    "start_time": "2023-12-10T14:54:22.432Z"
   },
   {
    "duration": 19,
    "start_time": "2023-12-10T14:54:22.463Z"
   },
   {
    "duration": 10,
    "start_time": "2023-12-10T14:54:22.483Z"
   },
   {
    "duration": 18,
    "start_time": "2023-12-10T14:54:22.494Z"
   },
   {
    "duration": 12,
    "start_time": "2023-12-10T14:54:22.513Z"
   },
   {
    "duration": 10,
    "start_time": "2023-12-10T14:54:22.527Z"
   },
   {
    "duration": 17,
    "start_time": "2023-12-10T14:54:22.539Z"
   },
   {
    "duration": 21,
    "start_time": "2023-12-10T14:54:22.558Z"
   },
   {
    "duration": 142,
    "start_time": "2023-12-10T14:54:22.580Z"
   },
   {
    "duration": 4,
    "start_time": "2023-12-10T14:54:22.724Z"
   },
   {
    "duration": 6,
    "start_time": "2023-12-10T14:54:22.729Z"
   },
   {
    "duration": 161,
    "start_time": "2023-12-10T14:54:22.737Z"
   },
   {
    "duration": 12,
    "start_time": "2023-12-10T14:54:22.900Z"
   },
   {
    "duration": 7,
    "start_time": "2023-12-10T14:54:22.924Z"
   },
   {
    "duration": 161,
    "start_time": "2023-12-10T14:54:22.933Z"
   },
   {
    "duration": 8,
    "start_time": "2023-12-10T14:54:23.096Z"
   },
   {
    "duration": 137,
    "start_time": "2023-12-10T14:54:23.106Z"
   },
   {
    "duration": 8,
    "start_time": "2023-12-10T14:54:23.245Z"
   },
   {
    "duration": 28,
    "start_time": "2023-12-10T14:54:23.254Z"
   },
   {
    "duration": 209,
    "start_time": "2023-12-10T14:54:23.284Z"
   },
   {
    "duration": 7,
    "start_time": "2023-12-10T14:56:34.318Z"
   },
   {
    "duration": 7,
    "start_time": "2023-12-10T14:56:50.754Z"
   },
   {
    "duration": 7,
    "start_time": "2023-12-10T14:57:01.264Z"
   },
   {
    "duration": 6,
    "start_time": "2023-12-10T14:57:07.198Z"
   },
   {
    "duration": 8,
    "start_time": "2023-12-10T14:58:06.964Z"
   },
   {
    "duration": 150,
    "start_time": "2023-12-10T15:01:47.885Z"
   },
   {
    "duration": 149,
    "start_time": "2023-12-10T15:02:00.823Z"
   },
   {
    "duration": 146,
    "start_time": "2023-12-10T15:02:28.294Z"
   },
   {
    "duration": 124,
    "start_time": "2023-12-10T15:03:13.971Z"
   },
   {
    "duration": 17,
    "start_time": "2023-12-10T15:03:16.345Z"
   },
   {
    "duration": 18,
    "start_time": "2023-12-10T15:03:16.994Z"
   },
   {
    "duration": 13,
    "start_time": "2023-12-10T15:03:18.022Z"
   },
   {
    "duration": 38,
    "start_time": "2023-12-10T15:03:18.530Z"
   },
   {
    "duration": 4,
    "start_time": "2023-12-10T15:03:19.266Z"
   },
   {
    "duration": 9,
    "start_time": "2023-12-10T15:03:19.738Z"
   },
   {
    "duration": 4,
    "start_time": "2023-12-10T15:03:20.435Z"
   },
   {
    "duration": 6,
    "start_time": "2023-12-10T15:03:20.953Z"
   },
   {
    "duration": 4,
    "start_time": "2023-12-10T15:03:21.386Z"
   },
   {
    "duration": 39,
    "start_time": "2023-12-10T15:03:22.021Z"
   },
   {
    "duration": 11,
    "start_time": "2023-12-10T15:03:22.466Z"
   },
   {
    "duration": 6,
    "start_time": "2023-12-10T15:03:23.318Z"
   },
   {
    "duration": 13,
    "start_time": "2023-12-10T15:03:24.042Z"
   },
   {
    "duration": 26,
    "start_time": "2023-12-10T15:03:24.885Z"
   },
   {
    "duration": 30,
    "start_time": "2023-12-10T15:03:25.110Z"
   },
   {
    "duration": 5,
    "start_time": "2023-12-10T15:03:25.769Z"
   },
   {
    "duration": 20,
    "start_time": "2023-12-10T15:03:25.994Z"
   },
   {
    "duration": 9,
    "start_time": "2023-12-10T15:03:26.434Z"
   },
   {
    "duration": 5,
    "start_time": "2023-12-10T15:03:26.858Z"
   },
   {
    "duration": 16,
    "start_time": "2023-12-10T15:03:27.102Z"
   },
   {
    "duration": 22,
    "start_time": "2023-12-10T15:03:28.261Z"
   },
   {
    "duration": 128,
    "start_time": "2023-12-10T15:03:28.799Z"
   },
   {
    "duration": 4,
    "start_time": "2023-12-10T15:03:29.300Z"
   },
   {
    "duration": 5,
    "start_time": "2023-12-10T15:03:30.080Z"
   },
   {
    "duration": 130,
    "start_time": "2023-12-10T15:03:30.318Z"
   },
   {
    "duration": 12,
    "start_time": "2023-12-10T15:03:31.680Z"
   },
   {
    "duration": 7,
    "start_time": "2023-12-10T15:03:32.782Z"
   },
   {
    "duration": 143,
    "start_time": "2023-12-10T15:03:42.590Z"
   },
   {
    "duration": 781,
    "start_time": "2023-12-10T16:10:31.757Z"
   },
   {
    "duration": 21,
    "start_time": "2023-12-10T16:10:32.540Z"
   },
   {
    "duration": 19,
    "start_time": "2023-12-10T16:10:32.563Z"
   },
   {
    "duration": 11,
    "start_time": "2023-12-10T16:10:32.585Z"
   },
   {
    "duration": 60,
    "start_time": "2023-12-10T16:10:32.597Z"
   },
   {
    "duration": 4,
    "start_time": "2023-12-10T16:10:32.659Z"
   },
   {
    "duration": 10,
    "start_time": "2023-12-10T16:10:32.664Z"
   },
   {
    "duration": 15,
    "start_time": "2023-12-10T16:10:32.675Z"
   },
   {
    "duration": 9,
    "start_time": "2023-12-10T16:10:32.691Z"
   },
   {
    "duration": 19,
    "start_time": "2023-12-10T16:10:32.703Z"
   },
   {
    "duration": 39,
    "start_time": "2023-12-10T16:10:32.724Z"
   },
   {
    "duration": 11,
    "start_time": "2023-12-10T16:10:32.765Z"
   },
   {
    "duration": 6,
    "start_time": "2023-12-10T16:10:32.777Z"
   },
   {
    "duration": 12,
    "start_time": "2023-12-10T16:10:32.785Z"
   },
   {
    "duration": 44,
    "start_time": "2023-12-10T16:10:32.799Z"
   },
   {
    "duration": 18,
    "start_time": "2023-12-10T16:10:32.844Z"
   },
   {
    "duration": 3,
    "start_time": "2023-12-10T16:10:32.864Z"
   },
   {
    "duration": 22,
    "start_time": "2023-12-10T16:10:32.869Z"
   },
   {
    "duration": 21,
    "start_time": "2023-12-10T16:10:32.892Z"
   },
   {
    "duration": 11,
    "start_time": "2023-12-10T16:10:32.914Z"
   },
   {
    "duration": 13,
    "start_time": "2023-12-10T16:10:32.927Z"
   },
   {
    "duration": 27,
    "start_time": "2023-12-10T16:10:32.942Z"
   },
   {
    "duration": 139,
    "start_time": "2023-12-10T16:10:32.971Z"
   },
   {
    "duration": 10,
    "start_time": "2023-12-10T16:10:33.112Z"
   },
   {
    "duration": 14,
    "start_time": "2023-12-10T16:10:33.124Z"
   },
   {
    "duration": 153,
    "start_time": "2023-12-10T16:10:33.140Z"
   },
   {
    "duration": 12,
    "start_time": "2023-12-10T16:10:33.295Z"
   },
   {
    "duration": 95,
    "start_time": "2023-12-10T16:10:33.324Z"
   },
   {
    "duration": 162,
    "start_time": "2023-12-10T16:10:33.421Z"
   },
   {
    "duration": 9,
    "start_time": "2023-12-10T16:10:33.585Z"
   },
   {
    "duration": 138,
    "start_time": "2023-12-10T16:10:33.596Z"
   },
   {
    "duration": 8,
    "start_time": "2023-12-10T16:10:33.735Z"
   },
   {
    "duration": 17,
    "start_time": "2023-12-10T16:10:33.744Z"
   },
   {
    "duration": 223,
    "start_time": "2023-12-10T16:10:33.763Z"
   },
   {
    "duration": 90,
    "start_time": "2023-12-10T17:13:22.563Z"
   },
   {
    "duration": 797,
    "start_time": "2023-12-10T17:13:28.893Z"
   },
   {
    "duration": 20,
    "start_time": "2023-12-10T17:13:29.693Z"
   },
   {
    "duration": 17,
    "start_time": "2023-12-10T17:13:29.715Z"
   },
   {
    "duration": 19,
    "start_time": "2023-12-10T17:13:29.733Z"
   },
   {
    "duration": 53,
    "start_time": "2023-12-10T17:13:29.755Z"
   },
   {
    "duration": 3,
    "start_time": "2023-12-10T17:13:29.810Z"
   },
   {
    "duration": 14,
    "start_time": "2023-12-10T17:13:29.814Z"
   },
   {
    "duration": 5,
    "start_time": "2023-12-10T17:13:29.829Z"
   },
   {
    "duration": 18,
    "start_time": "2023-12-10T17:13:29.836Z"
   },
   {
    "duration": 5,
    "start_time": "2023-12-10T17:13:29.855Z"
   },
   {
    "duration": 44,
    "start_time": "2023-12-10T17:13:29.862Z"
   },
   {
    "duration": 22,
    "start_time": "2023-12-10T17:13:29.907Z"
   },
   {
    "duration": 4,
    "start_time": "2023-12-10T17:13:29.930Z"
   },
   {
    "duration": 20,
    "start_time": "2023-12-10T17:13:29.937Z"
   },
   {
    "duration": 25,
    "start_time": "2023-12-10T17:13:29.959Z"
   },
   {
    "duration": 37,
    "start_time": "2023-12-10T17:13:29.985Z"
   },
   {
    "duration": 4,
    "start_time": "2023-12-10T17:13:30.024Z"
   },
   {
    "duration": 55,
    "start_time": "2023-12-10T17:13:30.030Z"
   },
   {
    "duration": 46,
    "start_time": "2023-12-10T17:13:30.086Z"
   },
   {
    "duration": 35,
    "start_time": "2023-12-10T17:13:30.134Z"
   },
   {
    "duration": 60,
    "start_time": "2023-12-10T17:13:30.170Z"
   },
   {
    "duration": 56,
    "start_time": "2023-12-10T17:13:30.232Z"
   },
   {
    "duration": 210,
    "start_time": "2023-12-10T17:13:30.290Z"
   },
   {
    "duration": 24,
    "start_time": "2023-12-10T17:13:30.502Z"
   },
   {
    "duration": 46,
    "start_time": "2023-12-10T17:13:30.527Z"
   },
   {
    "duration": 184,
    "start_time": "2023-12-10T17:13:30.575Z"
   },
   {
    "duration": 14,
    "start_time": "2023-12-10T17:13:30.761Z"
   },
   {
    "duration": 53,
    "start_time": "2023-12-10T17:13:30.777Z"
   },
   {
    "duration": 173,
    "start_time": "2023-12-10T17:13:30.832Z"
   },
   {
    "duration": 21,
    "start_time": "2023-12-10T17:13:31.007Z"
   },
   {
    "duration": 174,
    "start_time": "2023-12-10T17:13:31.030Z"
   },
   {
    "duration": 8,
    "start_time": "2023-12-10T17:13:31.205Z"
   },
   {
    "duration": 23,
    "start_time": "2023-12-10T17:13:31.223Z"
   },
   {
    "duration": 232,
    "start_time": "2023-12-10T17:13:31.249Z"
   },
   {
    "duration": 767,
    "start_time": "2023-12-10T17:22:24.725Z"
   },
   {
    "duration": 112,
    "start_time": "2023-12-10T17:22:25.577Z"
   },
   {
    "duration": 17,
    "start_time": "2023-12-10T17:22:25.691Z"
   },
   {
    "duration": 36,
    "start_time": "2023-12-10T17:22:25.709Z"
   },
   {
    "duration": 43,
    "start_time": "2023-12-10T17:22:25.746Z"
   },
   {
    "duration": 39,
    "start_time": "2023-12-10T17:22:25.791Z"
   },
   {
    "duration": 24,
    "start_time": "2023-12-10T17:22:25.831Z"
   },
   {
    "duration": 86,
    "start_time": "2023-12-10T17:22:25.857Z"
   },
   {
    "duration": 33,
    "start_time": "2023-12-10T17:22:25.945Z"
   },
   {
    "duration": 12,
    "start_time": "2023-12-10T17:22:25.980Z"
   },
   {
    "duration": 32,
    "start_time": "2023-12-10T17:22:25.995Z"
   },
   {
    "duration": 27,
    "start_time": "2023-12-10T17:22:26.028Z"
   },
   {
    "duration": 18,
    "start_time": "2023-12-10T17:22:26.057Z"
   },
   {
    "duration": 9,
    "start_time": "2023-12-10T17:22:26.076Z"
   },
   {
    "duration": 15,
    "start_time": "2023-12-10T17:22:26.087Z"
   },
   {
    "duration": 20,
    "start_time": "2023-12-10T17:22:26.103Z"
   },
   {
    "duration": 3,
    "start_time": "2023-12-10T17:22:26.125Z"
   },
   {
    "duration": 11,
    "start_time": "2023-12-10T17:22:26.130Z"
   },
   {
    "duration": 24,
    "start_time": "2023-12-10T17:22:26.142Z"
   },
   {
    "duration": 139,
    "start_time": "2023-12-10T17:22:26.167Z"
   },
   {
    "duration": 4,
    "start_time": "2023-12-10T17:22:26.307Z"
   },
   {
    "duration": 12,
    "start_time": "2023-12-10T17:22:26.312Z"
   },
   {
    "duration": 141,
    "start_time": "2023-12-10T17:22:26.326Z"
   },
   {
    "duration": 11,
    "start_time": "2023-12-10T17:22:26.469Z"
   },
   {
    "duration": 11,
    "start_time": "2023-12-10T17:22:26.482Z"
   },
   {
    "duration": 171,
    "start_time": "2023-12-10T17:22:26.494Z"
   },
   {
    "duration": 15,
    "start_time": "2023-12-10T17:22:26.667Z"
   },
   {
    "duration": 138,
    "start_time": "2023-12-10T17:22:26.684Z"
   },
   {
    "duration": 7,
    "start_time": "2023-12-10T17:22:26.824Z"
   },
   {
    "duration": 9,
    "start_time": "2023-12-10T17:22:26.833Z"
   },
   {
    "duration": 201,
    "start_time": "2023-12-10T17:22:26.844Z"
   },
   {
    "duration": 75,
    "start_time": "2023-12-10T17:22:27.046Z"
   },
   {
    "duration": 109,
    "start_time": "2023-12-10T17:22:30.369Z"
   },
   {
    "duration": 87,
    "start_time": "2023-12-10T17:22:52.741Z"
   },
   {
    "duration": 78,
    "start_time": "2023-12-10T17:22:56.980Z"
   },
   {
    "duration": 76,
    "start_time": "2023-12-10T17:22:59.127Z"
   },
   {
    "duration": 67,
    "start_time": "2023-12-10T17:23:07.552Z"
   },
   {
    "duration": 978,
    "start_time": "2023-12-11T09:52:48.857Z"
   },
   {
    "duration": 21,
    "start_time": "2023-12-11T09:52:49.837Z"
   },
   {
    "duration": 26,
    "start_time": "2023-12-11T09:52:49.860Z"
   },
   {
    "duration": 22,
    "start_time": "2023-12-11T09:52:49.888Z"
   },
   {
    "duration": 57,
    "start_time": "2023-12-11T09:52:49.912Z"
   },
   {
    "duration": 3,
    "start_time": "2023-12-11T09:52:49.971Z"
   },
   {
    "duration": 46,
    "start_time": "2023-12-11T09:52:49.976Z"
   },
   {
    "duration": 18,
    "start_time": "2023-12-11T09:52:50.024Z"
   },
   {
    "duration": 32,
    "start_time": "2023-12-11T09:52:50.044Z"
   },
   {
    "duration": 22,
    "start_time": "2023-12-11T09:52:50.078Z"
   },
   {
    "duration": 67,
    "start_time": "2023-12-11T09:52:50.102Z"
   },
   {
    "duration": 22,
    "start_time": "2023-12-11T09:52:50.171Z"
   },
   {
    "duration": 36,
    "start_time": "2023-12-11T09:52:50.195Z"
   },
   {
    "duration": 18,
    "start_time": "2023-12-11T09:52:50.234Z"
   },
   {
    "duration": 30,
    "start_time": "2023-12-11T09:52:50.254Z"
   },
   {
    "duration": 19,
    "start_time": "2023-12-11T09:52:50.285Z"
   },
   {
    "duration": 6,
    "start_time": "2023-12-11T09:52:50.306Z"
   },
   {
    "duration": 32,
    "start_time": "2023-12-11T09:52:50.313Z"
   },
   {
    "duration": 7,
    "start_time": "2023-12-11T09:52:50.346Z"
   },
   {
    "duration": 5,
    "start_time": "2023-12-11T09:52:50.355Z"
   },
   {
    "duration": 10,
    "start_time": "2023-12-11T09:52:50.374Z"
   },
   {
    "duration": 32,
    "start_time": "2023-12-11T09:52:50.386Z"
   },
   {
    "duration": 152,
    "start_time": "2023-12-11T09:52:50.420Z"
   },
   {
    "duration": 4,
    "start_time": "2023-12-11T09:52:50.574Z"
   },
   {
    "duration": 7,
    "start_time": "2023-12-11T09:52:50.580Z"
   },
   {
    "duration": 173,
    "start_time": "2023-12-11T09:52:50.589Z"
   },
   {
    "duration": 18,
    "start_time": "2023-12-11T09:52:50.764Z"
   },
   {
    "duration": 34,
    "start_time": "2023-12-11T09:52:50.783Z"
   },
   {
    "duration": 143,
    "start_time": "2023-12-11T09:52:50.819Z"
   },
   {
    "duration": 13,
    "start_time": "2023-12-11T09:52:50.964Z"
   },
   {
    "duration": 154,
    "start_time": "2023-12-11T09:52:50.978Z"
   },
   {
    "duration": 10,
    "start_time": "2023-12-11T09:52:51.134Z"
   },
   {
    "duration": 39,
    "start_time": "2023-12-11T09:52:51.145Z"
   },
   {
    "duration": 220,
    "start_time": "2023-12-11T09:52:51.186Z"
   },
   {
    "duration": 53,
    "start_time": "2023-12-11T09:52:51.408Z"
   },
   {
    "duration": 137,
    "start_time": "2023-12-11T09:54:58.327Z"
   },
   {
    "duration": 61,
    "start_time": "2023-12-11T10:05:56.712Z"
   },
   {
    "duration": 55,
    "start_time": "2023-12-11T10:06:05.222Z"
   },
   {
    "duration": 54,
    "start_time": "2023-12-11T10:06:41.473Z"
   },
   {
    "duration": 5,
    "start_time": "2023-12-11T10:14:06.962Z"
   },
   {
    "duration": 729,
    "start_time": "2023-12-11T10:20:21.767Z"
   },
   {
    "duration": 20,
    "start_time": "2023-12-11T10:20:22.498Z"
   },
   {
    "duration": 28,
    "start_time": "2023-12-11T10:20:22.520Z"
   },
   {
    "duration": 13,
    "start_time": "2023-12-11T10:20:22.550Z"
   },
   {
    "duration": 58,
    "start_time": "2023-12-11T10:20:22.565Z"
   },
   {
    "duration": 12,
    "start_time": "2023-12-11T10:20:22.625Z"
   },
   {
    "duration": 46,
    "start_time": "2023-12-11T10:20:22.638Z"
   },
   {
    "duration": 22,
    "start_time": "2023-12-11T10:20:22.686Z"
   },
   {
    "duration": 27,
    "start_time": "2023-12-11T10:20:22.710Z"
   },
   {
    "duration": 15,
    "start_time": "2023-12-11T10:20:22.739Z"
   },
   {
    "duration": 60,
    "start_time": "2023-12-11T10:20:22.756Z"
   },
   {
    "duration": 12,
    "start_time": "2023-12-11T10:20:22.818Z"
   },
   {
    "duration": 46,
    "start_time": "2023-12-11T10:20:22.832Z"
   },
   {
    "duration": 47,
    "start_time": "2023-12-11T10:20:22.882Z"
   },
   {
    "duration": 65,
    "start_time": "2023-12-11T10:20:22.931Z"
   },
   {
    "duration": 28,
    "start_time": "2023-12-11T10:20:22.998Z"
   },
   {
    "duration": 20,
    "start_time": "2023-12-11T10:20:23.028Z"
   },
   {
    "duration": 39,
    "start_time": "2023-12-11T10:20:23.050Z"
   },
   {
    "duration": 37,
    "start_time": "2023-12-11T10:20:23.091Z"
   },
   {
    "duration": 41,
    "start_time": "2023-12-11T10:20:23.130Z"
   },
   {
    "duration": 31,
    "start_time": "2023-12-11T10:20:23.173Z"
   },
   {
    "duration": 37,
    "start_time": "2023-12-11T10:20:23.205Z"
   },
   {
    "duration": 148,
    "start_time": "2023-12-11T10:20:23.243Z"
   },
   {
    "duration": 4,
    "start_time": "2023-12-11T10:20:23.392Z"
   },
   {
    "duration": 17,
    "start_time": "2023-12-11T10:20:23.397Z"
   },
   {
    "duration": 144,
    "start_time": "2023-12-11T10:20:23.415Z"
   },
   {
    "duration": 19,
    "start_time": "2023-12-11T10:20:23.561Z"
   },
   {
    "duration": 18,
    "start_time": "2023-12-11T10:20:23.581Z"
   },
   {
    "duration": 150,
    "start_time": "2023-12-11T10:20:23.601Z"
   },
   {
    "duration": 8,
    "start_time": "2023-12-11T10:20:23.753Z"
   },
   {
    "duration": 136,
    "start_time": "2023-12-11T10:20:23.763Z"
   },
   {
    "duration": 10,
    "start_time": "2023-12-11T10:20:23.901Z"
   },
   {
    "duration": 12,
    "start_time": "2023-12-11T10:20:23.913Z"
   },
   {
    "duration": 229,
    "start_time": "2023-12-11T10:20:23.927Z"
   },
   {
    "duration": 49,
    "start_time": "2023-12-11T11:47:57.601Z"
   },
   {
    "duration": 1040,
    "start_time": "2023-12-11T11:48:04.006Z"
   },
   {
    "duration": 20,
    "start_time": "2023-12-11T11:48:05.048Z"
   },
   {
    "duration": 15,
    "start_time": "2023-12-11T11:48:05.069Z"
   },
   {
    "duration": 40,
    "start_time": "2023-12-11T11:48:05.086Z"
   },
   {
    "duration": 45,
    "start_time": "2023-12-11T11:48:05.128Z"
   },
   {
    "duration": 3,
    "start_time": "2023-12-11T11:48:05.175Z"
   },
   {
    "duration": 13,
    "start_time": "2023-12-11T11:48:05.179Z"
   },
   {
    "duration": 6,
    "start_time": "2023-12-11T11:48:05.193Z"
   },
   {
    "duration": 6,
    "start_time": "2023-12-11T11:48:05.200Z"
   },
   {
    "duration": 13,
    "start_time": "2023-12-11T11:48:05.209Z"
   },
   {
    "duration": 61,
    "start_time": "2023-12-11T11:48:05.223Z"
   },
   {
    "duration": 11,
    "start_time": "2023-12-11T11:48:05.285Z"
   },
   {
    "duration": 4,
    "start_time": "2023-12-11T11:48:05.297Z"
   },
   {
    "duration": 13,
    "start_time": "2023-12-11T11:48:05.302Z"
   },
   {
    "duration": 43,
    "start_time": "2023-12-11T11:48:05.316Z"
   },
   {
    "duration": 18,
    "start_time": "2023-12-11T11:48:05.361Z"
   },
   {
    "duration": 4,
    "start_time": "2023-12-11T11:48:05.380Z"
   },
   {
    "duration": 24,
    "start_time": "2023-12-11T11:48:05.386Z"
   },
   {
    "duration": 7,
    "start_time": "2023-12-11T11:48:05.412Z"
   },
   {
    "duration": 4,
    "start_time": "2023-12-11T11:48:05.420Z"
   },
   {
    "duration": 10,
    "start_time": "2023-12-11T11:48:05.425Z"
   },
   {
    "duration": 41,
    "start_time": "2023-12-11T11:48:05.437Z"
   },
   {
    "duration": 125,
    "start_time": "2023-12-11T11:48:05.479Z"
   },
   {
    "duration": 3,
    "start_time": "2023-12-11T11:48:05.606Z"
   },
   {
    "duration": 6,
    "start_time": "2023-12-11T11:48:05.611Z"
   },
   {
    "duration": 133,
    "start_time": "2023-12-11T11:48:05.618Z"
   },
   {
    "duration": 10,
    "start_time": "2023-12-11T11:48:05.759Z"
   },
   {
    "duration": 15,
    "start_time": "2023-12-11T11:48:05.773Z"
   },
   {
    "duration": 156,
    "start_time": "2023-12-11T11:48:05.790Z"
   },
   {
    "duration": 16,
    "start_time": "2023-12-11T11:48:05.948Z"
   },
   {
    "duration": 118,
    "start_time": "2023-12-11T11:48:05.965Z"
   },
   {
    "duration": 7,
    "start_time": "2023-12-11T11:48:06.085Z"
   },
   {
    "duration": 5,
    "start_time": "2023-12-11T11:48:06.093Z"
   },
   {
    "duration": 195,
    "start_time": "2023-12-11T11:48:06.100Z"
   },
   {
    "duration": 99,
    "start_time": "2023-12-11T11:48:26.787Z"
   },
   {
    "duration": 99,
    "start_time": "2023-12-11T11:48:50.912Z"
   },
   {
    "duration": 112,
    "start_time": "2023-12-11T11:49:12.515Z"
   },
   {
    "duration": 13,
    "start_time": "2023-12-11T11:49:23.077Z"
   },
   {
    "duration": 138,
    "start_time": "2023-12-11T11:49:36.984Z"
   },
   {
    "duration": 122,
    "start_time": "2023-12-11T11:49:55.436Z"
   },
   {
    "duration": 135,
    "start_time": "2023-12-11T11:50:27.582Z"
   },
   {
    "duration": 107,
    "start_time": "2023-12-11T11:54:11.294Z"
   },
   {
    "duration": 84,
    "start_time": "2023-12-11T11:56:13.039Z"
   },
   {
    "duration": 91,
    "start_time": "2023-12-11T11:56:24.817Z"
   },
   {
    "duration": 87,
    "start_time": "2023-12-11T11:56:54.351Z"
   },
   {
    "duration": 5,
    "start_time": "2023-12-11T11:57:04.921Z"
   },
   {
    "duration": 199,
    "start_time": "2023-12-11T11:57:10.868Z"
   },
   {
    "duration": 5,
    "start_time": "2023-12-11T11:57:29.799Z"
   },
   {
    "duration": 128,
    "start_time": "2023-12-11T11:57:30.509Z"
   },
   {
    "duration": 4,
    "start_time": "2023-12-11T11:57:41.709Z"
   },
   {
    "duration": 121,
    "start_time": "2023-12-11T11:57:42.674Z"
   },
   {
    "duration": 14,
    "start_time": "2023-12-11T11:57:50.001Z"
   },
   {
    "duration": 209,
    "start_time": "2023-12-11T11:57:54.632Z"
   },
   {
    "duration": 125,
    "start_time": "2023-12-11T12:00:08.623Z"
   },
   {
    "duration": 136,
    "start_time": "2023-12-11T12:00:32.914Z"
   },
   {
    "duration": 11,
    "start_time": "2023-12-12T08:29:56.931Z"
   },
   {
    "duration": 45,
    "start_time": "2023-12-12T08:33:23.578Z"
   },
   {
    "duration": 8,
    "start_time": "2023-12-12T08:33:36.858Z"
   },
   {
    "duration": 918,
    "start_time": "2023-12-12T08:33:49.032Z"
   },
   {
    "duration": 22,
    "start_time": "2023-12-12T08:33:49.953Z"
   },
   {
    "duration": 87,
    "start_time": "2023-12-12T08:33:49.977Z"
   },
   {
    "duration": 17,
    "start_time": "2023-12-12T08:33:50.066Z"
   },
   {
    "duration": 66,
    "start_time": "2023-12-12T08:33:50.085Z"
   },
   {
    "duration": 10,
    "start_time": "2023-12-12T08:33:50.153Z"
   },
   {
    "duration": 34,
    "start_time": "2023-12-12T08:33:50.164Z"
   },
   {
    "duration": 29,
    "start_time": "2023-12-12T08:33:50.201Z"
   },
   {
    "duration": 42,
    "start_time": "2023-12-12T08:33:50.232Z"
   },
   {
    "duration": 48,
    "start_time": "2023-12-12T08:33:50.277Z"
   },
   {
    "duration": 61,
    "start_time": "2023-12-12T08:33:50.326Z"
   },
   {
    "duration": 17,
    "start_time": "2023-12-12T08:33:50.389Z"
   },
   {
    "duration": 19,
    "start_time": "2023-12-12T08:33:50.408Z"
   },
   {
    "duration": 34,
    "start_time": "2023-12-12T08:33:50.430Z"
   },
   {
    "duration": 52,
    "start_time": "2023-12-12T08:33:50.466Z"
   },
   {
    "duration": 25,
    "start_time": "2023-12-12T08:33:50.520Z"
   },
   {
    "duration": 22,
    "start_time": "2023-12-12T08:33:50.546Z"
   },
   {
    "duration": 30,
    "start_time": "2023-12-12T08:33:50.570Z"
   },
   {
    "duration": 36,
    "start_time": "2023-12-12T08:33:50.602Z"
   },
   {
    "duration": 43,
    "start_time": "2023-12-12T08:33:50.639Z"
   },
   {
    "duration": 35,
    "start_time": "2023-12-12T08:33:50.683Z"
   },
   {
    "duration": 53,
    "start_time": "2023-12-12T08:33:50.719Z"
   },
   {
    "duration": 166,
    "start_time": "2023-12-12T08:33:50.774Z"
   },
   {
    "duration": 4,
    "start_time": "2023-12-12T08:33:50.941Z"
   },
   {
    "duration": 26,
    "start_time": "2023-12-12T08:33:50.947Z"
   },
   {
    "duration": 169,
    "start_time": "2023-12-12T08:33:50.975Z"
   },
   {
    "duration": 14,
    "start_time": "2023-12-12T08:33:51.146Z"
   },
   {
    "duration": 19,
    "start_time": "2023-12-12T08:33:51.173Z"
   },
   {
    "duration": 168,
    "start_time": "2023-12-12T08:33:51.193Z"
   },
   {
    "duration": 12,
    "start_time": "2023-12-12T08:33:51.362Z"
   },
   {
    "duration": 164,
    "start_time": "2023-12-12T08:33:51.375Z"
   },
   {
    "duration": 6,
    "start_time": "2023-12-12T08:33:51.541Z"
   },
   {
    "duration": 30,
    "start_time": "2023-12-12T08:33:51.549Z"
   },
   {
    "duration": 231,
    "start_time": "2023-12-12T08:33:51.581Z"
   },
   {
    "duration": 139,
    "start_time": "2023-12-12T08:34:18.804Z"
   },
   {
    "duration": 15,
    "start_time": "2023-12-12T08:34:33.726Z"
   },
   {
    "duration": 167,
    "start_time": "2023-12-12T08:35:31.303Z"
   },
   {
    "duration": 132,
    "start_time": "2023-12-12T08:36:14.928Z"
   },
   {
    "duration": 140,
    "start_time": "2023-12-12T08:37:18.584Z"
   },
   {
    "duration": 705,
    "start_time": "2023-12-12T08:37:35.989Z"
   },
   {
    "duration": 20,
    "start_time": "2023-12-12T08:37:36.696Z"
   },
   {
    "duration": 41,
    "start_time": "2023-12-12T08:37:36.718Z"
   },
   {
    "duration": 45,
    "start_time": "2023-12-12T08:37:36.761Z"
   },
   {
    "duration": 62,
    "start_time": "2023-12-12T08:37:36.807Z"
   },
   {
    "duration": 4,
    "start_time": "2023-12-12T08:37:36.871Z"
   },
   {
    "duration": 41,
    "start_time": "2023-12-12T08:37:36.877Z"
   },
   {
    "duration": 6,
    "start_time": "2023-12-12T08:37:36.920Z"
   },
   {
    "duration": 13,
    "start_time": "2023-12-12T08:37:36.928Z"
   },
   {
    "duration": 14,
    "start_time": "2023-12-12T08:37:36.943Z"
   },
   {
    "duration": 58,
    "start_time": "2023-12-12T08:37:36.958Z"
   },
   {
    "duration": 12,
    "start_time": "2023-12-12T08:37:37.018Z"
   },
   {
    "duration": 24,
    "start_time": "2023-12-12T08:37:37.032Z"
   },
   {
    "duration": 50,
    "start_time": "2023-12-12T08:37:37.058Z"
   },
   {
    "duration": 31,
    "start_time": "2023-12-12T08:37:37.110Z"
   },
   {
    "duration": 27,
    "start_time": "2023-12-12T08:37:37.143Z"
   },
   {
    "duration": 39,
    "start_time": "2023-12-12T08:37:37.172Z"
   },
   {
    "duration": 79,
    "start_time": "2023-12-12T08:37:37.213Z"
   },
   {
    "duration": 23,
    "start_time": "2023-12-12T08:37:37.294Z"
   },
   {
    "duration": 29,
    "start_time": "2023-12-12T08:37:37.319Z"
   },
   {
    "duration": 45,
    "start_time": "2023-12-12T08:37:37.350Z"
   },
   {
    "duration": 53,
    "start_time": "2023-12-12T08:37:37.397Z"
   },
   {
    "duration": 160,
    "start_time": "2023-12-12T08:37:37.453Z"
   },
   {
    "duration": 4,
    "start_time": "2023-12-12T08:37:37.615Z"
   },
   {
    "duration": 23,
    "start_time": "2023-12-12T08:37:37.621Z"
   },
   {
    "duration": 176,
    "start_time": "2023-12-12T08:37:37.646Z"
   },
   {
    "duration": 15,
    "start_time": "2023-12-12T08:37:37.824Z"
   },
   {
    "duration": 24,
    "start_time": "2023-12-12T08:37:37.843Z"
   },
   {
    "duration": 196,
    "start_time": "2023-12-12T08:37:37.869Z"
   },
   {
    "duration": 14,
    "start_time": "2023-12-12T08:37:38.067Z"
   },
   {
    "duration": 143,
    "start_time": "2023-12-12T08:37:38.082Z"
   },
   {
    "duration": 7,
    "start_time": "2023-12-12T08:37:38.227Z"
   },
   {
    "duration": 55,
    "start_time": "2023-12-12T08:37:38.235Z"
   },
   {
    "duration": 202,
    "start_time": "2023-12-12T08:37:38.292Z"
   },
   {
    "duration": 7,
    "start_time": "2023-12-12T08:39:09.905Z"
   },
   {
    "duration": 133,
    "start_time": "2023-12-12T08:39:10.736Z"
   },
   {
    "duration": 15,
    "start_time": "2023-12-12T08:39:18.543Z"
   },
   {
    "duration": 7,
    "start_time": "2023-12-12T08:39:21.599Z"
   },
   {
    "duration": 740,
    "start_time": "2023-12-12T08:39:29.237Z"
   },
   {
    "duration": 21,
    "start_time": "2023-12-12T08:39:29.979Z"
   },
   {
    "duration": 51,
    "start_time": "2023-12-12T08:39:30.001Z"
   },
   {
    "duration": 51,
    "start_time": "2023-12-12T08:39:30.054Z"
   },
   {
    "duration": 106,
    "start_time": "2023-12-12T08:39:30.107Z"
   },
   {
    "duration": 106,
    "start_time": "2023-12-12T08:39:30.215Z"
   },
   {
    "duration": 153,
    "start_time": "2023-12-12T08:39:30.323Z"
   },
   {
    "duration": 235,
    "start_time": "2023-12-12T08:39:30.478Z"
   },
   {
    "duration": 287,
    "start_time": "2023-12-12T08:39:30.714Z"
   },
   {
    "duration": 226,
    "start_time": "2023-12-12T08:39:31.003Z"
   },
   {
    "duration": 72,
    "start_time": "2023-12-12T08:39:31.230Z"
   },
   {
    "duration": 12,
    "start_time": "2023-12-12T08:39:31.303Z"
   },
   {
    "duration": 38,
    "start_time": "2023-12-12T08:39:31.316Z"
   },
   {
    "duration": 56,
    "start_time": "2023-12-12T08:39:31.357Z"
   },
   {
    "duration": 69,
    "start_time": "2023-12-12T08:39:31.415Z"
   },
   {
    "duration": 44,
    "start_time": "2023-12-12T08:39:31.486Z"
   },
   {
    "duration": 17,
    "start_time": "2023-12-12T08:39:31.532Z"
   },
   {
    "duration": 49,
    "start_time": "2023-12-12T08:39:31.551Z"
   },
   {
    "duration": 20,
    "start_time": "2023-12-12T08:39:31.602Z"
   },
   {
    "duration": 32,
    "start_time": "2023-12-12T08:39:31.624Z"
   },
   {
    "duration": 16,
    "start_time": "2023-12-12T08:39:31.658Z"
   },
   {
    "duration": 57,
    "start_time": "2023-12-12T08:39:31.676Z"
   },
   {
    "duration": 145,
    "start_time": "2023-12-12T08:39:31.735Z"
   },
   {
    "duration": 4,
    "start_time": "2023-12-12T08:39:31.881Z"
   },
   {
    "duration": 78,
    "start_time": "2023-12-12T08:39:31.887Z"
   },
   {
    "duration": 192,
    "start_time": "2023-12-12T08:39:31.967Z"
   },
   {
    "duration": 23,
    "start_time": "2023-12-12T08:39:32.160Z"
   },
   {
    "duration": 65,
    "start_time": "2023-12-12T08:39:32.185Z"
   },
   {
    "duration": 239,
    "start_time": "2023-12-12T08:39:32.252Z"
   },
   {
    "duration": 9,
    "start_time": "2023-12-12T08:39:32.493Z"
   },
   {
    "duration": 198,
    "start_time": "2023-12-12T08:39:32.504Z"
   },
   {
    "duration": 7,
    "start_time": "2023-12-12T08:39:32.704Z"
   },
   {
    "duration": 57,
    "start_time": "2023-12-12T08:39:32.712Z"
   },
   {
    "duration": 231,
    "start_time": "2023-12-12T08:39:32.771Z"
   },
   {
    "duration": 770,
    "start_time": "2023-12-12T11:35:35.862Z"
   },
   {
    "duration": 20,
    "start_time": "2023-12-12T11:35:36.634Z"
   },
   {
    "duration": 37,
    "start_time": "2023-12-12T11:35:36.655Z"
   },
   {
    "duration": 11,
    "start_time": "2023-12-12T11:35:36.695Z"
   },
   {
    "duration": 71,
    "start_time": "2023-12-12T11:35:36.708Z"
   },
   {
    "duration": 4,
    "start_time": "2023-12-12T11:35:36.781Z"
   },
   {
    "duration": 10,
    "start_time": "2023-12-12T11:35:36.788Z"
   },
   {
    "duration": 4,
    "start_time": "2023-12-12T11:35:36.800Z"
   },
   {
    "duration": 10,
    "start_time": "2023-12-12T11:35:36.805Z"
   },
   {
    "duration": 4,
    "start_time": "2023-12-12T11:35:36.818Z"
   },
   {
    "duration": 62,
    "start_time": "2023-12-12T11:35:36.823Z"
   },
   {
    "duration": 12,
    "start_time": "2023-12-12T11:35:36.887Z"
   },
   {
    "duration": 22,
    "start_time": "2023-12-12T11:35:36.901Z"
   },
   {
    "duration": 16,
    "start_time": "2023-12-12T11:35:36.924Z"
   },
   {
    "duration": 60,
    "start_time": "2023-12-12T11:35:36.942Z"
   },
   {
    "duration": 23,
    "start_time": "2023-12-12T11:35:37.004Z"
   },
   {
    "duration": 12,
    "start_time": "2023-12-12T11:35:37.029Z"
   },
   {
    "duration": 16,
    "start_time": "2023-12-12T11:35:37.042Z"
   },
   {
    "duration": 7,
    "start_time": "2023-12-12T11:35:37.059Z"
   },
   {
    "duration": 6,
    "start_time": "2023-12-12T11:35:37.067Z"
   },
   {
    "duration": 27,
    "start_time": "2023-12-12T11:35:37.076Z"
   },
   {
    "duration": 42,
    "start_time": "2023-12-12T11:35:37.105Z"
   },
   {
    "duration": 156,
    "start_time": "2023-12-12T11:35:37.148Z"
   },
   {
    "duration": 4,
    "start_time": "2023-12-12T11:35:37.305Z"
   },
   {
    "duration": 52,
    "start_time": "2023-12-12T11:35:37.311Z"
   },
   {
    "duration": 167,
    "start_time": "2023-12-12T11:35:37.364Z"
   },
   {
    "duration": 14,
    "start_time": "2023-12-12T11:35:37.532Z"
   },
   {
    "duration": 56,
    "start_time": "2023-12-12T11:35:37.551Z"
   },
   {
    "duration": 187,
    "start_time": "2023-12-12T11:35:37.609Z"
   },
   {
    "duration": 8,
    "start_time": "2023-12-12T11:35:37.798Z"
   },
   {
    "duration": 180,
    "start_time": "2023-12-12T11:35:37.808Z"
   },
   {
    "duration": 8,
    "start_time": "2023-12-12T11:35:37.990Z"
   },
   {
    "duration": 13,
    "start_time": "2023-12-12T11:35:37.999Z"
   },
   {
    "duration": 212,
    "start_time": "2023-12-12T11:35:38.014Z"
   },
   {
    "duration": 123,
    "start_time": "2023-12-12T11:40:22.317Z"
   },
   {
    "duration": 20,
    "start_time": "2023-12-12T11:41:17.318Z"
   },
   {
    "duration": 961,
    "start_time": "2023-12-12T11:41:20.876Z"
   },
   {
    "duration": 44,
    "start_time": "2023-12-12T11:43:12.619Z"
   },
   {
    "duration": 67,
    "start_time": "2023-12-12T11:43:45.488Z"
   },
   {
    "duration": 19,
    "start_time": "2023-12-12T11:44:07.549Z"
   },
   {
    "duration": 25,
    "start_time": "2023-12-12T11:44:15.871Z"
   },
   {
    "duration": 32,
    "start_time": "2023-12-12T11:44:37.894Z"
   },
   {
    "duration": 20,
    "start_time": "2023-12-12T11:44:49.034Z"
   },
   {
    "duration": 19,
    "start_time": "2023-12-12T11:45:09.696Z"
   },
   {
    "duration": 122,
    "start_time": "2023-12-12T11:45:16.543Z"
   },
   {
    "duration": 122,
    "start_time": "2023-12-12T11:46:07.891Z"
   },
   {
    "duration": 11,
    "start_time": "2023-12-12T11:46:31.525Z"
   },
   {
    "duration": 4,
    "start_time": "2023-12-12T11:46:56.529Z"
   },
   {
    "duration": 6,
    "start_time": "2023-12-12T11:47:06.577Z"
   },
   {
    "duration": 157,
    "start_time": "2023-12-12T11:47:07.895Z"
   },
   {
    "duration": 738,
    "start_time": "2023-12-12T11:48:02.548Z"
   },
   {
    "duration": 20,
    "start_time": "2023-12-12T11:48:03.288Z"
   },
   {
    "duration": 50,
    "start_time": "2023-12-12T11:48:03.310Z"
   },
   {
    "duration": 24,
    "start_time": "2023-12-12T11:48:03.362Z"
   },
   {
    "duration": 58,
    "start_time": "2023-12-12T11:48:03.388Z"
   },
   {
    "duration": 3,
    "start_time": "2023-12-12T11:48:03.448Z"
   },
   {
    "duration": 91,
    "start_time": "2023-12-12T11:48:03.452Z"
   },
   {
    "duration": 38,
    "start_time": "2023-12-12T11:48:03.544Z"
   },
   {
    "duration": 11,
    "start_time": "2023-12-12T11:48:03.584Z"
   },
   {
    "duration": 18,
    "start_time": "2023-12-12T11:48:03.597Z"
   },
   {
    "duration": 72,
    "start_time": "2023-12-12T11:48:03.617Z"
   },
   {
    "duration": 44,
    "start_time": "2023-12-12T11:48:03.691Z"
   },
   {
    "duration": 6,
    "start_time": "2023-12-12T11:48:03.737Z"
   },
   {
    "duration": 25,
    "start_time": "2023-12-12T11:48:03.746Z"
   },
   {
    "duration": 49,
    "start_time": "2023-12-12T11:48:03.773Z"
   },
   {
    "duration": 18,
    "start_time": "2023-12-12T11:48:03.825Z"
   },
   {
    "duration": 5,
    "start_time": "2023-12-12T11:48:03.845Z"
   },
   {
    "duration": 56,
    "start_time": "2023-12-12T11:48:03.851Z"
   },
   {
    "duration": 70,
    "start_time": "2023-12-12T11:48:03.910Z"
   },
   {
    "duration": 48,
    "start_time": "2023-12-12T11:48:03.982Z"
   },
   {
    "duration": 73,
    "start_time": "2023-12-12T11:48:04.032Z"
   },
   {
    "duration": 52,
    "start_time": "2023-12-12T11:48:04.107Z"
   },
   {
    "duration": 157,
    "start_time": "2023-12-12T11:48:04.160Z"
   },
   {
    "duration": 4,
    "start_time": "2023-12-12T11:48:04.319Z"
   },
   {
    "duration": 22,
    "start_time": "2023-12-12T11:48:04.324Z"
   },
   {
    "duration": 159,
    "start_time": "2023-12-12T11:48:04.347Z"
   },
   {
    "duration": 15,
    "start_time": "2023-12-12T11:48:04.508Z"
   },
   {
    "duration": 8,
    "start_time": "2023-12-12T11:48:04.525Z"
   },
   {
    "duration": 176,
    "start_time": "2023-12-12T11:48:04.535Z"
   },
   {
    "duration": 9,
    "start_time": "2023-12-12T11:48:04.713Z"
   },
   {
    "duration": 187,
    "start_time": "2023-12-12T11:48:04.723Z"
   },
   {
    "duration": 8,
    "start_time": "2023-12-12T11:48:04.912Z"
   },
   {
    "duration": 19,
    "start_time": "2023-12-12T11:48:04.922Z"
   },
   {
    "duration": 249,
    "start_time": "2023-12-12T11:48:04.943Z"
   }
  ],
  "colab": {
   "provenance": []
  },
  "kernelspec": {
   "display_name": "Python 3 (ipykernel)",
   "language": "python",
   "name": "python3"
  },
  "language_info": {
   "codemirror_mode": {
    "name": "ipython",
    "version": 3
   },
   "file_extension": ".py",
   "mimetype": "text/x-python",
   "name": "python",
   "nbconvert_exporter": "python",
   "pygments_lexer": "ipython3",
   "version": "3.9.5"
  },
  "toc": {
   "base_numbering": 1,
   "nav_menu": {},
   "number_sections": true,
   "sideBar": true,
   "skip_h1_title": true,
   "title_cell": "Table of Contents",
   "title_sidebar": "Contents",
   "toc_cell": false,
   "toc_position": {},
   "toc_section_display": true,
   "toc_window_display": false
  }
 },
 "nbformat": 4,
 "nbformat_minor": 5
}
