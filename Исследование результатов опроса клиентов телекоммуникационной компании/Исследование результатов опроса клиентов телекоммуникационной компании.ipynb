{
 "cells": [
  {
   "cell_type": "markdown",
   "id": "6b3e16d2",
   "metadata": {},
   "source": [
    "# Описание проекта"
   ]
  },
  {
   "cell_type": "markdown",
   "id": "e2b9b13a",
   "metadata": {},
   "source": [
    "Для коммуникационной компании, оказывающей услуги на территории СНГ, необходимо определить уровень лояльности клиентов на территории России (NPS) и подготовить дашборд на основе обратной связи, полученной в ходе анкетирования. Результаты опроса были занесены в базу данных, содержащую сведения о геолокации клиента, некоторых личных данных, позволяющих разбить клиентов на группы, и времени жизни клиента в компании. Данные были предоставлены в SQLite, поэтому требуют проверки и предварительной обработки."
   ]
  },
  {
   "cell_type": "markdown",
   "id": "ad9e6c21",
   "metadata": {},
   "source": [
    "## Ознакомление с данными."
   ]
  },
  {
   "cell_type": "markdown",
   "id": "cc17da7c",
   "metadata": {},
   "source": [
    "Данные состоят из нескольких таблиц, связанных между собой ключами. Необходимо ознакомиться с каждой таблицей, проверить её на удобство формата данных и загрузить необходимые столбцы из разных таблиц с помощью запроса на SQL в единую таблицу для дальнейшей обработки в Tableau."
   ]
  },
  {
   "cell_type": "code",
   "execution_count": 1,
   "id": "fbf5db02",
   "metadata": {},
   "outputs": [],
   "source": [
    "# Импортируем необходимые библиотеки:\n",
    "import os\n",
    "import pandas as pd\n",
    "import numpy as np\n",
    "\n",
    "from sqlalchemy import create_engine"
   ]
  },
  {
   "cell_type": "code",
   "execution_count": 2,
   "id": "0017f8e7",
   "metadata": {},
   "outputs": [],
   "source": [
    "# Определим путь считывания файла:\n",
    "\n",
    "# с локального расположения\n",
    "path_to_db_local = '.db'\n",
    "# с сервера Практикума\n",
    "path_to_db_platform = '.db'\n",
    "path_to_db = None\n",
    "\n",
    "# пропишем условия загрузки файла при разных ситуациях:\n",
    "if os.path.exists(path_to_db_local):\n",
    "    path_to_db = path_to_db_local\n",
    "elif os.path.exists(path_to_db_platform):\n",
    "    path_to_db = path_to_db_platform\n",
    "else:\n",
    "    raise Exception('Файл с базой данных SQLite не найден!')\n",
    "\n",
    "if path_to_db:\n",
    "    engine = create_engine(f'sqlite:///{path_to_db}', echo=False)"
   ]
  },
  {
   "cell_type": "code",
   "execution_count": 3,
   "id": "84ebad43",
   "metadata": {},
   "outputs": [
    {
     "data": {
      "text/html": [
       "<div>\n",
       "<style scoped>\n",
       "    .dataframe tbody tr th:only-of-type {\n",
       "        vertical-align: middle;\n",
       "    }\n",
       "\n",
       "    .dataframe tbody tr th {\n",
       "        vertical-align: top;\n",
       "    }\n",
       "\n",
       "    .dataframe thead th {\n",
       "        text-align: right;\n",
       "    }\n",
       "</style>\n",
       "<table border=\"1\" class=\"dataframe\">\n",
       "  <thead>\n",
       "    <tr style=\"text-align: right;\">\n",
       "      <th></th>\n",
       "      <th>user_id</th>\n",
       "      <th>lt_day</th>\n",
       "      <th>age</th>\n",
       "      <th>gender_segment</th>\n",
       "      <th>os_name</th>\n",
       "      <th>cpe_type_name</th>\n",
       "      <th>location_id</th>\n",
       "      <th>age_gr_id</th>\n",
       "      <th>tr_gr_id</th>\n",
       "      <th>lt_gr_id</th>\n",
       "      <th>nps_score</th>\n",
       "    </tr>\n",
       "  </thead>\n",
       "  <tbody>\n",
       "    <tr>\n",
       "      <th>0</th>\n",
       "      <td>A001A2</td>\n",
       "      <td>2320</td>\n",
       "      <td>45.0</td>\n",
       "      <td>1.0</td>\n",
       "      <td>ANDROID</td>\n",
       "      <td>SMARTPHONE</td>\n",
       "      <td>55</td>\n",
       "      <td>5</td>\n",
       "      <td>5</td>\n",
       "      <td>8</td>\n",
       "      <td>10</td>\n",
       "    </tr>\n",
       "    <tr>\n",
       "      <th>1</th>\n",
       "      <td>A001WF</td>\n",
       "      <td>2344</td>\n",
       "      <td>53.0</td>\n",
       "      <td>0.0</td>\n",
       "      <td>ANDROID</td>\n",
       "      <td>SMARTPHONE</td>\n",
       "      <td>21</td>\n",
       "      <td>5</td>\n",
       "      <td>5</td>\n",
       "      <td>8</td>\n",
       "      <td>10</td>\n",
       "    </tr>\n",
       "    <tr>\n",
       "      <th>2</th>\n",
       "      <td>A003Q7</td>\n",
       "      <td>467</td>\n",
       "      <td>57.0</td>\n",
       "      <td>0.0</td>\n",
       "      <td>ANDROID</td>\n",
       "      <td>SMARTPHONE</td>\n",
       "      <td>28</td>\n",
       "      <td>6</td>\n",
       "      <td>9</td>\n",
       "      <td>6</td>\n",
       "      <td>10</td>\n",
       "    </tr>\n",
       "  </tbody>\n",
       "</table>\n",
       "</div>"
      ],
      "text/plain": [
       "  user_id  lt_day   age  gender_segment  os_name cpe_type_name  location_id  \\\n",
       "0  A001A2    2320  45.0             1.0  ANDROID    SMARTPHONE           55   \n",
       "1  A001WF    2344  53.0             0.0  ANDROID    SMARTPHONE           21   \n",
       "2  A003Q7     467  57.0             0.0  ANDROID    SMARTPHONE           28   \n",
       "\n",
       "   age_gr_id  tr_gr_id  lt_gr_id  nps_score  \n",
       "0          5         5         8         10  \n",
       "1          5         5         8         10  \n",
       "2          6         9         6         10  "
      ]
     },
     "execution_count": 3,
     "metadata": {},
     "output_type": "execute_result"
    }
   ],
   "source": [
    "# Посмотрим на певую таблицу, загрузив её через запрос SQL:\n",
    "query = \"\"\"\n",
    "SELECT *\n",
    "FROM user\n",
    "\"\"\"\n",
    "user = pd.read_sql(query, engine)\n",
    "user.head(3)"
   ]
  },
  {
   "cell_type": "markdown",
   "id": "6bd917b1",
   "metadata": {},
   "source": [
    "В таблице user собраны данные о пользователях. Однако представленная форма данных не очевидна и нуждается в дополнении данными других таблиц путём присоединения их по первичным ключам. Проверим, какие данные в других таблицах стоит выгрузит в закодированные поля."
   ]
  },
  {
   "cell_type": "code",
   "execution_count": 4,
   "id": "e5468575",
   "metadata": {},
   "outputs": [
    {
     "data": {
      "text/html": [
       "<div>\n",
       "<style scoped>\n",
       "    .dataframe tbody tr th:only-of-type {\n",
       "        vertical-align: middle;\n",
       "    }\n",
       "\n",
       "    .dataframe tbody tr th {\n",
       "        vertical-align: top;\n",
       "    }\n",
       "\n",
       "    .dataframe thead th {\n",
       "        text-align: right;\n",
       "    }\n",
       "</style>\n",
       "<table border=\"1\" class=\"dataframe\">\n",
       "  <thead>\n",
       "    <tr style=\"text-align: right;\">\n",
       "      <th></th>\n",
       "      <th>location_id</th>\n",
       "      <th>city</th>\n",
       "      <th>country</th>\n",
       "    </tr>\n",
       "  </thead>\n",
       "  <tbody>\n",
       "    <tr>\n",
       "      <th>0</th>\n",
       "      <td>1</td>\n",
       "      <td>Архангельск</td>\n",
       "      <td>Россия</td>\n",
       "    </tr>\n",
       "    <tr>\n",
       "      <th>1</th>\n",
       "      <td>2</td>\n",
       "      <td>Астрахань</td>\n",
       "      <td>Россия</td>\n",
       "    </tr>\n",
       "    <tr>\n",
       "      <th>2</th>\n",
       "      <td>3</td>\n",
       "      <td>Балашиха</td>\n",
       "      <td>Россия</td>\n",
       "    </tr>\n",
       "  </tbody>\n",
       "</table>\n",
       "</div>"
      ],
      "text/plain": [
       "   location_id         city country\n",
       "0            1  Архангельск  Россия\n",
       "1            2    Астрахань  Россия\n",
       "2            3     Балашиха  Россия"
      ]
     },
     "execution_count": 4,
     "metadata": {},
     "output_type": "execute_result"
    }
   ],
   "source": [
    "# Проверим данные таблицы геолокации:\n",
    "query = \"\"\"\n",
    "SELECT *\n",
    "FROM location\n",
    "\"\"\"\n",
    "loc = pd.read_sql(query, engine)\n",
    "loc.head(3)"
   ]
  },
  {
   "cell_type": "markdown",
   "id": "bce41974",
   "metadata": {},
   "source": [
    "Чтобы убедиться в отсутствии дубликатов, необходимо проверить нет ли ошибок в записи названия городов и страны."
   ]
  },
  {
   "cell_type": "code",
   "execution_count": 5,
   "id": "2fa1a9c7",
   "metadata": {
    "scrolled": true
   },
   "outputs": [
    {
     "data": {
      "text/plain": [
       "['Архангельск',\n",
       " 'Астрахань',\n",
       " 'Балашиха',\n",
       " 'Барнаул',\n",
       " 'Белгород',\n",
       " 'Брянск',\n",
       " 'Владивосток',\n",
       " 'Владимир',\n",
       " 'Волгоград',\n",
       " 'Волжский',\n",
       " 'Воронеж',\n",
       " 'Грозный',\n",
       " 'Екатеринбург',\n",
       " 'Иваново',\n",
       " 'Ижевск',\n",
       " 'Иркутск',\n",
       " 'Казань',\n",
       " 'Калининград',\n",
       " 'Калуга',\n",
       " 'Кемерово',\n",
       " 'Киров',\n",
       " 'Краснодар',\n",
       " 'Красноярск',\n",
       " 'Курск',\n",
       " 'Липецк',\n",
       " 'Магнитогорск',\n",
       " 'Махачкала',\n",
       " 'Москва',\n",
       " 'НабережныеЧелны',\n",
       " 'НижнийНовгород',\n",
       " 'НижнийТагил',\n",
       " 'Новокузнецк',\n",
       " 'Новосибирск',\n",
       " 'Омск',\n",
       " 'Оренбург',\n",
       " 'Пенза',\n",
       " 'Пермь',\n",
       " 'РостовнаДону',\n",
       " 'Рязань',\n",
       " 'Самара',\n",
       " 'СанктПетербург',\n",
       " 'Саранск',\n",
       " 'Саратов',\n",
       " 'Смоленск',\n",
       " 'Сочи',\n",
       " 'Ставрополь',\n",
       " 'Сургут',\n",
       " 'Тверь',\n",
       " 'Тольятти',\n",
       " 'Томск',\n",
       " 'Тула',\n",
       " 'Тюмень',\n",
       " 'УланУдэ',\n",
       " 'Ульяновск',\n",
       " 'Уфа',\n",
       " 'Хабаровск',\n",
       " 'Чебоксары',\n",
       " 'Челябинск',\n",
       " 'Череповец',\n",
       " 'Чита',\n",
       " 'Якутск',\n",
       " 'Ярославль']"
      ]
     },
     "execution_count": 5,
     "metadata": {},
     "output_type": "execute_result"
    }
   ],
   "source": [
    "# Выгрузим уникальные значения названий городов:\n",
    "query = \"\"\"\n",
    "SELECT DISTINCT(city)\n",
    "FROM location\n",
    "\"\"\"\n",
    "city = pd.read_sql(query, engine)\n",
    "city['city'].to_list()"
   ]
  },
  {
   "cell_type": "code",
   "execution_count": 6,
   "id": "acd9ed16",
   "metadata": {},
   "outputs": [
    {
     "data": {
      "text/plain": [
       "['Россия']"
      ]
     },
     "execution_count": 6,
     "metadata": {},
     "output_type": "execute_result"
    }
   ],
   "source": [
    "# Выгрузим уникальные значения стран:\n",
    "query = \"\"\"\n",
    "SELECT DISTINCT(country)\n",
    "FROM location\n",
    "\"\"\"\n",
    "country = pd.read_sql(query, engine)\n",
    "country['country'].to_list()"
   ]
  },
  {
   "cell_type": "markdown",
   "id": "6c97e280",
   "metadata": {},
   "source": [
    "В названиях городов и страны ошибок нет. Написание городов не очень удобно для восприятия, однако исключает возможность ошибочного написания. Для анализа по геолокации пользователей оба столбца можно взять без изменений."
   ]
  },
  {
   "cell_type": "code",
   "execution_count": 7,
   "id": "4dcabc83",
   "metadata": {},
   "outputs": [
    {
     "data": {
      "text/html": [
       "<div>\n",
       "<style scoped>\n",
       "    .dataframe tbody tr th:only-of-type {\n",
       "        vertical-align: middle;\n",
       "    }\n",
       "\n",
       "    .dataframe tbody tr th {\n",
       "        vertical-align: top;\n",
       "    }\n",
       "\n",
       "    .dataframe thead th {\n",
       "        text-align: right;\n",
       "    }\n",
       "</style>\n",
       "<table border=\"1\" class=\"dataframe\">\n",
       "  <thead>\n",
       "    <tr style=\"text-align: right;\">\n",
       "      <th></th>\n",
       "      <th>age_gr_id</th>\n",
       "      <th>bucket_min</th>\n",
       "      <th>bucket_max</th>\n",
       "      <th>title</th>\n",
       "    </tr>\n",
       "  </thead>\n",
       "  <tbody>\n",
       "    <tr>\n",
       "      <th>0</th>\n",
       "      <td>1</td>\n",
       "      <td>NaN</td>\n",
       "      <td>15.0</td>\n",
       "      <td>01 до 16</td>\n",
       "    </tr>\n",
       "    <tr>\n",
       "      <th>1</th>\n",
       "      <td>2</td>\n",
       "      <td>16.0</td>\n",
       "      <td>24.0</td>\n",
       "      <td>02 16-24</td>\n",
       "    </tr>\n",
       "    <tr>\n",
       "      <th>2</th>\n",
       "      <td>3</td>\n",
       "      <td>25.0</td>\n",
       "      <td>34.0</td>\n",
       "      <td>03 25-34</td>\n",
       "    </tr>\n",
       "    <tr>\n",
       "      <th>3</th>\n",
       "      <td>4</td>\n",
       "      <td>35.0</td>\n",
       "      <td>44.0</td>\n",
       "      <td>04 35-44</td>\n",
       "    </tr>\n",
       "    <tr>\n",
       "      <th>4</th>\n",
       "      <td>5</td>\n",
       "      <td>45.0</td>\n",
       "      <td>54.0</td>\n",
       "      <td>05 45-54</td>\n",
       "    </tr>\n",
       "    <tr>\n",
       "      <th>5</th>\n",
       "      <td>6</td>\n",
       "      <td>55.0</td>\n",
       "      <td>64.0</td>\n",
       "      <td>06 55-64</td>\n",
       "    </tr>\n",
       "    <tr>\n",
       "      <th>6</th>\n",
       "      <td>7</td>\n",
       "      <td>66.0</td>\n",
       "      <td>NaN</td>\n",
       "      <td>07 66 +</td>\n",
       "    </tr>\n",
       "    <tr>\n",
       "      <th>7</th>\n",
       "      <td>8</td>\n",
       "      <td>NaN</td>\n",
       "      <td>NaN</td>\n",
       "      <td>08 n/a</td>\n",
       "    </tr>\n",
       "  </tbody>\n",
       "</table>\n",
       "</div>"
      ],
      "text/plain": [
       "   age_gr_id  bucket_min  bucket_max     title\n",
       "0          1         NaN        15.0  01 до 16\n",
       "1          2        16.0        24.0  02 16-24\n",
       "2          3        25.0        34.0  03 25-34\n",
       "3          4        35.0        44.0  04 35-44\n",
       "4          5        45.0        54.0  05 45-54\n",
       "5          6        55.0        64.0  06 55-64\n",
       "6          7        66.0         NaN   07 66 +\n",
       "7          8         NaN         NaN    08 n/a"
      ]
     },
     "execution_count": 7,
     "metadata": {},
     "output_type": "execute_result"
    }
   ],
   "source": [
    "# Проверим данные таблицы возрастных характеристик:\n",
    "query = \"\"\"\n",
    "SELECT *\n",
    "FROM age_segment\n",
    "\"\"\"\n",
    "age = pd.read_sql(query, engine)\n",
    "age"
   ]
  },
  {
   "cell_type": "markdown",
   "id": "db13f241",
   "metadata": {},
   "source": [
    "Для анализа в качестве условия группировки удобно будет взять данные столбца title, однако при ивыгрузке стоит отбросить первые 4 символа порядкового номера и оставить лишь название границ интервалов."
   ]
  },
  {
   "cell_type": "code",
   "execution_count": 8,
   "id": "9a04a0ea",
   "metadata": {},
   "outputs": [
    {
     "data": {
      "text/html": [
       "<div>\n",
       "<style scoped>\n",
       "    .dataframe tbody tr th:only-of-type {\n",
       "        vertical-align: middle;\n",
       "    }\n",
       "\n",
       "    .dataframe tbody tr th {\n",
       "        vertical-align: top;\n",
       "    }\n",
       "\n",
       "    .dataframe thead th {\n",
       "        text-align: right;\n",
       "    }\n",
       "</style>\n",
       "<table border=\"1\" class=\"dataframe\">\n",
       "  <thead>\n",
       "    <tr style=\"text-align: right;\">\n",
       "      <th></th>\n",
       "      <th>tr_gr_id</th>\n",
       "      <th>bucket_min</th>\n",
       "      <th>bucket_max</th>\n",
       "      <th>title</th>\n",
       "    </tr>\n",
       "  </thead>\n",
       "  <tbody>\n",
       "    <tr>\n",
       "      <th>0</th>\n",
       "      <td>1</td>\n",
       "      <td>0.00</td>\n",
       "      <td>0.00</td>\n",
       "      <td>01 0</td>\n",
       "    </tr>\n",
       "    <tr>\n",
       "      <th>1</th>\n",
       "      <td>2</td>\n",
       "      <td>0.00</td>\n",
       "      <td>0.01</td>\n",
       "      <td>01 0-0.01</td>\n",
       "    </tr>\n",
       "    <tr>\n",
       "      <th>2</th>\n",
       "      <td>3</td>\n",
       "      <td>0.01</td>\n",
       "      <td>0.10</td>\n",
       "      <td>02 0.01-0.1</td>\n",
       "    </tr>\n",
       "    <tr>\n",
       "      <th>3</th>\n",
       "      <td>4</td>\n",
       "      <td>0.10</td>\n",
       "      <td>1.00</td>\n",
       "      <td>03 0.1-1</td>\n",
       "    </tr>\n",
       "    <tr>\n",
       "      <th>4</th>\n",
       "      <td>5</td>\n",
       "      <td>1.00</td>\n",
       "      <td>5.00</td>\n",
       "      <td>04 1-5</td>\n",
       "    </tr>\n",
       "    <tr>\n",
       "      <th>5</th>\n",
       "      <td>6</td>\n",
       "      <td>5.00</td>\n",
       "      <td>10.00</td>\n",
       "      <td>05 5-10</td>\n",
       "    </tr>\n",
       "    <tr>\n",
       "      <th>6</th>\n",
       "      <td>7</td>\n",
       "      <td>10.00</td>\n",
       "      <td>15.00</td>\n",
       "      <td>06 10-15</td>\n",
       "    </tr>\n",
       "    <tr>\n",
       "      <th>7</th>\n",
       "      <td>8</td>\n",
       "      <td>15.00</td>\n",
       "      <td>20.00</td>\n",
       "      <td>07 15-20</td>\n",
       "    </tr>\n",
       "    <tr>\n",
       "      <th>8</th>\n",
       "      <td>9</td>\n",
       "      <td>20.00</td>\n",
       "      <td>25.00</td>\n",
       "      <td>08 20-25</td>\n",
       "    </tr>\n",
       "    <tr>\n",
       "      <th>9</th>\n",
       "      <td>10</td>\n",
       "      <td>25.00</td>\n",
       "      <td>30.00</td>\n",
       "      <td>09 25-30</td>\n",
       "    </tr>\n",
       "    <tr>\n",
       "      <th>10</th>\n",
       "      <td>11</td>\n",
       "      <td>30.00</td>\n",
       "      <td>35.00</td>\n",
       "      <td>10 30-35</td>\n",
       "    </tr>\n",
       "    <tr>\n",
       "      <th>11</th>\n",
       "      <td>12</td>\n",
       "      <td>35.00</td>\n",
       "      <td>40.00</td>\n",
       "      <td>11 35-40</td>\n",
       "    </tr>\n",
       "    <tr>\n",
       "      <th>12</th>\n",
       "      <td>13</td>\n",
       "      <td>40.00</td>\n",
       "      <td>45.00</td>\n",
       "      <td>12 40-45</td>\n",
       "    </tr>\n",
       "    <tr>\n",
       "      <th>13</th>\n",
       "      <td>14</td>\n",
       "      <td>45.00</td>\n",
       "      <td>50.00</td>\n",
       "      <td>13 45-50</td>\n",
       "    </tr>\n",
       "    <tr>\n",
       "      <th>14</th>\n",
       "      <td>15</td>\n",
       "      <td>50.00</td>\n",
       "      <td>55.00</td>\n",
       "      <td>14 50-55</td>\n",
       "    </tr>\n",
       "    <tr>\n",
       "      <th>15</th>\n",
       "      <td>16</td>\n",
       "      <td>55.00</td>\n",
       "      <td>60.00</td>\n",
       "      <td>15 55-60</td>\n",
       "    </tr>\n",
       "    <tr>\n",
       "      <th>16</th>\n",
       "      <td>17</td>\n",
       "      <td>60.00</td>\n",
       "      <td>65.00</td>\n",
       "      <td>16 60-65</td>\n",
       "    </tr>\n",
       "    <tr>\n",
       "      <th>17</th>\n",
       "      <td>18</td>\n",
       "      <td>65.00</td>\n",
       "      <td>70.00</td>\n",
       "      <td>17 65-70</td>\n",
       "    </tr>\n",
       "    <tr>\n",
       "      <th>18</th>\n",
       "      <td>19</td>\n",
       "      <td>70.00</td>\n",
       "      <td>75.00</td>\n",
       "      <td>18 70-75</td>\n",
       "    </tr>\n",
       "    <tr>\n",
       "      <th>19</th>\n",
       "      <td>20</td>\n",
       "      <td>75.00</td>\n",
       "      <td>80.00</td>\n",
       "      <td>19 75-80</td>\n",
       "    </tr>\n",
       "    <tr>\n",
       "      <th>20</th>\n",
       "      <td>21</td>\n",
       "      <td>80.00</td>\n",
       "      <td>85.00</td>\n",
       "      <td>20 80-85</td>\n",
       "    </tr>\n",
       "    <tr>\n",
       "      <th>21</th>\n",
       "      <td>22</td>\n",
       "      <td>85.00</td>\n",
       "      <td>90.00</td>\n",
       "      <td>21 85-90</td>\n",
       "    </tr>\n",
       "    <tr>\n",
       "      <th>22</th>\n",
       "      <td>23</td>\n",
       "      <td>90.00</td>\n",
       "      <td>95.00</td>\n",
       "      <td>22 90-95</td>\n",
       "    </tr>\n",
       "    <tr>\n",
       "      <th>23</th>\n",
       "      <td>24</td>\n",
       "      <td>95.00</td>\n",
       "      <td>100.00</td>\n",
       "      <td>23 95-100</td>\n",
       "    </tr>\n",
       "    <tr>\n",
       "      <th>24</th>\n",
       "      <td>25</td>\n",
       "      <td>100.00</td>\n",
       "      <td>NaN</td>\n",
       "      <td>24 100+</td>\n",
       "    </tr>\n",
       "  </tbody>\n",
       "</table>\n",
       "</div>"
      ],
      "text/plain": [
       "    tr_gr_id  bucket_min  bucket_max        title\n",
       "0          1        0.00        0.00         01 0\n",
       "1          2        0.00        0.01    01 0-0.01\n",
       "2          3        0.01        0.10  02 0.01-0.1\n",
       "3          4        0.10        1.00     03 0.1-1\n",
       "4          5        1.00        5.00       04 1-5\n",
       "5          6        5.00       10.00      05 5-10\n",
       "6          7       10.00       15.00     06 10-15\n",
       "7          8       15.00       20.00     07 15-20\n",
       "8          9       20.00       25.00     08 20-25\n",
       "9         10       25.00       30.00     09 25-30\n",
       "10        11       30.00       35.00     10 30-35\n",
       "11        12       35.00       40.00     11 35-40\n",
       "12        13       40.00       45.00     12 40-45\n",
       "13        14       45.00       50.00     13 45-50\n",
       "14        15       50.00       55.00     14 50-55\n",
       "15        16       55.00       60.00     15 55-60\n",
       "16        17       60.00       65.00     16 60-65\n",
       "17        18       65.00       70.00     17 65-70\n",
       "18        19       70.00       75.00     18 70-75\n",
       "19        20       75.00       80.00     19 75-80\n",
       "20        21       80.00       85.00     20 80-85\n",
       "21        22       85.00       90.00     21 85-90\n",
       "22        23       90.00       95.00     22 90-95\n",
       "23        24       95.00      100.00    23 95-100\n",
       "24        25      100.00         NaN      24 100+"
      ]
     },
     "execution_count": 8,
     "metadata": {},
     "output_type": "execute_result"
    }
   ],
   "source": [
    "# Проверим данные таблицы трафика\n",
    "query = \"\"\"\n",
    "SELECT *\n",
    "FROM traffic_segment\n",
    "\"\"\"\n",
    "traffic = pd.read_sql(query, engine)\n",
    "traffic"
   ]
  },
  {
   "cell_type": "markdown",
   "id": "2c378ff8",
   "metadata": {},
   "source": [
    "Данные трафика также удобно разбиты на группы в последнем столбце, в котором при выгрузки из таблицы следует провести аналогичные возрасту манипуляции."
   ]
  },
  {
   "cell_type": "code",
   "execution_count": 9,
   "id": "449e054d",
   "metadata": {},
   "outputs": [
    {
     "data": {
      "text/html": [
       "<div>\n",
       "<style scoped>\n",
       "    .dataframe tbody tr th:only-of-type {\n",
       "        vertical-align: middle;\n",
       "    }\n",
       "\n",
       "    .dataframe tbody tr th {\n",
       "        vertical-align: top;\n",
       "    }\n",
       "\n",
       "    .dataframe thead th {\n",
       "        text-align: right;\n",
       "    }\n",
       "</style>\n",
       "<table border=\"1\" class=\"dataframe\">\n",
       "  <thead>\n",
       "    <tr style=\"text-align: right;\">\n",
       "      <th></th>\n",
       "      <th>lt_gr_id</th>\n",
       "      <th>bucket_min</th>\n",
       "      <th>bucket_max</th>\n",
       "      <th>title</th>\n",
       "    </tr>\n",
       "  </thead>\n",
       "  <tbody>\n",
       "    <tr>\n",
       "      <th>0</th>\n",
       "      <td>1</td>\n",
       "      <td>1.0</td>\n",
       "      <td>1.0</td>\n",
       "      <td>01 1</td>\n",
       "    </tr>\n",
       "    <tr>\n",
       "      <th>1</th>\n",
       "      <td>2</td>\n",
       "      <td>2.0</td>\n",
       "      <td>2.0</td>\n",
       "      <td>02 2</td>\n",
       "    </tr>\n",
       "    <tr>\n",
       "      <th>2</th>\n",
       "      <td>3</td>\n",
       "      <td>3.0</td>\n",
       "      <td>3.0</td>\n",
       "      <td>03 3</td>\n",
       "    </tr>\n",
       "    <tr>\n",
       "      <th>3</th>\n",
       "      <td>4</td>\n",
       "      <td>4.0</td>\n",
       "      <td>6.0</td>\n",
       "      <td>04 4-6</td>\n",
       "    </tr>\n",
       "    <tr>\n",
       "      <th>4</th>\n",
       "      <td>5</td>\n",
       "      <td>7.0</td>\n",
       "      <td>12.0</td>\n",
       "      <td>05 7-12</td>\n",
       "    </tr>\n",
       "    <tr>\n",
       "      <th>5</th>\n",
       "      <td>6</td>\n",
       "      <td>13.0</td>\n",
       "      <td>24.0</td>\n",
       "      <td>06 13-24</td>\n",
       "    </tr>\n",
       "    <tr>\n",
       "      <th>6</th>\n",
       "      <td>7</td>\n",
       "      <td>25.0</td>\n",
       "      <td>36.0</td>\n",
       "      <td>07 25-36</td>\n",
       "    </tr>\n",
       "    <tr>\n",
       "      <th>7</th>\n",
       "      <td>8</td>\n",
       "      <td>36.0</td>\n",
       "      <td>NaN</td>\n",
       "      <td>08 36+</td>\n",
       "    </tr>\n",
       "  </tbody>\n",
       "</table>\n",
       "</div>"
      ],
      "text/plain": [
       "   lt_gr_id  bucket_min  bucket_max     title\n",
       "0         1         1.0         1.0      01 1\n",
       "1         2         2.0         2.0      02 2\n",
       "2         3         3.0         3.0      03 3\n",
       "3         4         4.0         6.0    04 4-6\n",
       "4         5         7.0        12.0   05 7-12\n",
       "5         6        13.0        24.0  06 13-24\n",
       "6         7        25.0        36.0  07 25-36\n",
       "7         8        36.0         NaN    08 36+"
      ]
     },
     "execution_count": 9,
     "metadata": {},
     "output_type": "execute_result"
    }
   ],
   "source": [
    "# Проверим данные таблицы длительности \"жизни\" клиента:\n",
    "query = \"\"\"\n",
    "SELECT *\n",
    "FROM lifetime_segment\n",
    "\"\"\"\n",
    "lifetime = pd.read_sql(query, engine)\n",
    "lifetime"
   ]
  },
  {
   "cell_type": "markdown",
   "id": "0e73900a",
   "metadata": {},
   "source": [
    "Данные таблицы длительности существования клиента следует обработать и выгрузить аналогично таблицам с возрастными и характеристиками и трафиком."
   ]
  },
  {
   "cell_type": "markdown",
   "id": "c0c78739",
   "metadata": {},
   "source": [
    "## Выгрузка базы данных"
   ]
  },
  {
   "cell_type": "markdown",
   "id": "f8ae18a1",
   "metadata": {},
   "source": [
    "После определения столбцов для выгрузки в каждой таблице можно подготовить общую таблицу для последующей обработки и посторения графиков. Отсутствующие поля создадим заполним согласно условиям, присоединение таблиц проведём слева, определив таблицу user как главную. "
   ]
  },
  {
   "cell_type": "code",
   "execution_count": 10,
   "id": "1f871002",
   "metadata": {},
   "outputs": [],
   "source": [
    "# Создадим общий запрос для вывода из всех таблиц интересующих столбцов в удобном виде:\n",
    "query = \"\"\"\n",
    "SELECT u.user_id,\n",
    "        u.lt_day,\n",
    "        CASE\n",
    "            WHEN u.lt_day <= 365 THEN 'new'\n",
    "            ELSE 'old'\n",
    "        END AS is_new,\n",
    "        u.age,\n",
    "        CASE\n",
    "            WHEN u.gender_segment = 0.0 THEN 'male'\n",
    "            WHEN u.gender_segment = 1.0 THEN 'female'\n",
    "            ELSE 'other'\n",
    "        END AS gender_segment,\n",
    "        u.os_name,\n",
    "        u.cpe_type_name,\n",
    "        l.country,\n",
    "        l.city,\n",
    "        SUBSTRING(a_s.title, 4) AS age_segment,\n",
    "        SUBSTRING(t_s.title, 4) AS traffic_segment,\n",
    "        SUBSTRING(l_s.title, 4) AS lifetime_segment,\n",
    "        u.nps_score,\n",
    "        CASE\n",
    "            WHEN u.nps_score >= 9 THEN 'promoters'\n",
    "            WHEN u.nps_score <= 6 THEN 'detractors'\n",
    "            ELSE 'passives'\n",
    "        END AS nps_group\n",
    "FROM user AS u\n",
    "    LEFT JOIN location AS l ON l.location_id = u.location_id\n",
    "    LEFT JOIN age_segment AS a_s ON a_s.age_gr_id = u.age_gr_id\n",
    "    LEFT JOIN traffic_segment AS t_s ON t_s.tr_gr_id = u.tr_gr_id\n",
    "    LEFT JOIN lifetime_segment AS l_s ON l_s.lt_gr_id = u.lt_gr_id\n",
    "\"\"\""
   ]
  },
  {
   "cell_type": "code",
   "execution_count": 11,
   "id": "f29e0377",
   "metadata": {},
   "outputs": [
    {
     "data": {
      "text/html": [
       "<div>\n",
       "<style scoped>\n",
       "    .dataframe tbody tr th:only-of-type {\n",
       "        vertical-align: middle;\n",
       "    }\n",
       "\n",
       "    .dataframe tbody tr th {\n",
       "        vertical-align: top;\n",
       "    }\n",
       "\n",
       "    .dataframe thead th {\n",
       "        text-align: right;\n",
       "    }\n",
       "</style>\n",
       "<table border=\"1\" class=\"dataframe\">\n",
       "  <thead>\n",
       "    <tr style=\"text-align: right;\">\n",
       "      <th></th>\n",
       "      <th>user_id</th>\n",
       "      <th>lt_day</th>\n",
       "      <th>is_new</th>\n",
       "      <th>age</th>\n",
       "      <th>gender_segment</th>\n",
       "      <th>os_name</th>\n",
       "      <th>cpe_type_name</th>\n",
       "      <th>country</th>\n",
       "      <th>city</th>\n",
       "      <th>age_segment</th>\n",
       "      <th>traffic_segment</th>\n",
       "      <th>lifetime_segment</th>\n",
       "      <th>nps_score</th>\n",
       "      <th>nps_group</th>\n",
       "    </tr>\n",
       "  </thead>\n",
       "  <tbody>\n",
       "    <tr>\n",
       "      <th>0</th>\n",
       "      <td>A001A2</td>\n",
       "      <td>2320</td>\n",
       "      <td>old</td>\n",
       "      <td>45.0</td>\n",
       "      <td>female</td>\n",
       "      <td>ANDROID</td>\n",
       "      <td>SMARTPHONE</td>\n",
       "      <td>Россия</td>\n",
       "      <td>Уфа</td>\n",
       "      <td>45-54</td>\n",
       "      <td>1-5</td>\n",
       "      <td>36+</td>\n",
       "      <td>10</td>\n",
       "      <td>promoters</td>\n",
       "    </tr>\n",
       "    <tr>\n",
       "      <th>1</th>\n",
       "      <td>A001WF</td>\n",
       "      <td>2344</td>\n",
       "      <td>old</td>\n",
       "      <td>53.0</td>\n",
       "      <td>male</td>\n",
       "      <td>ANDROID</td>\n",
       "      <td>SMARTPHONE</td>\n",
       "      <td>Россия</td>\n",
       "      <td>Киров</td>\n",
       "      <td>45-54</td>\n",
       "      <td>1-5</td>\n",
       "      <td>36+</td>\n",
       "      <td>10</td>\n",
       "      <td>promoters</td>\n",
       "    </tr>\n",
       "    <tr>\n",
       "      <th>2</th>\n",
       "      <td>A003Q7</td>\n",
       "      <td>467</td>\n",
       "      <td>old</td>\n",
       "      <td>57.0</td>\n",
       "      <td>male</td>\n",
       "      <td>ANDROID</td>\n",
       "      <td>SMARTPHONE</td>\n",
       "      <td>Россия</td>\n",
       "      <td>Москва</td>\n",
       "      <td>55-64</td>\n",
       "      <td>20-25</td>\n",
       "      <td>13-24</td>\n",
       "      <td>10</td>\n",
       "      <td>promoters</td>\n",
       "    </tr>\n",
       "    <tr>\n",
       "      <th>3</th>\n",
       "      <td>A004TB</td>\n",
       "      <td>4190</td>\n",
       "      <td>old</td>\n",
       "      <td>44.0</td>\n",
       "      <td>female</td>\n",
       "      <td>IOS</td>\n",
       "      <td>SMARTPHONE</td>\n",
       "      <td>Россия</td>\n",
       "      <td>РостовнаДону</td>\n",
       "      <td>35-44</td>\n",
       "      <td>0.1-1</td>\n",
       "      <td>36+</td>\n",
       "      <td>10</td>\n",
       "      <td>promoters</td>\n",
       "    </tr>\n",
       "    <tr>\n",
       "      <th>4</th>\n",
       "      <td>A004XT</td>\n",
       "      <td>1163</td>\n",
       "      <td>old</td>\n",
       "      <td>24.0</td>\n",
       "      <td>male</td>\n",
       "      <td>ANDROID</td>\n",
       "      <td>SMARTPHONE</td>\n",
       "      <td>Россия</td>\n",
       "      <td>Рязань</td>\n",
       "      <td>16-24</td>\n",
       "      <td>5-10</td>\n",
       "      <td>36+</td>\n",
       "      <td>10</td>\n",
       "      <td>promoters</td>\n",
       "    </tr>\n",
       "  </tbody>\n",
       "</table>\n",
       "</div>"
      ],
      "text/plain": [
       "  user_id  lt_day is_new   age gender_segment  os_name cpe_type_name country  \\\n",
       "0  A001A2    2320    old  45.0         female  ANDROID    SMARTPHONE  Россия   \n",
       "1  A001WF    2344    old  53.0           male  ANDROID    SMARTPHONE  Россия   \n",
       "2  A003Q7     467    old  57.0           male  ANDROID    SMARTPHONE  Россия   \n",
       "3  A004TB    4190    old  44.0         female      IOS    SMARTPHONE  Россия   \n",
       "4  A004XT    1163    old  24.0           male  ANDROID    SMARTPHONE  Россия   \n",
       "\n",
       "           city age_segment traffic_segment lifetime_segment  nps_score  \\\n",
       "0           Уфа       45-54             1-5              36+         10   \n",
       "1         Киров       45-54             1-5              36+         10   \n",
       "2        Москва       55-64           20-25            13-24         10   \n",
       "3  РостовнаДону       35-44           0.1-1              36+         10   \n",
       "4        Рязань       16-24            5-10              36+         10   \n",
       "\n",
       "   nps_group  \n",
       "0  promoters  \n",
       "1  promoters  \n",
       "2  promoters  \n",
       "3  promoters  \n",
       "4  promoters  "
      ]
     },
     "execution_count": 11,
     "metadata": {},
     "output_type": "execute_result"
    }
   ],
   "source": [
    "data = pd.read_sql(query, engine)\n",
    "# Ознакомимся с несколькими строками, проверив удобство формата данных:\n",
    "data.head(5)"
   ]
  },
  {
   "cell_type": "code",
   "execution_count": 12,
   "id": "ba9cab44",
   "metadata": {},
   "outputs": [],
   "source": [
    "# Запишем таблицу в отдельный файл для дальнейшей обработки и визуализации:\n",
    "\n",
    "data.to_csv('.csv', index=False)"
   ]
  },
  {
   "cell_type": "markdown",
   "id": "8cbdcdca",
   "metadata": {},
   "source": [
    "## Вывод"
   ]
  },
  {
   "cell_type": "markdown",
   "id": "003459da",
   "metadata": {},
   "source": [
    "Для коммуникационной компании, оказывающей услуги на территории СНГ, необходимо определить уровень лояльности клиентов на территории России (показатель NPS) и подготовить дашборд на основе обратной связи, полученной в ходе анкетирования. Результаты опроса были занесены в базу данных, содержащую сведения о геолокации клиента, некоторых личных данных, позволяющих сегментировать характеристики клиентов, и времени жизни клиента в компании."
   ]
  },
  {
   "cell_type": "markdown",
   "id": "a1ed86e2",
   "metadata": {},
   "source": [
    "NPS или индекс потребительской лояльности показывает, насколько клиенты довольны услугами компании. Подсчёт производится в виде разницы процентных долей лояльных клиентов (оценка 9 и 10 в опросе) и нелояльных (оценка от 0 до 6 в опросе). Полученные от заказчика данные были сгруппированы из нескольких таблиц в одну с удобными для сегментации клиентов полями. Для более точного подсчета и группировки из анализируемой базы были исключены данные с отсутсвующими значениями пола и возраста (2,55% исходных данных), заменены значения пола с числовых на строковые и добавлены столбцы сегментов возраста, трафика, lifetime и NPS-статуса."
   ]
  },
  {
   "cell_type": "markdown",
   "id": "947977d9",
   "metadata": {},
   "source": [
    "Общий NPS компании составляет 21,97. Это говорит о том, что доля критиков высока и компании следует скорректировать курс развития в области работы с клиентами.\n",
    "\n",
    "- Количество участников опроса прямо пропорционально населённости города. Большое количество клиентов из мегаполисов с невысоким уровнем лояльности снижают общий NPS. Непосредственной корреляции между геолокацией и уровнем NPS не замечено, поэтому для анализа его колебаний следует обратить внимание на другие факторы. Наименее лояльными оказались клиенты как в крупных городах, таких как Воронеж (4,46), Тольятти (6,07), Тюмень (8,10), Хабаровск (9,35), так и в в небольших, например, Рязань(7,07), Тверь (7,97). Наиболее лояльны клиенты таких городов как Иваново (46,92), Череповец (44,59), Саранск (43,82).\n",
    "\n",
    "\n",
    "- Наиболее активно принимали участие в опросе клиенты возрастом 25-55 лет, что соответствует активному рабочему периоду жизни.  Клиенты старше 45 лет более всего расположены рекомендовать компанию. Клиенты моложе 25 лет активны во всех сегментах трафика, но имеют наименьший показатель NPS. Среди них зафиксировано наибольшее количество пользователей iOS, которые также негативно настроены. Компании следует обратить внимание на эту категорию: возможно сложности или неудобство использования програмного обеспечения на этой операционной системе негативно сказываются на мнении пользователей.\n",
    "\n",
    "\n",
    "- Большинство респондентов - женщины (54%), которые чаще готовы рекомендовать компанию, чем мужчины. Среди недовольных и нейтральных клиентов распределение мужчин и женщин примерно равно. В Москве мужчин преобладающее большинство, в Санкт-Петербурге и Самаре немногим больше женщин. В остальных городах ситуация обратная или равная, что может повышать уровень NPS, так как женщины более лояльны. \n",
    "\n",
    "\n",
    "- Среди новых клиентов уровень лояльности выше, нежели среди знакомых  с компанией более года, что подтверждается существенным ростом показателя NPS при уменьшении показателя lifetime. "
   ]
  },
  {
   "cell_type": "markdown",
   "id": "7633e18b",
   "metadata": {},
   "source": [
    "По итогам расчётом можно утверждать, что наиболее лояльны люди среднего и пожилого возраста, быстро получающие необходимую услугу, чаще женщины, особенно будучи новыми клиентами. Наименее расположены к компании молодые клиенты, пользователи iOS, являющиеся пользователшями услуг более двух лет."
   ]
  },
  {
   "cell_type": "markdown",
   "id": "55beb79c",
   "metadata": {},
   "source": [
    "Более детально ознакомиться с показателями можно в презентации ресурса Tableau:"
   ]
  },
  {
   "cell_type": "markdown",
   "id": "a8a78fde",
   "metadata": {},
   "source": [
    "https://public.tableau.com/views/NPS-project/NPS_1?:language=en-US&:sid=&:display_count=n&:origin=viz_share_link"
   ]
  },
  {
   "cell_type": "markdown",
   "id": "0fde55bb",
   "metadata": {},
   "source": [
    "Также с показателями можно ознакомить в презентации:"
   ]
  },
  {
   "cell_type": "markdown",
   "id": "3e1dee1a",
   "metadata": {},
   "source": [
    "https://disk.yandex.ru/i/cZZWaYpBB_zvmw"
   ]
  }
 ],
 "metadata": {
  "ExecuteTimeLog": [
   {
    "duration": 541,
    "start_time": "2024-04-01T06:32:58.405Z"
   },
   {
    "duration": 69,
    "start_time": "2024-04-01T06:33:00.066Z"
   },
   {
    "duration": 3,
    "start_time": "2024-04-01T06:33:02.148Z"
   },
   {
    "duration": 696,
    "start_time": "2024-04-01T06:33:09.221Z"
   },
   {
    "duration": 3,
    "start_time": "2024-04-01T06:33:55.132Z"
   },
   {
    "duration": 345,
    "start_time": "2024-04-01T06:33:56.077Z"
   },
   {
    "duration": 2,
    "start_time": "2024-04-01T06:39:32.291Z"
   },
   {
    "duration": 592,
    "start_time": "2024-04-01T06:39:33.243Z"
   },
   {
    "duration": 3,
    "start_time": "2024-04-01T06:40:04.223Z"
   },
   {
    "duration": 606,
    "start_time": "2024-04-01T06:40:05.808Z"
   },
   {
    "duration": 3,
    "start_time": "2024-04-01T06:41:26.965Z"
   },
   {
    "duration": 3648,
    "start_time": "2024-04-01T06:41:27.578Z"
   },
   {
    "duration": 2408,
    "start_time": "2024-04-01T06:41:40.860Z"
   },
   {
    "duration": 531,
    "start_time": "2024-04-03T09:20:40.658Z"
   },
   {
    "duration": 77,
    "start_time": "2024-04-03T09:20:41.863Z"
   },
   {
    "duration": 3,
    "start_time": "2024-04-03T09:20:42.683Z"
   },
   {
    "duration": 4070,
    "start_time": "2024-04-03T09:20:43.590Z"
   },
   {
    "duration": 2680,
    "start_time": "2024-04-03T09:20:50.280Z"
   },
   {
    "duration": 2,
    "start_time": "2024-04-03T09:20:53.865Z"
   },
   {
    "duration": 557,
    "start_time": "2024-04-03T09:20:56.016Z"
   },
   {
    "duration": 2,
    "start_time": "2024-04-03T09:21:32.100Z"
   },
   {
    "duration": 560,
    "start_time": "2024-04-03T09:21:46.325Z"
   },
   {
    "duration": 552,
    "start_time": "2024-04-03T09:21:58.516Z"
   },
   {
    "duration": 2,
    "start_time": "2024-04-03T09:35:28.337Z"
   },
   {
    "duration": 559,
    "start_time": "2024-04-03T09:35:51.208Z"
   },
   {
    "duration": 2,
    "start_time": "2024-04-03T09:37:03.799Z"
   },
   {
    "duration": 73,
    "start_time": "2024-04-03T09:37:19.204Z"
   },
   {
    "duration": 552,
    "start_time": "2024-04-03T09:37:23.574Z"
   },
   {
    "duration": 3,
    "start_time": "2024-04-03T09:58:15.211Z"
   },
   {
    "duration": 468,
    "start_time": "2024-04-03T09:58:30.756Z"
   },
   {
    "duration": 2,
    "start_time": "2024-04-03T10:00:29.375Z"
   },
   {
    "duration": 659,
    "start_time": "2024-04-03T10:00:30.403Z"
   },
   {
    "duration": 3,
    "start_time": "2024-04-03T10:00:46.260Z"
   },
   {
    "duration": 5027,
    "start_time": "2024-04-03T10:00:46.904Z"
   },
   {
    "duration": 4921,
    "start_time": "2024-04-03T10:01:01.061Z"
   },
   {
    "duration": 2,
    "start_time": "2024-04-03T10:02:23.082Z"
   },
   {
    "duration": 4997,
    "start_time": "2024-04-03T10:02:24.033Z"
   },
   {
    "duration": 8,
    "start_time": "2024-04-03T10:03:34.097Z"
   },
   {
    "duration": 5,
    "start_time": "2024-04-03T10:03:38.599Z"
   },
   {
    "duration": 4,
    "start_time": "2024-04-03T10:04:08.971Z"
   },
   {
    "duration": 4,
    "start_time": "2024-04-03T10:12:09.013Z"
   },
   {
    "duration": 4885,
    "start_time": "2024-04-03T10:12:09.539Z"
   },
   {
    "duration": 3,
    "start_time": "2024-04-03T10:15:12.163Z"
   },
   {
    "duration": 391,
    "start_time": "2024-04-03T10:15:12.965Z"
   },
   {
    "duration": 2,
    "start_time": "2024-04-03T10:15:32.243Z"
   },
   {
    "duration": 395,
    "start_time": "2024-04-03T10:15:32.855Z"
   },
   {
    "duration": 4,
    "start_time": "2024-04-03T10:15:51.456Z"
   },
   {
    "duration": 391,
    "start_time": "2024-04-03T10:15:52.035Z"
   },
   {
    "duration": 3,
    "start_time": "2024-04-03T10:16:01.280Z"
   },
   {
    "duration": 4992,
    "start_time": "2024-04-03T10:16:01.750Z"
   },
   {
    "duration": 4752,
    "start_time": "2024-04-03T10:18:22.103Z"
   },
   {
    "duration": 75,
    "start_time": "2024-04-03T10:24:08.136Z"
   },
   {
    "duration": 70,
    "start_time": "2024-04-03T10:24:29.412Z"
   },
   {
    "duration": 80,
    "start_time": "2024-04-03T10:27:43.884Z"
   },
   {
    "duration": 93,
    "start_time": "2024-04-03T10:28:17.482Z"
   },
   {
    "duration": 4456,
    "start_time": "2024-04-03T10:29:39.585Z"
   },
   {
    "duration": 4597,
    "start_time": "2024-04-03T10:30:25.238Z"
   },
   {
    "duration": 3953,
    "start_time": "2024-04-03T10:30:59.289Z"
   },
   {
    "duration": 54,
    "start_time": "2024-04-03T10:32:54.403Z"
   },
   {
    "duration": 51,
    "start_time": "2024-04-03T10:33:43.072Z"
   },
   {
    "duration": 77,
    "start_time": "2024-04-03T10:33:56.814Z"
   },
   {
    "duration": 3928,
    "start_time": "2024-04-03T10:34:35.483Z"
   },
   {
    "duration": 2,
    "start_time": "2024-04-03T11:10:04.887Z"
   },
   {
    "duration": 554,
    "start_time": "2024-04-03T11:10:28.654Z"
   },
   {
    "duration": 552,
    "start_time": "2024-04-03T11:11:00.034Z"
   },
   {
    "duration": 544,
    "start_time": "2024-04-03T11:20:32.219Z"
   },
   {
    "duration": 400,
    "start_time": "2024-04-03T11:22:55.316Z"
   },
   {
    "duration": 392,
    "start_time": "2024-04-03T11:23:35.175Z"
   },
   {
    "duration": 553,
    "start_time": "2024-04-03T11:24:02.696Z"
   },
   {
    "duration": 550,
    "start_time": "2024-04-03T11:24:25.153Z"
   },
   {
    "duration": 3357,
    "start_time": "2024-04-03T11:29:03.560Z"
   },
   {
    "duration": 3376,
    "start_time": "2024-04-03T11:30:38.033Z"
   },
   {
    "duration": 550,
    "start_time": "2024-04-03T11:34:48.183Z"
   },
   {
    "duration": 550,
    "start_time": "2024-04-03T11:35:23.854Z"
   },
   {
    "duration": 556,
    "start_time": "2024-04-03T11:39:10.738Z"
   },
   {
    "duration": 564,
    "start_time": "2024-04-03T11:39:48.113Z"
   },
   {
    "duration": 552,
    "start_time": "2024-04-03T11:43:36.404Z"
   },
   {
    "duration": 545,
    "start_time": "2024-04-03T11:53:20.370Z"
   },
   {
    "duration": 80,
    "start_time": "2024-04-03T11:53:20.917Z"
   },
   {
    "duration": 3423,
    "start_time": "2024-04-03T11:53:20.999Z"
   },
   {
    "duration": 552,
    "start_time": "2024-04-03T11:53:24.424Z"
   },
   {
    "duration": 571,
    "start_time": "2024-04-03T11:53:24.978Z"
   },
   {
    "duration": 530,
    "start_time": "2024-04-03T11:53:25.550Z"
   },
   {
    "duration": 573,
    "start_time": "2024-04-03T11:53:26.082Z"
   },
   {
    "duration": 535,
    "start_time": "2024-04-03T11:53:26.657Z"
   },
   {
    "duration": 573,
    "start_time": "2024-04-03T11:53:27.193Z"
   },
   {
    "duration": 3,
    "start_time": "2024-04-03T11:53:27.767Z"
   },
   {
    "duration": 4931,
    "start_time": "2024-04-03T11:53:27.771Z"
   },
   {
    "duration": 4045,
    "start_time": "2024-04-03T11:53:32.703Z"
   },
   {
    "duration": 527,
    "start_time": "2024-04-03T11:57:46.681Z"
   },
   {
    "duration": 113,
    "start_time": "2024-04-03T11:57:47.210Z"
   },
   {
    "duration": 3478,
    "start_time": "2024-04-03T11:57:47.325Z"
   },
   {
    "duration": 550,
    "start_time": "2024-04-03T11:57:50.804Z"
   },
   {
    "duration": 569,
    "start_time": "2024-04-03T11:57:51.357Z"
   },
   {
    "duration": 528,
    "start_time": "2024-04-03T11:57:51.927Z"
   },
   {
    "duration": 567,
    "start_time": "2024-04-03T11:57:52.457Z"
   },
   {
    "duration": 533,
    "start_time": "2024-04-03T11:57:53.026Z"
   },
   {
    "duration": 572,
    "start_time": "2024-04-03T11:57:53.561Z"
   },
   {
    "duration": 4,
    "start_time": "2024-04-03T11:57:54.135Z"
   },
   {
    "duration": 5014,
    "start_time": "2024-04-03T11:57:54.140Z"
   },
   {
    "duration": 2,
    "start_time": "2024-04-03T11:57:59.155Z"
   },
   {
    "duration": 566,
    "start_time": "2024-04-14T14:49:09.956Z"
   },
   {
    "duration": 77,
    "start_time": "2024-04-14T14:50:27.426Z"
   },
   {
    "duration": 68,
    "start_time": "2024-04-14T14:50:59.371Z"
   },
   {
    "duration": 88,
    "start_time": "2024-04-14T14:51:20.191Z"
   },
   {
    "duration": 4129,
    "start_time": "2024-04-14T14:51:28.146Z"
   },
   {
    "duration": 4,
    "start_time": "2024-04-14T15:01:17.071Z"
   },
   {
    "duration": 5368,
    "start_time": "2024-04-14T15:01:26.928Z"
   },
   {
    "duration": 2,
    "start_time": "2024-04-14T15:01:54.061Z"
   },
   {
    "duration": 559,
    "start_time": "2024-04-14T15:10:37.875Z"
   },
   {
    "duration": 78,
    "start_time": "2024-04-14T15:10:38.436Z"
   },
   {
    "duration": 3728,
    "start_time": "2024-04-14T15:10:38.516Z"
   },
   {
    "duration": 573,
    "start_time": "2024-04-14T15:10:42.245Z"
   },
   {
    "duration": 586,
    "start_time": "2024-04-14T15:10:42.820Z"
   },
   {
    "duration": 547,
    "start_time": "2024-04-14T15:10:43.408Z"
   },
   {
    "duration": 591,
    "start_time": "2024-04-14T15:10:43.957Z"
   },
   {
    "duration": 551,
    "start_time": "2024-04-14T15:10:44.549Z"
   },
   {
    "duration": 593,
    "start_time": "2024-04-14T15:10:45.101Z"
   },
   {
    "duration": 3,
    "start_time": "2024-04-14T15:10:45.696Z"
   },
   {
    "duration": 5474,
    "start_time": "2024-04-14T15:10:45.700Z"
   },
   {
    "duration": 3,
    "start_time": "2024-04-14T15:10:51.176Z"
   },
   {
    "duration": 569,
    "start_time": "2024-04-14T21:26:22.572Z"
   },
   {
    "duration": 12,
    "start_time": "2024-04-14T21:26:23.143Z"
   },
   {
    "duration": 4354,
    "start_time": "2024-04-14T21:26:23.157Z"
   },
   {
    "duration": 1214,
    "start_time": "2024-04-14T21:26:27.513Z"
   },
   {
    "duration": 1309,
    "start_time": "2024-04-14T21:26:28.729Z"
   },
   {
    "duration": 1403,
    "start_time": "2024-04-14T21:26:30.039Z"
   },
   {
    "duration": 1386,
    "start_time": "2024-04-14T21:26:31.444Z"
   },
   {
    "duration": 1295,
    "start_time": "2024-04-14T21:26:32.832Z"
   },
   {
    "duration": 1288,
    "start_time": "2024-04-14T21:26:34.128Z"
   },
   {
    "duration": 3,
    "start_time": "2024-04-14T21:26:35.418Z"
   },
   {
    "duration": 5899,
    "start_time": "2024-04-14T21:26:35.422Z"
   },
   {
    "duration": 2,
    "start_time": "2024-04-14T21:26:41.323Z"
   },
   {
    "duration": 73,
    "start_time": "2024-04-14T21:27:11.035Z"
   },
   {
    "duration": 730,
    "start_time": "2024-04-14T21:27:24.571Z"
   },
   {
    "duration": 5823,
    "start_time": "2024-04-14T21:31:34.636Z"
   },
   {
    "duration": 492,
    "start_time": "2024-04-14T21:52:01.507Z"
   },
   {
    "duration": 11,
    "start_time": "2024-04-14T21:52:02.000Z"
   },
   {
    "duration": 4216,
    "start_time": "2024-04-14T21:52:02.012Z"
   },
   {
    "duration": 1288,
    "start_time": "2024-04-14T21:52:06.230Z"
   },
   {
    "duration": 1105,
    "start_time": "2024-04-14T21:52:07.520Z"
   },
   {
    "duration": 1391,
    "start_time": "2024-04-14T21:52:08.627Z"
   },
   {
    "duration": 1329,
    "start_time": "2024-04-14T21:52:10.020Z"
   },
   {
    "duration": 1188,
    "start_time": "2024-04-14T21:52:11.351Z"
   },
   {
    "duration": 1269,
    "start_time": "2024-04-14T21:52:12.541Z"
   },
   {
    "duration": 3,
    "start_time": "2024-04-14T21:52:13.811Z"
   },
   {
    "duration": 6095,
    "start_time": "2024-04-14T21:52:13.815Z"
   },
   {
    "duration": 2,
    "start_time": "2024-04-14T21:52:19.912Z"
   },
   {
    "duration": 540,
    "start_time": "2024-04-16T13:38:27.951Z"
   },
   {
    "duration": 78,
    "start_time": "2024-04-16T13:38:28.493Z"
   },
   {
    "duration": 4109,
    "start_time": "2024-04-16T13:38:28.572Z"
   },
   {
    "duration": 540,
    "start_time": "2024-04-16T13:38:32.682Z"
   },
   {
    "duration": 556,
    "start_time": "2024-04-16T13:38:33.224Z"
   },
   {
    "duration": 522,
    "start_time": "2024-04-16T13:38:33.782Z"
   },
   {
    "duration": 558,
    "start_time": "2024-04-16T13:38:34.306Z"
   },
   {
    "duration": 524,
    "start_time": "2024-04-16T13:38:34.866Z"
   },
   {
    "duration": 561,
    "start_time": "2024-04-16T13:38:35.392Z"
   },
   {
    "duration": 3,
    "start_time": "2024-04-16T13:38:35.954Z"
   },
   {
    "duration": 5142,
    "start_time": "2024-04-16T13:38:35.958Z"
   },
   {
    "duration": 3900,
    "start_time": "2024-04-16T13:38:41.102Z"
   },
   {
    "duration": 555,
    "start_time": "2024-04-18T15:05:20.318Z"
   },
   {
    "duration": 10,
    "start_time": "2024-04-18T15:05:20.875Z"
   },
   {
    "duration": 3952,
    "start_time": "2024-04-18T15:05:20.888Z"
   },
   {
    "duration": 1072,
    "start_time": "2024-04-18T15:05:24.842Z"
   },
   {
    "duration": 1129,
    "start_time": "2024-04-18T15:05:25.916Z"
   },
   {
    "duration": 998,
    "start_time": "2024-04-18T15:05:27.046Z"
   },
   {
    "duration": 988,
    "start_time": "2024-04-18T15:05:28.046Z"
   },
   {
    "duration": 1023,
    "start_time": "2024-04-18T15:05:29.036Z"
   },
   {
    "duration": 1288,
    "start_time": "2024-04-18T15:05:30.060Z"
   },
   {
    "duration": 3,
    "start_time": "2024-04-18T15:05:31.350Z"
   },
   {
    "duration": 5506,
    "start_time": "2024-04-18T15:05:31.355Z"
   },
   {
    "duration": 2,
    "start_time": "2024-04-18T15:05:36.863Z"
   },
   {
    "duration": 579,
    "start_time": "2024-04-18T15:06:06.955Z"
   },
   {
    "duration": 11,
    "start_time": "2024-04-18T15:06:07.536Z"
   },
   {
    "duration": 3990,
    "start_time": "2024-04-18T15:06:07.559Z"
   },
   {
    "duration": 1154,
    "start_time": "2024-04-18T15:06:11.551Z"
   },
   {
    "duration": 1128,
    "start_time": "2024-04-18T15:06:12.707Z"
   },
   {
    "duration": 945,
    "start_time": "2024-04-18T15:06:13.837Z"
   },
   {
    "duration": 1162,
    "start_time": "2024-04-18T15:06:14.783Z"
   },
   {
    "duration": 987,
    "start_time": "2024-04-18T15:06:15.947Z"
   },
   {
    "duration": 985,
    "start_time": "2024-04-18T15:06:16.936Z"
   },
   {
    "duration": 3,
    "start_time": "2024-04-18T15:06:17.923Z"
   },
   {
    "duration": 5430,
    "start_time": "2024-04-18T15:06:17.927Z"
   },
   {
    "duration": 2,
    "start_time": "2024-04-18T15:06:23.359Z"
   },
   {
    "duration": 521,
    "start_time": "2024-04-18T15:24:05.556Z"
   },
   {
    "duration": 10,
    "start_time": "2024-04-18T15:24:06.079Z"
   },
   {
    "duration": 3842,
    "start_time": "2024-04-18T15:24:06.090Z"
   },
   {
    "duration": 1115,
    "start_time": "2024-04-18T15:24:09.933Z"
   },
   {
    "duration": 976,
    "start_time": "2024-04-18T15:24:11.050Z"
   },
   {
    "duration": 1019,
    "start_time": "2024-04-18T15:24:12.028Z"
   },
   {
    "duration": 984,
    "start_time": "2024-04-18T15:24:13.049Z"
   },
   {
    "duration": 1342,
    "start_time": "2024-04-18T15:24:14.035Z"
   },
   {
    "duration": 1128,
    "start_time": "2024-04-18T15:24:15.379Z"
   },
   {
    "duration": 3,
    "start_time": "2024-04-18T15:24:16.508Z"
   },
   {
    "duration": 5479,
    "start_time": "2024-04-18T15:24:16.512Z"
   },
   {
    "duration": 2,
    "start_time": "2024-04-18T15:24:21.992Z"
   },
   {
    "duration": 62,
    "start_time": "2024-04-19T11:20:03.551Z"
   },
   {
    "duration": 561,
    "start_time": "2024-04-19T11:53:17.993Z"
   },
   {
    "duration": 11,
    "start_time": "2024-04-19T11:53:18.556Z"
   },
   {
    "duration": 4257,
    "start_time": "2024-04-19T11:53:18.573Z"
   },
   {
    "duration": 1195,
    "start_time": "2024-04-19T11:53:22.832Z"
   },
   {
    "duration": 1299,
    "start_time": "2024-04-19T11:53:24.029Z"
   },
   {
    "duration": 1400,
    "start_time": "2024-04-19T11:53:25.330Z"
   },
   {
    "duration": 1506,
    "start_time": "2024-04-19T11:53:26.732Z"
   },
   {
    "duration": 1412,
    "start_time": "2024-04-19T11:53:28.240Z"
   },
   {
    "duration": 1314,
    "start_time": "2024-04-19T11:53:29.654Z"
   },
   {
    "duration": 3,
    "start_time": "2024-04-19T11:53:30.970Z"
   },
   {
    "duration": 6253,
    "start_time": "2024-04-19T11:53:30.974Z"
   },
   {
    "duration": 2,
    "start_time": "2024-04-19T11:53:37.229Z"
   },
   {
    "duration": 533,
    "start_time": "2024-04-19T14:12:22.251Z"
   },
   {
    "duration": 11,
    "start_time": "2024-04-19T14:12:22.786Z"
   },
   {
    "duration": 4006,
    "start_time": "2024-04-19T14:12:22.799Z"
   },
   {
    "duration": 1173,
    "start_time": "2024-04-19T14:12:26.807Z"
   },
   {
    "duration": 901,
    "start_time": "2024-04-19T14:12:27.983Z"
   },
   {
    "duration": 1024,
    "start_time": "2024-04-19T14:12:28.886Z"
   },
   {
    "duration": 1201,
    "start_time": "2024-04-19T14:12:29.912Z"
   },
   {
    "duration": 1150,
    "start_time": "2024-04-19T14:12:31.116Z"
   },
   {
    "duration": 1127,
    "start_time": "2024-04-19T14:12:32.268Z"
   },
   {
    "duration": 4,
    "start_time": "2024-04-19T14:12:33.397Z"
   },
   {
    "duration": 5397,
    "start_time": "2024-04-19T14:12:33.403Z"
   },
   {
    "duration": 2,
    "start_time": "2024-04-19T14:12:38.802Z"
   },
   {
    "duration": 529,
    "start_time": "2024-04-19T14:21:46.349Z"
   },
   {
    "duration": 12,
    "start_time": "2024-04-19T14:21:46.879Z"
   },
   {
    "duration": 4078,
    "start_time": "2024-04-19T14:21:46.892Z"
   },
   {
    "duration": 1344,
    "start_time": "2024-04-19T14:21:50.972Z"
   },
   {
    "duration": 1210,
    "start_time": "2024-04-19T14:21:52.319Z"
   },
   {
    "duration": 1041,
    "start_time": "2024-04-19T14:21:53.530Z"
   },
   {
    "duration": 1885,
    "start_time": "2024-04-19T14:21:54.573Z"
   },
   {
    "duration": 1018,
    "start_time": "2024-04-19T14:21:56.459Z"
   },
   {
    "duration": 1130,
    "start_time": "2024-04-19T14:21:57.479Z"
   },
   {
    "duration": 3,
    "start_time": "2024-04-19T14:21:58.611Z"
   },
   {
    "duration": 5606,
    "start_time": "2024-04-19T14:21:58.615Z"
   },
   {
    "duration": 3,
    "start_time": "2024-04-19T14:22:04.222Z"
   }
  ],
  "kernelspec": {
   "display_name": "Python 3 (ipykernel)",
   "language": "python",
   "name": "python3"
  },
  "language_info": {
   "codemirror_mode": {
    "name": "ipython",
    "version": 3
   },
   "file_extension": ".py",
   "mimetype": "text/x-python",
   "name": "python",
   "nbconvert_exporter": "python",
   "pygments_lexer": "ipython3",
   "version": "3.11.5"
  },
  "toc": {
   "base_numbering": 1,
   "nav_menu": {
    "height": "108px",
    "width": "270.4px"
   },
   "number_sections": true,
   "sideBar": true,
   "skip_h1_title": true,
   "title_cell": "Table of Contents",
   "title_sidebar": "Contents",
   "toc_cell": false,
   "toc_position": {},
   "toc_section_display": true,
   "toc_window_display": false
  }
 },
 "nbformat": 4,
 "nbformat_minor": 5
}
