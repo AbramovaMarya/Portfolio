{
 "cells": [
  {
   "cell_type": "markdown",
   "metadata": {},
   "source": [
    "# Проведение и статистическая обработка А/В-теста."
   ]
  },
  {
   "cell_type": "markdown",
   "metadata": {},
   "source": [
    "Отдел маркетинга крупного интернет-магазина подготовил список гипотез для увеличения выручки и провёл А/В-тест одной из них.\n",
    "\n",
    "# Задачи:\n",
    "\n",
    "- приоритезирвать гипотезы, применив фреймворк ICE/RICE, и объяснить результат;\n",
    "- проанализировать результат запущенного А/В-теста, принять аргументированное решение об остановке или продолжении теста.\n",
    "\n",
    "# Описание данных:\n",
    "Данные представлены тремя файлами.\n",
    "\n",
    "Первый файл необходим для приоретизации гипотез и содержит краткое описание гипотезы, охват пользователей, влияние на пользователей, уверенность в гипотезе, затраты ресурсов на проверку гипотезы. Все параметры исчисляются по 10-балльной шкале. Чем больше значение Efforts, тем дороже проверка гипотезы.\n",
    "\n",
    "Данные для запуска А/В-теста и его обработки состоят из двух файлов с информацией о заказах пользователей (идентификатор заказа, идентификатор пользователя, дата и выручкой заказа,  группа A/B-теста, в которую попал заказ) и информацией о группах А/В-теста (дата, группа A/B-теста, количество пользователей в указанную дату в указанной группе A/B-теста)."
   ]
  },
  {
   "cell_type": "markdown",
   "metadata": {},
   "source": [
    "## Загрузка данных"
   ]
  },
  {
   "cell_type": "code",
   "execution_count": 1,
   "metadata": {},
   "outputs": [],
   "source": [
    "# Импортируем необходимые библиотеки:\n",
    "import pandas as pd\n",
    "import numpy as np\n",
    "import scipy.stats as st\n",
    "from scipy.stats import binom\n",
    "import datetime as dt\n",
    "import matplotlib.pyplot as plt\n",
    "import seaborn as sns\n",
    "\n",
    "\n",
    "# Сделаем графики более чёткими и читаемыми:\n",
    "%config InlineBackend.figure_format = 'retina'\n",
    "pd.options.display.max_colwidth = 1\n",
    "\n",
    "# Включим отображение всех столбцов для ознакомления с таблицами:\n",
    "pd.set_option('display.max_column', None)"
   ]
  },
  {
   "cell_type": "code",
   "execution_count": 2,
   "metadata": {},
   "outputs": [],
   "source": [
    "# считаем файлы и сохраним их в переменные аналогичные названиям файлов для удобства: \n",
    "try:\n",
    "    hypothesis = pd.read_csv('.csv')\n",
    "    orders = pd.read_csv('.csv')\n",
    "    visitors = pd.read_csv('.csv')\n",
    "except:\n",
    "    hypothesis = pd.read_csv(r\".csv\")\n",
    "    orders = pd.read_csv(r\".csv\")\n",
    "    visitors = pd.read_csv(r\".csv\")"
   ]
  },
  {
   "cell_type": "markdown",
   "metadata": {},
   "source": [
    "## Предварительная обработка данных"
   ]
  },
  {
   "cell_type": "markdown",
   "metadata": {},
   "source": [
    "Проверим характеристики данных в таблицах.\n",
    "\n",
    "Так как таблиц три, создадим функцию, которая в каждом случае выведет:\n",
    "\n",
    "- начальные строки таблицы, чтобы соотнести записанные данные с дальнейшими характеристиками,\n",
    "- техническую информацию о таблице, откуда мы получим представление о её размере, типах данных столбцов, наличии и размере количества пропусков,\n",
    "- количество явных дубликатов."
   ]
  },
  {
   "cell_type": "code",
   "execution_count": 3,
   "metadata": {},
   "outputs": [],
   "source": [
    "def first_analyse(table):\n",
    "    display(table.head()) # выведем часть таблицы\n",
    "    print()\n",
    "    table.info() # выведем техническую информацию о таблице\n",
    "    print()\n",
    "    print('Количество дубликатов: ', table.duplicated().sum()) # подсчистем и выведем количество дубликатов"
   ]
  },
  {
   "cell_type": "code",
   "execution_count": 4,
   "metadata": {},
   "outputs": [
    {
     "data": {
      "text/html": [
       "<div>\n",
       "<style scoped>\n",
       "    .dataframe tbody tr th:only-of-type {\n",
       "        vertical-align: middle;\n",
       "    }\n",
       "\n",
       "    .dataframe tbody tr th {\n",
       "        vertical-align: top;\n",
       "    }\n",
       "\n",
       "    .dataframe thead th {\n",
       "        text-align: right;\n",
       "    }\n",
       "</style>\n",
       "<table border=\"1\" class=\"dataframe\">\n",
       "  <thead>\n",
       "    <tr style=\"text-align: right;\">\n",
       "      <th></th>\n",
       "      <th>Hypothesis</th>\n",
       "      <th>Reach</th>\n",
       "      <th>Impact</th>\n",
       "      <th>Confidence</th>\n",
       "      <th>Efforts</th>\n",
       "    </tr>\n",
       "  </thead>\n",
       "  <tbody>\n",
       "    <tr>\n",
       "      <th>0</th>\n",
       "      <td>Добавить два новых канала привлечения трафика, что позволит привлекать на 30% больше пользователей</td>\n",
       "      <td>3</td>\n",
       "      <td>10</td>\n",
       "      <td>8</td>\n",
       "      <td>6</td>\n",
       "    </tr>\n",
       "    <tr>\n",
       "      <th>1</th>\n",
       "      <td>Запустить собственную службу доставки, что сократит срок доставки заказов</td>\n",
       "      <td>2</td>\n",
       "      <td>5</td>\n",
       "      <td>4</td>\n",
       "      <td>10</td>\n",
       "    </tr>\n",
       "    <tr>\n",
       "      <th>2</th>\n",
       "      <td>Добавить блоки рекомендаций товаров на сайт интернет магазина, чтобы повысить конверсию и средний чек заказа</td>\n",
       "      <td>8</td>\n",
       "      <td>3</td>\n",
       "      <td>7</td>\n",
       "      <td>3</td>\n",
       "    </tr>\n",
       "    <tr>\n",
       "      <th>3</th>\n",
       "      <td>Изменить структура категорий, что увеличит конверсию, т.к. пользователи быстрее найдут нужный товар</td>\n",
       "      <td>8</td>\n",
       "      <td>3</td>\n",
       "      <td>3</td>\n",
       "      <td>8</td>\n",
       "    </tr>\n",
       "    <tr>\n",
       "      <th>4</th>\n",
       "      <td>Изменить цвет фона главной страницы, чтобы увеличить вовлеченность пользователей</td>\n",
       "      <td>3</td>\n",
       "      <td>1</td>\n",
       "      <td>1</td>\n",
       "      <td>1</td>\n",
       "    </tr>\n",
       "  </tbody>\n",
       "</table>\n",
       "</div>"
      ],
      "text/plain": [
       "                                                                                                     Hypothesis  \\\n",
       "0  Добавить два новых канала привлечения трафика, что позволит привлекать на 30% больше пользователей             \n",
       "1  Запустить собственную службу доставки, что сократит срок доставки заказов                                      \n",
       "2  Добавить блоки рекомендаций товаров на сайт интернет магазина, чтобы повысить конверсию и средний чек заказа   \n",
       "3  Изменить структура категорий, что увеличит конверсию, т.к. пользователи быстрее найдут нужный товар            \n",
       "4  Изменить цвет фона главной страницы, чтобы увеличить вовлеченность пользователей                               \n",
       "\n",
       "   Reach  Impact  Confidence  Efforts  \n",
       "0  3      10      8           6        \n",
       "1  2      5       4           10       \n",
       "2  8      3       7           3        \n",
       "3  8      3       3           8        \n",
       "4  3      1       1           1        "
      ]
     },
     "metadata": {},
     "output_type": "display_data"
    },
    {
     "name": "stdout",
     "output_type": "stream",
     "text": [
      "\n",
      "<class 'pandas.core.frame.DataFrame'>\n",
      "RangeIndex: 9 entries, 0 to 8\n",
      "Data columns (total 5 columns):\n",
      " #   Column      Non-Null Count  Dtype \n",
      "---  ------      --------------  ----- \n",
      " 0   Hypothesis  9 non-null      object\n",
      " 1   Reach       9 non-null      int64 \n",
      " 2   Impact      9 non-null      int64 \n",
      " 3   Confidence  9 non-null      int64 \n",
      " 4   Efforts     9 non-null      int64 \n",
      "dtypes: int64(4), object(1)\n",
      "memory usage: 488.0+ bytes\n",
      "\n",
      "Количество дубликатов:  0\n"
     ]
    }
   ],
   "source": [
    "first_analyse(hypothesis)"
   ]
  },
  {
   "cell_type": "markdown",
   "metadata": {},
   "source": [
    "Таблица не имеет дубликатов и пропусков, но названия столбцов следует изменить на удобный для python."
   ]
  },
  {
   "cell_type": "code",
   "execution_count": 5,
   "metadata": {},
   "outputs": [],
   "source": [
    "hypothesis.columns = ['hypothesis', 'reach', 'impact', 'confidence', 'efforts']"
   ]
  },
  {
   "cell_type": "markdown",
   "metadata": {},
   "source": [
    "Проверим данные второй таблицы, содержащей характристики заказов."
   ]
  },
  {
   "cell_type": "code",
   "execution_count": 6,
   "metadata": {},
   "outputs": [
    {
     "data": {
      "text/html": [
       "<div>\n",
       "<style scoped>\n",
       "    .dataframe tbody tr th:only-of-type {\n",
       "        vertical-align: middle;\n",
       "    }\n",
       "\n",
       "    .dataframe tbody tr th {\n",
       "        vertical-align: top;\n",
       "    }\n",
       "\n",
       "    .dataframe thead th {\n",
       "        text-align: right;\n",
       "    }\n",
       "</style>\n",
       "<table border=\"1\" class=\"dataframe\">\n",
       "  <thead>\n",
       "    <tr style=\"text-align: right;\">\n",
       "      <th></th>\n",
       "      <th>transactionId</th>\n",
       "      <th>visitorId</th>\n",
       "      <th>date</th>\n",
       "      <th>revenue</th>\n",
       "      <th>group</th>\n",
       "    </tr>\n",
       "  </thead>\n",
       "  <tbody>\n",
       "    <tr>\n",
       "      <th>0</th>\n",
       "      <td>3667963787</td>\n",
       "      <td>3312258926</td>\n",
       "      <td>2019-08-15</td>\n",
       "      <td>1650</td>\n",
       "      <td>B</td>\n",
       "    </tr>\n",
       "    <tr>\n",
       "      <th>1</th>\n",
       "      <td>2804400009</td>\n",
       "      <td>3642806036</td>\n",
       "      <td>2019-08-15</td>\n",
       "      <td>730</td>\n",
       "      <td>B</td>\n",
       "    </tr>\n",
       "    <tr>\n",
       "      <th>2</th>\n",
       "      <td>2961555356</td>\n",
       "      <td>4069496402</td>\n",
       "      <td>2019-08-15</td>\n",
       "      <td>400</td>\n",
       "      <td>A</td>\n",
       "    </tr>\n",
       "    <tr>\n",
       "      <th>3</th>\n",
       "      <td>3797467345</td>\n",
       "      <td>1196621759</td>\n",
       "      <td>2019-08-15</td>\n",
       "      <td>9759</td>\n",
       "      <td>B</td>\n",
       "    </tr>\n",
       "    <tr>\n",
       "      <th>4</th>\n",
       "      <td>2282983706</td>\n",
       "      <td>2322279887</td>\n",
       "      <td>2019-08-15</td>\n",
       "      <td>2308</td>\n",
       "      <td>B</td>\n",
       "    </tr>\n",
       "  </tbody>\n",
       "</table>\n",
       "</div>"
      ],
      "text/plain": [
       "   transactionId   visitorId        date  revenue group\n",
       "0  3667963787     3312258926  2019-08-15  1650     B   \n",
       "1  2804400009     3642806036  2019-08-15  730      B   \n",
       "2  2961555356     4069496402  2019-08-15  400      A   \n",
       "3  3797467345     1196621759  2019-08-15  9759     B   \n",
       "4  2282983706     2322279887  2019-08-15  2308     B   "
      ]
     },
     "metadata": {},
     "output_type": "display_data"
    },
    {
     "name": "stdout",
     "output_type": "stream",
     "text": [
      "\n",
      "<class 'pandas.core.frame.DataFrame'>\n",
      "RangeIndex: 1197 entries, 0 to 1196\n",
      "Data columns (total 5 columns):\n",
      " #   Column         Non-Null Count  Dtype \n",
      "---  ------         --------------  ----- \n",
      " 0   transactionId  1197 non-null   int64 \n",
      " 1   visitorId      1197 non-null   int64 \n",
      " 2   date           1197 non-null   object\n",
      " 3   revenue        1197 non-null   int64 \n",
      " 4   group          1197 non-null   object\n",
      "dtypes: int64(3), object(2)\n",
      "memory usage: 46.9+ KB\n",
      "\n",
      "Количество дубликатов:  0\n"
     ]
    }
   ],
   "source": [
    "first_analyse(orders)"
   ]
  },
  {
   "cell_type": "markdown",
   "metadata": {},
   "source": [
    "Таблица не имеет явных дубликатов и пропусков, но названия столбцов не удобны для работы на python, а тип даты заказа не соответствует datetime."
   ]
  },
  {
   "cell_type": "code",
   "execution_count": 7,
   "metadata": {},
   "outputs": [],
   "source": [
    "orders.columns = ['transaction_id', 'visitor_id', 'date', 'revenue', 'group']"
   ]
  },
  {
   "cell_type": "code",
   "execution_count": 8,
   "metadata": {},
   "outputs": [
    {
     "data": {
      "text/plain": [
       "[numpy.datetime64('2019-08-01T00:00:00.000000000'),\n",
       " numpy.datetime64('2019-08-02T00:00:00.000000000'),\n",
       " numpy.datetime64('2019-08-03T00:00:00.000000000'),\n",
       " numpy.datetime64('2019-08-04T00:00:00.000000000'),\n",
       " numpy.datetime64('2019-08-05T00:00:00.000000000'),\n",
       " numpy.datetime64('2019-08-06T00:00:00.000000000'),\n",
       " numpy.datetime64('2019-08-07T00:00:00.000000000'),\n",
       " numpy.datetime64('2019-08-08T00:00:00.000000000'),\n",
       " numpy.datetime64('2019-08-09T00:00:00.000000000'),\n",
       " numpy.datetime64('2019-08-10T00:00:00.000000000'),\n",
       " numpy.datetime64('2019-08-11T00:00:00.000000000'),\n",
       " numpy.datetime64('2019-08-12T00:00:00.000000000'),\n",
       " numpy.datetime64('2019-08-13T00:00:00.000000000'),\n",
       " numpy.datetime64('2019-08-14T00:00:00.000000000'),\n",
       " numpy.datetime64('2019-08-15T00:00:00.000000000'),\n",
       " numpy.datetime64('2019-08-16T00:00:00.000000000'),\n",
       " numpy.datetime64('2019-08-17T00:00:00.000000000'),\n",
       " numpy.datetime64('2019-08-18T00:00:00.000000000'),\n",
       " numpy.datetime64('2019-08-19T00:00:00.000000000'),\n",
       " numpy.datetime64('2019-08-20T00:00:00.000000000'),\n",
       " numpy.datetime64('2019-08-21T00:00:00.000000000'),\n",
       " numpy.datetime64('2019-08-22T00:00:00.000000000'),\n",
       " numpy.datetime64('2019-08-23T00:00:00.000000000'),\n",
       " numpy.datetime64('2019-08-24T00:00:00.000000000'),\n",
       " numpy.datetime64('2019-08-25T00:00:00.000000000'),\n",
       " numpy.datetime64('2019-08-26T00:00:00.000000000'),\n",
       " numpy.datetime64('2019-08-27T00:00:00.000000000'),\n",
       " numpy.datetime64('2019-08-28T00:00:00.000000000'),\n",
       " numpy.datetime64('2019-08-29T00:00:00.000000000'),\n",
       " numpy.datetime64('2019-08-30T00:00:00.000000000'),\n",
       " numpy.datetime64('2019-08-31T00:00:00.000000000')]"
      ]
     },
     "execution_count": 8,
     "metadata": {},
     "output_type": "execute_result"
    }
   ],
   "source": [
    "orders['date'] = orders['date'].map(lambda x: dt.datetime.strptime(x, '%Y-%m-%d'))\n",
    "sorted(orders['date'].unique())"
   ]
  },
  {
   "cell_type": "markdown",
   "metadata": {},
   "source": [
    "Данные не имеют временного разраыва, что позволит избежать возможных ошибок. Рассмотрим наличие скрытых дубликатов по столбцу с id покупателей."
   ]
  },
  {
   "cell_type": "code",
   "execution_count": 9,
   "metadata": {},
   "outputs": [
    {
     "data": {
      "text/plain": [
       "166"
      ]
     },
     "execution_count": 9,
     "metadata": {},
     "output_type": "execute_result"
    }
   ],
   "source": [
    "orders['visitor_id'].duplicated().sum()"
   ]
  },
  {
   "cell_type": "code",
   "execution_count": 10,
   "metadata": {},
   "outputs": [
    {
     "data": {
      "text/html": [
       "<div>\n",
       "<style scoped>\n",
       "    .dataframe tbody tr th:only-of-type {\n",
       "        vertical-align: middle;\n",
       "    }\n",
       "\n",
       "    .dataframe tbody tr th {\n",
       "        vertical-align: top;\n",
       "    }\n",
       "\n",
       "    .dataframe thead th {\n",
       "        text-align: right;\n",
       "    }\n",
       "</style>\n",
       "<table border=\"1\" class=\"dataframe\">\n",
       "  <thead>\n",
       "    <tr style=\"text-align: right;\">\n",
       "      <th></th>\n",
       "      <th>transaction_id</th>\n",
       "      <th>visitor_id</th>\n",
       "      <th>date</th>\n",
       "      <th>revenue</th>\n",
       "      <th>group</th>\n",
       "    </tr>\n",
       "  </thead>\n",
       "  <tbody>\n",
       "    <tr>\n",
       "      <th>703</th>\n",
       "      <td>4293855558</td>\n",
       "      <td>8300375</td>\n",
       "      <td>2019-08-07</td>\n",
       "      <td>1790</td>\n",
       "      <td>A</td>\n",
       "    </tr>\n",
       "    <tr>\n",
       "      <th>823</th>\n",
       "      <td>2971973105</td>\n",
       "      <td>199603092</td>\n",
       "      <td>2019-08-27</td>\n",
       "      <td>2790</td>\n",
       "      <td>A</td>\n",
       "    </tr>\n",
       "    <tr>\n",
       "      <th>246</th>\n",
       "      <td>437656952</td>\n",
       "      <td>199603092</td>\n",
       "      <td>2019-08-02</td>\n",
       "      <td>3488</td>\n",
       "      <td>B</td>\n",
       "    </tr>\n",
       "    <tr>\n",
       "      <th>1102</th>\n",
       "      <td>1941707234</td>\n",
       "      <td>199603092</td>\n",
       "      <td>2019-08-12</td>\n",
       "      <td>6438</td>\n",
       "      <td>A</td>\n",
       "    </tr>\n",
       "    <tr>\n",
       "      <th>134</th>\n",
       "      <td>62794304</td>\n",
       "      <td>199603092</td>\n",
       "      <td>2019-08-22</td>\n",
       "      <td>6976</td>\n",
       "      <td>A</td>\n",
       "    </tr>\n",
       "    <tr>\n",
       "      <th>...</th>\n",
       "      <td>...</td>\n",
       "      <td>...</td>\n",
       "      <td>...</td>\n",
       "      <td>...</td>\n",
       "      <td>...</td>\n",
       "    </tr>\n",
       "    <tr>\n",
       "      <th>873</th>\n",
       "      <td>2519737434</td>\n",
       "      <td>4256040402</td>\n",
       "      <td>2019-08-08</td>\n",
       "      <td>58220</td>\n",
       "      <td>B</td>\n",
       "    </tr>\n",
       "    <tr>\n",
       "      <th>901</th>\n",
       "      <td>3402467119</td>\n",
       "      <td>4256040402</td>\n",
       "      <td>2019-08-27</td>\n",
       "      <td>1630</td>\n",
       "      <td>A</td>\n",
       "    </tr>\n",
       "    <tr>\n",
       "      <th>187</th>\n",
       "      <td>2048878902</td>\n",
       "      <td>4256040402</td>\n",
       "      <td>2019-08-17</td>\n",
       "      <td>1550</td>\n",
       "      <td>A</td>\n",
       "    </tr>\n",
       "    <tr>\n",
       "      <th>114</th>\n",
       "      <td>1120327437</td>\n",
       "      <td>4256040402</td>\n",
       "      <td>2019-08-01</td>\n",
       "      <td>5800</td>\n",
       "      <td>A</td>\n",
       "    </tr>\n",
       "    <tr>\n",
       "      <th>682</th>\n",
       "      <td>1216533772</td>\n",
       "      <td>4266935830</td>\n",
       "      <td>2019-08-29</td>\n",
       "      <td>78990</td>\n",
       "      <td>B</td>\n",
       "    </tr>\n",
       "  </tbody>\n",
       "</table>\n",
       "<p>166 rows × 5 columns</p>\n",
       "</div>"
      ],
      "text/plain": [
       "      transaction_id  visitor_id       date  revenue group\n",
       "703   4293855558      8300375    2019-08-07  1790     A   \n",
       "823   2971973105      199603092  2019-08-27  2790     A   \n",
       "246   437656952       199603092  2019-08-02  3488     B   \n",
       "1102  1941707234      199603092  2019-08-12  6438     A   \n",
       "134   62794304        199603092  2019-08-22  6976     A   \n",
       "...        ...              ...         ...   ...    ..   \n",
       "873   2519737434      4256040402 2019-08-08  58220    B   \n",
       "901   3402467119      4256040402 2019-08-27  1630     A   \n",
       "187   2048878902      4256040402 2019-08-17  1550     A   \n",
       "114   1120327437      4256040402 2019-08-01  5800     A   \n",
       "682   1216533772      4266935830 2019-08-29  78990    B   \n",
       "\n",
       "[166 rows x 5 columns]"
      ]
     },
     "execution_count": 10,
     "metadata": {},
     "output_type": "execute_result"
    }
   ],
   "source": [
    "orders[orders.duplicated('visitor_id')].sort_values(by='visitor_id')"
   ]
  },
  {
   "cell_type": "markdown",
   "metadata": {},
   "source": [
    "В данных о покупках выявлены постоянные покупатели, которые за время проведения теста совершили несколько покупок. Проверим таблицу на попадание таких пользователей в разные группы. "
   ]
  },
  {
   "cell_type": "code",
   "execution_count": 11,
   "metadata": {},
   "outputs": [
    {
     "name": "stdout",
     "output_type": "stream",
     "text": [
      "Количество клиентов, попавших в обе группы 58 или 6 %\n"
     ]
    }
   ],
   "source": [
    "users_in_groups = orders.groupby('visitor_id').agg({'group':'nunique'}).query('group>1').reset_index()\n",
    "\n",
    "print('Количество клиентов, попавших в обе группы', len(users_in_groups), 'или', \n",
    "     round(100*len(users_in_groups)/len(orders['visitor_id'].unique())), '%')\n"
   ]
  },
  {
   "cell_type": "code",
   "execution_count": 12,
   "metadata": {},
   "outputs": [
    {
     "name": "stdout",
     "output_type": "stream",
     "text": [
      "Сумма заказов, совершённых ошибочными клиентами 1558935 руб или 15.6 %\n",
      "Количество заказов, совершённых ошибочными клиентами 181 или 15.12 %\n"
     ]
    }
   ],
   "source": [
    "orders_in_two_groups = orders[orders['visitor_id'].isin(users_in_groups['visitor_id'])]\n",
    "\n",
    "print('Сумма заказов, совершённых ошибочными клиентами', orders_in_two_groups['revenue'].sum(), 'руб или',\n",
    "        round(100*orders_in_two_groups['revenue'].sum()/orders['revenue'].sum(), 2), '%'\n",
    "    )\n",
    "print('Количество заказов, совершённых ошибочными клиентами', orders_in_two_groups['revenue'].count(), 'или',\n",
    "        round(100*len(orders_in_two_groups['revenue'])/len(orders['revenue']), 2), '%'\n",
    "    )"
   ]
  },
  {
   "cell_type": "markdown",
   "metadata": {},
   "source": [
    "В обе группы попали 58 пользователей, что составляет 6% всего числа клиентов за месяц исследования. Эти ошибочные пользователи совершили 181 заказ (15% всего количества заказов) на более 1,5 млн рублей и скорее всего являются постоянными клиентами. Это большая сумма и существенная доля заказов, но в виду проводимого теста неизвестно, какая из исследуемых версий повлияла на их решения, что может сказаться на выявлении закономерностей и мешать однозначной интерпритации результатов. \n",
    "\n",
    "Однако удаление этих пользователей и их заказов так же может плохо повлиять на результаты, так как потеря данных будет весьма существенна. К тому же, тогда необходимо будет вручную удалить их данные из таблицы visitors, которая по дням характеризует количество участников групп теста.\n",
    "\n",
    "Кроме того, необходимо проверить данные на аномалии, в результате очистки от которых таких перекрёстных постоянных клиентов станет меньше.\n",
    "\n",
    "Исходя из вышеизложенного, данные пересекающихся в группах пользователей не следует исключать из исследования. Однако можно обратить внимание на этих пользователей и, если они являются постоянными клиентами, можно провести среди них анкетирование или опрос с оценкой проведённых измениений."
   ]
  },
  {
   "cell_type": "markdown",
   "metadata": {},
   "source": [
    "Рассмотрим последнюю таблицу на наличие технических ошибок."
   ]
  },
  {
   "cell_type": "code",
   "execution_count": 13,
   "metadata": {},
   "outputs": [
    {
     "data": {
      "text/html": [
       "<div>\n",
       "<style scoped>\n",
       "    .dataframe tbody tr th:only-of-type {\n",
       "        vertical-align: middle;\n",
       "    }\n",
       "\n",
       "    .dataframe tbody tr th {\n",
       "        vertical-align: top;\n",
       "    }\n",
       "\n",
       "    .dataframe thead th {\n",
       "        text-align: right;\n",
       "    }\n",
       "</style>\n",
       "<table border=\"1\" class=\"dataframe\">\n",
       "  <thead>\n",
       "    <tr style=\"text-align: right;\">\n",
       "      <th></th>\n",
       "      <th>date</th>\n",
       "      <th>group</th>\n",
       "      <th>visitors</th>\n",
       "    </tr>\n",
       "  </thead>\n",
       "  <tbody>\n",
       "    <tr>\n",
       "      <th>0</th>\n",
       "      <td>2019-08-01</td>\n",
       "      <td>A</td>\n",
       "      <td>719</td>\n",
       "    </tr>\n",
       "    <tr>\n",
       "      <th>1</th>\n",
       "      <td>2019-08-02</td>\n",
       "      <td>A</td>\n",
       "      <td>619</td>\n",
       "    </tr>\n",
       "    <tr>\n",
       "      <th>2</th>\n",
       "      <td>2019-08-03</td>\n",
       "      <td>A</td>\n",
       "      <td>507</td>\n",
       "    </tr>\n",
       "    <tr>\n",
       "      <th>3</th>\n",
       "      <td>2019-08-04</td>\n",
       "      <td>A</td>\n",
       "      <td>717</td>\n",
       "    </tr>\n",
       "    <tr>\n",
       "      <th>4</th>\n",
       "      <td>2019-08-05</td>\n",
       "      <td>A</td>\n",
       "      <td>756</td>\n",
       "    </tr>\n",
       "  </tbody>\n",
       "</table>\n",
       "</div>"
      ],
      "text/plain": [
       "         date group  visitors\n",
       "0  2019-08-01  A     719     \n",
       "1  2019-08-02  A     619     \n",
       "2  2019-08-03  A     507     \n",
       "3  2019-08-04  A     717     \n",
       "4  2019-08-05  A     756     "
      ]
     },
     "metadata": {},
     "output_type": "display_data"
    },
    {
     "name": "stdout",
     "output_type": "stream",
     "text": [
      "\n",
      "<class 'pandas.core.frame.DataFrame'>\n",
      "RangeIndex: 62 entries, 0 to 61\n",
      "Data columns (total 3 columns):\n",
      " #   Column    Non-Null Count  Dtype \n",
      "---  ------    --------------  ----- \n",
      " 0   date      62 non-null     object\n",
      " 1   group     62 non-null     object\n",
      " 2   visitors  62 non-null     int64 \n",
      "dtypes: int64(1), object(2)\n",
      "memory usage: 1.6+ KB\n",
      "\n",
      "Количество дубликатов:  0\n"
     ]
    }
   ],
   "source": [
    "first_analyse(visitors)"
   ]
  },
  {
   "cell_type": "markdown",
   "metadata": {},
   "source": [
    "В этой таблице так же следует изменить тип данных столбца даты, который при выгрузке данных оказался object."
   ]
  },
  {
   "cell_type": "code",
   "execution_count": 14,
   "metadata": {},
   "outputs": [
    {
     "data": {
      "text/plain": [
       "[numpy.datetime64('2019-08-01T00:00:00.000000000'),\n",
       " numpy.datetime64('2019-08-02T00:00:00.000000000'),\n",
       " numpy.datetime64('2019-08-03T00:00:00.000000000'),\n",
       " numpy.datetime64('2019-08-04T00:00:00.000000000'),\n",
       " numpy.datetime64('2019-08-05T00:00:00.000000000'),\n",
       " numpy.datetime64('2019-08-06T00:00:00.000000000'),\n",
       " numpy.datetime64('2019-08-07T00:00:00.000000000'),\n",
       " numpy.datetime64('2019-08-08T00:00:00.000000000'),\n",
       " numpy.datetime64('2019-08-09T00:00:00.000000000'),\n",
       " numpy.datetime64('2019-08-10T00:00:00.000000000'),\n",
       " numpy.datetime64('2019-08-11T00:00:00.000000000'),\n",
       " numpy.datetime64('2019-08-12T00:00:00.000000000'),\n",
       " numpy.datetime64('2019-08-13T00:00:00.000000000'),\n",
       " numpy.datetime64('2019-08-14T00:00:00.000000000'),\n",
       " numpy.datetime64('2019-08-15T00:00:00.000000000'),\n",
       " numpy.datetime64('2019-08-16T00:00:00.000000000'),\n",
       " numpy.datetime64('2019-08-17T00:00:00.000000000'),\n",
       " numpy.datetime64('2019-08-18T00:00:00.000000000'),\n",
       " numpy.datetime64('2019-08-19T00:00:00.000000000'),\n",
       " numpy.datetime64('2019-08-20T00:00:00.000000000'),\n",
       " numpy.datetime64('2019-08-21T00:00:00.000000000'),\n",
       " numpy.datetime64('2019-08-22T00:00:00.000000000'),\n",
       " numpy.datetime64('2019-08-23T00:00:00.000000000'),\n",
       " numpy.datetime64('2019-08-24T00:00:00.000000000'),\n",
       " numpy.datetime64('2019-08-25T00:00:00.000000000'),\n",
       " numpy.datetime64('2019-08-26T00:00:00.000000000'),\n",
       " numpy.datetime64('2019-08-27T00:00:00.000000000'),\n",
       " numpy.datetime64('2019-08-28T00:00:00.000000000'),\n",
       " numpy.datetime64('2019-08-29T00:00:00.000000000'),\n",
       " numpy.datetime64('2019-08-30T00:00:00.000000000'),\n",
       " numpy.datetime64('2019-08-31T00:00:00.000000000')]"
      ]
     },
     "execution_count": 14,
     "metadata": {},
     "output_type": "execute_result"
    }
   ],
   "source": [
    "visitors['date'] = visitors['date'].map(lambda x: dt.datetime.strptime(x, '%Y-%m-%d'))\n",
    "sorted(visitors['date'].unique())"
   ]
  },
  {
   "cell_type": "markdown",
   "metadata": {},
   "source": [
    "Разрыва во временных данных нет, можно проводить анализ.\n",
    "\n",
    "**Вывод**\n",
    "\n",
    "На этапе предварительной обработки данных были выявлены и исправлены технические ошибки загрузки:\n",
    "\n",
    "- в таблице гипотез названия столбцов были приведены к нижнему регистру;\n",
    "- в таблице с данными о заказах были изменены названия столбцов и тип данных даты, обнаружены и оставлены без изменения данные постоянных покупателей с несколькими заказами;\n",
    "- в таблице с данными о группах тестирования был изменён тип данных столбца даты;\n",
    "- во всех таблица данные полные, без пропусков и дубликатов;\n",
    "- в обе группы попали 58 пользователей (6% всего числа клиентов за месяц исследования), которые совершили 181 заказ (15% всего количества заказов) на более 1,5 млн рублей (15,6% выручки). Это существенные доли данных, поэтому их результаты были сохранены."
   ]
  },
  {
   "cell_type": "markdown",
   "metadata": {},
   "source": [
    "## Приоретизация гипотез"
   ]
  },
  {
   "cell_type": "markdown",
   "metadata": {},
   "source": [
    "Ознакомимся с предложенными гипотезами и их характеристиками."
   ]
  },
  {
   "cell_type": "code",
   "execution_count": 15,
   "metadata": {},
   "outputs": [
    {
     "data": {
      "text/html": [
       "<div>\n",
       "<style scoped>\n",
       "    .dataframe tbody tr th:only-of-type {\n",
       "        vertical-align: middle;\n",
       "    }\n",
       "\n",
       "    .dataframe tbody tr th {\n",
       "        vertical-align: top;\n",
       "    }\n",
       "\n",
       "    .dataframe thead th {\n",
       "        text-align: right;\n",
       "    }\n",
       "</style>\n",
       "<table border=\"1\" class=\"dataframe\">\n",
       "  <thead>\n",
       "    <tr style=\"text-align: right;\">\n",
       "      <th></th>\n",
       "      <th>hypothesis</th>\n",
       "      <th>reach</th>\n",
       "      <th>impact</th>\n",
       "      <th>confidence</th>\n",
       "      <th>efforts</th>\n",
       "    </tr>\n",
       "  </thead>\n",
       "  <tbody>\n",
       "    <tr>\n",
       "      <th>0</th>\n",
       "      <td>Добавить два новых канала привлечения трафика, что позволит привлекать на 30% больше пользователей</td>\n",
       "      <td>3</td>\n",
       "      <td>10</td>\n",
       "      <td>8</td>\n",
       "      <td>6</td>\n",
       "    </tr>\n",
       "    <tr>\n",
       "      <th>1</th>\n",
       "      <td>Запустить собственную службу доставки, что сократит срок доставки заказов</td>\n",
       "      <td>2</td>\n",
       "      <td>5</td>\n",
       "      <td>4</td>\n",
       "      <td>10</td>\n",
       "    </tr>\n",
       "    <tr>\n",
       "      <th>2</th>\n",
       "      <td>Добавить блоки рекомендаций товаров на сайт интернет магазина, чтобы повысить конверсию и средний чек заказа</td>\n",
       "      <td>8</td>\n",
       "      <td>3</td>\n",
       "      <td>7</td>\n",
       "      <td>3</td>\n",
       "    </tr>\n",
       "    <tr>\n",
       "      <th>3</th>\n",
       "      <td>Изменить структура категорий, что увеличит конверсию, т.к. пользователи быстрее найдут нужный товар</td>\n",
       "      <td>8</td>\n",
       "      <td>3</td>\n",
       "      <td>3</td>\n",
       "      <td>8</td>\n",
       "    </tr>\n",
       "    <tr>\n",
       "      <th>4</th>\n",
       "      <td>Изменить цвет фона главной страницы, чтобы увеличить вовлеченность пользователей</td>\n",
       "      <td>3</td>\n",
       "      <td>1</td>\n",
       "      <td>1</td>\n",
       "      <td>1</td>\n",
       "    </tr>\n",
       "    <tr>\n",
       "      <th>5</th>\n",
       "      <td>Добавить страницу отзывов клиентов о магазине, что позволит увеличить количество заказов</td>\n",
       "      <td>3</td>\n",
       "      <td>2</td>\n",
       "      <td>2</td>\n",
       "      <td>3</td>\n",
       "    </tr>\n",
       "    <tr>\n",
       "      <th>6</th>\n",
       "      <td>Показать на главной странице баннеры с актуальными акциями и распродажами, чтобы увеличить конверсию</td>\n",
       "      <td>5</td>\n",
       "      <td>3</td>\n",
       "      <td>8</td>\n",
       "      <td>3</td>\n",
       "    </tr>\n",
       "    <tr>\n",
       "      <th>7</th>\n",
       "      <td>Добавить форму подписки на все основные страницы, чтобы собрать базу клиентов для email-рассылок</td>\n",
       "      <td>10</td>\n",
       "      <td>7</td>\n",
       "      <td>8</td>\n",
       "      <td>5</td>\n",
       "    </tr>\n",
       "    <tr>\n",
       "      <th>8</th>\n",
       "      <td>Запустить акцию, дающую скидку на товар в день рождения</td>\n",
       "      <td>1</td>\n",
       "      <td>9</td>\n",
       "      <td>9</td>\n",
       "      <td>5</td>\n",
       "    </tr>\n",
       "  </tbody>\n",
       "</table>\n",
       "</div>"
      ],
      "text/plain": [
       "                                                                                                     hypothesis  \\\n",
       "0  Добавить два новых канала привлечения трафика, что позволит привлекать на 30% больше пользователей             \n",
       "1  Запустить собственную службу доставки, что сократит срок доставки заказов                                      \n",
       "2  Добавить блоки рекомендаций товаров на сайт интернет магазина, чтобы повысить конверсию и средний чек заказа   \n",
       "3  Изменить структура категорий, что увеличит конверсию, т.к. пользователи быстрее найдут нужный товар            \n",
       "4  Изменить цвет фона главной страницы, чтобы увеличить вовлеченность пользователей                               \n",
       "5  Добавить страницу отзывов клиентов о магазине, что позволит увеличить количество заказов                       \n",
       "6  Показать на главной странице баннеры с актуальными акциями и распродажами, чтобы увеличить конверсию           \n",
       "7  Добавить форму подписки на все основные страницы, чтобы собрать базу клиентов для email-рассылок               \n",
       "8  Запустить акцию, дающую скидку на товар в день рождения                                                        \n",
       "\n",
       "   reach  impact  confidence  efforts  \n",
       "0  3      10      8           6        \n",
       "1  2      5       4           10       \n",
       "2  8      3       7           3        \n",
       "3  8      3       3           8        \n",
       "4  3      1       1           1        \n",
       "5  3      2       2           3        \n",
       "6  5      3       8           3        \n",
       "7  10     7       8           5        \n",
       "8  1      9       9           5        "
      ]
     },
     "execution_count": 15,
     "metadata": {},
     "output_type": "execute_result"
    }
   ],
   "source": [
    "hypothesis"
   ]
  },
  {
   "cell_type": "markdown",
   "metadata": {},
   "source": [
    "В нашем распоряжении 9 гипотез, для которых оценены значения Reach, Impact, Confidence и Efforts, что позволит применить к ним фреймворки ICE и RICE. Добавим соответствующие столбцы в общую таблицу, вычислив значения по формулам, и выведем таблицу гипотез, отсортированную по убыванию значения RICE."
   ]
  },
  {
   "cell_type": "code",
   "execution_count": 16,
   "metadata": {},
   "outputs": [],
   "source": [
    "hypothesis['ICE'] = round(hypothesis['impact']*hypothesis['confidence']/hypothesis['efforts'], 3)\n",
    "hypothesis['RICE'] = hypothesis['reach']*hypothesis['impact']*hypothesis['confidence']/hypothesis['efforts']"
   ]
  },
  {
   "cell_type": "code",
   "execution_count": 17,
   "metadata": {},
   "outputs": [
    {
     "data": {
      "text/html": [
       "<div>\n",
       "<style scoped>\n",
       "    .dataframe tbody tr th:only-of-type {\n",
       "        vertical-align: middle;\n",
       "    }\n",
       "\n",
       "    .dataframe tbody tr th {\n",
       "        vertical-align: top;\n",
       "    }\n",
       "\n",
       "    .dataframe thead th {\n",
       "        text-align: right;\n",
       "    }\n",
       "</style>\n",
       "<table border=\"1\" class=\"dataframe\">\n",
       "  <thead>\n",
       "    <tr style=\"text-align: right;\">\n",
       "      <th></th>\n",
       "      <th>hypothesis</th>\n",
       "      <th>reach</th>\n",
       "      <th>impact</th>\n",
       "      <th>confidence</th>\n",
       "      <th>efforts</th>\n",
       "      <th>ICE</th>\n",
       "      <th>RICE</th>\n",
       "    </tr>\n",
       "  </thead>\n",
       "  <tbody>\n",
       "    <tr>\n",
       "      <th>7</th>\n",
       "      <td>Добавить форму подписки на все основные страницы, чтобы собрать базу клиентов для email-рассылок</td>\n",
       "      <td>10</td>\n",
       "      <td>7</td>\n",
       "      <td>8</td>\n",
       "      <td>5</td>\n",
       "      <td>11.200</td>\n",
       "      <td>112.0</td>\n",
       "    </tr>\n",
       "    <tr>\n",
       "      <th>2</th>\n",
       "      <td>Добавить блоки рекомендаций товаров на сайт интернет магазина, чтобы повысить конверсию и средний чек заказа</td>\n",
       "      <td>8</td>\n",
       "      <td>3</td>\n",
       "      <td>7</td>\n",
       "      <td>3</td>\n",
       "      <td>7.000</td>\n",
       "      <td>56.0</td>\n",
       "    </tr>\n",
       "    <tr>\n",
       "      <th>0</th>\n",
       "      <td>Добавить два новых канала привлечения трафика, что позволит привлекать на 30% больше пользователей</td>\n",
       "      <td>3</td>\n",
       "      <td>10</td>\n",
       "      <td>8</td>\n",
       "      <td>6</td>\n",
       "      <td>13.333</td>\n",
       "      <td>40.0</td>\n",
       "    </tr>\n",
       "    <tr>\n",
       "      <th>6</th>\n",
       "      <td>Показать на главной странице баннеры с актуальными акциями и распродажами, чтобы увеличить конверсию</td>\n",
       "      <td>5</td>\n",
       "      <td>3</td>\n",
       "      <td>8</td>\n",
       "      <td>3</td>\n",
       "      <td>8.000</td>\n",
       "      <td>40.0</td>\n",
       "    </tr>\n",
       "    <tr>\n",
       "      <th>8</th>\n",
       "      <td>Запустить акцию, дающую скидку на товар в день рождения</td>\n",
       "      <td>1</td>\n",
       "      <td>9</td>\n",
       "      <td>9</td>\n",
       "      <td>5</td>\n",
       "      <td>16.200</td>\n",
       "      <td>16.2</td>\n",
       "    </tr>\n",
       "    <tr>\n",
       "      <th>3</th>\n",
       "      <td>Изменить структура категорий, что увеличит конверсию, т.к. пользователи быстрее найдут нужный товар</td>\n",
       "      <td>8</td>\n",
       "      <td>3</td>\n",
       "      <td>3</td>\n",
       "      <td>8</td>\n",
       "      <td>1.125</td>\n",
       "      <td>9.0</td>\n",
       "    </tr>\n",
       "    <tr>\n",
       "      <th>1</th>\n",
       "      <td>Запустить собственную службу доставки, что сократит срок доставки заказов</td>\n",
       "      <td>2</td>\n",
       "      <td>5</td>\n",
       "      <td>4</td>\n",
       "      <td>10</td>\n",
       "      <td>2.000</td>\n",
       "      <td>4.0</td>\n",
       "    </tr>\n",
       "    <tr>\n",
       "      <th>5</th>\n",
       "      <td>Добавить страницу отзывов клиентов о магазине, что позволит увеличить количество заказов</td>\n",
       "      <td>3</td>\n",
       "      <td>2</td>\n",
       "      <td>2</td>\n",
       "      <td>3</td>\n",
       "      <td>1.333</td>\n",
       "      <td>4.0</td>\n",
       "    </tr>\n",
       "    <tr>\n",
       "      <th>4</th>\n",
       "      <td>Изменить цвет фона главной страницы, чтобы увеличить вовлеченность пользователей</td>\n",
       "      <td>3</td>\n",
       "      <td>1</td>\n",
       "      <td>1</td>\n",
       "      <td>1</td>\n",
       "      <td>1.000</td>\n",
       "      <td>3.0</td>\n",
       "    </tr>\n",
       "  </tbody>\n",
       "</table>\n",
       "</div>"
      ],
      "text/plain": [
       "                                                                                                     hypothesis  \\\n",
       "7  Добавить форму подписки на все основные страницы, чтобы собрать базу клиентов для email-рассылок               \n",
       "2  Добавить блоки рекомендаций товаров на сайт интернет магазина, чтобы повысить конверсию и средний чек заказа   \n",
       "0  Добавить два новых канала привлечения трафика, что позволит привлекать на 30% больше пользователей             \n",
       "6  Показать на главной странице баннеры с актуальными акциями и распродажами, чтобы увеличить конверсию           \n",
       "8  Запустить акцию, дающую скидку на товар в день рождения                                                        \n",
       "3  Изменить структура категорий, что увеличит конверсию, т.к. пользователи быстрее найдут нужный товар            \n",
       "1  Запустить собственную службу доставки, что сократит срок доставки заказов                                      \n",
       "5  Добавить страницу отзывов клиентов о магазине, что позволит увеличить количество заказов                       \n",
       "4  Изменить цвет фона главной страницы, чтобы увеличить вовлеченность пользователей                               \n",
       "\n",
       "   reach  impact  confidence  efforts     ICE   RICE  \n",
       "7  10     7       8           5        11.200  112.0  \n",
       "2  8      3       7           3        7.000   56.0   \n",
       "0  3      10      8           6        13.333  40.0   \n",
       "6  5      3       8           3        8.000   40.0   \n",
       "8  1      9       9           5        16.200  16.2   \n",
       "3  8      3       3           8        1.125   9.0    \n",
       "1  2      5       4           10       2.000   4.0    \n",
       "5  3      2       2           3        1.333   4.0    \n",
       "4  3      1       1           1        1.000   3.0    "
      ]
     },
     "execution_count": 17,
     "metadata": {},
     "output_type": "execute_result"
    }
   ],
   "source": [
    "hypothesis.sort_values(by='RICE', ascending=False)"
   ]
  },
  {
   "cell_type": "markdown",
   "metadata": {},
   "source": [
    "**Вывод**\n",
    "\n",
    "Лидер по фреймворку RICE - гипотеза 7 (\"Добавить форму подписки на все основные страницы, чтобы собрать базу клиентов для email-рассылок\") при подсчёте через фреймворк ICE занимет  лишь третью позицию, так как в этом случает не учитывает показатель охвата аудитории. Именно этот параметр существенно поднимет с пятого на второе место гипотезу 2 (\"Добавить блоки рекомендаций товаров на сайт интернет магазина, чтобы повысить конверсию и средний чек заказа\"), так как охват у этой гипотезы существенно шире - можно предположить, что рекомендации посмотрят почти все пользователи сайта. А вот гипотеза 8 о запуске акции, дающую скидку на товар в день рождения, которая хоть и затрагивает всех пользователей, но не сразу и это опускает её с лидирующей позиции при проверке ICE на пятое место в списке RICE.\n",
    "\n",
    "Наименее приоритетны в обоих случаях проверки гипотезы об изменеии фона главной страницы, гипотеза о добавлении отзывов, гипотеза об изменеии структуры категорий. Гипотеза о запуске собственной службы достваки также не получила высоких приоритетов по обоим фремворкам ввиду наибольшей трудоёмкости."
   ]
  },
  {
   "cell_type": "markdown",
   "metadata": {},
   "source": [
    "## Анализ А/В-теста"
   ]
  },
  {
   "cell_type": "markdown",
   "metadata": {},
   "source": [
    "### Анализ кумулятивных показателей групп"
   ]
  },
  {
   "cell_type": "code",
   "execution_count": 18,
   "metadata": {},
   "outputs": [],
   "source": [
    "# создаем массив уникальных пар значений дат и групп теста\n",
    "dates_groups = orders[['date','group']].drop_duplicates() "
   ]
  },
  {
   "cell_type": "code",
   "execution_count": 19,
   "metadata": {},
   "outputs": [],
   "source": [
    "# создадим таблицу с данными заказов каждой группы по дням:\n",
    "orders_agg = (\n",
    "    dates_groups.apply(lambda x: orders[np.logical_and(orders['date'] <= x['date'], orders['group'] == x['group'])]\\\n",
    "                      .agg({'date':'max', 'group':'max', \n",
    "                            'transaction_id':'nunique', \n",
    "                            'visitor_id':'nunique', \n",
    "                            'revenue':'sum'}), axis=1)\n",
    "                .sort_values(by=['date','group'])\n",
    ")"
   ]
  },
  {
   "cell_type": "code",
   "execution_count": 20,
   "metadata": {},
   "outputs": [
    {
     "data": {
      "text/html": [
       "<div>\n",
       "<style scoped>\n",
       "    .dataframe tbody tr th:only-of-type {\n",
       "        vertical-align: middle;\n",
       "    }\n",
       "\n",
       "    .dataframe tbody tr th {\n",
       "        vertical-align: top;\n",
       "    }\n",
       "\n",
       "    .dataframe thead th {\n",
       "        text-align: right;\n",
       "    }\n",
       "</style>\n",
       "<table border=\"1\" class=\"dataframe\">\n",
       "  <thead>\n",
       "    <tr style=\"text-align: right;\">\n",
       "      <th></th>\n",
       "      <th>date</th>\n",
       "      <th>group</th>\n",
       "      <th>transaction_id</th>\n",
       "      <th>visitor_id</th>\n",
       "      <th>revenue</th>\n",
       "    </tr>\n",
       "  </thead>\n",
       "  <tbody>\n",
       "    <tr>\n",
       "      <th>55</th>\n",
       "      <td>2019-08-01</td>\n",
       "      <td>A</td>\n",
       "      <td>24</td>\n",
       "      <td>20</td>\n",
       "      <td>148579</td>\n",
       "    </tr>\n",
       "    <tr>\n",
       "      <th>66</th>\n",
       "      <td>2019-08-01</td>\n",
       "      <td>B</td>\n",
       "      <td>21</td>\n",
       "      <td>20</td>\n",
       "      <td>101217</td>\n",
       "    </tr>\n",
       "    <tr>\n",
       "      <th>175</th>\n",
       "      <td>2019-08-02</td>\n",
       "      <td>A</td>\n",
       "      <td>44</td>\n",
       "      <td>38</td>\n",
       "      <td>242401</td>\n",
       "    </tr>\n",
       "    <tr>\n",
       "      <th>173</th>\n",
       "      <td>2019-08-02</td>\n",
       "      <td>B</td>\n",
       "      <td>45</td>\n",
       "      <td>43</td>\n",
       "      <td>266748</td>\n",
       "    </tr>\n",
       "    <tr>\n",
       "      <th>291</th>\n",
       "      <td>2019-08-03</td>\n",
       "      <td>A</td>\n",
       "      <td>68</td>\n",
       "      <td>62</td>\n",
       "      <td>354874</td>\n",
       "    </tr>\n",
       "    <tr>\n",
       "      <th>...</th>\n",
       "      <td>...</td>\n",
       "      <td>...</td>\n",
       "      <td>...</td>\n",
       "      <td>...</td>\n",
       "      <td>...</td>\n",
       "    </tr>\n",
       "    <tr>\n",
       "      <th>496</th>\n",
       "      <td>2019-08-29</td>\n",
       "      <td>B</td>\n",
       "      <td>596</td>\n",
       "      <td>544</td>\n",
       "      <td>5559398</td>\n",
       "    </tr>\n",
       "    <tr>\n",
       "      <th>730</th>\n",
       "      <td>2019-08-30</td>\n",
       "      <td>A</td>\n",
       "      <td>545</td>\n",
       "      <td>493</td>\n",
       "      <td>4022970</td>\n",
       "    </tr>\n",
       "    <tr>\n",
       "      <th>690</th>\n",
       "      <td>2019-08-30</td>\n",
       "      <td>B</td>\n",
       "      <td>620</td>\n",
       "      <td>567</td>\n",
       "      <td>5774631</td>\n",
       "    </tr>\n",
       "    <tr>\n",
       "      <th>958</th>\n",
       "      <td>2019-08-31</td>\n",
       "      <td>A</td>\n",
       "      <td>557</td>\n",
       "      <td>503</td>\n",
       "      <td>4084803</td>\n",
       "    </tr>\n",
       "    <tr>\n",
       "      <th>930</th>\n",
       "      <td>2019-08-31</td>\n",
       "      <td>B</td>\n",
       "      <td>640</td>\n",
       "      <td>586</td>\n",
       "      <td>5907760</td>\n",
       "    </tr>\n",
       "  </tbody>\n",
       "</table>\n",
       "<p>62 rows × 5 columns</p>\n",
       "</div>"
      ],
      "text/plain": [
       "          date group  transaction_id  visitor_id  revenue\n",
       "55  2019-08-01  A     24              20          148579 \n",
       "66  2019-08-01  B     21              20          101217 \n",
       "175 2019-08-02  A     44              38          242401 \n",
       "173 2019-08-02  B     45              43          266748 \n",
       "291 2019-08-03  A     68              62          354874 \n",
       "..         ... ..     ..              ..             ... \n",
       "496 2019-08-29  B     596             544         5559398\n",
       "730 2019-08-30  A     545             493         4022970\n",
       "690 2019-08-30  B     620             567         5774631\n",
       "958 2019-08-31  A     557             503         4084803\n",
       "930 2019-08-31  B     640             586         5907760\n",
       "\n",
       "[62 rows x 5 columns]"
      ]
     },
     "execution_count": 20,
     "metadata": {},
     "output_type": "execute_result"
    }
   ],
   "source": [
    "orders_agg"
   ]
  },
  {
   "cell_type": "code",
   "execution_count": 21,
   "metadata": {},
   "outputs": [
    {
     "data": {
      "text/html": [
       "<div>\n",
       "<style scoped>\n",
       "    .dataframe tbody tr th:only-of-type {\n",
       "        vertical-align: middle;\n",
       "    }\n",
       "\n",
       "    .dataframe tbody tr th {\n",
       "        vertical-align: top;\n",
       "    }\n",
       "\n",
       "    .dataframe thead th {\n",
       "        text-align: right;\n",
       "    }\n",
       "</style>\n",
       "<table border=\"1\" class=\"dataframe\">\n",
       "  <thead>\n",
       "    <tr style=\"text-align: right;\">\n",
       "      <th></th>\n",
       "      <th>date</th>\n",
       "      <th>group</th>\n",
       "      <th>visitors</th>\n",
       "    </tr>\n",
       "  </thead>\n",
       "  <tbody>\n",
       "    <tr>\n",
       "      <th>55</th>\n",
       "      <td>2019-08-01</td>\n",
       "      <td>A</td>\n",
       "      <td>719</td>\n",
       "    </tr>\n",
       "    <tr>\n",
       "      <th>66</th>\n",
       "      <td>2019-08-01</td>\n",
       "      <td>B</td>\n",
       "      <td>713</td>\n",
       "    </tr>\n",
       "    <tr>\n",
       "      <th>175</th>\n",
       "      <td>2019-08-02</td>\n",
       "      <td>A</td>\n",
       "      <td>1338</td>\n",
       "    </tr>\n",
       "    <tr>\n",
       "      <th>173</th>\n",
       "      <td>2019-08-02</td>\n",
       "      <td>B</td>\n",
       "      <td>1294</td>\n",
       "    </tr>\n",
       "    <tr>\n",
       "      <th>291</th>\n",
       "      <td>2019-08-03</td>\n",
       "      <td>A</td>\n",
       "      <td>1845</td>\n",
       "    </tr>\n",
       "    <tr>\n",
       "      <th>...</th>\n",
       "      <td>...</td>\n",
       "      <td>...</td>\n",
       "      <td>...</td>\n",
       "    </tr>\n",
       "    <tr>\n",
       "      <th>496</th>\n",
       "      <td>2019-08-29</td>\n",
       "      <td>B</td>\n",
       "      <td>17708</td>\n",
       "    </tr>\n",
       "    <tr>\n",
       "      <th>730</th>\n",
       "      <td>2019-08-30</td>\n",
       "      <td>A</td>\n",
       "      <td>18037</td>\n",
       "    </tr>\n",
       "    <tr>\n",
       "      <th>690</th>\n",
       "      <td>2019-08-30</td>\n",
       "      <td>B</td>\n",
       "      <td>18198</td>\n",
       "    </tr>\n",
       "    <tr>\n",
       "      <th>958</th>\n",
       "      <td>2019-08-31</td>\n",
       "      <td>A</td>\n",
       "      <td>18736</td>\n",
       "    </tr>\n",
       "    <tr>\n",
       "      <th>930</th>\n",
       "      <td>2019-08-31</td>\n",
       "      <td>B</td>\n",
       "      <td>18916</td>\n",
       "    </tr>\n",
       "  </tbody>\n",
       "</table>\n",
       "<p>62 rows × 3 columns</p>\n",
       "</div>"
      ],
      "text/plain": [
       "          date group  visitors\n",
       "55  2019-08-01  A     719     \n",
       "66  2019-08-01  B     713     \n",
       "175 2019-08-02  A     1338    \n",
       "173 2019-08-02  B     1294    \n",
       "291 2019-08-03  A     1845    \n",
       "..         ... ..      ...    \n",
       "496 2019-08-29  B     17708   \n",
       "730 2019-08-30  A     18037   \n",
       "690 2019-08-30  B     18198   \n",
       "958 2019-08-31  A     18736   \n",
       "930 2019-08-31  B     18916   \n",
       "\n",
       "[62 rows x 3 columns]"
      ]
     },
     "execution_count": 21,
     "metadata": {},
     "output_type": "execute_result"
    }
   ],
   "source": [
    "# создадим таблицу с данными наполненности каждой группы по дням:\n",
    "visitors_agg = (\n",
    "    dates_groups.apply(lambda x: visitors[np.logical_and(visitors['date'] <= x['date'], visitors['group'] == x['group'])].agg(\n",
    "                                           {'date':'max', 'group':'max', 'visitors':'sum'}), axis=1)\n",
    "                                .sort_values(by=['date','group'])\n",
    "                     )\n",
    "visitors_agg"
   ]
  },
  {
   "cell_type": "code",
   "execution_count": 22,
   "metadata": {},
   "outputs": [
    {
     "data": {
      "text/html": [
       "<div>\n",
       "<style scoped>\n",
       "    .dataframe tbody tr th:only-of-type {\n",
       "        vertical-align: middle;\n",
       "    }\n",
       "\n",
       "    .dataframe tbody tr th {\n",
       "        vertical-align: top;\n",
       "    }\n",
       "\n",
       "    .dataframe thead th {\n",
       "        text-align: right;\n",
       "    }\n",
       "</style>\n",
       "<table border=\"1\" class=\"dataframe\">\n",
       "  <thead>\n",
       "    <tr style=\"text-align: right;\">\n",
       "      <th></th>\n",
       "      <th>date</th>\n",
       "      <th>group</th>\n",
       "      <th>orders</th>\n",
       "      <th>buyers</th>\n",
       "      <th>revenue</th>\n",
       "      <th>visitors</th>\n",
       "    </tr>\n",
       "  </thead>\n",
       "  <tbody>\n",
       "    <tr>\n",
       "      <th>0</th>\n",
       "      <td>2019-08-01</td>\n",
       "      <td>A</td>\n",
       "      <td>24</td>\n",
       "      <td>20</td>\n",
       "      <td>148579</td>\n",
       "      <td>719</td>\n",
       "    </tr>\n",
       "    <tr>\n",
       "      <th>1</th>\n",
       "      <td>2019-08-01</td>\n",
       "      <td>B</td>\n",
       "      <td>21</td>\n",
       "      <td>20</td>\n",
       "      <td>101217</td>\n",
       "      <td>713</td>\n",
       "    </tr>\n",
       "    <tr>\n",
       "      <th>2</th>\n",
       "      <td>2019-08-02</td>\n",
       "      <td>A</td>\n",
       "      <td>44</td>\n",
       "      <td>38</td>\n",
       "      <td>242401</td>\n",
       "      <td>1338</td>\n",
       "    </tr>\n",
       "    <tr>\n",
       "      <th>3</th>\n",
       "      <td>2019-08-02</td>\n",
       "      <td>B</td>\n",
       "      <td>45</td>\n",
       "      <td>43</td>\n",
       "      <td>266748</td>\n",
       "      <td>1294</td>\n",
       "    </tr>\n",
       "    <tr>\n",
       "      <th>4</th>\n",
       "      <td>2019-08-03</td>\n",
       "      <td>A</td>\n",
       "      <td>68</td>\n",
       "      <td>62</td>\n",
       "      <td>354874</td>\n",
       "      <td>1845</td>\n",
       "    </tr>\n",
       "    <tr>\n",
       "      <th>...</th>\n",
       "      <td>...</td>\n",
       "      <td>...</td>\n",
       "      <td>...</td>\n",
       "      <td>...</td>\n",
       "      <td>...</td>\n",
       "      <td>...</td>\n",
       "    </tr>\n",
       "    <tr>\n",
       "      <th>57</th>\n",
       "      <td>2019-08-29</td>\n",
       "      <td>B</td>\n",
       "      <td>596</td>\n",
       "      <td>544</td>\n",
       "      <td>5559398</td>\n",
       "      <td>17708</td>\n",
       "    </tr>\n",
       "    <tr>\n",
       "      <th>58</th>\n",
       "      <td>2019-08-30</td>\n",
       "      <td>A</td>\n",
       "      <td>545</td>\n",
       "      <td>493</td>\n",
       "      <td>4022970</td>\n",
       "      <td>18037</td>\n",
       "    </tr>\n",
       "    <tr>\n",
       "      <th>59</th>\n",
       "      <td>2019-08-30</td>\n",
       "      <td>B</td>\n",
       "      <td>620</td>\n",
       "      <td>567</td>\n",
       "      <td>5774631</td>\n",
       "      <td>18198</td>\n",
       "    </tr>\n",
       "    <tr>\n",
       "      <th>60</th>\n",
       "      <td>2019-08-31</td>\n",
       "      <td>A</td>\n",
       "      <td>557</td>\n",
       "      <td>503</td>\n",
       "      <td>4084803</td>\n",
       "      <td>18736</td>\n",
       "    </tr>\n",
       "    <tr>\n",
       "      <th>61</th>\n",
       "      <td>2019-08-31</td>\n",
       "      <td>B</td>\n",
       "      <td>640</td>\n",
       "      <td>586</td>\n",
       "      <td>5907760</td>\n",
       "      <td>18916</td>\n",
       "    </tr>\n",
       "  </tbody>\n",
       "</table>\n",
       "<p>62 rows × 6 columns</p>\n",
       "</div>"
      ],
      "text/plain": [
       "         date group  orders  buyers  revenue  visitors\n",
       "0  2019-08-01  A     24      20      148579   719     \n",
       "1  2019-08-01  B     21      20      101217   713     \n",
       "2  2019-08-02  A     44      38      242401   1338    \n",
       "3  2019-08-02  B     45      43      266748   1294    \n",
       "4  2019-08-03  A     68      62      354874   1845    \n",
       "..        ... ..     ..      ..         ...    ...    \n",
       "57 2019-08-29  B     596     544     5559398  17708   \n",
       "58 2019-08-30  A     545     493     4022970  18037   \n",
       "59 2019-08-30  B     620     567     5774631  18198   \n",
       "60 2019-08-31  A     557     503     4084803  18736   \n",
       "61 2019-08-31  B     640     586     5907760  18916   \n",
       "\n",
       "[62 rows x 6 columns]"
      ]
     },
     "execution_count": 22,
     "metadata": {},
     "output_type": "execute_result"
    }
   ],
   "source": [
    "# объединим таблицы по датам и группам:\n",
    "cumulative_data = orders_agg.merge(visitors_agg, left_on=['date', 'group'], right_on=['date', 'group'])\n",
    "cumulative_data.columns = ['date', 'group', 'orders', 'buyers', 'revenue', 'visitors']\n",
    "cumulative_data"
   ]
  },
  {
   "cell_type": "code",
   "execution_count": 23,
   "metadata": {},
   "outputs": [
    {
     "data": {
      "image/png": "[encoded data removed]",
      "text/plain": [
       "<Figure size 432x288 with 1 Axes>"
      ]
     },
     "metadata": {
      "image/png": {
       "height": 325,
       "width": 385
      },
      "needs_background": "light"
     },
     "output_type": "display_data"
    }
   ],
   "source": [
    "# разделим датафрейм по группам с кумулятивным количеством заказов и кумулятивной выручкой по дням:\n",
    "cum_revenue_a = cumulative_data[cumulative_data['group']=='A'][['date','revenue', 'orders']]\n",
    "cum_revenue_b = cumulative_data[cumulative_data['group']=='B'][['date','revenue', 'orders']]\n",
    "# построим график:\n",
    "plt.plot(cum_revenue_a['date'], cum_revenue_a['revenue'], label='A')\n",
    "plt.plot(cum_revenue_b['date'], cum_revenue_b['revenue'], label='B')\n",
    "plt.xticks(rotation=70)\n",
    "plt.legend()\n",
    "plt.title('График кумулятивной выручки по группам')\n",
    "plt.xlabel('Дата')\n",
    "plt.ylabel('Выручка')\n",
    "plt.show()"
   ]
  },
  {
   "cell_type": "markdown",
   "metadata": {},
   "source": [
    "Выручка почти равномерно увеличивается в течение всего теста. \n",
    "График выручки группы В 17 августа резко вырос, а затем продолжил рост почти так же равномерно, как и в группе А. Это может говорить о наличии выбросов: крупных по выручке заказов или большого количества заказов в один день."
   ]
  },
  {
   "cell_type": "markdown",
   "metadata": {},
   "source": [
    "Построим графики среднего чека для обеих групп."
   ]
  },
  {
   "cell_type": "code",
   "execution_count": 24,
   "metadata": {},
   "outputs": [
    {
     "data": {
      "image/png": "[encoded data removed]",
      "text/plain": [
       "<Figure size 432x288 with 1 Axes>"
      ]
     },
     "metadata": {
      "image/png": {
       "height": 325,
       "width": 411
      },
      "needs_background": "light"
     },
     "output_type": "display_data"
    }
   ],
   "source": [
    "# разделим кумулятивную выручку на кумулятивное число заказов:\n",
    "plt.plot(cum_revenue_a['date'], cum_revenue_a['revenue']/cum_revenue_a['orders'], label='A')\n",
    "plt.plot(cum_revenue_b['date'], cum_revenue_b['revenue']/cum_revenue_b['orders'], label='B')\n",
    "plt.xticks(rotation=70)\n",
    "plt.legend()\n",
    "plt.title('График кумулятивного среднего чека по группам')\n",
    "plt.xlabel('Дата')\n",
    "plt.ylabel('Средний чек, руб')\n",
    "plt.show()"
   ]
  },
  {
   "cell_type": "markdown",
   "metadata": {},
   "source": [
    "Графики куммулятивного среднего чека для обеих групп стабилизировались лишь во второй половине теста и после аномального выброса. Заметно, что средний чек группы в итоге немного снижается, а группы А медленно растёт.\n",
    "\n",
    "Рассмотрим график относительного изменения кумулятивного среднего чека группы В к группе А. "
   ]
  },
  {
   "cell_type": "code",
   "execution_count": 25,
   "metadata": {},
   "outputs": [
    {
     "data": {
      "image/png": "[encoded data removed]",
      "text/plain": [
       "<Figure size 432x288 with 1 Axes>"
      ]
     },
     "metadata": {
      "image/png": {
       "height": 339,
       "width": 403
      },
      "needs_background": "light"
     },
     "output_type": "display_data"
    }
   ],
   "source": [
    "# собираем данные в одном датафрейме:\n",
    "cum_revenue_all = cum_revenue_a.merge(cum_revenue_b, left_on='date', right_on='date', how='left', suffixes=['_a', '_b'])\n",
    "# cтроим график отношения средних чеков:\n",
    "plt.plot(cum_revenue_all['date'], \n",
    "         (cum_revenue_all['revenue_b']/cum_revenue_all['orders_b'])/(cum_revenue_all['revenue_a']/cum_revenue_all['orders_a'])-1\n",
    "        )\n",
    "# добавляем ось X\n",
    "plt.axhline(y=0, color='black', linestyle='--')\n",
    "# добавим на график корректные подписи\n",
    "plt.xticks(rotation=70)\n",
    "plt.title('График относительного изменения \\n кумулятивного среднего чека группы В к группе А')\n",
    "plt.xlabel('Дата')\n",
    "plt.ylabel('Колебания среднего чека')\n",
    "plt.show()"
   ]
  },
  {
   "cell_type": "markdown",
   "metadata": {},
   "source": [
    "Скачки графика в первой половине тестирования объясняются падением среднего чека группы А при росте среднего чека у группы В, визуализированным на предыдущем графике. Проседание ниже нулевой отметки также логичны исходя из графика среднего чека по группам: в этот преиод группа А недолго обгоняла группу В, возможно из-за наличия дорогого заказа в группе А. Последний скачок 19 августа соответствует скачкам на других графиках и говорит о выбросе в данных выручки в группе В.\n",
    "\n",
    "Построим график кумулятивного среднего количества заказов на посетителя для обеих групп."
   ]
  },
  {
   "cell_type": "code",
   "execution_count": 26,
   "metadata": {},
   "outputs": [
    {
     "data": {
      "image/png": "[encoded data removed]",
      "text/plain": [
       "<Figure size 432x288 with 1 Axes>"
      ]
     },
     "metadata": {
      "image/png": {
       "height": 339,
       "width": 459
      },
      "needs_background": "light"
     },
     "output_type": "display_data"
    }
   ],
   "source": [
    "# считаем среднее количество заказов на посетителя\n",
    "cumulative_data['conversion'] = cumulative_data['orders']/cumulative_data['visitors']\n",
    "# разделяем данные по группам\n",
    "cumulative_data_a = cumulative_data[cumulative_data['group']=='A']\n",
    "cumulative_data_b = cumulative_data[cumulative_data['group']=='B']\n",
    "# строим графики\n",
    "plt.plot(cumulative_data_a['date'], cumulative_data_a['conversion'], label='A')\n",
    "plt.plot(cumulative_data_b['date'], cumulative_data_b['conversion'], label='B')\n",
    "plt.axhline(y=0.034, color='grey', linestyle='--')\n",
    "plt.axhline(y=0.030, color='grey', linestyle='--')\n",
    "# добавим на график корректные подписи\n",
    "plt.legend()\n",
    "plt.xticks(rotation=70)\n",
    "plt.title('График кумулятивного среднего количества заказов на посетителя\\n')\n",
    "plt.xlabel('Дата')\n",
    "plt.ylabel('Среднее количество заказов \\n на посетителя')\n",
    "plt.show()"
   ]
  },
  {
   "cell_type": "markdown",
   "metadata": {},
   "source": [
    "График довольно симметричный. В начале тестирования группа А лидировала, однако очень скоро показатель среднего количества заказов на посетителя группы В существенно улучшился, в то время как в группе А ситуация сильно ухудшилась. До конца тестирования это значение у группы В осталось большим, по отношению к группе А. Заметна динамика плавного снижения показателя в группе В и такого же плавного роста в группе А. Это говорит о стабилизации метрики во второй половине теста: 0,034 для группы В и 0,030 для группы А.\n",
    "\n",
    "Рассмотрим график относительного изменения кумулятивного среднего количества заказов на посетителя группы В к группе А."
   ]
  },
  {
   "cell_type": "code",
   "execution_count": 27,
   "metadata": {},
   "outputs": [
    {
     "data": {
      "image/png": "[encoded data removed]",
      "text/plain": [
       "<Figure size 432x288 with 1 Axes>"
      ]
     },
     "metadata": {
      "image/png": {
       "height": 339,
       "width": 468
      },
      "needs_background": "light"
     },
     "output_type": "display_data"
    }
   ],
   "source": [
    "cum_conversoin_all = cumulative_data_a[['date','conversion']].merge(cumulative_data_b[['date','conversion']], \n",
    "                                                                           left_on='date', \n",
    "                                                                           right_on='date', \n",
    "                                                                           how='left', \n",
    "                                                                           suffixes=['_a', '_b'])\n",
    "\n",
    "plt.plot(cum_conversoin_all['date'], \n",
    "         cum_conversoin_all['conversion_b']/cum_conversoin_all['conversion_a']-1, \n",
    ")\n",
    "plt.axhline(y=0, color='black', linestyle='--')\n",
    "plt.axhline(y=0.14, color='grey', linestyle='--')\n",
    "# добавим на график корректные подписи\n",
    "plt.title('Относительный прирост кумулятивного среднего количества заказов\\n на посетителя группы B относительно группы A')\n",
    "plt.xticks(rotation=70)\n",
    "plt.xlabel('Дата')\n",
    "plt.ylabel('Колебание кумулятивного среднего\\n количества заказов')\n",
    "plt.show()"
   ]
  },
  {
   "cell_type": "markdown",
   "metadata": {},
   "source": [
    "Группа А в начале теста была лучше по количеству заказов, однако группа В довольно быстро обогнала группу А. С середины тестирования относительный прирост стал снижаться, однако в конце снова показал рост.\n",
    "\n",
    "**Вывод**\n",
    "\n",
    "- Анализ кумулятивных метрик (среднего чека и конверсии) позволяет предположить, что в группе B есть экстремально большие по сумме закказы, из-за которых на графиках наблюдается скачок среднего чека и выручки. \n",
    "- Конверсия в группах к концу теста стабилизировалась."
   ]
  },
  {
   "cell_type": "markdown",
   "metadata": {},
   "source": [
    "### Анализ выбросов"
   ]
  },
  {
   "cell_type": "markdown",
   "metadata": {},
   "source": [
    "Определим, имели ли место среди постоянных покупателей, совершивших несколько заказов за время тестирования, слишком частые покупки и уточним границы числа заказов."
   ]
  },
  {
   "cell_type": "code",
   "execution_count": 28,
   "metadata": {},
   "outputs": [
    {
     "name": "stdout",
     "output_type": "stream",
     "text": [
      "         user_id  orders_count\n",
      "1023  4256040402  11          \n",
      "591   2458001652  11          \n",
      "569   2378935119  9           \n",
      "487   2038680547  8           \n",
      "44    199603092   5           \n",
      "744   3062433592  5           \n",
      "55    237748145   5           \n",
      "917   3803269165  5           \n",
      "299   1230306981  5           \n",
      "897   3717692402  5           \n",
      "393   1614305549  4           \n",
      "114   457167155   4           \n",
      "619   2587333274  4           \n",
      "340   1404934699  3           \n",
      "937   3908431265  3           \n",
      "726   2988190573  3           \n",
      "97    393266494   3           \n",
      "491   2044997962  3           \n",
      "677   2780786433  3           \n",
      "932   3891541246  3           \n"
     ]
    }
   ],
   "source": [
    "# сгруппируем таблицу заказов по покупателям и подсчитем их количество:\n",
    "orders_by_users = (orders.groupby('visitor_id', as_index=False)\n",
    "                           .agg({'transaction_id': 'nunique'})\n",
    "                    )\n",
    "\n",
    "orders_by_users.columns = ['user_id', 'orders_count']\n",
    "\n",
    "print(orders_by_users.sort_values(by='orders_count', ascending=False).head(20)) "
   ]
  },
  {
   "cell_type": "code",
   "execution_count": 29,
   "metadata": {},
   "outputs": [
    {
     "data": {
      "image/png": "[encoded data removed]",
      "text/plain": [
       "<Figure size 432x288 with 1 Axes>"
      ]
     },
     "metadata": {
      "image/png": {
       "height": 291,
       "width": 388
      },
      "needs_background": "light"
     },
     "output_type": "display_data"
    }
   ],
   "source": [
    "orders_by_users['orders_count'].hist(bins=20)\n",
    "plt.xlim(2, 11)\n",
    "plt.ylim(0, 50)\n",
    "# добавим на график корректные подписи:\n",
    "plt.title('Распределение количества клиентов \\n по количеству заказов более 3')\n",
    "plt.xlabel('Количество заказов')\n",
    "plt.ylabel('Количество клиентов')\n",
    "plt.show()"
   ]
  },
  {
   "cell_type": "markdown",
   "metadata": {},
   "source": [
    "Большинсво клиентов делали 1заказ. 3 и более заказов уже выглядит малочисленно. Уточним данные по 95 и 99 персентилям."
   ]
  },
  {
   "cell_type": "code",
   "execution_count": 30,
   "metadata": {},
   "outputs": [
    {
     "name": "stdout",
     "output_type": "stream",
     "text": [
      "[2. 4.]\n"
     ]
    }
   ],
   "source": [
    "print(np.percentile(orders_by_users['orders_count'], [95, 99])) "
   ]
  },
  {
   "cell_type": "code",
   "execution_count": 31,
   "metadata": {},
   "outputs": [
    {
     "data": {
      "image/png": "[encoded data removed]",
      "text/plain": [
       "<Figure size 432x288 with 1 Axes>"
      ]
     },
     "metadata": {
      "image/png": {
       "height": 277,
       "width": 382
      },
      "needs_background": "light"
     },
     "output_type": "display_data"
    }
   ],
   "source": [
    "orders_by_users['orders_count'].plot(style='o', grid=True)\n",
    "plt.xlabel('Клиенты')\n",
    "plt.ylabel('Количество заказов')\n",
    "plt.title('Распределение количества заказов по клиентам')\n",
    "plt.show()"
   ]
  },
  {
   "cell_type": "markdown",
   "metadata": {},
   "source": [
    "На точечном графике хорошо заметно, что случаев пяти и более заказов крайне мало. Это же подтверждает гистограмма распределения количесва клиентов по количеству заказов. Согласно расчёту персентилей, 99% пользователей совершили 4 и менее заказов, поэтому клиентов с 5 и более заказами следует считать аномальными и исключить из данных при очистке. "
   ]
  },
  {
   "cell_type": "code",
   "execution_count": 32,
   "metadata": {},
   "outputs": [
    {
     "name": "stdout",
     "output_type": "stream",
     "text": [
      "Количество клиентов с большим количеством заказов 10\n",
      "Доля клиентов с большим количеством заказов 0.97 %\n"
     ]
    }
   ],
   "source": [
    "print('Количество клиентов с большим количеством заказов', len(orders_by_users[orders_by_users['orders_count']>4]))\n",
    "print('Доля клиентов с большим количеством заказов', round(100*len(orders_by_users[orders_by_users['orders_count']>4])/len(orders_by_users), 2), '%')"
   ]
  },
  {
   "cell_type": "markdown",
   "metadata": {},
   "source": [
    "Рассмотрим выручку на наличие анмально крупных заказов, которые могли создать скачёк на графиках кумулятивных показателей."
   ]
  },
  {
   "cell_type": "code",
   "execution_count": 33,
   "metadata": {},
   "outputs": [
    {
     "data": {
      "image/png": "[encoded data removed]",
      "text/plain": [
       "<Figure size 432x288 with 1 Axes>"
      ]
     },
     "metadata": {
      "image/png": {
       "height": 277,
       "width": 395
      },
      "needs_background": "light"
     },
     "output_type": "display_data"
    }
   ],
   "source": [
    "orders['revenue'].hist()\n",
    "# добавим на график корректные подписи\n",
    "plt.title('Распределение количества заказов по выручке')\n",
    "plt.xlabel('Выручка, руб')\n",
    "plt.ylabel('Количество заказов')\n",
    "plt.show()"
   ]
  },
  {
   "cell_type": "markdown",
   "metadata": {},
   "source": [
    "Как и предполагалось, в данных присутствуют выбросы. Рассмотим распределение стимости заказов о оценим количество выбросов. "
   ]
  },
  {
   "cell_type": "code",
   "execution_count": 34,
   "metadata": {},
   "outputs": [
    {
     "data": {
      "image/png": "[encoded data removed]",
      "text/plain": [
       "<Figure size 432x288 with 1 Axes>"
      ]
     },
     "metadata": {
      "image/png": {
       "height": 277,
       "width": 386
      },
      "needs_background": "light"
     },
     "output_type": "display_data"
    }
   ],
   "source": [
    "orders['revenue'].plot(style='o', grid=True)\n",
    "plt.xlabel('Заказы')\n",
    "plt.ylabel('Выручка, руб')\n",
    "plt.title('Распределение выручки по заказам')\n",
    "plt.show()"
   ]
  },
  {
   "cell_type": "code",
   "execution_count": 35,
   "metadata": {},
   "outputs": [
    {
     "name": "stdout",
     "output_type": "stream",
     "text": [
      "[28000.  35485.  58233.2]\n"
     ]
    }
   ],
   "source": [
    "print(np.percentile(orders['revenue'], [95, 97, 99])) "
   ]
  },
  {
   "cell_type": "code",
   "execution_count": 36,
   "metadata": {},
   "outputs": [
    {
     "name": "stdout",
     "output_type": "stream",
     "text": [
      "Количество выбросов 37\n",
      "Доля выбросов в данных 3.09 %\n"
     ]
    }
   ],
   "source": [
    "print('Количество выбросов', len(orders[orders['revenue']>35000]))\n",
    "print('Доля выбросов в данных', round(100*len(orders[orders['revenue']>35000])/len(orders), 2), '%')"
   ]
  },
  {
   "cell_type": "markdown",
   "metadata": {},
   "source": [
    "По полученным данным можно уточнить рабочий диапазон выручки и определить, что заказы с суммой более 35000 руб можно считать аномальными. Этих заказов в данных 37, что составляео примерно 3%. "
   ]
  },
  {
   "cell_type": "markdown",
   "metadata": {},
   "source": [
    "### Подсчёт статистической значимости различий в метриках."
   ]
  },
  {
   "cell_type": "markdown",
   "metadata": {},
   "source": [
    "Подсчёт статистической значимости различий в метриках сперва проведём на \"сырых\" (не очищенных от выбросов) данных."
   ]
  },
  {
   "cell_type": "code",
   "execution_count": 37,
   "metadata": {},
   "outputs": [
    {
     "data": {
      "text/html": [
       "<div>\n",
       "<style scoped>\n",
       "    .dataframe tbody tr th:only-of-type {\n",
       "        vertical-align: middle;\n",
       "    }\n",
       "\n",
       "    .dataframe tbody tr th {\n",
       "        vertical-align: top;\n",
       "    }\n",
       "\n",
       "    .dataframe thead th {\n",
       "        text-align: right;\n",
       "    }\n",
       "</style>\n",
       "<table border=\"1\" class=\"dataframe\">\n",
       "  <thead>\n",
       "    <tr style=\"text-align: right;\">\n",
       "      <th></th>\n",
       "      <th>date</th>\n",
       "      <th>group</th>\n",
       "      <th>orders</th>\n",
       "      <th>buyers</th>\n",
       "      <th>revenue</th>\n",
       "      <th>visitors</th>\n",
       "      <th>conversion</th>\n",
       "    </tr>\n",
       "  </thead>\n",
       "  <tbody>\n",
       "    <tr>\n",
       "      <th>0</th>\n",
       "      <td>2019-08-01</td>\n",
       "      <td>A</td>\n",
       "      <td>24</td>\n",
       "      <td>20</td>\n",
       "      <td>148579</td>\n",
       "      <td>719</td>\n",
       "      <td>0.033380</td>\n",
       "    </tr>\n",
       "    <tr>\n",
       "      <th>1</th>\n",
       "      <td>2019-08-01</td>\n",
       "      <td>B</td>\n",
       "      <td>21</td>\n",
       "      <td>20</td>\n",
       "      <td>101217</td>\n",
       "      <td>713</td>\n",
       "      <td>0.029453</td>\n",
       "    </tr>\n",
       "    <tr>\n",
       "      <th>2</th>\n",
       "      <td>2019-08-02</td>\n",
       "      <td>A</td>\n",
       "      <td>44</td>\n",
       "      <td>38</td>\n",
       "      <td>242401</td>\n",
       "      <td>1338</td>\n",
       "      <td>0.032885</td>\n",
       "    </tr>\n",
       "    <tr>\n",
       "      <th>3</th>\n",
       "      <td>2019-08-02</td>\n",
       "      <td>B</td>\n",
       "      <td>45</td>\n",
       "      <td>43</td>\n",
       "      <td>266748</td>\n",
       "      <td>1294</td>\n",
       "      <td>0.034776</td>\n",
       "    </tr>\n",
       "    <tr>\n",
       "      <th>4</th>\n",
       "      <td>2019-08-03</td>\n",
       "      <td>A</td>\n",
       "      <td>68</td>\n",
       "      <td>62</td>\n",
       "      <td>354874</td>\n",
       "      <td>1845</td>\n",
       "      <td>0.036856</td>\n",
       "    </tr>\n",
       "  </tbody>\n",
       "</table>\n",
       "</div>"
      ],
      "text/plain": [
       "        date group  orders  buyers  revenue  visitors  conversion\n",
       "0 2019-08-01  A     24      20      148579   719       0.033380  \n",
       "1 2019-08-01  B     21      20      101217   713       0.029453  \n",
       "2 2019-08-02  A     44      38      242401   1338      0.032885  \n",
       "3 2019-08-02  B     45      43      266748   1294      0.034776  \n",
       "4 2019-08-03  A     68      62      354874   1845      0.036856  "
      ]
     },
     "execution_count": 37,
     "metadata": {},
     "output_type": "execute_result"
    }
   ],
   "source": [
    "cumulative_data.head()"
   ]
  },
  {
   "cell_type": "code",
   "execution_count": 38,
   "metadata": {
    "scrolled": true
   },
   "outputs": [
    {
     "data": {
      "text/html": [
       "<div>\n",
       "<style scoped>\n",
       "    .dataframe tbody tr th:only-of-type {\n",
       "        vertical-align: middle;\n",
       "    }\n",
       "\n",
       "    .dataframe tbody tr th {\n",
       "        vertical-align: top;\n",
       "    }\n",
       "\n",
       "    .dataframe thead th {\n",
       "        text-align: right;\n",
       "    }\n",
       "</style>\n",
       "<table border=\"1\" class=\"dataframe\">\n",
       "  <thead>\n",
       "    <tr style=\"text-align: right;\">\n",
       "      <th></th>\n",
       "      <th>date</th>\n",
       "      <th>orders_by_date_a</th>\n",
       "      <th>revenue_by_date_a</th>\n",
       "      <th>orders_by_date_b</th>\n",
       "      <th>revenue_by_date_b</th>\n",
       "      <th>orders_cum_a</th>\n",
       "      <th>revenue_cum_a</th>\n",
       "      <th>orders_cum_b</th>\n",
       "      <th>revenue_cum_b</th>\n",
       "      <th>visitors_by_date_a</th>\n",
       "      <th>visitors_by_date_b</th>\n",
       "      <th>visitors_cum_a</th>\n",
       "      <th>visitors_cum_b</th>\n",
       "    </tr>\n",
       "  </thead>\n",
       "  <tbody>\n",
       "    <tr>\n",
       "      <th>0</th>\n",
       "      <td>2019-08-01</td>\n",
       "      <td>24</td>\n",
       "      <td>148579</td>\n",
       "      <td>21</td>\n",
       "      <td>101217</td>\n",
       "      <td>24</td>\n",
       "      <td>148579</td>\n",
       "      <td>21</td>\n",
       "      <td>101217</td>\n",
       "      <td>719</td>\n",
       "      <td>713</td>\n",
       "      <td>719</td>\n",
       "      <td>713</td>\n",
       "    </tr>\n",
       "    <tr>\n",
       "      <th>1</th>\n",
       "      <td>2019-08-02</td>\n",
       "      <td>20</td>\n",
       "      <td>93822</td>\n",
       "      <td>24</td>\n",
       "      <td>165531</td>\n",
       "      <td>44</td>\n",
       "      <td>242401</td>\n",
       "      <td>45</td>\n",
       "      <td>266748</td>\n",
       "      <td>619</td>\n",
       "      <td>581</td>\n",
       "      <td>1338</td>\n",
       "      <td>1294</td>\n",
       "    </tr>\n",
       "    <tr>\n",
       "      <th>2</th>\n",
       "      <td>2019-08-03</td>\n",
       "      <td>24</td>\n",
       "      <td>112473</td>\n",
       "      <td>16</td>\n",
       "      <td>114248</td>\n",
       "      <td>68</td>\n",
       "      <td>354874</td>\n",
       "      <td>61</td>\n",
       "      <td>380996</td>\n",
       "      <td>507</td>\n",
       "      <td>509</td>\n",
       "      <td>1845</td>\n",
       "      <td>1803</td>\n",
       "    </tr>\n",
       "    <tr>\n",
       "      <th>3</th>\n",
       "      <td>2019-08-04</td>\n",
       "      <td>16</td>\n",
       "      <td>70825</td>\n",
       "      <td>17</td>\n",
       "      <td>108571</td>\n",
       "      <td>84</td>\n",
       "      <td>425699</td>\n",
       "      <td>78</td>\n",
       "      <td>489567</td>\n",
       "      <td>717</td>\n",
       "      <td>770</td>\n",
       "      <td>2562</td>\n",
       "      <td>2573</td>\n",
       "    </tr>\n",
       "    <tr>\n",
       "      <th>4</th>\n",
       "      <td>2019-08-05</td>\n",
       "      <td>25</td>\n",
       "      <td>124218</td>\n",
       "      <td>23</td>\n",
       "      <td>92428</td>\n",
       "      <td>109</td>\n",
       "      <td>549917</td>\n",
       "      <td>101</td>\n",
       "      <td>581995</td>\n",
       "      <td>756</td>\n",
       "      <td>707</td>\n",
       "      <td>3318</td>\n",
       "      <td>3280</td>\n",
       "    </tr>\n",
       "  </tbody>\n",
       "</table>\n",
       "</div>"
      ],
      "text/plain": [
       "        date  orders_by_date_a  revenue_by_date_a  orders_by_date_b  \\\n",
       "0 2019-08-01  24                148579             21                 \n",
       "1 2019-08-02  20                93822              24                 \n",
       "2 2019-08-03  24                112473             16                 \n",
       "3 2019-08-04  16                70825              17                 \n",
       "4 2019-08-05  25                124218             23                 \n",
       "\n",
       "   revenue_by_date_b  orders_cum_a  revenue_cum_a  orders_cum_b  \\\n",
       "0  101217             24            148579         21             \n",
       "1  165531             44            242401         45             \n",
       "2  114248             68            354874         61             \n",
       "3  108571             84            425699         78             \n",
       "4  92428              109           549917         101            \n",
       "\n",
       "   revenue_cum_b  visitors_by_date_a  visitors_by_date_b  visitors_cum_a  \\\n",
       "0  101217         719                 713                 719              \n",
       "1  266748         619                 581                 1338             \n",
       "2  380996         507                 509                 1845             \n",
       "3  489567         717                 770                 2562             \n",
       "4  581995         756                 707                 3318             \n",
       "\n",
       "   visitors_cum_b  \n",
       "0  713             \n",
       "1  1294            \n",
       "2  1803            \n",
       "3  2573            \n",
       "4  3280            "
      ]
     },
     "metadata": {},
     "output_type": "display_data"
    }
   ],
   "source": [
    "# создадим таблицы количества пользователей по датам для каждой группы:\n",
    "visitors_a_daily = visitors[visitors['group'] == 'A'][['date', 'visitors']]\n",
    "visitors_a_daily.columns = ['date', 'visitors_by_date_a']\n",
    "\n",
    "visitors_b_daily = visitors[visitors['group'] == 'B'][['date', 'visitors']]\n",
    "visitors_b_daily.columns = ['date', 'visitors_by_date_b']\n",
    "\n",
    "# подсчитаем кумулятивно количество пользователей в каждый день теста для каждой группы:\n",
    "cum_visitors_a = cumulative_data[cumulative_data['group']=='A'][['date', 'visitors']].reset_index(drop=True)\n",
    "cum_visitors_a.columns = ['date', 'visitors_cum_a']\n",
    "\n",
    "cum_visitors_b = cumulative_data[cumulative_data['group']=='B'][['date', 'visitors']].reset_index(drop=True)\n",
    "cum_visitors_b.columns = ['date', 'visitors_cum_b']\n",
    "\n",
    "# создадим таблицы выручки по датам для каждой группы:\n",
    "orders_a_daily = (orders[orders['group'] == 'A'][['date', 'transaction_id', 'visitor_id', 'revenue']]\n",
    "                          .groupby('date', as_index=False)\n",
    "                          .agg({'transaction_id':'nunique', 'revenue':'sum'})\n",
    "                )\n",
    "orders_a_daily.columns = ['date', 'orders_by_date_a', 'revenue_by_date_a']\n",
    "\n",
    "orders_b_daily = (orders[orders['group'] == 'B'][['date', 'transaction_id', 'visitor_id', 'revenue']]\n",
    "                          .groupby('date', as_index=False)\n",
    "                          .agg({'transaction_id':'nunique', 'revenue':'sum'})\n",
    "                )\n",
    "orders_b_daily.columns = ['date', 'orders_by_date_b', 'revenue_by_date_b']\n",
    "\n",
    "# создадим таблицы кумулятивной выручки по датам в каждой группе:\n",
    "cum_orders_a = cumulative_data[cumulative_data['group']=='A'][['date', 'orders', 'revenue']].reset_index(drop=True)\n",
    "cum_orders_a.columns = ['date', 'orders_cum_a', 'revenue_cum_a']\n",
    "\n",
    "cum_orders_b = cumulative_data[cumulative_data['group']=='B'][['date', 'orders', 'revenue']].reset_index(drop=True)\n",
    "cum_orders_b.columns = ['date', 'orders_cum_b', 'revenue_cum_b']\n",
    "\n",
    "\n",
    "# Объединим все колученные кумулятивные данные в единую таблицу по дате:\n",
    "data = (orders_a_daily.merge(orders_b_daily, left_on='date', right_on='date', how='left')\n",
    "                        .merge(cum_orders_a, left_on='date', right_on='date', how='left')\n",
    "                        .merge(cum_orders_b, left_on='date', right_on='date', how='left')\n",
    "                        .merge(visitors_a_daily, left_on='date', right_on='date', how='left')\n",
    "                        .merge(visitors_b_daily, left_on='date', right_on='date', how='left')\n",
    "                        .merge(cum_visitors_a, left_on='date', right_on='date', how='left')\n",
    "                        .merge(cum_visitors_b, left_on='date', right_on='date', how='left')\n",
    ")\n",
    "\n",
    "display(data.head(5))"
   ]
  },
  {
   "cell_type": "markdown",
   "metadata": {},
   "source": [
    "Подсчитаем статистическую значимость различий в среднем чеке заказа меджу группами по \"сырым\" данным.\n",
    "\n",
    "**Сформулируем гипотезы**\n",
    "\n",
    "*Н0: различий в среднем количестве заказов между группами нет.*\n",
    "\n",
    "*H1: различия в среднем количестве заказов между группами есть.*\n",
    "\n",
    "Определим **уровень статистической значимости** в **5%**."
   ]
  },
  {
   "cell_type": "code",
   "execution_count": 39,
   "metadata": {},
   "outputs": [],
   "source": [
    "# создадим таблицы количества заказов по пользователям для каждой группы:\n",
    "orders_by_users_a = (orders[orders['group'] == 'A'].groupby('visitor_id', as_index=False)\n",
    "                                                    .agg({'transaction_id': pd.Series.nunique})\n",
    "                    )\n",
    "orders_by_users_a.columns = ['user_id', 'orders']\n",
    "\n",
    "orders_by_users_b = (orders[orders['group'] == 'B'].groupby('visitor_id', as_index=False)\n",
    "                                                    .agg({'transaction_id': pd.Series.nunique})\n",
    ")\n",
    "orders_by_users_b.columns = ['user_id', 'orders']\n",
    "\n",
    "# создадим таблицы, где пользователям из разных групп будет соответствовать количество заказов:\n",
    "sample_a = pd.concat([orders_by_users_a['orders'],pd.Series(0, index=np.arange(data['visitors_by_date_a'].sum() \n",
    "                                                                           - len(orders_by_users_a['orders'])\n",
    "                                                                          ), name='orders')],axis=0)\n",
    "\n",
    "sample_b = pd.concat([orders_by_users_b['orders'],pd.Series(0, index=np.arange(data['visitors_by_date_b'].sum() \n",
    "                                                                               - len(orders_by_users_b['orders'])\n",
    "                                                                              ), name='orders')],axis=0)"
   ]
  },
  {
   "cell_type": "code",
   "execution_count": 40,
   "metadata": {},
   "outputs": [],
   "source": [
    "def mannwhitneyu(data_a, data_b):\n",
    "    alpha = 0.05\n",
    "    p_value = st.mannwhitneyu(data_a, data_b)[1]\n",
    "    print('Значение p-value составляет', \"{0:.5f}\".format(p_value))\n",
    "\n",
    "    if p_value > alpha:\n",
    "        print('Оставляем нулевую гипотезу:', null)\n",
    "    else:\n",
    "        print('Принимаем альтернативную гипотезу:', alternative)\n",
    "    \n",
    "    print('Oтносительный прирост показателя группы B составляет', \n",
    "      \"{0:.2f}\".format((data_b.mean() / data_a.mean() - 1)*100), \n",
    "      '%')"
   ]
  },
  {
   "cell_type": "markdown",
   "metadata": {},
   "source": [
    "Проверим гипотезы критерием Манна-Уитни. "
   ]
  },
  {
   "cell_type": "code",
   "execution_count": 41,
   "metadata": {},
   "outputs": [
    {
     "name": "stdout",
     "output_type": "stream",
     "text": [
      "Значение p-value составляет 0.01679\n",
      "Принимаем альтернативную гипотезу: различия в среднем количестве заказов между группами есть.\n",
      "Oтносительный прирост показателя группы B составляет 13.81 %\n"
     ]
    }
   ],
   "source": [
    "null = 'различий в среднем количестве заказов между группами нет.'\n",
    "alternative = 'различия в среднем количестве заказов между группами есть.'\n",
    "mannwhitneyu(sample_a, sample_b)"
   ]
  },
  {
   "cell_type": "markdown",
   "metadata": {},
   "source": [
    "Проверим статистическую значимость различий в среднем чеке между сегментами. \n",
    "\n",
    "*Н0: различий в среднем чеке между группами нет*. \n",
    "\n",
    "*Н1: различия в среднем чеке между группами есть*. "
   ]
  },
  {
   "cell_type": "code",
   "execution_count": 42,
   "metadata": {},
   "outputs": [
    {
     "name": "stdout",
     "output_type": "stream",
     "text": [
      "Значение p-value составляет 0.72929\n",
      "Оставляем нулевую гипотезу: различий в среднем чеке между группами нет.\n",
      "Oтносительный прирост показателя группы B составляет 25.87 %\n"
     ]
    }
   ],
   "source": [
    "null = 'различий в среднем чеке между группами нет.'\n",
    "alternative = 'различия в среднем чеке между группами есть.'\n",
    "mannwhitneyu(orders[orders['group']=='A']['revenue'], orders[orders['group']=='B']['revenue'])"
   ]
  },
  {
   "cell_type": "markdown",
   "metadata": {},
   "source": [
    "- Расчитаем показатели статистической значимости различий в очищенных от выбросов данных.\n",
    "\n",
    "Примем за аномальных пользователей тех, кто совершил от 5 заказов или совершил заказ дороже 35000 рублей."
   ]
  },
  {
   "cell_type": "code",
   "execution_count": 43,
   "metadata": {},
   "outputs": [
    {
     "name": "stdout",
     "output_type": "stream",
     "text": [
      "Количество пользователей с 5 и более заказами 10\n",
      "Количество пользователей с заказами более 35000 руб 37\n",
      "Общее количество пользователей с аномальными заказами 43\n",
      "Доля пользователей с аномальными заказами 4.17 %\n"
     ]
    }
   ],
   "source": [
    "anomalusers_count_orders = orders_by_users[orders_by_users['orders_count']>4]['user_id']\n",
    "print('Количество пользователей с 5 и более заказами', len(anomalusers_count_orders))\n",
    "\n",
    "anomalusers_revenue_orders = orders[orders['revenue']>35000]['visitor_id']\n",
    "print('Количество пользователей с заказами более 35000 руб', len(anomalusers_revenue_orders))\n",
    "\n",
    "anomal_users = (pd.concat([anomalusers_count_orders, anomalusers_revenue_orders], axis=0)\n",
    "                    .drop_duplicates()\n",
    "                    .sort_values()\n",
    "                )\n",
    "print('Общее количество пользователей с аномальными заказами',len(anomal_users))\n",
    "print('Доля пользователей с аномальными заказами', round(len(anomal_users)/len(orders['visitor_id'].unique())*100, 2), '%')"
   ]
  },
  {
   "cell_type": "code",
   "execution_count": 44,
   "metadata": {},
   "outputs": [],
   "source": [
    "sample_a_filtered = pd.concat([orders_by_users_a[np.logical_not(orders_by_users_a['user_id'].isin(anomal_users))]['orders'],\n",
    "                            pd.Series(0, index=np.arange(data['visitors_by_date_a'].sum() - len(orders_by_users_a['orders'])),\n",
    "                            name='orders')],\n",
    "                        axis=0,\n",
    ")\n",
    "\n",
    "sample_b_filtered = pd.concat([orders_by_users_b[np.logical_not(orders_by_users_b['user_id'].isin(anomal_users))]['orders'],\n",
    "                            pd.Series(0, index=np.arange(data['visitors_by_date_b'].sum() - len(orders_by_users_b['orders'])),\n",
    "                            name='orders')],\n",
    "                        axis=0,\n",
    ")"
   ]
  },
  {
   "cell_type": "code",
   "execution_count": 45,
   "metadata": {},
   "outputs": [
    {
     "name": "stdout",
     "output_type": "stream",
     "text": [
      "Значение p-value составляет 0.01379\n",
      "Принимаем альтернативную гипотезу: различия в среднем количестве заказов между группами есть.\n",
      "Oтносительный прирост показателя группы B составляет 15.78 %\n"
     ]
    }
   ],
   "source": [
    "null = 'различий в среднем количестве заказов между группами нет.'\n",
    "alternative = 'различия в среднем количестве заказов между группами есть.'\n",
    "mannwhitneyu(sample_a_filtered, sample_b_filtered)"
   ]
  },
  {
   "cell_type": "code",
   "execution_count": 46,
   "metadata": {},
   "outputs": [
    {
     "name": "stdout",
     "output_type": "stream",
     "text": [
      "Значение p-value составляет 0.87099\n",
      "Оставляем нулевую гипотезу: различий в среднем чеке между группами нет.\n",
      "Oтносительный прирост показателя группы B составляет 2.49 %\n"
     ]
    }
   ],
   "source": [
    "orders_a = orders[np.logical_and(orders['group']=='A', np.logical_not(orders['visitor_id'].isin(anomal_users)))]['revenue']\n",
    "                          \n",
    "orders_b = orders[np.logical_and(orders['group']=='B', np.logical_not(orders['visitor_id'].isin(anomal_users)))]['revenue']\n",
    "\n",
    "null = 'различий в среднем чеке между группами нет.'\n",
    "alternative = 'различия в среднем чеке между группами есть.'\n",
    "mannwhitneyu(orders_a, orders_b)"
   ]
  },
  {
   "cell_type": "markdown",
   "metadata": {},
   "source": [
    "**Вывод**\n",
    "\n",
    "Наличие в данных очень крупных чеков и постоянных покупателей, совершающих частые покупки не существенно повлияло на статистические метрики, хотя и ощутимо повысило средний чек группы В. \n",
    "\n",
    "По результатам теста на данный момент можно сказать, что различия в группах по среднему чеку нет, но присутствут различие в среднем количестве заказов. Группа В показывает существенный прирост среднего количества заказов (13,81% на \"сырых\" данных и 15,78% на очищенных).\n",
    "\n",
    "Относительный прирост показателя среднего чека группы В к группе А после очистки данных от выбросов снизился с 25,87% до 2,49%. Это подтверждает необходимость проверять данные на выбросы. В нашем конкретном случае было удалено 4,17% данных."
   ]
  },
  {
   "cell_type": "markdown",
   "metadata": {},
   "source": [
    "## Выводы и рекомендации."
   ]
  },
  {
   "cell_type": "markdown",
   "metadata": {},
   "source": [
    "Отдел маркетинга крупного интернет-магазина подготовил список гипотез для увеличения выручки и провёл А/В-тест одной из них.\n",
    "\n",
    "**Задачи:**\n",
    "- приоритезирвать гипотезы, применив фреймворк ICE/RICE, и объяснить результат;\n",
    "- проанализировать результат, принять аргументированное решение об остановке или продолжению теста.\n",
    "\n",
    "**Описание данных:**\n",
    "Данные представлены тремя файлами.\n",
    "Первый файл необходим для приоретизации гипотез и содержит краткое описание гипотезы, охват пользователей, влияние на пользователей, уверенность в гипотезе, затраты ресурсов на проверку гипотезы. Все параметры исчисляются по 10-балльной шкале. Чем больше значение Efforts, тем дороже проверка гипотезы.\n",
    "Данные для запуска А/В-теста и его обработки состоят из двух файлов с информацией о заказах пользователей (идентификатор заказа, идентификатор пользователя, дата и выручкой заказа, группа A/B-теста, в которую попал заказ) и информацией о группах А/В-теста (дата, группа A/B-теста, количество пользователей в указанную дату в указанной группе A/B-теста).\n",
    "\n",
    "На этапе предварительной обработки даннхы были выявлены и исправлены технические ошибки загрузки:\n",
    " - в таблице гипотез названия столбцов были приведены к нижнему регистру;\n",
    " - в таблице с данными о заказах были изменены названия столбцов и тип данных даты, обнаружены и оставлены без изменения данные постоянных покупателей с несколькими заказами;\n",
    " - в таблице с данными о группах тестирования был изменён тип данных столбца даты;\n",
    " - в обе группы попали 58 пользователей (6% всего числа клиентов за месяц исследования), которые совершили 181 заказ (15% всего количества заказов) на более 1,5 млн рублей (15,6% выручки). Это существенные доли данных, поэтому их результаты были сохранены."
   ]
  },
  {
   "cell_type": "markdown",
   "metadata": {},
   "source": [
    "В процессе приоритезации предложенных гипотез было установлено:\n",
    " - лидер по фреймворку RICE - гипотеза 7 (\"Добавить форму подписки на все основные страницы, чтобы собрать базу клиентов для email-рассылок\") при подсчёте через фреймворк ICE занимет лишь третью позицию, так как в этом случает не учитывает показатель охвата аудитории. Именно этот параметр существенно поднимет с пятого на второе место гипотезу 2 (\"Добавить блоки рекомендаций товаров на сайт интернет магазина, чтобы повысить конверсию и средний чек заказа\"), так как охват у этой гипотезы существенно шире - можно предположить, что рекомендации посмотрят почти все пользователи сайта. А вот гипотеза 8 о запуске акции, дающую скидку на товар в день рождения, которая хоть и затрагивает всех пользователей, но не сразу и это опускает её с лидирующей позиции при проверке ICE на пятое место в списке RICE;\n",
    "\n",
    "\n",
    " - наименее приоритетны в обоих случаях проверки гипотезы об изменеии фона главной страницы, гипотеза о добавлении отзывов, гипотеза об изменеии структуры категорий. Гипотеза о запуске собственной службы достваки также не получила высоких приоритетов по обоим фремворкам ввиду наибольшей трудоёмкости.\n"
   ]
  },
  {
   "cell_type": "markdown",
   "metadata": {},
   "source": [
    "**Рекомендации:**\n",
    "\n",
    "1) Если ранжирование гипотез должно включать в себя охват пользователей интернет-магазина, то гипотезы следует рассматривать в следующей последовательности:\n",
    "\n",
    "- \"Добавить форму подписки на все основные страницы, чтобы собрать базу клиентов для email-рассылок\"\n",
    "- \"Добавить блоки рекомендаций товаров на сайт интернет магазина, чтобы повысить средний чек заказа\"\n",
    "- \"Добавить два новых канала привлечения трафика, что позволит привлекать на 30% больше пользователей\"\n",
    "\n",
    "2) Если охват пользователей не важен, из предоставленного списка следует в первую очередь обратить внимание на гипотезы:\n",
    "\n",
    "- \"Запустить акцию, дающую скидку на товар в день рождения\"\n",
    "- \"Добавить два новых канала привлечения трафика, что позволит привлекать на 30% больше пользователей\"\n",
    "- \"Добавить форму подписки на все основные страницы, чтобы собрать базу клиентов для email-рассылок\"\n"
   ]
  },
  {
   "cell_type": "markdown",
   "metadata": {},
   "source": [
    "Анализ результатов А/В-теста:\n",
    "\n",
    "- Есть статистически значимое различие по среднему количеству заказов на клиента между группами как по «сырым», так и по очищенным от аномалий данным.  Группа В показывает существенный прирост среднего количества заказов (13,81% на \"сырых\" данных и 15,78% на очищенных).\n",
    "\n",
    "- График относительного прироста кумулятивного среднего количества заказов на посетителя группы B относительно группы A подтверждает, что группа В довольно быстро обогнала группу А. С середины тестирования относительный прирост стал меньше, однако в конце снова показал рост.\n",
    "\n",
    "- Нет статистически значимого различия по среднему чеку между группами ни по «сырым», ни по очищенным от аномалий данным. Относительный прирост показателя среднего чека группы В к группе А после очистки данных от выбросов снизился с 25,87% до 2,49%, но остался положительным.\n",
    "\n",
    "**Рекомендации:**\n",
    "\n",
    "- тест следует принять успешным;\n",
    "- рекомендуется остановить тест, зафиксировав победу группы В, так как средние показатели группы В стабильно выше средних группы А;\n",
    "- поработать с обнаруженными постоянными клиентами: они могли бы быть анкетированы или опрошены о том, как сильно повлияло на них анализируемое изменение. Результаты такого опроса можно было бы приложить к итоговой презентации."
   ]
  }
 ],
 "metadata": {
  "ExecuteTimeLog": [
   {
    "duration": 1394,
    "start_time": "2024-08-09T07:31:14.022Z"
   },
   {
    "duration": 237,
    "start_time": "2024-08-09T07:45:28.150Z"
   },
   {
    "duration": 4,
    "start_time": "2024-08-09T07:46:04.822Z"
   },
   {
    "duration": 22,
    "start_time": "2024-08-09T07:47:28.979Z"
   },
   {
    "duration": 18,
    "start_time": "2024-08-09T07:48:34.110Z"
   },
   {
    "duration": 79,
    "start_time": "2024-08-09T07:48:54.449Z"
   },
   {
    "duration": 4,
    "start_time": "2024-08-09T07:48:55.195Z"
   },
   {
    "duration": 16,
    "start_time": "2024-08-09T07:48:55.794Z"
   },
   {
    "duration": 27,
    "start_time": "2024-08-09T07:48:56.324Z"
   },
   {
    "duration": 17,
    "start_time": "2024-08-09T07:49:01.038Z"
   },
   {
    "duration": 3,
    "start_time": "2024-08-09T07:58:01.645Z"
   },
   {
    "duration": 670,
    "start_time": "2024-08-09T07:58:02.169Z"
   },
   {
    "duration": 615,
    "start_time": "2024-08-09T07:58:25.584Z"
   },
   {
    "duration": 329,
    "start_time": "2024-08-09T07:59:01.017Z"
   },
   {
    "duration": 3,
    "start_time": "2024-08-09T07:59:36.632Z"
   },
   {
    "duration": 17,
    "start_time": "2024-08-09T07:59:37.082Z"
   },
   {
    "duration": 19,
    "start_time": "2024-08-09T07:59:38.154Z"
   },
   {
    "duration": 18,
    "start_time": "2024-08-09T07:59:38.915Z"
   },
   {
    "duration": 6,
    "start_time": "2024-08-09T08:00:40.558Z"
   },
   {
    "duration": 5,
    "start_time": "2024-08-09T08:00:51.522Z"
   },
   {
    "duration": 6,
    "start_time": "2024-08-09T08:02:04.926Z"
   },
   {
    "duration": 10,
    "start_time": "2024-08-09T08:02:19.958Z"
   },
   {
    "duration": 91,
    "start_time": "2024-08-09T08:05:19.856Z"
   },
   {
    "duration": 104,
    "start_time": "2024-08-09T08:05:41.308Z"
   },
   {
    "duration": 68,
    "start_time": "2024-08-09T08:10:15.660Z"
   },
   {
    "duration": 291,
    "start_time": "2024-08-09T08:10:25.643Z"
   },
   {
    "duration": 274,
    "start_time": "2024-08-09T08:11:32.050Z"
   },
   {
    "duration": 1351,
    "start_time": "2024-08-09T08:12:07.631Z"
   },
   {
    "duration": 80,
    "start_time": "2024-08-09T08:12:08.984Z"
   },
   {
    "duration": 4,
    "start_time": "2024-08-09T08:12:09.065Z"
   },
   {
    "duration": 52,
    "start_time": "2024-08-09T08:12:09.071Z"
   },
   {
    "duration": 17,
    "start_time": "2024-08-09T08:12:09.125Z"
   },
   {
    "duration": 368,
    "start_time": "2024-08-09T08:12:09.144Z"
   },
   {
    "duration": 0,
    "start_time": "2024-08-09T08:12:09.514Z"
   },
   {
    "duration": 21,
    "start_time": "2024-08-09T08:12:18.866Z"
   },
   {
    "duration": 10,
    "start_time": "2024-08-09T08:14:31.371Z"
   },
   {
    "duration": 9,
    "start_time": "2024-08-09T08:14:38.579Z"
   },
   {
    "duration": 9,
    "start_time": "2024-08-09T08:14:43.601Z"
   },
   {
    "duration": 10,
    "start_time": "2024-08-09T08:14:52.232Z"
   },
   {
    "duration": 9,
    "start_time": "2024-08-09T08:15:23.644Z"
   },
   {
    "duration": 7,
    "start_time": "2024-08-09T08:16:39.485Z"
   },
   {
    "duration": 13,
    "start_time": "2024-08-09T08:19:55.445Z"
   },
   {
    "duration": 7,
    "start_time": "2024-08-09T08:19:59.743Z"
   },
   {
    "duration": 1113,
    "start_time": "2024-08-09T08:20:40.950Z"
   },
   {
    "duration": 10,
    "start_time": "2024-08-09T08:20:47.875Z"
   },
   {
    "duration": 9,
    "start_time": "2024-08-09T08:21:17.561Z"
   },
   {
    "duration": 15,
    "start_time": "2024-08-09T08:22:25.761Z"
   },
   {
    "duration": 275,
    "start_time": "2024-08-09T08:23:09.177Z"
   },
   {
    "duration": 14,
    "start_time": "2024-08-09T08:23:19.981Z"
   },
   {
    "duration": 15,
    "start_time": "2024-08-09T08:23:44.978Z"
   },
   {
    "duration": 15,
    "start_time": "2024-08-09T08:24:16.444Z"
   },
   {
    "duration": 6,
    "start_time": "2024-08-09T08:24:21.908Z"
   },
   {
    "duration": 20,
    "start_time": "2024-08-09T08:27:04.535Z"
   },
   {
    "duration": 6,
    "start_time": "2024-08-09T08:27:55.611Z"
   },
   {
    "duration": 11,
    "start_time": "2024-08-09T08:28:28.586Z"
   },
   {
    "duration": 9,
    "start_time": "2024-08-09T08:31:33.365Z"
   },
   {
    "duration": 10,
    "start_time": "2024-08-09T08:31:50.408Z"
   },
   {
    "duration": 15,
    "start_time": "2024-08-09T08:32:49.503Z"
   },
   {
    "duration": 10,
    "start_time": "2024-08-09T08:33:57.891Z"
   },
   {
    "duration": 5,
    "start_time": "2024-08-09T08:34:50.751Z"
   },
   {
    "duration": 8,
    "start_time": "2024-08-09T08:34:57.096Z"
   },
   {
    "duration": 5,
    "start_time": "2024-08-09T08:35:44.040Z"
   },
   {
    "duration": 5,
    "start_time": "2024-08-09T08:35:59.352Z"
   },
   {
    "duration": 5,
    "start_time": "2024-08-09T08:36:35.478Z"
   },
   {
    "duration": 5,
    "start_time": "2024-08-09T08:37:02.320Z"
   },
   {
    "duration": 10,
    "start_time": "2024-08-09T08:37:06.276Z"
   },
   {
    "duration": 11,
    "start_time": "2024-08-09T08:37:25.373Z"
   },
   {
    "duration": 5,
    "start_time": "2024-08-09T08:37:32.248Z"
   },
   {
    "duration": 5,
    "start_time": "2024-08-09T08:37:43.631Z"
   },
   {
    "duration": 64,
    "start_time": "2024-08-09T08:37:52.221Z"
   },
   {
    "duration": 10,
    "start_time": "2024-08-09T08:38:00.621Z"
   },
   {
    "duration": 5,
    "start_time": "2024-08-09T08:38:09.237Z"
   },
   {
    "duration": 4,
    "start_time": "2024-08-09T08:38:46.073Z"
   },
   {
    "duration": 10,
    "start_time": "2024-08-09T08:45:15.906Z"
   },
   {
    "duration": 8,
    "start_time": "2024-08-09T08:45:58.357Z"
   },
   {
    "duration": 10,
    "start_time": "2024-08-09T08:46:07.360Z"
   },
   {
    "duration": 11,
    "start_time": "2024-08-09T08:49:03.320Z"
   },
   {
    "duration": 13,
    "start_time": "2024-08-09T08:49:22.572Z"
   },
   {
    "duration": 316,
    "start_time": "2024-08-09T08:56:42.620Z"
   },
   {
    "duration": 11,
    "start_time": "2024-08-09T08:57:26.260Z"
   },
   {
    "duration": 291,
    "start_time": "2024-08-09T08:57:33.323Z"
   },
   {
    "duration": 1200,
    "start_time": "2024-08-09T08:58:01.991Z"
   },
   {
    "duration": 80,
    "start_time": "2024-08-09T08:58:03.193Z"
   },
   {
    "duration": 3,
    "start_time": "2024-08-09T08:58:03.275Z"
   },
   {
    "duration": 34,
    "start_time": "2024-08-09T08:58:03.280Z"
   },
   {
    "duration": 21,
    "start_time": "2024-08-09T08:58:03.316Z"
   },
   {
    "duration": 22,
    "start_time": "2024-08-09T08:58:03.338Z"
   },
   {
    "duration": 41,
    "start_time": "2024-08-09T08:58:03.362Z"
   },
   {
    "duration": 20,
    "start_time": "2024-08-09T08:58:03.405Z"
   },
   {
    "duration": 20,
    "start_time": "2024-08-09T08:58:03.427Z"
   },
   {
    "duration": 34,
    "start_time": "2024-08-09T08:58:03.450Z"
   },
   {
    "duration": 11,
    "start_time": "2024-08-09T08:58:03.486Z"
   },
   {
    "duration": 8,
    "start_time": "2024-08-09T08:58:03.498Z"
   },
   {
    "duration": 10,
    "start_time": "2024-08-09T08:58:03.507Z"
   },
   {
    "duration": 19,
    "start_time": "2024-08-09T08:58:03.518Z"
   },
   {
    "duration": 373,
    "start_time": "2024-08-09T08:58:34.683Z"
   },
   {
    "duration": 267,
    "start_time": "2024-08-09T08:59:18.307Z"
   },
   {
    "duration": 1156,
    "start_time": "2024-08-09T08:59:22.778Z"
   },
   {
    "duration": 80,
    "start_time": "2024-08-09T08:59:23.936Z"
   },
   {
    "duration": 3,
    "start_time": "2024-08-09T08:59:24.018Z"
   },
   {
    "duration": 39,
    "start_time": "2024-08-09T08:59:24.023Z"
   },
   {
    "duration": 41,
    "start_time": "2024-08-09T08:59:24.064Z"
   },
   {
    "duration": 26,
    "start_time": "2024-08-09T08:59:24.107Z"
   },
   {
    "duration": 14,
    "start_time": "2024-08-09T08:59:24.135Z"
   },
   {
    "duration": 43,
    "start_time": "2024-08-09T08:59:24.151Z"
   },
   {
    "duration": 21,
    "start_time": "2024-08-09T08:59:24.196Z"
   },
   {
    "duration": 378,
    "start_time": "2024-08-09T08:59:24.219Z"
   },
   {
    "duration": 0,
    "start_time": "2024-08-09T08:59:24.599Z"
   },
   {
    "duration": 0,
    "start_time": "2024-08-09T08:59:24.600Z"
   },
   {
    "duration": 0,
    "start_time": "2024-08-09T08:59:24.601Z"
   },
   {
    "duration": 0,
    "start_time": "2024-08-09T08:59:24.602Z"
   },
   {
    "duration": 7,
    "start_time": "2024-08-09T09:00:08.747Z"
   },
   {
    "duration": 6,
    "start_time": "2024-08-09T09:01:32.781Z"
   },
   {
    "duration": 26,
    "start_time": "2024-08-09T09:02:14.009Z"
   },
   {
    "duration": 8,
    "start_time": "2024-08-09T09:04:34.800Z"
   },
   {
    "duration": 162,
    "start_time": "2024-08-09T09:05:39.496Z"
   },
   {
    "duration": 12,
    "start_time": "2024-08-09T09:05:45.321Z"
   },
   {
    "duration": 175,
    "start_time": "2024-08-09T09:06:52.345Z"
   },
   {
    "duration": 13,
    "start_time": "2024-08-09T09:06:53.523Z"
   },
   {
    "duration": 118,
    "start_time": "2024-08-09T09:08:01.100Z"
   },
   {
    "duration": 13,
    "start_time": "2024-08-09T09:08:07.093Z"
   },
   {
    "duration": 128,
    "start_time": "2024-08-09T09:08:23.795Z"
   },
   {
    "duration": 14,
    "start_time": "2024-08-09T09:08:24.256Z"
   },
   {
    "duration": 266,
    "start_time": "2024-08-09T09:09:25.464Z"
   },
   {
    "duration": 173,
    "start_time": "2024-08-09T09:10:00.615Z"
   },
   {
    "duration": 12,
    "start_time": "2024-08-09T09:10:01.746Z"
   },
   {
    "duration": 122,
    "start_time": "2024-08-09T09:10:06.336Z"
   },
   {
    "duration": 11,
    "start_time": "2024-08-09T09:10:07.160Z"
   },
   {
    "duration": 7,
    "start_time": "2024-08-09T09:10:09.005Z"
   },
   {
    "duration": 16,
    "start_time": "2024-08-09T09:10:15.329Z"
   },
   {
    "duration": 307,
    "start_time": "2024-08-09T09:10:50.340Z"
   },
   {
    "duration": 245,
    "start_time": "2024-08-09T09:11:04.213Z"
   },
   {
    "duration": 228,
    "start_time": "2024-08-09T09:13:54.701Z"
   },
   {
    "duration": 329,
    "start_time": "2024-08-09T09:15:02.681Z"
   },
   {
    "duration": 251,
    "start_time": "2024-08-09T09:15:07.707Z"
   },
   {
    "duration": 13,
    "start_time": "2024-08-09T09:22:26.436Z"
   },
   {
    "duration": 466,
    "start_time": "2024-08-09T09:22:29.709Z"
   },
   {
    "duration": 320,
    "start_time": "2024-08-09T09:30:30.009Z"
   },
   {
    "duration": 328,
    "start_time": "2024-08-09T09:31:49.537Z"
   },
   {
    "duration": 552,
    "start_time": "2024-08-09T09:32:24.135Z"
   },
   {
    "duration": 457,
    "start_time": "2024-08-09T09:32:27.357Z"
   },
   {
    "duration": 532,
    "start_time": "2024-08-09T09:32:35.479Z"
   },
   {
    "duration": 403,
    "start_time": "2024-08-09T09:33:28.054Z"
   },
   {
    "duration": 11,
    "start_time": "2024-08-09T09:37:11.037Z"
   },
   {
    "duration": 8,
    "start_time": "2024-08-09T09:37:32.904Z"
   },
   {
    "duration": 69,
    "start_time": "2024-08-09T09:38:46.421Z"
   },
   {
    "duration": 222,
    "start_time": "2024-08-09T09:39:01.761Z"
   },
   {
    "duration": 9,
    "start_time": "2024-08-09T09:41:43.764Z"
   },
   {
    "duration": 10,
    "start_time": "2024-08-09T09:41:48.206Z"
   },
   {
    "duration": 8,
    "start_time": "2024-08-09T09:42:01.524Z"
   },
   {
    "duration": 207,
    "start_time": "2024-08-09T09:43:11.564Z"
   },
   {
    "duration": 186,
    "start_time": "2024-08-09T09:47:28.972Z"
   },
   {
    "duration": 4,
    "start_time": "2024-08-09T09:49:44.441Z"
   },
   {
    "duration": 4,
    "start_time": "2024-08-09T09:49:52.463Z"
   },
   {
    "duration": 7,
    "start_time": "2024-08-09T09:49:55.719Z"
   },
   {
    "duration": 10,
    "start_time": "2024-08-09T09:51:05.408Z"
   },
   {
    "duration": 3,
    "start_time": "2024-08-09T09:51:37.990Z"
   },
   {
    "duration": 4,
    "start_time": "2024-08-09T09:52:12.871Z"
   },
   {
    "duration": 3,
    "start_time": "2024-08-09T09:52:21.567Z"
   },
   {
    "duration": 190,
    "start_time": "2024-08-09T09:53:54.370Z"
   },
   {
    "duration": 420,
    "start_time": "2024-08-09T09:54:50.019Z"
   },
   {
    "duration": 437,
    "start_time": "2024-08-09T09:55:03.869Z"
   },
   {
    "duration": 537,
    "start_time": "2024-08-09T09:55:14.015Z"
   },
   {
    "duration": 171,
    "start_time": "2024-08-09T09:55:29.300Z"
   },
   {
    "duration": 186,
    "start_time": "2024-08-09T09:56:00.195Z"
   },
   {
    "duration": 204,
    "start_time": "2024-08-09T09:57:25.147Z"
   },
   {
    "duration": 223,
    "start_time": "2024-08-09T09:59:15.069Z"
   },
   {
    "duration": 294,
    "start_time": "2024-08-09T10:00:22.774Z"
   },
   {
    "duration": 287,
    "start_time": "2024-08-09T10:02:22.815Z"
   },
   {
    "duration": 256,
    "start_time": "2024-08-09T10:04:14.158Z"
   },
   {
    "duration": 230,
    "start_time": "2024-08-09T10:04:28.703Z"
   },
   {
    "duration": 373,
    "start_time": "2024-08-09T10:05:02.592Z"
   },
   {
    "duration": 331,
    "start_time": "2024-08-09T10:05:23.574Z"
   },
   {
    "duration": 387,
    "start_time": "2024-08-09T10:16:53.233Z"
   },
   {
    "duration": 372,
    "start_time": "2024-08-09T10:17:00.096Z"
   },
   {
    "duration": 498,
    "start_time": "2024-08-09T10:17:12.543Z"
   },
   {
    "duration": 294,
    "start_time": "2024-08-09T10:33:53.915Z"
   },
   {
    "duration": 312,
    "start_time": "2024-08-09T10:34:04.502Z"
   },
   {
    "duration": 295,
    "start_time": "2024-08-09T10:34:16.146Z"
   },
   {
    "duration": 480,
    "start_time": "2024-08-09T10:44:15.345Z"
   },
   {
    "duration": 384,
    "start_time": "2024-08-09T10:45:35.027Z"
   },
   {
    "duration": 401,
    "start_time": "2024-08-09T10:46:58.243Z"
   },
   {
    "duration": 357,
    "start_time": "2024-08-09T10:48:54.796Z"
   },
   {
    "duration": 412,
    "start_time": "2024-08-09T10:49:01.371Z"
   },
   {
    "duration": 375,
    "start_time": "2024-08-09T10:49:07.129Z"
   },
   {
    "duration": 177,
    "start_time": "2024-08-09T10:54:43.175Z"
   },
   {
    "duration": 203,
    "start_time": "2024-08-09T10:56:09.822Z"
   },
   {
    "duration": 202,
    "start_time": "2024-08-09T10:58:45.635Z"
   },
   {
    "duration": 9,
    "start_time": "2024-08-09T10:59:23.440Z"
   },
   {
    "duration": 5,
    "start_time": "2024-08-09T11:00:48.471Z"
   },
   {
    "duration": 5,
    "start_time": "2024-08-09T11:01:02.052Z"
   },
   {
    "duration": 320,
    "start_time": "2024-08-09T11:03:36.380Z"
   },
   {
    "duration": 14130,
    "start_time": "2024-08-09T11:03:55.615Z"
   },
   {
    "duration": 14713,
    "start_time": "2024-08-09T11:04:32.224Z"
   },
   {
    "duration": 2390,
    "start_time": "2024-08-09T11:04:57.209Z"
   },
   {
    "duration": 11,
    "start_time": "2024-08-09T11:13:44.128Z"
   },
   {
    "duration": 299,
    "start_time": "2024-08-09T11:14:08.138Z"
   },
   {
    "duration": 138,
    "start_time": "2024-08-09T11:14:46.888Z"
   },
   {
    "duration": 9,
    "start_time": "2024-08-09T11:15:21.140Z"
   },
   {
    "duration": 11,
    "start_time": "2024-08-09T11:15:29.636Z"
   },
   {
    "duration": 142,
    "start_time": "2024-08-09T11:15:50.052Z"
   },
   {
    "duration": 4,
    "start_time": "2024-08-09T11:17:33.887Z"
   },
   {
    "duration": 323,
    "start_time": "2024-08-09T11:17:34.863Z"
   },
   {
    "duration": 6,
    "start_time": "2024-08-09T11:17:54.807Z"
   },
   {
    "duration": 14,
    "start_time": "2024-08-09T11:17:55.676Z"
   },
   {
    "duration": 3,
    "start_time": "2024-08-09T11:20:18.339Z"
   },
   {
    "duration": 1151,
    "start_time": "2024-08-09T11:21:06.554Z"
   },
   {
    "duration": 4,
    "start_time": "2024-08-09T11:21:19.675Z"
   },
   {
    "duration": 5,
    "start_time": "2024-08-09T11:21:25.572Z"
   },
   {
    "duration": 7,
    "start_time": "2024-08-09T11:21:28.873Z"
   },
   {
    "duration": 7,
    "start_time": "2024-08-09T11:21:41.087Z"
   },
   {
    "duration": 11,
    "start_time": "2024-08-09T11:21:42.249Z"
   },
   {
    "duration": 163,
    "start_time": "2024-08-09T11:22:00.788Z"
   },
   {
    "duration": 11,
    "start_time": "2024-08-09T11:22:02.980Z"
   },
   {
    "duration": 6,
    "start_time": "2024-08-09T11:22:43.685Z"
   },
   {
    "duration": 162,
    "start_time": "2024-08-09T11:22:44.231Z"
   },
   {
    "duration": 12,
    "start_time": "2024-08-09T11:22:45.362Z"
   },
   {
    "duration": 122,
    "start_time": "2024-08-09T11:23:03.492Z"
   },
   {
    "duration": 11,
    "start_time": "2024-08-09T11:23:04.434Z"
   },
   {
    "duration": 11,
    "start_time": "2024-08-09T11:23:11.476Z"
   },
   {
    "duration": 19,
    "start_time": "2024-08-09T11:23:43.384Z"
   },
   {
    "duration": 259,
    "start_time": "2024-08-09T11:24:37.803Z"
   },
   {
    "duration": 276,
    "start_time": "2024-08-09T11:25:12.647Z"
   },
   {
    "duration": 358,
    "start_time": "2024-08-09T11:26:31.823Z"
   },
   {
    "duration": 291,
    "start_time": "2024-08-09T11:27:34.808Z"
   },
   {
    "duration": 393,
    "start_time": "2024-08-09T11:28:30.658Z"
   },
   {
    "duration": 1122,
    "start_time": "2024-08-09T11:28:53.918Z"
   },
   {
    "duration": 76,
    "start_time": "2024-08-09T11:28:55.042Z"
   },
   {
    "duration": 4,
    "start_time": "2024-08-09T11:28:55.119Z"
   },
   {
    "duration": 23,
    "start_time": "2024-08-09T11:28:55.125Z"
   },
   {
    "duration": 3,
    "start_time": "2024-08-09T11:28:55.150Z"
   },
   {
    "duration": 20,
    "start_time": "2024-08-09T11:28:55.154Z"
   },
   {
    "duration": 3,
    "start_time": "2024-08-09T11:28:55.176Z"
   },
   {
    "duration": 26,
    "start_time": "2024-08-09T11:28:55.180Z"
   },
   {
    "duration": 5,
    "start_time": "2024-08-09T11:28:55.207Z"
   },
   {
    "duration": 14,
    "start_time": "2024-08-09T11:28:55.216Z"
   },
   {
    "duration": 38,
    "start_time": "2024-08-09T11:28:55.231Z"
   },
   {
    "duration": 7,
    "start_time": "2024-08-09T11:28:55.271Z"
   },
   {
    "duration": 7,
    "start_time": "2024-08-09T11:28:55.280Z"
   },
   {
    "duration": 15,
    "start_time": "2024-08-09T11:28:55.289Z"
   },
   {
    "duration": 15,
    "start_time": "2024-08-09T11:28:55.307Z"
   },
   {
    "duration": 9,
    "start_time": "2024-08-09T11:28:55.323Z"
   },
   {
    "duration": 194,
    "start_time": "2024-08-09T11:28:55.333Z"
   },
   {
    "duration": 11,
    "start_time": "2024-08-09T11:28:55.528Z"
   },
   {
    "duration": 136,
    "start_time": "2024-08-09T11:28:55.541Z"
   },
   {
    "duration": 10,
    "start_time": "2024-08-09T11:28:55.679Z"
   },
   {
    "duration": 28,
    "start_time": "2024-08-09T11:28:55.691Z"
   },
   {
    "duration": 109,
    "start_time": "2024-08-09T11:28:55.721Z"
   },
   {
    "duration": 0,
    "start_time": "2024-08-09T11:28:55.832Z"
   },
   {
    "duration": 0,
    "start_time": "2024-08-09T11:28:55.833Z"
   },
   {
    "duration": 0,
    "start_time": "2024-08-09T11:28:55.834Z"
   },
   {
    "duration": 0,
    "start_time": "2024-08-09T11:28:55.836Z"
   },
   {
    "duration": 0,
    "start_time": "2024-08-09T11:28:55.837Z"
   },
   {
    "duration": 0,
    "start_time": "2024-08-09T11:28:55.838Z"
   },
   {
    "duration": 0,
    "start_time": "2024-08-09T11:28:55.839Z"
   },
   {
    "duration": 0,
    "start_time": "2024-08-09T11:28:55.840Z"
   },
   {
    "duration": 0,
    "start_time": "2024-08-09T11:28:55.841Z"
   },
   {
    "duration": 0,
    "start_time": "2024-08-09T11:28:55.842Z"
   },
   {
    "duration": 339,
    "start_time": "2024-08-09T11:30:35.059Z"
   },
   {
    "duration": 269,
    "start_time": "2024-08-09T11:30:40.115Z"
   },
   {
    "duration": 344,
    "start_time": "2024-08-09T11:30:43.897Z"
   },
   {
    "duration": 304,
    "start_time": "2024-08-09T11:30:47.399Z"
   },
   {
    "duration": 400,
    "start_time": "2024-08-09T11:30:50.559Z"
   },
   {
    "duration": 16,
    "start_time": "2024-08-09T11:30:54.083Z"
   },
   {
    "duration": 15,
    "start_time": "2024-08-09T11:31:33.519Z"
   },
   {
    "duration": 9,
    "start_time": "2024-08-09T11:31:50.253Z"
   },
   {
    "duration": 17,
    "start_time": "2024-08-09T11:32:05.672Z"
   },
   {
    "duration": 8,
    "start_time": "2024-08-09T11:32:11.696Z"
   },
   {
    "duration": 149,
    "start_time": "2024-08-09T11:32:26.864Z"
   },
   {
    "duration": 5,
    "start_time": "2024-08-09T11:32:52.222Z"
   },
   {
    "duration": 4,
    "start_time": "2024-08-09T11:33:06.788Z"
   },
   {
    "duration": 165,
    "start_time": "2024-08-09T11:37:19.407Z"
   },
   {
    "duration": 194,
    "start_time": "2024-08-09T11:38:01.817Z"
   },
   {
    "duration": 277,
    "start_time": "2024-08-09T11:38:19.167Z"
   },
   {
    "duration": 188,
    "start_time": "2024-08-09T11:39:22.971Z"
   },
   {
    "duration": 191,
    "start_time": "2024-08-09T11:39:36.018Z"
   },
   {
    "duration": 212,
    "start_time": "2024-08-09T14:10:58.994Z"
   },
   {
    "duration": 191,
    "start_time": "2024-08-09T14:11:08.212Z"
   },
   {
    "duration": 5,
    "start_time": "2024-08-09T14:11:18.412Z"
   },
   {
    "duration": 1429,
    "start_time": "2024-08-09T14:11:21.301Z"
   },
   {
    "duration": 5,
    "start_time": "2024-08-09T14:12:17.428Z"
   },
   {
    "duration": 5,
    "start_time": "2024-08-09T14:15:05.092Z"
   },
   {
    "duration": 5,
    "start_time": "2024-08-09T14:15:56.761Z"
   },
   {
    "duration": 5,
    "start_time": "2024-08-09T14:16:58.106Z"
   },
   {
    "duration": 22,
    "start_time": "2024-08-09T14:17:05.199Z"
   },
   {
    "duration": 6,
    "start_time": "2024-08-09T14:17:13.828Z"
   },
   {
    "duration": 6,
    "start_time": "2024-08-09T14:20:00.860Z"
   },
   {
    "duration": 6,
    "start_time": "2024-08-09T14:20:19.381Z"
   },
   {
    "duration": 6,
    "start_time": "2024-08-09T14:20:58.071Z"
   },
   {
    "duration": 16,
    "start_time": "2024-08-09T14:27:53.052Z"
   },
   {
    "duration": 149,
    "start_time": "2024-08-09T14:28:36.562Z"
   },
   {
    "duration": 11,
    "start_time": "2024-08-09T14:30:08.237Z"
   },
   {
    "duration": 124,
    "start_time": "2024-08-09T14:36:18.468Z"
   },
   {
    "duration": 116,
    "start_time": "2024-08-09T14:54:27.013Z"
   },
   {
    "duration": 265,
    "start_time": "2024-08-09T14:55:41.496Z"
   },
   {
    "duration": 238,
    "start_time": "2024-08-09T14:56:50.764Z"
   },
   {
    "duration": 1258,
    "start_time": "2024-08-10T11:42:52.627Z"
   },
   {
    "duration": 264,
    "start_time": "2024-08-10T11:42:53.887Z"
   },
   {
    "duration": 3,
    "start_time": "2024-08-10T11:42:54.152Z"
   },
   {
    "duration": 22,
    "start_time": "2024-08-10T11:42:54.156Z"
   },
   {
    "duration": 2,
    "start_time": "2024-08-10T11:42:54.180Z"
   },
   {
    "duration": 26,
    "start_time": "2024-08-10T11:42:54.184Z"
   },
   {
    "duration": 3,
    "start_time": "2024-08-10T11:42:54.211Z"
   },
   {
    "duration": 15,
    "start_time": "2024-08-10T11:42:54.215Z"
   },
   {
    "duration": 5,
    "start_time": "2024-08-10T11:42:54.231Z"
   },
   {
    "duration": 13,
    "start_time": "2024-08-10T11:42:54.237Z"
   },
   {
    "duration": 14,
    "start_time": "2024-08-10T11:42:54.252Z"
   },
   {
    "duration": 30,
    "start_time": "2024-08-10T11:42:54.268Z"
   },
   {
    "duration": 5,
    "start_time": "2024-08-10T11:42:54.299Z"
   },
   {
    "duration": 7,
    "start_time": "2024-08-10T11:42:54.306Z"
   },
   {
    "duration": 16,
    "start_time": "2024-08-10T11:42:54.314Z"
   },
   {
    "duration": 5,
    "start_time": "2024-08-10T11:42:54.331Z"
   },
   {
    "duration": 175,
    "start_time": "2024-08-10T11:42:54.337Z"
   },
   {
    "duration": 10,
    "start_time": "2024-08-10T11:42:54.514Z"
   },
   {
    "duration": 115,
    "start_time": "2024-08-10T11:42:54.525Z"
   },
   {
    "duration": 15,
    "start_time": "2024-08-10T11:42:54.641Z"
   },
   {
    "duration": 319,
    "start_time": "2024-08-10T11:42:54.657Z"
   },
   {
    "duration": 255,
    "start_time": "2024-08-10T11:42:54.977Z"
   },
   {
    "duration": 384,
    "start_time": "2024-08-10T11:42:55.234Z"
   },
   {
    "duration": 272,
    "start_time": "2024-08-10T11:42:55.619Z"
   },
   {
    "duration": 367,
    "start_time": "2024-08-10T11:42:55.896Z"
   },
   {
    "duration": 9,
    "start_time": "2024-08-10T11:42:56.264Z"
   },
   {
    "duration": 174,
    "start_time": "2024-08-10T11:42:56.274Z"
   },
   {
    "duration": 4,
    "start_time": "2024-08-10T11:42:56.449Z"
   },
   {
    "duration": 171,
    "start_time": "2024-08-10T11:42:56.454Z"
   },
   {
    "duration": 178,
    "start_time": "2024-08-10T11:42:56.627Z"
   },
   {
    "duration": 246,
    "start_time": "2024-08-10T11:42:56.806Z"
   },
   {
    "duration": 4,
    "start_time": "2024-08-10T11:42:57.053Z"
   },
   {
    "duration": 16,
    "start_time": "2024-08-10T11:42:57.058Z"
   },
   {
    "duration": 221,
    "start_time": "2024-08-10T11:42:57.075Z"
   },
   {
    "duration": 140,
    "start_time": "2024-08-10T11:48:40.931Z"
   },
   {
    "duration": 94,
    "start_time": "2024-08-10T11:52:24.264Z"
   },
   {
    "duration": 5,
    "start_time": "2024-08-10T11:54:15.708Z"
   },
   {
    "duration": 9,
    "start_time": "2024-08-10T11:54:56.304Z"
   },
   {
    "duration": 24,
    "start_time": "2024-08-10T11:55:08.876Z"
   },
   {
    "duration": 23,
    "start_time": "2024-08-10T11:58:19.353Z"
   },
   {
    "duration": 22,
    "start_time": "2024-08-10T11:58:32.714Z"
   },
   {
    "duration": 23,
    "start_time": "2024-08-10T11:58:56.140Z"
   },
   {
    "duration": 24,
    "start_time": "2024-08-10T11:59:01.514Z"
   },
   {
    "duration": 36,
    "start_time": "2024-08-10T11:59:12.202Z"
   },
   {
    "duration": 9,
    "start_time": "2024-08-10T12:00:05.256Z"
   },
   {
    "duration": 11,
    "start_time": "2024-08-10T12:01:13.087Z"
   },
   {
    "duration": 24,
    "start_time": "2024-08-10T12:02:28.131Z"
   },
   {
    "duration": 123,
    "start_time": "2024-08-10T12:06:21.468Z"
   },
   {
    "duration": 23,
    "start_time": "2024-08-10T12:06:22.425Z"
   },
   {
    "duration": 52,
    "start_time": "2024-08-10T12:09:55.303Z"
   },
   {
    "duration": 45,
    "start_time": "2024-08-10T12:11:06.870Z"
   },
   {
    "duration": 31,
    "start_time": "2024-08-10T12:12:55.911Z"
   },
   {
    "duration": 15,
    "start_time": "2024-08-10T12:13:39.473Z"
   },
   {
    "duration": 15,
    "start_time": "2024-08-10T12:16:01.289Z"
   },
   {
    "duration": 14,
    "start_time": "2024-08-10T12:16:23.215Z"
   },
   {
    "duration": 1305,
    "start_time": "2024-08-12T07:28:46.432Z"
   },
   {
    "duration": 268,
    "start_time": "2024-08-12T07:28:47.739Z"
   },
   {
    "duration": 4,
    "start_time": "2024-08-12T07:28:48.008Z"
   },
   {
    "duration": 23,
    "start_time": "2024-08-12T07:28:48.014Z"
   },
   {
    "duration": 3,
    "start_time": "2024-08-12T07:28:48.039Z"
   },
   {
    "duration": 16,
    "start_time": "2024-08-12T07:28:48.044Z"
   },
   {
    "duration": 3,
    "start_time": "2024-08-12T07:28:48.062Z"
   },
   {
    "duration": 35,
    "start_time": "2024-08-12T07:28:48.067Z"
   },
   {
    "duration": 5,
    "start_time": "2024-08-12T07:28:48.104Z"
   },
   {
    "duration": 15,
    "start_time": "2024-08-12T07:28:48.111Z"
   },
   {
    "duration": 15,
    "start_time": "2024-08-12T07:28:48.128Z"
   },
   {
    "duration": 6,
    "start_time": "2024-08-12T07:28:48.145Z"
   },
   {
    "duration": 4,
    "start_time": "2024-08-12T07:28:48.153Z"
   },
   {
    "duration": 6,
    "start_time": "2024-08-12T07:28:48.197Z"
   },
   {
    "duration": 12,
    "start_time": "2024-08-12T07:28:48.204Z"
   },
   {
    "duration": 10,
    "start_time": "2024-08-12T07:28:48.217Z"
   },
   {
    "duration": 187,
    "start_time": "2024-08-12T07:28:48.229Z"
   },
   {
    "duration": 10,
    "start_time": "2024-08-12T07:28:48.418Z"
   },
   {
    "duration": 136,
    "start_time": "2024-08-12T07:28:48.429Z"
   },
   {
    "duration": 15,
    "start_time": "2024-08-12T07:28:48.567Z"
   },
   {
    "duration": 347,
    "start_time": "2024-08-12T07:28:48.584Z"
   },
   {
    "duration": 303,
    "start_time": "2024-08-12T07:28:48.933Z"
   },
   {
    "duration": 370,
    "start_time": "2024-08-12T07:28:49.238Z"
   },
   {
    "duration": 290,
    "start_time": "2024-08-12T07:28:49.609Z"
   },
   {
    "duration": 380,
    "start_time": "2024-08-12T07:28:49.901Z"
   },
   {
    "duration": 17,
    "start_time": "2024-08-12T07:28:50.282Z"
   },
   {
    "duration": 201,
    "start_time": "2024-08-12T07:28:50.301Z"
   },
   {
    "duration": 4,
    "start_time": "2024-08-12T07:28:50.505Z"
   },
   {
    "duration": 179,
    "start_time": "2024-08-12T07:28:50.511Z"
   },
   {
    "duration": 196,
    "start_time": "2024-08-12T07:28:50.695Z"
   },
   {
    "duration": 258,
    "start_time": "2024-08-12T07:28:50.893Z"
   },
   {
    "duration": 4,
    "start_time": "2024-08-12T07:28:51.153Z"
   },
   {
    "duration": 13,
    "start_time": "2024-08-12T07:28:51.158Z"
   },
   {
    "duration": 230,
    "start_time": "2024-08-12T07:28:51.172Z"
   },
   {
    "duration": 154,
    "start_time": "2024-08-12T07:28:51.403Z"
   },
   {
    "duration": 61,
    "start_time": "2024-08-12T07:28:51.558Z"
   },
   {
    "duration": 14,
    "start_time": "2024-08-12T07:28:51.620Z"
   },
   {
    "duration": 8,
    "start_time": "2024-08-12T07:34:09.139Z"
   },
   {
    "duration": 12,
    "start_time": "2024-08-12T07:34:25.359Z"
   },
   {
    "duration": 8,
    "start_time": "2024-08-12T07:36:07.779Z"
   },
   {
    "duration": 12,
    "start_time": "2024-08-12T07:36:50.444Z"
   },
   {
    "duration": 5,
    "start_time": "2024-08-12T07:37:09.849Z"
   },
   {
    "duration": 8,
    "start_time": "2024-08-12T07:45:02.400Z"
   },
   {
    "duration": 7,
    "start_time": "2024-08-12T07:45:14.828Z"
   },
   {
    "duration": 6,
    "start_time": "2024-08-12T07:46:32.957Z"
   },
   {
    "duration": 4,
    "start_time": "2024-08-12T07:47:11.991Z"
   },
   {
    "duration": 6,
    "start_time": "2024-08-12T07:47:21.894Z"
   },
   {
    "duration": 958,
    "start_time": "2024-08-12T07:50:20.724Z"
   },
   {
    "duration": 6,
    "start_time": "2024-08-12T07:50:48.205Z"
   },
   {
    "duration": 6,
    "start_time": "2024-08-12T08:08:01.878Z"
   },
   {
    "duration": 6,
    "start_time": "2024-08-12T08:08:47.451Z"
   },
   {
    "duration": 8,
    "start_time": "2024-08-12T08:19:27.511Z"
   },
   {
    "duration": 4,
    "start_time": "2024-08-12T08:20:01.682Z"
   },
   {
    "duration": 4,
    "start_time": "2024-08-12T08:20:06.608Z"
   },
   {
    "duration": 10,
    "start_time": "2024-08-12T08:21:55.994Z"
   },
   {
    "duration": 656,
    "start_time": "2024-08-12T08:22:03.525Z"
   },
   {
    "duration": 750,
    "start_time": "2024-08-12T08:22:11.032Z"
   },
   {
    "duration": 9,
    "start_time": "2024-08-12T08:22:40.414Z"
   },
   {
    "duration": 5,
    "start_time": "2024-08-12T08:22:47.271Z"
   },
   {
    "duration": 4,
    "start_time": "2024-08-12T08:22:55.593Z"
   },
   {
    "duration": 6,
    "start_time": "2024-08-12T08:23:42.931Z"
   },
   {
    "duration": 8,
    "start_time": "2024-08-12T08:23:53.079Z"
   },
   {
    "duration": 4,
    "start_time": "2024-08-12T08:23:59.272Z"
   },
   {
    "duration": 8,
    "start_time": "2024-08-12T08:24:47.792Z"
   },
   {
    "duration": 4,
    "start_time": "2024-08-12T08:24:59.916Z"
   },
   {
    "duration": 4,
    "start_time": "2024-08-12T08:25:48.657Z"
   },
   {
    "duration": 4,
    "start_time": "2024-08-12T08:26:00.883Z"
   },
   {
    "duration": 53,
    "start_time": "2024-08-12T08:27:56.695Z"
   },
   {
    "duration": 12,
    "start_time": "2024-08-12T08:28:02.886Z"
   },
   {
    "duration": 11,
    "start_time": "2024-08-12T08:30:55.948Z"
   },
   {
    "duration": 15,
    "start_time": "2024-08-12T08:31:35.356Z"
   },
   {
    "duration": 12,
    "start_time": "2024-08-12T08:36:13.874Z"
   },
   {
    "duration": 45,
    "start_time": "2024-08-12T08:36:37.390Z"
   },
   {
    "duration": 53,
    "start_time": "2024-08-12T08:36:47.467Z"
   },
   {
    "duration": 55,
    "start_time": "2024-08-12T08:36:59.336Z"
   },
   {
    "duration": 44,
    "start_time": "2024-08-12T08:37:28.658Z"
   },
   {
    "duration": 6,
    "start_time": "2024-08-12T08:41:25.846Z"
   },
   {
    "duration": 672,
    "start_time": "2024-08-12T08:41:35.826Z"
   },
   {
    "duration": 756,
    "start_time": "2024-08-12T08:41:51.469Z"
   },
   {
    "duration": 16,
    "start_time": "2024-08-12T08:42:12.876Z"
   },
   {
    "duration": 6,
    "start_time": "2024-08-12T08:44:07.715Z"
   },
   {
    "duration": 18,
    "start_time": "2024-08-12T08:44:17.686Z"
   },
   {
    "duration": 759,
    "start_time": "2024-08-12T08:48:07.537Z"
   },
   {
    "duration": 20,
    "start_time": "2024-08-12T08:48:19.825Z"
   },
   {
    "duration": 45,
    "start_time": "2024-08-12T09:09:06.285Z"
   },
   {
    "duration": 43,
    "start_time": "2024-08-12T09:17:04.522Z"
   },
   {
    "duration": 15,
    "start_time": "2024-08-12T09:20:53.029Z"
   },
   {
    "duration": 19,
    "start_time": "2024-08-12T09:23:20.653Z"
   },
   {
    "duration": 47,
    "start_time": "2024-08-12T10:17:37.401Z"
   },
   {
    "duration": 49,
    "start_time": "2024-08-12T10:18:24.431Z"
   },
   {
    "duration": 1132,
    "start_time": "2024-08-12T10:21:23.250Z"
   },
   {
    "duration": 92,
    "start_time": "2024-08-12T10:21:24.383Z"
   },
   {
    "duration": 4,
    "start_time": "2024-08-12T10:21:24.477Z"
   },
   {
    "duration": 35,
    "start_time": "2024-08-12T10:21:24.483Z"
   },
   {
    "duration": 4,
    "start_time": "2024-08-12T10:21:24.520Z"
   },
   {
    "duration": 37,
    "start_time": "2024-08-12T10:21:24.525Z"
   },
   {
    "duration": 3,
    "start_time": "2024-08-12T10:21:24.564Z"
   },
   {
    "duration": 29,
    "start_time": "2024-08-12T10:21:24.568Z"
   },
   {
    "duration": 25,
    "start_time": "2024-08-12T10:21:24.599Z"
   },
   {
    "duration": 16,
    "start_time": "2024-08-12T10:21:24.628Z"
   },
   {
    "duration": 17,
    "start_time": "2024-08-12T10:21:24.646Z"
   },
   {
    "duration": 7,
    "start_time": "2024-08-12T10:21:24.665Z"
   },
   {
    "duration": 29,
    "start_time": "2024-08-12T10:21:24.673Z"
   },
   {
    "duration": 23,
    "start_time": "2024-08-12T10:21:24.703Z"
   },
   {
    "duration": 16,
    "start_time": "2024-08-12T10:21:24.728Z"
   },
   {
    "duration": 13,
    "start_time": "2024-08-12T10:21:24.745Z"
   },
   {
    "duration": 172,
    "start_time": "2024-08-12T10:21:24.760Z"
   },
   {
    "duration": 10,
    "start_time": "2024-08-12T10:21:24.934Z"
   },
   {
    "duration": 134,
    "start_time": "2024-08-12T10:21:24.946Z"
   },
   {
    "duration": 19,
    "start_time": "2024-08-12T10:21:25.082Z"
   },
   {
    "duration": 389,
    "start_time": "2024-08-12T10:21:25.103Z"
   },
   {
    "duration": 292,
    "start_time": "2024-08-12T10:21:25.497Z"
   },
   {
    "duration": 385,
    "start_time": "2024-08-12T10:21:25.790Z"
   },
   {
    "duration": 297,
    "start_time": "2024-08-12T10:21:26.177Z"
   },
   {
    "duration": 398,
    "start_time": "2024-08-12T10:21:26.475Z"
   },
   {
    "duration": 10,
    "start_time": "2024-08-12T10:21:26.875Z"
   },
   {
    "duration": 185,
    "start_time": "2024-08-12T10:21:26.897Z"
   },
   {
    "duration": 10,
    "start_time": "2024-08-12T10:21:27.086Z"
   },
   {
    "duration": 183,
    "start_time": "2024-08-12T10:21:27.097Z"
   },
   {
    "duration": 5,
    "start_time": "2024-08-12T10:21:27.282Z"
   },
   {
    "duration": 196,
    "start_time": "2024-08-12T10:21:27.295Z"
   },
   {
    "duration": 279,
    "start_time": "2024-08-12T10:21:27.496Z"
   },
   {
    "duration": 5,
    "start_time": "2024-08-12T10:21:27.777Z"
   },
   {
    "duration": 7,
    "start_time": "2024-08-12T10:21:27.796Z"
   },
   {
    "duration": 232,
    "start_time": "2024-08-12T10:21:27.805Z"
   },
   {
    "duration": 150,
    "start_time": "2024-08-12T10:21:28.039Z"
   },
   {
    "duration": 49,
    "start_time": "2024-08-12T10:21:28.190Z"
   },
   {
    "duration": 16,
    "start_time": "2024-08-12T10:21:28.241Z"
   },
   {
    "duration": 7,
    "start_time": "2024-08-12T10:21:28.259Z"
   },
   {
    "duration": 33,
    "start_time": "2024-08-12T10:21:28.268Z"
   },
   {
    "duration": 7,
    "start_time": "2024-08-12T10:21:28.303Z"
   },
   {
    "duration": 46,
    "start_time": "2024-08-12T10:21:28.312Z"
   },
   {
    "duration": 124,
    "start_time": "2024-08-12T10:21:28.359Z"
   },
   {
    "duration": 20,
    "start_time": "2024-08-12T10:22:07.657Z"
   },
   {
    "duration": 17,
    "start_time": "2024-08-12T11:08:53.772Z"
   },
   {
    "duration": 374,
    "start_time": "2024-08-12T11:12:39.991Z"
   },
   {
    "duration": 351,
    "start_time": "2024-08-12T11:13:41.432Z"
   },
   {
    "duration": 14,
    "start_time": "2024-08-12T11:22:35.837Z"
   },
   {
    "duration": 9,
    "start_time": "2024-08-12T11:22:59.035Z"
   },
   {
    "duration": 200,
    "start_time": "2024-08-12T11:23:37.405Z"
   },
   {
    "duration": 198,
    "start_time": "2024-08-12T11:24:04.333Z"
   },
   {
    "duration": 190,
    "start_time": "2024-08-12T11:24:13.078Z"
   },
   {
    "duration": 194,
    "start_time": "2024-08-12T11:24:38.836Z"
   },
   {
    "duration": 204,
    "start_time": "2024-08-12T11:24:43.067Z"
   },
   {
    "duration": 218,
    "start_time": "2024-08-12T11:24:58.882Z"
   },
   {
    "duration": 231,
    "start_time": "2024-08-12T11:25:11.391Z"
   },
   {
    "duration": 311,
    "start_time": "2024-08-12T11:25:29.688Z"
   },
   {
    "duration": 234,
    "start_time": "2024-08-12T11:25:45.771Z"
   },
   {
    "duration": 191,
    "start_time": "2024-08-12T11:28:27.510Z"
   },
   {
    "duration": 198,
    "start_time": "2024-08-12T11:28:34.026Z"
   },
   {
    "duration": 210,
    "start_time": "2024-08-12T11:28:43.678Z"
   },
   {
    "duration": 233,
    "start_time": "2024-08-12T11:59:06.809Z"
   },
   {
    "duration": 6,
    "start_time": "2024-08-12T12:01:48.128Z"
   },
   {
    "duration": 4,
    "start_time": "2024-08-12T12:13:37.257Z"
   },
   {
    "duration": 13,
    "start_time": "2024-08-12T12:15:01.892Z"
   },
   {
    "duration": 4,
    "start_time": "2024-08-12T12:15:10.389Z"
   },
   {
    "duration": 27,
    "start_time": "2024-08-12T12:15:11.738Z"
   },
   {
    "duration": 5,
    "start_time": "2024-08-12T12:15:24.127Z"
   },
   {
    "duration": 29,
    "start_time": "2024-08-12T12:15:25.268Z"
   },
   {
    "duration": 11,
    "start_time": "2024-08-12T12:16:58.587Z"
   },
   {
    "duration": 4,
    "start_time": "2024-08-12T12:17:21.027Z"
   },
   {
    "duration": 24,
    "start_time": "2024-08-12T12:17:22.186Z"
   },
   {
    "duration": 9,
    "start_time": "2024-08-12T12:17:23.483Z"
   },
   {
    "duration": 40,
    "start_time": "2024-08-12T12:19:20.190Z"
   },
   {
    "duration": 26,
    "start_time": "2024-08-12T12:20:22.787Z"
   },
   {
    "duration": 11,
    "start_time": "2024-08-12T12:23:53.717Z"
   },
   {
    "duration": 4,
    "start_time": "2024-08-12T12:25:54.398Z"
   },
   {
    "duration": 26,
    "start_time": "2024-08-12T12:25:57.067Z"
   },
   {
    "duration": 9,
    "start_time": "2024-08-12T12:26:00.977Z"
   },
   {
    "duration": 14,
    "start_time": "2024-08-12T12:26:05.153Z"
   },
   {
    "duration": 8,
    "start_time": "2024-08-12T12:26:10.165Z"
   },
   {
    "duration": 45,
    "start_time": "2024-08-12T12:26:12.702Z"
   },
   {
    "duration": 11,
    "start_time": "2024-08-12T12:26:15.146Z"
   },
   {
    "duration": 1256,
    "start_time": "2024-08-12T12:41:52.150Z"
   },
   {
    "duration": 89,
    "start_time": "2024-08-12T12:41:53.408Z"
   },
   {
    "duration": 3,
    "start_time": "2024-08-12T12:41:53.499Z"
   },
   {
    "duration": 45,
    "start_time": "2024-08-12T12:41:53.503Z"
   },
   {
    "duration": 4,
    "start_time": "2024-08-12T12:41:53.550Z"
   },
   {
    "duration": 23,
    "start_time": "2024-08-12T12:41:53.555Z"
   },
   {
    "duration": 6,
    "start_time": "2024-08-12T12:41:53.580Z"
   },
   {
    "duration": 27,
    "start_time": "2024-08-12T12:41:53.587Z"
   },
   {
    "duration": 5,
    "start_time": "2024-08-12T12:41:53.616Z"
   },
   {
    "duration": 15,
    "start_time": "2024-08-12T12:41:53.622Z"
   },
   {
    "duration": 16,
    "start_time": "2024-08-12T12:41:53.638Z"
   },
   {
    "duration": 7,
    "start_time": "2024-08-12T12:41:53.655Z"
   },
   {
    "duration": 34,
    "start_time": "2024-08-12T12:41:53.663Z"
   },
   {
    "duration": 7,
    "start_time": "2024-08-12T12:41:53.700Z"
   },
   {
    "duration": 74,
    "start_time": "2024-08-12T12:41:53.708Z"
   },
   {
    "duration": 9,
    "start_time": "2024-08-12T12:41:53.784Z"
   },
   {
    "duration": 180,
    "start_time": "2024-08-12T12:41:53.794Z"
   },
   {
    "duration": 11,
    "start_time": "2024-08-12T12:41:53.976Z"
   },
   {
    "duration": 138,
    "start_time": "2024-08-12T12:41:53.996Z"
   },
   {
    "duration": 16,
    "start_time": "2024-08-12T12:41:54.136Z"
   },
   {
    "duration": 372,
    "start_time": "2024-08-12T12:41:54.154Z"
   },
   {
    "duration": 314,
    "start_time": "2024-08-12T12:41:54.527Z"
   },
   {
    "duration": 337,
    "start_time": "2024-08-12T12:41:54.843Z"
   },
   {
    "duration": 354,
    "start_time": "2024-08-12T12:41:55.182Z"
   },
   {
    "duration": 390,
    "start_time": "2024-08-12T12:41:55.539Z"
   },
   {
    "duration": 11,
    "start_time": "2024-08-12T12:41:55.930Z"
   },
   {
    "duration": 245,
    "start_time": "2024-08-12T12:41:55.943Z"
   },
   {
    "duration": 4,
    "start_time": "2024-08-12T12:41:56.196Z"
   },
   {
    "duration": 180,
    "start_time": "2024-08-12T12:41:56.202Z"
   },
   {
    "duration": 14,
    "start_time": "2024-08-12T12:41:56.384Z"
   },
   {
    "duration": 200,
    "start_time": "2024-08-12T12:41:56.399Z"
   },
   {
    "duration": 280,
    "start_time": "2024-08-12T12:41:56.601Z"
   },
   {
    "duration": 16,
    "start_time": "2024-08-12T12:41:56.883Z"
   },
   {
    "duration": 6,
    "start_time": "2024-08-12T12:41:56.901Z"
   },
   {
    "duration": 238,
    "start_time": "2024-08-12T12:41:56.909Z"
   },
   {
    "duration": 156,
    "start_time": "2024-08-12T12:41:57.149Z"
   },
   {
    "duration": 5,
    "start_time": "2024-08-12T12:41:57.306Z"
   },
   {
    "duration": 28,
    "start_time": "2024-08-12T12:41:57.313Z"
   },
   {
    "duration": 10,
    "start_time": "2024-08-12T12:41:57.343Z"
   },
   {
    "duration": 9,
    "start_time": "2024-08-12T12:41:57.355Z"
   },
   {
    "duration": 9,
    "start_time": "2024-08-12T12:41:57.400Z"
   },
   {
    "duration": 36,
    "start_time": "2024-08-12T12:41:57.410Z"
   },
   {
    "duration": 11,
    "start_time": "2024-08-12T12:41:57.449Z"
   },
   {
    "duration": 1319,
    "start_time": "2024-08-12T13:18:04.765Z"
   },
   {
    "duration": 90,
    "start_time": "2024-08-12T13:18:06.086Z"
   },
   {
    "duration": 4,
    "start_time": "2024-08-12T13:18:06.177Z"
   },
   {
    "duration": 35,
    "start_time": "2024-08-12T13:18:06.183Z"
   },
   {
    "duration": 3,
    "start_time": "2024-08-12T13:18:06.220Z"
   },
   {
    "duration": 19,
    "start_time": "2024-08-12T13:18:06.225Z"
   },
   {
    "duration": 3,
    "start_time": "2024-08-12T13:18:06.246Z"
   },
   {
    "duration": 18,
    "start_time": "2024-08-12T13:18:06.251Z"
   },
   {
    "duration": 5,
    "start_time": "2024-08-12T13:18:06.297Z"
   },
   {
    "duration": 54,
    "start_time": "2024-08-12T13:18:06.303Z"
   },
   {
    "duration": 16,
    "start_time": "2024-08-12T13:18:06.359Z"
   },
   {
    "duration": 8,
    "start_time": "2024-08-12T13:18:06.376Z"
   },
   {
    "duration": 8,
    "start_time": "2024-08-12T13:18:06.386Z"
   },
   {
    "duration": 8,
    "start_time": "2024-08-12T13:18:06.399Z"
   },
   {
    "duration": 12,
    "start_time": "2024-08-12T13:18:06.409Z"
   },
   {
    "duration": 5,
    "start_time": "2024-08-12T13:18:06.423Z"
   },
   {
    "duration": 209,
    "start_time": "2024-08-12T13:18:06.430Z"
   },
   {
    "duration": 14,
    "start_time": "2024-08-12T13:18:06.641Z"
   },
   {
    "duration": 163,
    "start_time": "2024-08-12T13:18:06.657Z"
   },
   {
    "duration": 16,
    "start_time": "2024-08-12T13:18:06.822Z"
   },
   {
    "duration": 375,
    "start_time": "2024-08-12T13:18:06.840Z"
   },
   {
    "duration": 285,
    "start_time": "2024-08-12T13:18:07.216Z"
   },
   {
    "duration": 392,
    "start_time": "2024-08-12T13:18:07.502Z"
   },
   {
    "duration": 313,
    "start_time": "2024-08-12T13:18:07.896Z"
   },
   {
    "duration": 405,
    "start_time": "2024-08-12T13:18:08.211Z"
   },
   {
    "duration": 10,
    "start_time": "2024-08-12T13:18:08.618Z"
   },
   {
    "duration": 238,
    "start_time": "2024-08-12T13:18:08.630Z"
   },
   {
    "duration": 4,
    "start_time": "2024-08-12T13:18:08.870Z"
   },
   {
    "duration": 196,
    "start_time": "2024-08-12T13:18:08.876Z"
   },
   {
    "duration": 7,
    "start_time": "2024-08-12T13:18:09.075Z"
   },
   {
    "duration": 207,
    "start_time": "2024-08-12T13:18:09.096Z"
   },
   {
    "duration": 293,
    "start_time": "2024-08-12T13:18:09.305Z"
   },
   {
    "duration": 5,
    "start_time": "2024-08-12T13:18:09.600Z"
   },
   {
    "duration": 13,
    "start_time": "2024-08-12T13:18:09.607Z"
   },
   {
    "duration": 244,
    "start_time": "2024-08-12T13:18:09.622Z"
   },
   {
    "duration": 147,
    "start_time": "2024-08-12T13:18:09.868Z"
   },
   {
    "duration": 5,
    "start_time": "2024-08-12T13:18:10.017Z"
   },
   {
    "duration": 42,
    "start_time": "2024-08-12T13:18:10.023Z"
   },
   {
    "duration": 9,
    "start_time": "2024-08-12T13:18:10.067Z"
   },
   {
    "duration": 23,
    "start_time": "2024-08-12T13:18:10.078Z"
   },
   {
    "duration": 20,
    "start_time": "2024-08-12T13:18:10.106Z"
   },
   {
    "duration": 40,
    "start_time": "2024-08-12T13:18:10.128Z"
   },
   {
    "duration": 29,
    "start_time": "2024-08-12T13:18:10.170Z"
   },
   {
    "duration": 1304,
    "start_time": "2024-08-12T14:55:03.663Z"
   },
   {
    "duration": 270,
    "start_time": "2024-08-12T14:55:04.970Z"
   },
   {
    "duration": 3,
    "start_time": "2024-08-12T14:55:05.242Z"
   },
   {
    "duration": 40,
    "start_time": "2024-08-12T14:55:05.246Z"
   },
   {
    "duration": 4,
    "start_time": "2024-08-12T14:55:05.289Z"
   },
   {
    "duration": 29,
    "start_time": "2024-08-12T14:55:05.295Z"
   },
   {
    "duration": 4,
    "start_time": "2024-08-12T14:55:05.326Z"
   },
   {
    "duration": 52,
    "start_time": "2024-08-12T14:55:05.332Z"
   },
   {
    "duration": 5,
    "start_time": "2024-08-12T14:55:05.386Z"
   },
   {
    "duration": 22,
    "start_time": "2024-08-12T14:55:05.393Z"
   },
   {
    "duration": 20,
    "start_time": "2024-08-12T14:55:05.417Z"
   },
   {
    "duration": 39,
    "start_time": "2024-08-12T14:55:05.438Z"
   },
   {
    "duration": 5,
    "start_time": "2024-08-12T14:55:05.480Z"
   },
   {
    "duration": 7,
    "start_time": "2024-08-12T14:55:05.490Z"
   },
   {
    "duration": 19,
    "start_time": "2024-08-12T14:55:05.499Z"
   },
   {
    "duration": 15,
    "start_time": "2024-08-12T14:55:05.520Z"
   },
   {
    "duration": 205,
    "start_time": "2024-08-12T14:55:05.537Z"
   },
   {
    "duration": 31,
    "start_time": "2024-08-12T14:55:05.743Z"
   },
   {
    "duration": 150,
    "start_time": "2024-08-12T14:55:05.775Z"
   },
   {
    "duration": 31,
    "start_time": "2024-08-12T14:55:05.926Z"
   },
   {
    "duration": 400,
    "start_time": "2024-08-12T14:55:05.961Z"
   },
   {
    "duration": 325,
    "start_time": "2024-08-12T14:55:06.363Z"
   },
   {
    "duration": 383,
    "start_time": "2024-08-12T14:55:06.690Z"
   },
   {
    "duration": 349,
    "start_time": "2024-08-12T14:55:07.077Z"
   },
   {
    "duration": 460,
    "start_time": "2024-08-12T14:55:07.428Z"
   },
   {
    "duration": 11,
    "start_time": "2024-08-12T14:55:07.890Z"
   },
   {
    "duration": 279,
    "start_time": "2024-08-12T14:55:07.903Z"
   },
   {
    "duration": 5,
    "start_time": "2024-08-12T14:55:08.183Z"
   },
   {
    "duration": 212,
    "start_time": "2024-08-12T14:55:08.190Z"
   },
   {
    "duration": 6,
    "start_time": "2024-08-12T14:55:08.404Z"
   },
   {
    "duration": 230,
    "start_time": "2024-08-12T14:55:08.411Z"
   },
   {
    "duration": 294,
    "start_time": "2024-08-12T14:55:08.643Z"
   },
   {
    "duration": 4,
    "start_time": "2024-08-12T14:55:08.939Z"
   },
   {
    "duration": 18,
    "start_time": "2024-08-12T14:55:08.960Z"
   },
   {
    "duration": 253,
    "start_time": "2024-08-12T14:55:08.980Z"
   },
   {
    "duration": 171,
    "start_time": "2024-08-12T14:55:09.235Z"
   },
   {
    "duration": 4,
    "start_time": "2024-08-12T14:55:09.408Z"
   },
   {
    "duration": 42,
    "start_time": "2024-08-12T14:55:09.414Z"
   },
   {
    "duration": 19,
    "start_time": "2024-08-12T14:55:09.458Z"
   },
   {
    "duration": 11,
    "start_time": "2024-08-12T14:55:09.479Z"
   },
   {
    "duration": 14,
    "start_time": "2024-08-12T14:55:09.493Z"
   },
   {
    "duration": 27,
    "start_time": "2024-08-12T14:55:09.509Z"
   },
   {
    "duration": 29,
    "start_time": "2024-08-12T14:55:09.538Z"
   },
   {
    "duration": 22,
    "start_time": "2024-08-12T15:02:57.145Z"
   },
   {
    "duration": 1285,
    "start_time": "2024-08-12T15:11:49.865Z"
   },
   {
    "duration": 93,
    "start_time": "2024-08-12T15:11:51.152Z"
   },
   {
    "duration": 4,
    "start_time": "2024-08-12T15:11:51.246Z"
   },
   {
    "duration": 47,
    "start_time": "2024-08-12T15:11:51.252Z"
   },
   {
    "duration": 3,
    "start_time": "2024-08-12T15:11:51.302Z"
   },
   {
    "duration": 50,
    "start_time": "2024-08-12T15:11:51.306Z"
   },
   {
    "duration": 3,
    "start_time": "2024-08-12T15:11:51.370Z"
   },
   {
    "duration": 16,
    "start_time": "2024-08-12T15:11:51.379Z"
   },
   {
    "duration": 22,
    "start_time": "2024-08-12T15:11:51.396Z"
   },
   {
    "duration": 21,
    "start_time": "2024-08-12T15:11:51.419Z"
   },
   {
    "duration": 20,
    "start_time": "2024-08-12T15:11:51.442Z"
   },
   {
    "duration": 10,
    "start_time": "2024-08-12T15:11:51.471Z"
   },
   {
    "duration": 14,
    "start_time": "2024-08-12T15:11:51.484Z"
   },
   {
    "duration": 11,
    "start_time": "2024-08-12T15:11:51.501Z"
   },
   {
    "duration": 25,
    "start_time": "2024-08-12T15:11:51.513Z"
   },
   {
    "duration": 7,
    "start_time": "2024-08-12T15:11:51.539Z"
   },
   {
    "duration": 199,
    "start_time": "2024-08-12T15:11:51.548Z"
   },
   {
    "duration": 27,
    "start_time": "2024-08-12T15:11:51.751Z"
   },
   {
    "duration": 162,
    "start_time": "2024-08-12T15:11:51.780Z"
   },
   {
    "duration": 33,
    "start_time": "2024-08-12T15:11:51.944Z"
   },
   {
    "duration": 411,
    "start_time": "2024-08-12T15:11:51.978Z"
   },
   {
    "duration": 334,
    "start_time": "2024-08-12T15:11:52.391Z"
   },
   {
    "duration": 445,
    "start_time": "2024-08-12T15:11:52.726Z"
   },
   {
    "duration": 349,
    "start_time": "2024-08-12T15:11:53.173Z"
   },
   {
    "duration": 517,
    "start_time": "2024-08-12T15:11:53.523Z"
   },
   {
    "duration": 22,
    "start_time": "2024-08-12T15:11:54.042Z"
   },
   {
    "duration": 270,
    "start_time": "2024-08-12T15:11:54.069Z"
   },
   {
    "duration": 4,
    "start_time": "2024-08-12T15:11:54.341Z"
   },
   {
    "duration": 224,
    "start_time": "2024-08-12T15:11:54.352Z"
   },
   {
    "duration": 7,
    "start_time": "2024-08-12T15:11:54.578Z"
   },
   {
    "duration": 236,
    "start_time": "2024-08-12T15:11:54.588Z"
   },
   {
    "duration": 304,
    "start_time": "2024-08-12T15:11:54.826Z"
   },
   {
    "duration": 5,
    "start_time": "2024-08-12T15:11:55.131Z"
   },
   {
    "duration": 31,
    "start_time": "2024-08-12T15:11:55.138Z"
   },
   {
    "duration": 289,
    "start_time": "2024-08-12T15:11:55.174Z"
   },
   {
    "duration": 183,
    "start_time": "2024-08-12T15:11:55.465Z"
   },
   {
    "duration": 11,
    "start_time": "2024-08-12T15:11:55.649Z"
   },
   {
    "duration": 47,
    "start_time": "2024-08-12T15:11:55.662Z"
   },
   {
    "duration": 11,
    "start_time": "2024-08-12T15:11:55.711Z"
   },
   {
    "duration": 19,
    "start_time": "2024-08-12T15:11:55.724Z"
   },
   {
    "duration": 14,
    "start_time": "2024-08-12T15:11:55.758Z"
   },
   {
    "duration": 47,
    "start_time": "2024-08-12T15:11:55.776Z"
   },
   {
    "duration": 11,
    "start_time": "2024-08-12T15:11:55.825Z"
   },
   {
    "duration": 101,
    "start_time": "2024-08-13T06:54:50.304Z"
   },
   {
    "duration": 58,
    "start_time": "2024-08-13T06:55:11.467Z"
   },
   {
    "duration": 1475,
    "start_time": "2024-08-13T06:55:24.692Z"
   },
   {
    "duration": 228,
    "start_time": "2024-08-13T06:55:28.697Z"
   },
   {
    "duration": 3,
    "start_time": "2024-08-13T06:55:33.806Z"
   },
   {
    "duration": 22,
    "start_time": "2024-08-13T06:55:34.574Z"
   },
   {
    "duration": 3,
    "start_time": "2024-08-13T06:55:38.140Z"
   },
   {
    "duration": 23,
    "start_time": "2024-08-13T06:55:41.037Z"
   },
   {
    "duration": 4,
    "start_time": "2024-08-13T06:55:44.436Z"
   },
   {
    "duration": 15,
    "start_time": "2024-08-13T06:55:45.606Z"
   },
   {
    "duration": 5,
    "start_time": "2024-08-13T06:55:48.746Z"
   },
   {
    "duration": 14,
    "start_time": "2024-08-13T06:55:49.355Z"
   },
   {
    "duration": 11,
    "start_time": "2024-08-13T06:55:52.647Z"
   },
   {
    "duration": 19,
    "start_time": "2024-08-13T06:57:04.428Z"
   },
   {
    "duration": 9,
    "start_time": "2024-08-13T06:57:18.182Z"
   },
   {
    "duration": 10,
    "start_time": "2024-08-13T06:57:37.026Z"
   },
   {
    "duration": 11,
    "start_time": "2024-08-13T06:58:22.110Z"
   },
   {
    "duration": 7,
    "start_time": "2024-08-13T07:00:32.654Z"
   },
   {
    "duration": 12,
    "start_time": "2024-08-13T07:01:02.112Z"
   },
   {
    "duration": 9,
    "start_time": "2024-08-13T07:01:10.457Z"
   },
   {
    "duration": 74,
    "start_time": "2024-08-13T07:02:30.327Z"
   },
   {
    "duration": 11,
    "start_time": "2024-08-13T07:02:42.465Z"
   },
   {
    "duration": 11,
    "start_time": "2024-08-13T07:02:50.321Z"
   },
   {
    "duration": 14,
    "start_time": "2024-08-13T07:03:08.287Z"
   },
   {
    "duration": 73,
    "start_time": "2024-08-13T07:03:21.147Z"
   },
   {
    "duration": 11,
    "start_time": "2024-08-13T07:03:25.793Z"
   },
   {
    "duration": 12,
    "start_time": "2024-08-13T07:03:56.002Z"
   },
   {
    "duration": 11,
    "start_time": "2024-08-13T07:04:39.849Z"
   },
   {
    "duration": 66,
    "start_time": "2024-08-13T07:06:25.323Z"
   },
   {
    "duration": 14,
    "start_time": "2024-08-13T07:07:07.216Z"
   },
   {
    "duration": 22,
    "start_time": "2024-08-13T07:07:27.357Z"
   },
   {
    "duration": 5,
    "start_time": "2024-08-13T07:09:11.859Z"
   },
   {
    "duration": 7,
    "start_time": "2024-08-13T07:12:33.186Z"
   },
   {
    "duration": 6,
    "start_time": "2024-08-13T07:12:44.859Z"
   },
   {
    "duration": 7,
    "start_time": "2024-08-13T07:13:49.190Z"
   },
   {
    "duration": 12,
    "start_time": "2024-08-13T07:20:39.024Z"
   },
   {
    "duration": 11,
    "start_time": "2024-08-13T07:20:50.257Z"
   },
   {
    "duration": 98,
    "start_time": "2024-08-13T07:22:45.053Z"
   },
   {
    "duration": 11,
    "start_time": "2024-08-13T07:22:51.984Z"
   },
   {
    "duration": 85,
    "start_time": "2024-08-13T07:23:17.370Z"
   },
   {
    "duration": 32,
    "start_time": "2024-08-13T07:23:39.746Z"
   },
   {
    "duration": 18,
    "start_time": "2024-08-13T07:24:00.185Z"
   },
   {
    "duration": 6,
    "start_time": "2024-08-13T07:27:27.519Z"
   },
   {
    "duration": 6,
    "start_time": "2024-08-13T07:27:38.062Z"
   },
   {
    "duration": 13,
    "start_time": "2024-08-13T07:27:45.123Z"
   },
   {
    "duration": 6,
    "start_time": "2024-08-13T07:27:46.174Z"
   },
   {
    "duration": 69,
    "start_time": "2024-08-13T07:30:25.487Z"
   },
   {
    "duration": 7,
    "start_time": "2024-08-13T07:30:32.094Z"
   },
   {
    "duration": 17,
    "start_time": "2024-08-13T07:32:24.658Z"
   },
   {
    "duration": 8,
    "start_time": "2024-08-13T07:32:28.430Z"
   },
   {
    "duration": 9,
    "start_time": "2024-08-13T07:32:37.663Z"
   },
   {
    "duration": 1263,
    "start_time": "2024-08-13T07:32:42.971Z"
   },
   {
    "duration": 79,
    "start_time": "2024-08-13T07:32:44.236Z"
   },
   {
    "duration": 4,
    "start_time": "2024-08-13T07:32:44.317Z"
   },
   {
    "duration": 44,
    "start_time": "2024-08-13T07:32:44.322Z"
   },
   {
    "duration": 3,
    "start_time": "2024-08-13T07:32:44.368Z"
   },
   {
    "duration": 26,
    "start_time": "2024-08-13T07:32:44.372Z"
   },
   {
    "duration": 3,
    "start_time": "2024-08-13T07:32:44.399Z"
   },
   {
    "duration": 19,
    "start_time": "2024-08-13T07:32:44.403Z"
   },
   {
    "duration": 20,
    "start_time": "2024-08-13T07:32:44.423Z"
   },
   {
    "duration": 36,
    "start_time": "2024-08-13T07:32:44.444Z"
   },
   {
    "duration": 8,
    "start_time": "2024-08-13T07:32:44.482Z"
   },
   {
    "duration": 8,
    "start_time": "2024-08-13T07:32:44.492Z"
   },
   {
    "duration": 132,
    "start_time": "2024-08-13T07:32:44.502Z"
   },
   {
    "duration": 23,
    "start_time": "2024-08-13T07:32:44.638Z"
   },
   {
    "duration": 31,
    "start_time": "2024-08-13T07:32:44.663Z"
   },
   {
    "duration": 5,
    "start_time": "2024-08-13T07:32:44.696Z"
   },
   {
    "duration": 8,
    "start_time": "2024-08-13T07:32:44.702Z"
   },
   {
    "duration": 13,
    "start_time": "2024-08-13T07:32:44.712Z"
   },
   {
    "duration": 34,
    "start_time": "2024-08-13T07:32:44.727Z"
   },
   {
    "duration": 217,
    "start_time": "2024-08-13T07:32:44.763Z"
   },
   {
    "duration": 12,
    "start_time": "2024-08-13T07:32:44.982Z"
   },
   {
    "duration": 200,
    "start_time": "2024-08-13T07:32:44.996Z"
   },
   {
    "duration": 21,
    "start_time": "2024-08-13T07:32:45.198Z"
   },
   {
    "duration": 408,
    "start_time": "2024-08-13T07:32:45.221Z"
   },
   {
    "duration": 331,
    "start_time": "2024-08-13T07:32:45.630Z"
   },
   {
    "duration": 359,
    "start_time": "2024-08-13T07:32:45.964Z"
   },
   {
    "duration": 302,
    "start_time": "2024-08-13T07:32:46.325Z"
   },
   {
    "duration": 436,
    "start_time": "2024-08-13T07:32:46.629Z"
   },
   {
    "duration": 13,
    "start_time": "2024-08-13T07:32:47.067Z"
   },
   {
    "duration": 254,
    "start_time": "2024-08-13T07:32:47.082Z"
   },
   {
    "duration": 23,
    "start_time": "2024-08-13T07:32:47.338Z"
   },
   {
    "duration": 242,
    "start_time": "2024-08-13T07:32:47.365Z"
   },
   {
    "duration": 6,
    "start_time": "2024-08-13T07:32:47.609Z"
   },
   {
    "duration": 229,
    "start_time": "2024-08-13T07:32:47.617Z"
   },
   {
    "duration": 286,
    "start_time": "2024-08-13T07:32:47.854Z"
   },
   {
    "duration": 14,
    "start_time": "2024-08-13T07:32:48.142Z"
   },
   {
    "duration": 7,
    "start_time": "2024-08-13T07:32:48.161Z"
   },
   {
    "duration": 254,
    "start_time": "2024-08-13T07:32:48.170Z"
   },
   {
    "duration": 144,
    "start_time": "2024-08-13T07:32:48.426Z"
   },
   {
    "duration": 5,
    "start_time": "2024-08-13T07:32:48.572Z"
   },
   {
    "duration": 128,
    "start_time": "2024-08-13T07:32:48.580Z"
   },
   {
    "duration": 9,
    "start_time": "2024-08-13T07:32:48.710Z"
   },
   {
    "duration": 9,
    "start_time": "2024-08-13T07:32:48.720Z"
   },
   {
    "duration": 27,
    "start_time": "2024-08-13T07:32:48.731Z"
   },
   {
    "duration": 34,
    "start_time": "2024-08-13T07:32:48.760Z"
   },
   {
    "duration": 13,
    "start_time": "2024-08-13T07:32:48.796Z"
   },
   {
    "duration": 261,
    "start_time": "2024-08-13T07:33:49.875Z"
   },
   {
    "duration": 8,
    "start_time": "2024-08-13T07:34:37.778Z"
   },
   {
    "duration": 13,
    "start_time": "2024-08-13T07:35:10.245Z"
   },
   {
    "duration": 15,
    "start_time": "2024-08-13T07:36:40.569Z"
   },
   {
    "duration": 22,
    "start_time": "2024-08-13T07:36:44.737Z"
   },
   {
    "duration": 10,
    "start_time": "2024-08-13T07:39:14.060Z"
   },
   {
    "duration": 1354,
    "start_time": "2024-08-13T07:40:26.241Z"
   },
   {
    "duration": 9,
    "start_time": "2024-08-13T07:41:43.424Z"
   },
   {
    "duration": 1552,
    "start_time": "2024-08-13T07:43:00.317Z"
   },
   {
    "duration": 13,
    "start_time": "2024-08-13T07:43:32.756Z"
   },
   {
    "duration": 12,
    "start_time": "2024-08-13T07:43:33.542Z"
   },
   {
    "duration": 1313,
    "start_time": "2024-08-13T07:45:00.020Z"
   },
   {
    "duration": 78,
    "start_time": "2024-08-13T07:45:01.335Z"
   },
   {
    "duration": 47,
    "start_time": "2024-08-13T07:45:01.415Z"
   },
   {
    "duration": 92,
    "start_time": "2024-08-13T07:45:01.464Z"
   },
   {
    "duration": 38,
    "start_time": "2024-08-13T07:45:01.559Z"
   },
   {
    "duration": 25,
    "start_time": "2024-08-13T07:45:01.599Z"
   },
   {
    "duration": 14,
    "start_time": "2024-08-13T07:45:01.626Z"
   },
   {
    "duration": 56,
    "start_time": "2024-08-13T07:45:01.641Z"
   },
   {
    "duration": 22,
    "start_time": "2024-08-13T07:45:01.699Z"
   },
   {
    "duration": 106,
    "start_time": "2024-08-13T07:45:01.723Z"
   },
   {
    "duration": 307,
    "start_time": "2024-08-13T07:45:01.831Z"
   },
   {
    "duration": 58,
    "start_time": "2024-08-13T07:45:02.141Z"
   },
   {
    "duration": 151,
    "start_time": "2024-08-13T07:45:02.201Z"
   },
   {
    "duration": 21,
    "start_time": "2024-08-13T07:45:02.358Z"
   },
   {
    "duration": 23,
    "start_time": "2024-08-13T07:45:02.380Z"
   },
   {
    "duration": 31,
    "start_time": "2024-08-13T07:45:02.405Z"
   },
   {
    "duration": 30,
    "start_time": "2024-08-13T07:45:02.438Z"
   },
   {
    "duration": 27,
    "start_time": "2024-08-13T07:45:02.470Z"
   },
   {
    "duration": 27,
    "start_time": "2024-08-13T07:45:02.499Z"
   },
   {
    "duration": 186,
    "start_time": "2024-08-13T07:45:02.527Z"
   },
   {
    "duration": 11,
    "start_time": "2024-08-13T07:45:02.715Z"
   },
   {
    "duration": 168,
    "start_time": "2024-08-13T07:45:02.727Z"
   },
   {
    "duration": 16,
    "start_time": "2024-08-13T07:45:02.897Z"
   },
   {
    "duration": 394,
    "start_time": "2024-08-13T07:45:02.914Z"
   },
   {
    "duration": 286,
    "start_time": "2024-08-13T07:45:03.310Z"
   },
   {
    "duration": 365,
    "start_time": "2024-08-13T07:45:03.598Z"
   },
   {
    "duration": 316,
    "start_time": "2024-08-13T07:45:03.965Z"
   },
   {
    "duration": 382,
    "start_time": "2024-08-13T07:45:04.283Z"
   },
   {
    "duration": 10,
    "start_time": "2024-08-13T07:45:04.667Z"
   },
   {
    "duration": 278,
    "start_time": "2024-08-13T07:45:04.679Z"
   },
   {
    "duration": 5,
    "start_time": "2024-08-13T07:45:04.959Z"
   },
   {
    "duration": 241,
    "start_time": "2024-08-13T07:45:04.965Z"
   },
   {
    "duration": 5,
    "start_time": "2024-08-13T07:45:05.208Z"
   },
   {
    "duration": 230,
    "start_time": "2024-08-13T07:45:05.215Z"
   },
   {
    "duration": 315,
    "start_time": "2024-08-13T07:45:05.447Z"
   },
   {
    "duration": 5,
    "start_time": "2024-08-13T07:45:05.764Z"
   },
   {
    "duration": 76,
    "start_time": "2024-08-13T07:45:05.771Z"
   },
   {
    "duration": 262,
    "start_time": "2024-08-13T07:45:05.853Z"
   },
   {
    "duration": 190,
    "start_time": "2024-08-13T07:45:06.117Z"
   },
   {
    "duration": 4,
    "start_time": "2024-08-13T07:45:06.309Z"
   },
   {
    "duration": 47,
    "start_time": "2024-08-13T07:45:06.319Z"
   },
   {
    "duration": 10,
    "start_time": "2024-08-13T07:45:06.369Z"
   },
   {
    "duration": 26,
    "start_time": "2024-08-13T07:45:06.381Z"
   },
   {
    "duration": 13,
    "start_time": "2024-08-13T07:45:06.409Z"
   },
   {
    "duration": 59,
    "start_time": "2024-08-13T07:45:06.423Z"
   },
   {
    "duration": 10,
    "start_time": "2024-08-13T07:45:06.484Z"
   },
   {
    "duration": 107,
    "start_time": "2024-08-13T07:53:18.965Z"
   },
   {
    "duration": 6,
    "start_time": "2024-08-13T07:53:52.486Z"
   },
   {
    "duration": 15,
    "start_time": "2024-08-13T07:53:54.157Z"
   },
   {
    "duration": 1263,
    "start_time": "2024-08-13T08:16:50.116Z"
   },
   {
    "duration": 80,
    "start_time": "2024-08-13T08:16:51.381Z"
   },
   {
    "duration": 3,
    "start_time": "2024-08-13T08:16:51.463Z"
   },
   {
    "duration": 25,
    "start_time": "2024-08-13T08:16:51.468Z"
   },
   {
    "duration": 4,
    "start_time": "2024-08-13T08:16:51.494Z"
   },
   {
    "duration": 53,
    "start_time": "2024-08-13T08:16:51.499Z"
   },
   {
    "duration": 7,
    "start_time": "2024-08-13T08:16:51.555Z"
   },
   {
    "duration": 20,
    "start_time": "2024-08-13T08:16:51.564Z"
   },
   {
    "duration": 8,
    "start_time": "2024-08-13T08:16:51.586Z"
   },
   {
    "duration": 19,
    "start_time": "2024-08-13T08:16:51.597Z"
   },
   {
    "duration": 36,
    "start_time": "2024-08-13T08:16:51.618Z"
   },
   {
    "duration": 9,
    "start_time": "2024-08-13T08:16:51.655Z"
   },
   {
    "duration": 34,
    "start_time": "2024-08-13T08:16:51.665Z"
   },
   {
    "duration": 41,
    "start_time": "2024-08-13T08:16:51.700Z"
   },
   {
    "duration": 79,
    "start_time": "2024-08-13T08:16:51.743Z"
   },
   {
    "duration": 38,
    "start_time": "2024-08-13T08:16:51.824Z"
   },
   {
    "duration": 114,
    "start_time": "2024-08-13T08:16:51.864Z"
   },
   {
    "duration": 9,
    "start_time": "2024-08-13T08:16:51.979Z"
   },
   {
    "duration": 182,
    "start_time": "2024-08-13T08:16:51.989Z"
   },
   {
    "duration": 12,
    "start_time": "2024-08-13T08:16:52.173Z"
   },
   {
    "duration": 154,
    "start_time": "2024-08-13T08:16:52.187Z"
   },
   {
    "duration": 26,
    "start_time": "2024-08-13T08:16:52.342Z"
   },
   {
    "duration": 375,
    "start_time": "2024-08-13T08:16:52.370Z"
   },
   {
    "duration": 286,
    "start_time": "2024-08-13T08:16:52.753Z"
   },
   {
    "duration": 408,
    "start_time": "2024-08-13T08:16:53.040Z"
   },
   {
    "duration": 331,
    "start_time": "2024-08-13T08:16:53.449Z"
   },
   {
    "duration": 393,
    "start_time": "2024-08-13T08:16:53.781Z"
   },
   {
    "duration": 10,
    "start_time": "2024-08-13T08:16:54.178Z"
   },
   {
    "duration": 250,
    "start_time": "2024-08-13T08:16:54.190Z"
   },
   {
    "duration": 14,
    "start_time": "2024-08-13T08:16:54.442Z"
   },
   {
    "duration": 209,
    "start_time": "2024-08-13T08:16:54.457Z"
   },
   {
    "duration": 8,
    "start_time": "2024-08-13T08:16:54.667Z"
   },
   {
    "duration": 222,
    "start_time": "2024-08-13T08:16:54.677Z"
   },
   {
    "duration": 347,
    "start_time": "2024-08-13T08:16:54.901Z"
   },
   {
    "duration": 8,
    "start_time": "2024-08-13T08:16:55.253Z"
   },
   {
    "duration": 7,
    "start_time": "2024-08-13T08:16:55.263Z"
   },
   {
    "duration": 261,
    "start_time": "2024-08-13T08:16:55.271Z"
   },
   {
    "duration": 162,
    "start_time": "2024-08-13T08:16:55.534Z"
   },
   {
    "duration": 4,
    "start_time": "2024-08-13T08:16:55.698Z"
   },
   {
    "duration": 47,
    "start_time": "2024-08-13T08:16:55.704Z"
   },
   {
    "duration": 13,
    "start_time": "2024-08-13T08:16:55.753Z"
   },
   {
    "duration": 10,
    "start_time": "2024-08-13T08:16:55.767Z"
   },
   {
    "duration": 15,
    "start_time": "2024-08-13T08:16:55.778Z"
   },
   {
    "duration": 24,
    "start_time": "2024-08-13T08:16:55.794Z"
   },
   {
    "duration": 22,
    "start_time": "2024-08-13T08:16:55.846Z"
   },
   {
    "duration": 6,
    "start_time": "2024-08-13T08:17:14.001Z"
   },
   {
    "duration": 411,
    "start_time": "2024-08-13T08:35:53.502Z"
   },
   {
    "duration": 18,
    "start_time": "2024-08-13T08:41:58.292Z"
   },
   {
    "duration": 16,
    "start_time": "2024-08-13T08:42:15.568Z"
   },
   {
    "duration": 8,
    "start_time": "2024-08-13T08:42:27.688Z"
   },
   {
    "duration": 12,
    "start_time": "2024-08-13T08:45:06.613Z"
   },
   {
    "duration": 11,
    "start_time": "2024-08-13T08:46:12.900Z"
   },
   {
    "duration": 165,
    "start_time": "2024-08-13T08:47:16.209Z"
   },
   {
    "duration": 145,
    "start_time": "2024-08-13T08:50:26.125Z"
   },
   {
    "duration": 151,
    "start_time": "2024-08-13T08:50:38.997Z"
   },
   {
    "duration": 13,
    "start_time": "2024-08-13T08:51:13.544Z"
   },
   {
    "duration": 14,
    "start_time": "2024-08-13T08:51:19.296Z"
   },
   {
    "duration": 9,
    "start_time": "2024-08-13T08:51:43.474Z"
   },
   {
    "duration": 7,
    "start_time": "2024-08-13T08:51:49.455Z"
   },
   {
    "duration": 63,
    "start_time": "2024-08-13T08:52:47.104Z"
   },
   {
    "duration": 13,
    "start_time": "2024-08-13T08:57:26.709Z"
   },
   {
    "duration": 1208,
    "start_time": "2024-08-13T09:01:25.491Z"
   },
   {
    "duration": 76,
    "start_time": "2024-08-13T09:01:26.701Z"
   },
   {
    "duration": 3,
    "start_time": "2024-08-13T09:01:26.779Z"
   },
   {
    "duration": 22,
    "start_time": "2024-08-13T09:01:26.783Z"
   },
   {
    "duration": 2,
    "start_time": "2024-08-13T09:01:26.808Z"
   },
   {
    "duration": 17,
    "start_time": "2024-08-13T09:01:26.812Z"
   },
   {
    "duration": 3,
    "start_time": "2024-08-13T09:01:26.830Z"
   },
   {
    "duration": 24,
    "start_time": "2024-08-13T09:01:26.834Z"
   },
   {
    "duration": 5,
    "start_time": "2024-08-13T09:01:26.859Z"
   },
   {
    "duration": 17,
    "start_time": "2024-08-13T09:01:26.865Z"
   },
   {
    "duration": 25,
    "start_time": "2024-08-13T09:01:26.884Z"
   },
   {
    "duration": 12,
    "start_time": "2024-08-13T09:01:26.911Z"
   },
   {
    "duration": 16,
    "start_time": "2024-08-13T09:01:26.948Z"
   },
   {
    "duration": 8,
    "start_time": "2024-08-13T09:01:26.967Z"
   },
   {
    "duration": 6,
    "start_time": "2024-08-13T09:01:26.976Z"
   },
   {
    "duration": 7,
    "start_time": "2024-08-13T09:01:26.984Z"
   },
   {
    "duration": 56,
    "start_time": "2024-08-13T09:01:26.992Z"
   },
   {
    "duration": 5,
    "start_time": "2024-08-13T09:01:27.050Z"
   },
   {
    "duration": 194,
    "start_time": "2024-08-13T09:01:27.057Z"
   },
   {
    "duration": 12,
    "start_time": "2024-08-13T09:01:27.253Z"
   },
   {
    "duration": 155,
    "start_time": "2024-08-13T09:01:27.266Z"
   },
   {
    "duration": 31,
    "start_time": "2024-08-13T09:01:27.422Z"
   },
   {
    "duration": 358,
    "start_time": "2024-08-13T09:01:27.455Z"
   },
   {
    "duration": 311,
    "start_time": "2024-08-13T09:01:27.814Z"
   },
   {
    "duration": 405,
    "start_time": "2024-08-13T09:01:28.127Z"
   },
   {
    "duration": 421,
    "start_time": "2024-08-13T09:01:28.534Z"
   },
   {
    "duration": 414,
    "start_time": "2024-08-13T09:01:28.957Z"
   },
   {
    "duration": 11,
    "start_time": "2024-08-13T09:01:29.373Z"
   },
   {
    "duration": 248,
    "start_time": "2024-08-13T09:01:29.386Z"
   },
   {
    "duration": 14,
    "start_time": "2024-08-13T09:01:29.636Z"
   },
   {
    "duration": 190,
    "start_time": "2024-08-13T09:01:29.651Z"
   },
   {
    "duration": 6,
    "start_time": "2024-08-13T09:01:29.843Z"
   },
   {
    "duration": 256,
    "start_time": "2024-08-13T09:01:29.851Z"
   },
   {
    "duration": 304,
    "start_time": "2024-08-13T09:01:30.109Z"
   },
   {
    "duration": 461,
    "start_time": "2024-08-13T09:01:30.415Z"
   },
   {
    "duration": 101,
    "start_time": "2024-08-13T09:01:30.878Z"
   },
   {
    "duration": 78,
    "start_time": "2024-08-13T09:01:30.981Z"
   },
   {
    "duration": 102,
    "start_time": "2024-08-13T09:01:31.061Z"
   },
   {
    "duration": 187,
    "start_time": "2024-08-13T09:01:31.165Z"
   },
   {
    "duration": 5,
    "start_time": "2024-08-13T09:01:31.354Z"
   },
   {
    "duration": 133,
    "start_time": "2024-08-13T09:01:31.365Z"
   },
   {
    "duration": 23,
    "start_time": "2024-08-13T09:01:31.500Z"
   },
   {
    "duration": 24,
    "start_time": "2024-08-13T09:01:31.525Z"
   },
   {
    "duration": 66,
    "start_time": "2024-08-13T09:01:31.551Z"
   },
   {
    "duration": 57,
    "start_time": "2024-08-13T09:01:31.619Z"
   },
   {
    "duration": 12,
    "start_time": "2024-08-13T09:01:31.678Z"
   },
   {
    "duration": 1220,
    "start_time": "2024-08-13T09:31:26.295Z"
   },
   {
    "duration": 79,
    "start_time": "2024-08-13T09:31:27.517Z"
   },
   {
    "duration": 4,
    "start_time": "2024-08-13T09:31:27.597Z"
   },
   {
    "duration": 58,
    "start_time": "2024-08-13T09:31:27.603Z"
   },
   {
    "duration": 5,
    "start_time": "2024-08-13T09:31:27.663Z"
   },
   {
    "duration": 24,
    "start_time": "2024-08-13T09:31:27.670Z"
   },
   {
    "duration": 3,
    "start_time": "2024-08-13T09:31:27.696Z"
   },
   {
    "duration": 21,
    "start_time": "2024-08-13T09:31:27.701Z"
   },
   {
    "duration": 14,
    "start_time": "2024-08-13T09:31:27.724Z"
   },
   {
    "duration": 14,
    "start_time": "2024-08-13T09:31:27.746Z"
   },
   {
    "duration": 11,
    "start_time": "2024-08-13T09:31:27.761Z"
   },
   {
    "duration": 6,
    "start_time": "2024-08-13T09:31:27.774Z"
   },
   {
    "duration": 14,
    "start_time": "2024-08-13T09:31:27.782Z"
   },
   {
    "duration": 6,
    "start_time": "2024-08-13T09:31:27.798Z"
   },
   {
    "duration": 43,
    "start_time": "2024-08-13T09:31:27.806Z"
   },
   {
    "duration": 7,
    "start_time": "2024-08-13T09:31:27.850Z"
   },
   {
    "duration": 27,
    "start_time": "2024-08-13T09:31:27.858Z"
   },
   {
    "duration": 25,
    "start_time": "2024-08-13T09:31:27.886Z"
   },
   {
    "duration": 180,
    "start_time": "2024-08-13T09:31:27.913Z"
   },
   {
    "duration": 11,
    "start_time": "2024-08-13T09:31:28.095Z"
   },
   {
    "duration": 145,
    "start_time": "2024-08-13T09:31:28.108Z"
   },
   {
    "duration": 17,
    "start_time": "2024-08-13T09:31:28.255Z"
   },
   {
    "duration": 370,
    "start_time": "2024-08-13T09:31:28.274Z"
   },
   {
    "duration": 315,
    "start_time": "2024-08-13T09:31:28.646Z"
   },
   {
    "duration": 379,
    "start_time": "2024-08-13T09:31:28.963Z"
   },
   {
    "duration": 437,
    "start_time": "2024-08-13T09:31:29.347Z"
   },
   {
    "duration": 366,
    "start_time": "2024-08-13T09:31:29.787Z"
   },
   {
    "duration": 10,
    "start_time": "2024-08-13T09:31:30.157Z"
   },
   {
    "duration": 275,
    "start_time": "2024-08-13T09:31:30.169Z"
   },
   {
    "duration": 18,
    "start_time": "2024-08-13T09:31:30.446Z"
   },
   {
    "duration": 446,
    "start_time": "2024-08-13T09:31:30.466Z"
   },
   {
    "duration": 7,
    "start_time": "2024-08-13T09:31:30.915Z"
   },
   {
    "duration": 264,
    "start_time": "2024-08-13T09:31:30.924Z"
   },
   {
    "duration": 436,
    "start_time": "2024-08-13T09:31:31.190Z"
   },
   {
    "duration": 5,
    "start_time": "2024-08-13T09:31:31.628Z"
   },
   {
    "duration": 34,
    "start_time": "2024-08-13T09:31:31.635Z"
   },
   {
    "duration": 19,
    "start_time": "2024-08-13T09:31:31.671Z"
   },
   {
    "duration": 68,
    "start_time": "2024-08-13T09:31:31.692Z"
   },
   {
    "duration": 160,
    "start_time": "2024-08-13T09:31:31.761Z"
   },
   {
    "duration": 5,
    "start_time": "2024-08-13T09:31:31.923Z"
   },
   {
    "duration": 57,
    "start_time": "2024-08-13T09:31:31.929Z"
   },
   {
    "duration": 12,
    "start_time": "2024-08-13T09:31:31.988Z"
   },
   {
    "duration": 11,
    "start_time": "2024-08-13T09:31:32.003Z"
   },
   {
    "duration": 94,
    "start_time": "2024-08-13T09:31:32.016Z"
   },
   {
    "duration": 27,
    "start_time": "2024-08-13T09:31:32.112Z"
   },
   {
    "duration": 12,
    "start_time": "2024-08-13T09:31:32.141Z"
   },
   {
    "duration": 11,
    "start_time": "2024-08-13T09:33:04.482Z"
   },
   {
    "duration": 1149,
    "start_time": "2024-08-13T09:34:53.382Z"
   },
   {
    "duration": 80,
    "start_time": "2024-08-13T09:34:54.533Z"
   },
   {
    "duration": 6,
    "start_time": "2024-08-13T09:34:54.615Z"
   },
   {
    "duration": 84,
    "start_time": "2024-08-13T09:34:54.623Z"
   },
   {
    "duration": 3,
    "start_time": "2024-08-13T09:34:54.710Z"
   },
   {
    "duration": 68,
    "start_time": "2024-08-13T09:34:54.715Z"
   },
   {
    "duration": 27,
    "start_time": "2024-08-13T09:34:54.786Z"
   },
   {
    "duration": 38,
    "start_time": "2024-08-13T09:34:54.815Z"
   },
   {
    "duration": 32,
    "start_time": "2024-08-13T09:34:54.855Z"
   },
   {
    "duration": 41,
    "start_time": "2024-08-13T09:34:54.889Z"
   },
   {
    "duration": 10,
    "start_time": "2024-08-13T09:34:54.932Z"
   },
   {
    "duration": 22,
    "start_time": "2024-08-13T09:34:54.944Z"
   },
   {
    "duration": 22,
    "start_time": "2024-08-13T09:34:54.968Z"
   },
   {
    "duration": 122,
    "start_time": "2024-08-13T09:34:54.993Z"
   },
   {
    "duration": 51,
    "start_time": "2024-08-13T09:34:55.117Z"
   },
   {
    "duration": 27,
    "start_time": "2024-08-13T09:34:55.170Z"
   },
   {
    "duration": 31,
    "start_time": "2024-08-13T09:34:55.198Z"
   },
   {
    "duration": 13,
    "start_time": "2024-08-13T09:34:55.231Z"
   },
   {
    "duration": 188,
    "start_time": "2024-08-13T09:34:55.245Z"
   },
   {
    "duration": 11,
    "start_time": "2024-08-13T09:34:55.434Z"
   },
   {
    "duration": 148,
    "start_time": "2024-08-13T09:34:55.447Z"
   },
   {
    "duration": 16,
    "start_time": "2024-08-13T09:34:55.596Z"
   },
   {
    "duration": 342,
    "start_time": "2024-08-13T09:34:55.613Z"
   },
   {
    "duration": 284,
    "start_time": "2024-08-13T09:34:55.957Z"
   },
   {
    "duration": 443,
    "start_time": "2024-08-13T09:34:56.243Z"
   },
   {
    "duration": 421,
    "start_time": "2024-08-13T09:34:56.687Z"
   },
   {
    "duration": 412,
    "start_time": "2024-08-13T09:34:57.148Z"
   },
   {
    "duration": 9,
    "start_time": "2024-08-13T09:34:57.561Z"
   },
   {
    "duration": 237,
    "start_time": "2024-08-13T09:34:57.572Z"
   },
   {
    "duration": 4,
    "start_time": "2024-08-13T09:34:57.811Z"
   },
   {
    "duration": 193,
    "start_time": "2024-08-13T09:34:57.817Z"
   },
   {
    "duration": 6,
    "start_time": "2024-08-13T09:34:58.012Z"
   },
   {
    "duration": 208,
    "start_time": "2024-08-13T09:34:58.019Z"
   },
   {
    "duration": 288,
    "start_time": "2024-08-13T09:34:58.229Z"
   },
   {
    "duration": 4,
    "start_time": "2024-08-13T09:34:58.518Z"
   },
   {
    "duration": 45,
    "start_time": "2024-08-13T09:34:58.524Z"
   },
   {
    "duration": 13,
    "start_time": "2024-08-13T09:34:58.570Z"
   },
   {
    "duration": 50,
    "start_time": "2024-08-13T09:34:58.584Z"
   },
   {
    "duration": 140,
    "start_time": "2024-08-13T09:34:58.636Z"
   },
   {
    "duration": 4,
    "start_time": "2024-08-13T09:34:58.778Z"
   },
   {
    "duration": 29,
    "start_time": "2024-08-13T09:34:58.785Z"
   },
   {
    "duration": 8,
    "start_time": "2024-08-13T09:34:58.815Z"
   },
   {
    "duration": 26,
    "start_time": "2024-08-13T09:34:58.825Z"
   },
   {
    "duration": 9,
    "start_time": "2024-08-13T09:34:58.853Z"
   },
   {
    "duration": 27,
    "start_time": "2024-08-13T09:34:58.864Z"
   },
   {
    "duration": 9,
    "start_time": "2024-08-13T09:34:58.893Z"
   },
   {
    "duration": 1354,
    "start_time": "2024-08-14T03:08:13.557Z"
   },
   {
    "duration": 291,
    "start_time": "2024-08-14T03:08:14.913Z"
   },
   {
    "duration": 3,
    "start_time": "2024-08-14T03:08:15.206Z"
   },
   {
    "duration": 49,
    "start_time": "2024-08-14T03:08:15.211Z"
   },
   {
    "duration": 36,
    "start_time": "2024-08-14T03:08:15.263Z"
   },
   {
    "duration": 95,
    "start_time": "2024-08-14T03:08:15.300Z"
   },
   {
    "duration": 56,
    "start_time": "2024-08-14T03:08:15.397Z"
   },
   {
    "duration": 48,
    "start_time": "2024-08-14T03:08:15.455Z"
   },
   {
    "duration": 15,
    "start_time": "2024-08-14T03:08:15.505Z"
   },
   {
    "duration": 21,
    "start_time": "2024-08-14T03:08:15.522Z"
   },
   {
    "duration": 34,
    "start_time": "2024-08-14T03:08:15.544Z"
   },
   {
    "duration": 20,
    "start_time": "2024-08-14T03:08:15.580Z"
   },
   {
    "duration": 23,
    "start_time": "2024-08-14T03:08:15.601Z"
   },
   {
    "duration": 10,
    "start_time": "2024-08-14T03:08:15.627Z"
   },
   {
    "duration": 13,
    "start_time": "2024-08-14T03:08:15.639Z"
   },
   {
    "duration": 31,
    "start_time": "2024-08-14T03:08:15.654Z"
   },
   {
    "duration": 22,
    "start_time": "2024-08-14T03:08:15.687Z"
   },
   {
    "duration": 14,
    "start_time": "2024-08-14T03:08:15.710Z"
   },
   {
    "duration": 175,
    "start_time": "2024-08-14T03:08:15.726Z"
   },
   {
    "duration": 11,
    "start_time": "2024-08-14T03:08:15.903Z"
   },
   {
    "duration": 144,
    "start_time": "2024-08-14T03:08:15.915Z"
   },
   {
    "duration": 15,
    "start_time": "2024-08-14T03:08:16.060Z"
   },
   {
    "duration": 373,
    "start_time": "2024-08-14T03:08:16.076Z"
   },
   {
    "duration": 302,
    "start_time": "2024-08-14T03:08:16.451Z"
   },
   {
    "duration": 407,
    "start_time": "2024-08-14T03:08:16.754Z"
   },
   {
    "duration": 396,
    "start_time": "2024-08-14T03:08:17.163Z"
   },
   {
    "duration": 404,
    "start_time": "2024-08-14T03:08:17.561Z"
   },
   {
    "duration": 11,
    "start_time": "2024-08-14T03:08:17.967Z"
   },
   {
    "duration": 226,
    "start_time": "2024-08-14T03:08:17.980Z"
   },
   {
    "duration": 4,
    "start_time": "2024-08-14T03:08:18.208Z"
   },
   {
    "duration": 249,
    "start_time": "2024-08-14T03:08:18.214Z"
   },
   {
    "duration": 6,
    "start_time": "2024-08-14T03:08:18.465Z"
   },
   {
    "duration": 234,
    "start_time": "2024-08-14T03:08:18.472Z"
   },
   {
    "duration": 277,
    "start_time": "2024-08-14T03:08:18.708Z"
   },
   {
    "duration": 4,
    "start_time": "2024-08-14T03:08:18.987Z"
   },
   {
    "duration": 29,
    "start_time": "2024-08-14T03:08:18.992Z"
   },
   {
    "duration": 37,
    "start_time": "2024-08-14T03:08:19.022Z"
   },
   {
    "duration": 60,
    "start_time": "2024-08-14T03:08:19.061Z"
   },
   {
    "duration": 143,
    "start_time": "2024-08-14T03:08:19.123Z"
   },
   {
    "duration": 4,
    "start_time": "2024-08-14T03:08:19.267Z"
   },
   {
    "duration": 51,
    "start_time": "2024-08-14T03:08:19.275Z"
   },
   {
    "duration": 8,
    "start_time": "2024-08-14T03:08:19.328Z"
   },
   {
    "duration": 12,
    "start_time": "2024-08-14T03:08:19.337Z"
   },
   {
    "duration": 43,
    "start_time": "2024-08-14T03:08:19.350Z"
   },
   {
    "duration": 53,
    "start_time": "2024-08-14T03:08:19.395Z"
   },
   {
    "duration": 21,
    "start_time": "2024-08-14T03:08:19.449Z"
   }
  ],
  "kernelspec": {
   "display_name": "Python 3 (ipykernel)",
   "language": "python",
   "name": "python3"
  },
  "language_info": {
   "codemirror_mode": {
    "name": "ipython",
    "version": 3
   },
   "file_extension": ".py",
   "mimetype": "text/x-python",
   "name": "python",
   "nbconvert_exporter": "python",
   "pygments_lexer": "ipython3",
   "version": "3.11.5"
  },
  "toc": {
   "base_numbering": 1,
   "nav_menu": {
    "height": "174px",
    "width": "463px"
   },
   "number_sections": true,
   "sideBar": true,
   "skip_h1_title": true,
   "title_cell": "Table of Contents",
   "title_sidebar": "Contents",
   "toc_cell": false,
   "toc_position": {},
   "toc_section_display": true,
   "toc_window_display": false
  }
 },
 "nbformat": 4,
 "nbformat_minor": 2
}
