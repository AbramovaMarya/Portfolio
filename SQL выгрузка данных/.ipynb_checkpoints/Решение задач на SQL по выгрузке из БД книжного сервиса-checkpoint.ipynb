{
 "cells": [
  {
   "cell_type": "markdown",
   "metadata": {},
   "source": [
    "# Описание проекта\n",
    "\n",
    "Коронавирус застал мир врасплох, изменив привычный порядок вещей. В свободное время жители городов больше не выходят на улицу, не посещают кафе и торговые центры. Зато стало больше времени для книг. Это заметили стартаперы — и бросились создавать приложения для тех, кто любит читать. Ваша компания решила быть на волне и купила крупный сервис для чтения книг по подписке. Ваша первая задача как аналитика — проанализировать базу данных. В ней — информация о книгах, издательствах, авторах, а также пользовательские обзоры книг. Эти данные помогут сформулировать ценностное предложение для нового продукта.\n",
    "\n",
    "# Цели проекта:\n",
    "\n",
    "Проанализировать базу данных, состоящую из пяти связанных таблиц. В них информация о книгах, издательствах, авторах, а также пользовательские обзоры книг. Эти данные помогут сформулировать ценностное предложение для нового продукта. С помощью SQL-запросов решить задания.\n",
    "\n",
    "# Описание данных\n",
    "\n",
    "Таблица *books* содержит данные о книгах:\n",
    "\n",
    "- book_id — идентификатор книги;\n",
    "- author_id — идентификатор автора;\n",
    "- title — название книги;\n",
    "- num_pages — количество страниц;\n",
    "- publication_date — дата публикации книги;\n",
    "- publisher_id — идентификатор издателя.\n",
    "\n",
    "\n",
    "Таблица *authors* содержит данные об авторах:\n",
    "\n",
    "- author_id — идентификатор автора;\n",
    "- author — имя автора.\n",
    "\n",
    "\n",
    "Таблица *publishers* содержит данные об издательствах:\n",
    "\n",
    "- publisher_id — идентификатор издательства;\n",
    "- publisher — название издательства.\n",
    "\n",
    "\n",
    "Таблица *ratings* содержит данные о пользовательских оценках книг:\n",
    "\n",
    "- rating_id — идентификатор оценки;\n",
    "- book_id — идентификатор книги;\n",
    "- username — имя пользователя, оставившего оценку;\n",
    "- rating — оценка книги.\n",
    "\n",
    "\n",
    "Таблица *reviews* содержит данные о пользовательских обзорах:\n",
    "\n",
    "- review_id — идентификатор обзора;\n",
    "- book_id — идентификатор книги;\n",
    "- username — имя автора обзора;\n",
    "- text — текст обзора.\n",
    "\n",
    "# Задачи\n",
    "\n",
    "    - Посчитайте, сколько книг вышло после 1 января 2000 года;\n",
    "    - Для каждой книги посчитайте количество обзоров и среднюю оценку;\n",
    "    - Определите издательство, которое выпустило наибольшее число книг толще 50 страниц (так исключите из анализа брошюры);\n",
    "    - Определите автора с самой высокой средней оценкой книг — учитывайте только книги с 50 и более оценками;\n",
    "    - Посчитайте среднее количество обзоров от пользователей, которые поставили больше 48 оценок."
   ]
  },
  {
   "cell_type": "markdown",
   "metadata": {},
   "source": [
    "# План работы\n",
    "- импорт библиотек pandas для анализа и sqlalchemy для рабтоы на SQL;\n",
    "- подключение к базе и выгрузка данных;\n",
    "    - изучение данных каждой таблицы;\n",
    "- решение задач;\n",
    "- выводы и рекомендации."
   ]
  },
  {
   "cell_type": "markdown",
   "metadata": {},
   "source": [
    "## Импорт библиотек, подготовка к работе"
   ]
  },
  {
   "cell_type": "code",
   "execution_count": 1,
   "metadata": {},
   "outputs": [],
   "source": [
    "# импортируем библиотеки\n",
    "# импортируем библиотеки\n",
    "import pandas as pd\n",
    "import sqlalchemy as sa\n",
    "from sqlalchemy import text, create_engine"
   ]
  },
  {
   "cell_type": "code",
   "execution_count": 2,
   "metadata": {},
   "outputs": [],
   "source": [
    "# устанавливаем параметры\n",
    "db_config = {'user': '', # имя пользователя\n",
    "            'pwd': '', # пароль\n",
    "            'host': '',\n",
    "            'port': , # порт подключения\n",
    "            'db': ''} # название базы данных\n",
    "\n",
    "connection_string = 'postgresql://{user}:{pwd}@{host}:{port}/{db}'.format(**db_config)\n",
    "\n",
    "# сохраняем коннектор\n",
    "engine = create_engine(connection_string, connect_args={'sslmode':'require'})\n"
   ]
  },
  {
   "cell_type": "markdown",
   "metadata": {},
   "source": [
    "## подключение к базе и выгрузка данных"
   ]
  },
  {
   "cell_type": "code",
   "execution_count": 3,
   "metadata": {},
   "outputs": [],
   "source": [
    "# чтобы выполнить SQL-запрос, пишем функцию с использованием Pandas\n",
    "def get_sql_data(query:str, engine:sa.engine.base.Engine=engine) -> pd.DataFrame:\n",
    "    '''Открываем соединение, получаем данные sql, закрываем соединение'''\n",
    "    with engine.connect() as con:\n",
    "        return pd.read_sql(sql=sa.text(query), con = con)"
   ]
  },
  {
   "cell_type": "code",
   "execution_count": 4,
   "metadata": {
    "scrolled": false
   },
   "outputs": [
    {
     "name": "stdout",
     "output_type": "stream",
     "text": [
      "Данные таблицы books:\n"
     ]
    },
    {
     "data": {
      "text/html": [
       "<div>\n",
       "<style scoped>\n",
       "    .dataframe tbody tr th:only-of-type {\n",
       "        vertical-align: middle;\n",
       "    }\n",
       "\n",
       "    .dataframe tbody tr th {\n",
       "        vertical-align: top;\n",
       "    }\n",
       "\n",
       "    .dataframe thead th {\n",
       "        text-align: right;\n",
       "    }\n",
       "</style>\n",
       "<table border=\"1\" class=\"dataframe\">\n",
       "  <thead>\n",
       "    <tr style=\"text-align: right;\">\n",
       "      <th></th>\n",
       "      <th>book_id</th>\n",
       "      <th>author_id</th>\n",
       "      <th>title</th>\n",
       "      <th>num_pages</th>\n",
       "      <th>publication_date</th>\n",
       "      <th>publisher_id</th>\n",
       "    </tr>\n",
       "  </thead>\n",
       "  <tbody>\n",
       "    <tr>\n",
       "      <th>0</th>\n",
       "      <td>1</td>\n",
       "      <td>546</td>\n",
       "      <td>'Salem's Lot</td>\n",
       "      <td>594</td>\n",
       "      <td>2005-11-01</td>\n",
       "      <td>93</td>\n",
       "    </tr>\n",
       "    <tr>\n",
       "      <th>1</th>\n",
       "      <td>2</td>\n",
       "      <td>465</td>\n",
       "      <td>1 000 Places to See Before You Die</td>\n",
       "      <td>992</td>\n",
       "      <td>2003-05-22</td>\n",
       "      <td>336</td>\n",
       "    </tr>\n",
       "    <tr>\n",
       "      <th>2</th>\n",
       "      <td>3</td>\n",
       "      <td>407</td>\n",
       "      <td>13 Little Blue Envelopes (Little Blue Envelope...</td>\n",
       "      <td>322</td>\n",
       "      <td>2010-12-21</td>\n",
       "      <td>135</td>\n",
       "    </tr>\n",
       "    <tr>\n",
       "      <th>3</th>\n",
       "      <td>4</td>\n",
       "      <td>82</td>\n",
       "      <td>1491: New Revelations of the Americas Before C...</td>\n",
       "      <td>541</td>\n",
       "      <td>2006-10-10</td>\n",
       "      <td>309</td>\n",
       "    </tr>\n",
       "    <tr>\n",
       "      <th>4</th>\n",
       "      <td>5</td>\n",
       "      <td>125</td>\n",
       "      <td>1776</td>\n",
       "      <td>386</td>\n",
       "      <td>2006-07-04</td>\n",
       "      <td>268</td>\n",
       "    </tr>\n",
       "  </tbody>\n",
       "</table>\n",
       "</div>"
      ],
      "text/plain": [
       "   book_id  author_id                                              title  \\\n",
       "0        1        546                                       'Salem's Lot   \n",
       "1        2        465                 1 000 Places to See Before You Die   \n",
       "2        3        407  13 Little Blue Envelopes (Little Blue Envelope...   \n",
       "3        4         82  1491: New Revelations of the Americas Before C...   \n",
       "4        5        125                                               1776   \n",
       "\n",
       "   num_pages publication_date  publisher_id  \n",
       "0        594       2005-11-01            93  \n",
       "1        992       2003-05-22           336  \n",
       "2        322       2010-12-21           135  \n",
       "3        541       2006-10-10           309  \n",
       "4        386       2006-07-04           268  "
      ]
     },
     "metadata": {},
     "output_type": "display_data"
    },
    {
     "name": "stdout",
     "output_type": "stream",
     "text": [
      "<class 'pandas.core.frame.DataFrame'>\n",
      "RangeIndex: 1000 entries, 0 to 999\n",
      "Data columns (total 6 columns):\n",
      " #   Column            Non-Null Count  Dtype \n",
      "---  ------            --------------  ----- \n",
      " 0   book_id           1000 non-null   int64 \n",
      " 1   author_id         1000 non-null   int64 \n",
      " 2   title             1000 non-null   object\n",
      " 3   num_pages         1000 non-null   int64 \n",
      " 4   publication_date  1000 non-null   object\n",
      " 5   publisher_id      1000 non-null   int64 \n",
      "dtypes: int64(4), object(2)\n",
      "memory usage: 47.0+ KB\n",
      "____________________________________________________________________\n",
      "\n",
      "Данные таблицы authors:\n"
     ]
    },
    {
     "data": {
      "text/html": [
       "<div>\n",
       "<style scoped>\n",
       "    .dataframe tbody tr th:only-of-type {\n",
       "        vertical-align: middle;\n",
       "    }\n",
       "\n",
       "    .dataframe tbody tr th {\n",
       "        vertical-align: top;\n",
       "    }\n",
       "\n",
       "    .dataframe thead th {\n",
       "        text-align: right;\n",
       "    }\n",
       "</style>\n",
       "<table border=\"1\" class=\"dataframe\">\n",
       "  <thead>\n",
       "    <tr style=\"text-align: right;\">\n",
       "      <th></th>\n",
       "      <th>author_id</th>\n",
       "      <th>author</th>\n",
       "    </tr>\n",
       "  </thead>\n",
       "  <tbody>\n",
       "    <tr>\n",
       "      <th>0</th>\n",
       "      <td>1</td>\n",
       "      <td>A.S. Byatt</td>\n",
       "    </tr>\n",
       "    <tr>\n",
       "      <th>1</th>\n",
       "      <td>2</td>\n",
       "      <td>Aesop/Laura Harris/Laura Gibbs</td>\n",
       "    </tr>\n",
       "    <tr>\n",
       "      <th>2</th>\n",
       "      <td>3</td>\n",
       "      <td>Agatha Christie</td>\n",
       "    </tr>\n",
       "    <tr>\n",
       "      <th>3</th>\n",
       "      <td>4</td>\n",
       "      <td>Alan Brennert</td>\n",
       "    </tr>\n",
       "    <tr>\n",
       "      <th>4</th>\n",
       "      <td>5</td>\n",
       "      <td>Alan Moore/David   Lloyd</td>\n",
       "    </tr>\n",
       "  </tbody>\n",
       "</table>\n",
       "</div>"
      ],
      "text/plain": [
       "   author_id                          author\n",
       "0          1                      A.S. Byatt\n",
       "1          2  Aesop/Laura Harris/Laura Gibbs\n",
       "2          3                 Agatha Christie\n",
       "3          4                   Alan Brennert\n",
       "4          5        Alan Moore/David   Lloyd"
      ]
     },
     "metadata": {},
     "output_type": "display_data"
    },
    {
     "name": "stdout",
     "output_type": "stream",
     "text": [
      "<class 'pandas.core.frame.DataFrame'>\n",
      "RangeIndex: 636 entries, 0 to 635\n",
      "Data columns (total 2 columns):\n",
      " #   Column     Non-Null Count  Dtype \n",
      "---  ------     --------------  ----- \n",
      " 0   author_id  636 non-null    int64 \n",
      " 1   author     636 non-null    object\n",
      "dtypes: int64(1), object(1)\n",
      "memory usage: 10.1+ KB\n",
      "____________________________________________________________________\n",
      "\n",
      "Данные таблицы publishers:\n"
     ]
    },
    {
     "data": {
      "text/html": [
       "<div>\n",
       "<style scoped>\n",
       "    .dataframe tbody tr th:only-of-type {\n",
       "        vertical-align: middle;\n",
       "    }\n",
       "\n",
       "    .dataframe tbody tr th {\n",
       "        vertical-align: top;\n",
       "    }\n",
       "\n",
       "    .dataframe thead th {\n",
       "        text-align: right;\n",
       "    }\n",
       "</style>\n",
       "<table border=\"1\" class=\"dataframe\">\n",
       "  <thead>\n",
       "    <tr style=\"text-align: right;\">\n",
       "      <th></th>\n",
       "      <th>publisher_id</th>\n",
       "      <th>publisher</th>\n",
       "    </tr>\n",
       "  </thead>\n",
       "  <tbody>\n",
       "    <tr>\n",
       "      <th>0</th>\n",
       "      <td>1</td>\n",
       "      <td>Ace</td>\n",
       "    </tr>\n",
       "    <tr>\n",
       "      <th>1</th>\n",
       "      <td>2</td>\n",
       "      <td>Ace Book</td>\n",
       "    </tr>\n",
       "    <tr>\n",
       "      <th>2</th>\n",
       "      <td>3</td>\n",
       "      <td>Ace Books</td>\n",
       "    </tr>\n",
       "    <tr>\n",
       "      <th>3</th>\n",
       "      <td>4</td>\n",
       "      <td>Ace Hardcover</td>\n",
       "    </tr>\n",
       "    <tr>\n",
       "      <th>4</th>\n",
       "      <td>5</td>\n",
       "      <td>Addison Wesley Publishing Company</td>\n",
       "    </tr>\n",
       "  </tbody>\n",
       "</table>\n",
       "</div>"
      ],
      "text/plain": [
       "   publisher_id                          publisher\n",
       "0             1                                Ace\n",
       "1             2                           Ace Book\n",
       "2             3                          Ace Books\n",
       "3             4                      Ace Hardcover\n",
       "4             5  Addison Wesley Publishing Company"
      ]
     },
     "metadata": {},
     "output_type": "display_data"
    },
    {
     "name": "stdout",
     "output_type": "stream",
     "text": [
      "<class 'pandas.core.frame.DataFrame'>\n",
      "RangeIndex: 340 entries, 0 to 339\n",
      "Data columns (total 2 columns):\n",
      " #   Column        Non-Null Count  Dtype \n",
      "---  ------        --------------  ----- \n",
      " 0   publisher_id  340 non-null    int64 \n",
      " 1   publisher     340 non-null    object\n",
      "dtypes: int64(1), object(1)\n",
      "memory usage: 5.4+ KB\n",
      "____________________________________________________________________\n",
      "\n",
      "Данные таблицы ratings:\n"
     ]
    },
    {
     "data": {
      "text/html": [
       "<div>\n",
       "<style scoped>\n",
       "    .dataframe tbody tr th:only-of-type {\n",
       "        vertical-align: middle;\n",
       "    }\n",
       "\n",
       "    .dataframe tbody tr th {\n",
       "        vertical-align: top;\n",
       "    }\n",
       "\n",
       "    .dataframe thead th {\n",
       "        text-align: right;\n",
       "    }\n",
       "</style>\n",
       "<table border=\"1\" class=\"dataframe\">\n",
       "  <thead>\n",
       "    <tr style=\"text-align: right;\">\n",
       "      <th></th>\n",
       "      <th>rating_id</th>\n",
       "      <th>book_id</th>\n",
       "      <th>username</th>\n",
       "      <th>rating</th>\n",
       "    </tr>\n",
       "  </thead>\n",
       "  <tbody>\n",
       "    <tr>\n",
       "      <th>0</th>\n",
       "      <td>1</td>\n",
       "      <td>1</td>\n",
       "      <td>ryanfranco</td>\n",
       "      <td>4</td>\n",
       "    </tr>\n",
       "    <tr>\n",
       "      <th>1</th>\n",
       "      <td>2</td>\n",
       "      <td>1</td>\n",
       "      <td>grantpatricia</td>\n",
       "      <td>2</td>\n",
       "    </tr>\n",
       "    <tr>\n",
       "      <th>2</th>\n",
       "      <td>3</td>\n",
       "      <td>1</td>\n",
       "      <td>brandtandrea</td>\n",
       "      <td>5</td>\n",
       "    </tr>\n",
       "    <tr>\n",
       "      <th>3</th>\n",
       "      <td>4</td>\n",
       "      <td>2</td>\n",
       "      <td>lorichen</td>\n",
       "      <td>3</td>\n",
       "    </tr>\n",
       "    <tr>\n",
       "      <th>4</th>\n",
       "      <td>5</td>\n",
       "      <td>2</td>\n",
       "      <td>mariokeller</td>\n",
       "      <td>2</td>\n",
       "    </tr>\n",
       "  </tbody>\n",
       "</table>\n",
       "</div>"
      ],
      "text/plain": [
       "   rating_id  book_id       username  rating\n",
       "0          1        1     ryanfranco       4\n",
       "1          2        1  grantpatricia       2\n",
       "2          3        1   brandtandrea       5\n",
       "3          4        2       lorichen       3\n",
       "4          5        2    mariokeller       2"
      ]
     },
     "metadata": {},
     "output_type": "display_data"
    },
    {
     "name": "stdout",
     "output_type": "stream",
     "text": [
      "<class 'pandas.core.frame.DataFrame'>\n",
      "RangeIndex: 6456 entries, 0 to 6455\n",
      "Data columns (total 4 columns):\n",
      " #   Column     Non-Null Count  Dtype \n",
      "---  ------     --------------  ----- \n",
      " 0   rating_id  6456 non-null   int64 \n",
      " 1   book_id    6456 non-null   int64 \n",
      " 2   username   6456 non-null   object\n",
      " 3   rating     6456 non-null   int64 \n",
      "dtypes: int64(3), object(1)\n",
      "memory usage: 201.9+ KB\n",
      "____________________________________________________________________\n",
      "\n",
      "Данные таблицы reviews:\n"
     ]
    },
    {
     "data": {
      "text/html": [
       "<div>\n",
       "<style scoped>\n",
       "    .dataframe tbody tr th:only-of-type {\n",
       "        vertical-align: middle;\n",
       "    }\n",
       "\n",
       "    .dataframe tbody tr th {\n",
       "        vertical-align: top;\n",
       "    }\n",
       "\n",
       "    .dataframe thead th {\n",
       "        text-align: right;\n",
       "    }\n",
       "</style>\n",
       "<table border=\"1\" class=\"dataframe\">\n",
       "  <thead>\n",
       "    <tr style=\"text-align: right;\">\n",
       "      <th></th>\n",
       "      <th>review_id</th>\n",
       "      <th>book_id</th>\n",
       "      <th>username</th>\n",
       "      <th>text</th>\n",
       "    </tr>\n",
       "  </thead>\n",
       "  <tbody>\n",
       "    <tr>\n",
       "      <th>0</th>\n",
       "      <td>1</td>\n",
       "      <td>1</td>\n",
       "      <td>brandtandrea</td>\n",
       "      <td>Mention society tell send professor analysis. ...</td>\n",
       "    </tr>\n",
       "    <tr>\n",
       "      <th>1</th>\n",
       "      <td>2</td>\n",
       "      <td>1</td>\n",
       "      <td>ryanfranco</td>\n",
       "      <td>Foot glass pretty audience hit themselves. Amo...</td>\n",
       "    </tr>\n",
       "    <tr>\n",
       "      <th>2</th>\n",
       "      <td>3</td>\n",
       "      <td>2</td>\n",
       "      <td>lorichen</td>\n",
       "      <td>Listen treat keep worry. Miss husband tax but ...</td>\n",
       "    </tr>\n",
       "    <tr>\n",
       "      <th>3</th>\n",
       "      <td>4</td>\n",
       "      <td>3</td>\n",
       "      <td>johnsonamanda</td>\n",
       "      <td>Finally month interesting blue could nature cu...</td>\n",
       "    </tr>\n",
       "    <tr>\n",
       "      <th>4</th>\n",
       "      <td>5</td>\n",
       "      <td>3</td>\n",
       "      <td>scotttamara</td>\n",
       "      <td>Nation purpose heavy give wait song will. List...</td>\n",
       "    </tr>\n",
       "  </tbody>\n",
       "</table>\n",
       "</div>"
      ],
      "text/plain": [
       "   review_id  book_id       username  \\\n",
       "0          1        1   brandtandrea   \n",
       "1          2        1     ryanfranco   \n",
       "2          3        2       lorichen   \n",
       "3          4        3  johnsonamanda   \n",
       "4          5        3    scotttamara   \n",
       "\n",
       "                                                text  \n",
       "0  Mention society tell send professor analysis. ...  \n",
       "1  Foot glass pretty audience hit themselves. Amo...  \n",
       "2  Listen treat keep worry. Miss husband tax but ...  \n",
       "3  Finally month interesting blue could nature cu...  \n",
       "4  Nation purpose heavy give wait song will. List...  "
      ]
     },
     "metadata": {},
     "output_type": "display_data"
    },
    {
     "name": "stdout",
     "output_type": "stream",
     "text": [
      "<class 'pandas.core.frame.DataFrame'>\n",
      "RangeIndex: 2793 entries, 0 to 2792\n",
      "Data columns (total 4 columns):\n",
      " #   Column     Non-Null Count  Dtype \n",
      "---  ------     --------------  ----- \n",
      " 0   review_id  2793 non-null   int64 \n",
      " 1   book_id    2793 non-null   int64 \n",
      " 2   username   2793 non-null   object\n",
      " 3   text       2793 non-null   object\n",
      "dtypes: int64(2), object(2)\n",
      "memory usage: 87.4+ KB\n",
      "____________________________________________________________________\n",
      "\n"
     ]
    }
   ],
   "source": [
    "for name in ['books', 'authors', 'publishers', 'ratings', 'reviews']:\n",
    "    print(f'Данные таблицы {name}:')\n",
    "    query = f''' SELECT * \n",
    "                FROM {name}\n",
    "            '''\n",
    "    name = pd.io.sql.read_sql(query, con = engine)\n",
    "    display(name.head())\n",
    "    name.info()\n",
    "    print('____________________________________________________________________')\n",
    "    print('')"
   ]
  },
  {
   "cell_type": "code",
   "execution_count": 5,
   "metadata": {},
   "outputs": [
    {
     "data": {
      "text/html": [
       "<div>\n",
       "<style scoped>\n",
       "    .dataframe tbody tr th:only-of-type {\n",
       "        vertical-align: middle;\n",
       "    }\n",
       "\n",
       "    .dataframe tbody tr th {\n",
       "        vertical-align: top;\n",
       "    }\n",
       "\n",
       "    .dataframe thead th {\n",
       "        text-align: right;\n",
       "    }\n",
       "</style>\n",
       "<table border=\"1\" class=\"dataframe\">\n",
       "  <thead>\n",
       "    <tr style=\"text-align: right;\">\n",
       "      <th></th>\n",
       "      <th>min_date</th>\n",
       "      <th>max_date</th>\n",
       "    </tr>\n",
       "  </thead>\n",
       "  <tbody>\n",
       "    <tr>\n",
       "      <th>0</th>\n",
       "      <td>1952-12-01</td>\n",
       "      <td>2020-03-31</td>\n",
       "    </tr>\n",
       "  </tbody>\n",
       "</table>\n",
       "</div>"
      ],
      "text/plain": [
       "     min_date    max_date\n",
       "0  1952-12-01  2020-03-31"
      ]
     },
     "execution_count": 5,
     "metadata": {},
     "output_type": "execute_result"
    }
   ],
   "source": [
    "# формируем запрос о минимальном и максимальном времени публикаций и выводим данные\n",
    "query = '''SELECT MIN(publication_date) AS min_date, \n",
    "                MAX(publication_date) AS max_date\n",
    "            FROM books b \n",
    "            ; '''\n",
    "get_sql_data(query)"
   ]
  },
  {
   "cell_type": "markdown",
   "metadata": {},
   "source": [
    "- Таблица с данными о книгах содержит 1000 строк и 6 столбцов. Замечено, что данные о дате публикации в неправильном типе, но в рамках имеющихся задач тип можно не менять. Данные хранят информацию о книгах, изданных до 31 марта 2020 года.\n",
    "\n",
    "- Таблица с данными авторов содержит 2 столбца и 636 строк, в которых хранится информация об идентификаторе автора и его или их имена, если это группа авторов. Таблица изменений не требует.\n",
    "\n",
    "- Таблица с информацией об издательствах состоит из 340 строк уникальных названий издательств и изменений не требует.\n",
    "\n",
    "- Таблица рейтинга пользователей содержит 6456 позиций оценок, принадлежащих каждому из 1000 изданий. Количество оценивавших пользователей меньше, так как каждый пользователь мог оценить по нескольку книг. Изменений таблица не требует.\n",
    "\n",
    "- Таблица обзоров содержит 2793 рецензии, данные об авторе рецензии и оцениваемой книге. Правок не требует.\n"
   ]
  },
  {
   "cell_type": "markdown",
   "metadata": {},
   "source": [
    "\n",
    "## Решение исследовательских задач\n",
    "\n",
    "### Посчитайть, сколько книг вышло после 1 января 2000 года\n"
   ]
  },
  {
   "cell_type": "code",
   "execution_count": 6,
   "metadata": {},
   "outputs": [
    {
     "data": {
      "text/html": [
       "<div>\n",
       "<style scoped>\n",
       "    .dataframe tbody tr th:only-of-type {\n",
       "        vertical-align: middle;\n",
       "    }\n",
       "\n",
       "    .dataframe tbody tr th {\n",
       "        vertical-align: top;\n",
       "    }\n",
       "\n",
       "    .dataframe thead th {\n",
       "        text-align: right;\n",
       "    }\n",
       "</style>\n",
       "<table border=\"1\" class=\"dataframe\">\n",
       "  <thead>\n",
       "    <tr style=\"text-align: right;\">\n",
       "      <th></th>\n",
       "      <th>count</th>\n",
       "    </tr>\n",
       "  </thead>\n",
       "  <tbody>\n",
       "    <tr>\n",
       "      <th>0</th>\n",
       "      <td>821</td>\n",
       "    </tr>\n",
       "  </tbody>\n",
       "</table>\n",
       "</div>"
      ],
      "text/plain": [
       "   count\n",
       "0    821"
      ]
     },
     "execution_count": 6,
     "metadata": {},
     "output_type": "execute_result"
    }
   ],
   "source": [
    "# формируем запрос и выводим данные\n",
    "query = '''SELECT COUNT(book_id)\n",
    "            FROM books b \n",
    "            WHERE publication_date >= '2000-01-01'; '''\n",
    "get_sql_data(query)"
   ]
  },
  {
   "cell_type": "markdown",
   "metadata": {},
   "source": [
    "В имеющихся данных есть информация о 821 книге, вышедшей с 1 января 2000 года.\n"
   ]
  },
  {
   "cell_type": "markdown",
   "metadata": {},
   "source": [
    "### Для каждой книги посчитайть количество обзоров и среднюю оценку"
   ]
  },
  {
   "cell_type": "code",
   "execution_count": 7,
   "metadata": {},
   "outputs": [
    {
     "data": {
      "text/html": [
       "<div>\n",
       "<style scoped>\n",
       "    .dataframe tbody tr th:only-of-type {\n",
       "        vertical-align: middle;\n",
       "    }\n",
       "\n",
       "    .dataframe tbody tr th {\n",
       "        vertical-align: top;\n",
       "    }\n",
       "\n",
       "    .dataframe thead th {\n",
       "        text-align: right;\n",
       "    }\n",
       "</style>\n",
       "<table border=\"1\" class=\"dataframe\">\n",
       "  <thead>\n",
       "    <tr style=\"text-align: right;\">\n",
       "      <th></th>\n",
       "      <th>title</th>\n",
       "      <th>count_review</th>\n",
       "      <th>avg_rating</th>\n",
       "    </tr>\n",
       "  </thead>\n",
       "  <tbody>\n",
       "    <tr>\n",
       "      <th>0</th>\n",
       "      <td>'Salem's Lot</td>\n",
       "      <td>2.0</td>\n",
       "      <td>3.67</td>\n",
       "    </tr>\n",
       "    <tr>\n",
       "      <th>1</th>\n",
       "      <td>1 000 Places to See Before You Die</td>\n",
       "      <td>1.0</td>\n",
       "      <td>2.50</td>\n",
       "    </tr>\n",
       "    <tr>\n",
       "      <th>2</th>\n",
       "      <td>13 Little Blue Envelopes (Little Blue Envelope...</td>\n",
       "      <td>3.0</td>\n",
       "      <td>4.67</td>\n",
       "    </tr>\n",
       "    <tr>\n",
       "      <th>3</th>\n",
       "      <td>1491: New Revelations of the Americas Before C...</td>\n",
       "      <td>2.0</td>\n",
       "      <td>4.50</td>\n",
       "    </tr>\n",
       "    <tr>\n",
       "      <th>4</th>\n",
       "      <td>1776</td>\n",
       "      <td>4.0</td>\n",
       "      <td>4.00</td>\n",
       "    </tr>\n",
       "    <tr>\n",
       "      <th>...</th>\n",
       "      <td>...</td>\n",
       "      <td>...</td>\n",
       "      <td>...</td>\n",
       "    </tr>\n",
       "    <tr>\n",
       "      <th>995</th>\n",
       "      <td>Wyrd Sisters (Discworld  #6; Witches #2)</td>\n",
       "      <td>3.0</td>\n",
       "      <td>3.67</td>\n",
       "    </tr>\n",
       "    <tr>\n",
       "      <th>996</th>\n",
       "      <td>Xenocide (Ender's Saga  #3)</td>\n",
       "      <td>3.0</td>\n",
       "      <td>3.40</td>\n",
       "    </tr>\n",
       "    <tr>\n",
       "      <th>997</th>\n",
       "      <td>Year of Wonders</td>\n",
       "      <td>4.0</td>\n",
       "      <td>3.20</td>\n",
       "    </tr>\n",
       "    <tr>\n",
       "      <th>998</th>\n",
       "      <td>You Suck (A Love Story  #2)</td>\n",
       "      <td>2.0</td>\n",
       "      <td>4.50</td>\n",
       "    </tr>\n",
       "    <tr>\n",
       "      <th>999</th>\n",
       "      <td>Zen and the Art of Motorcycle Maintenance: An ...</td>\n",
       "      <td>4.0</td>\n",
       "      <td>3.83</td>\n",
       "    </tr>\n",
       "  </tbody>\n",
       "</table>\n",
       "<p>1000 rows × 3 columns</p>\n",
       "</div>"
      ],
      "text/plain": [
       "                                                 title  count_review  \\\n",
       "0                                         'Salem's Lot           2.0   \n",
       "1                   1 000 Places to See Before You Die           1.0   \n",
       "2    13 Little Blue Envelopes (Little Blue Envelope...           3.0   \n",
       "3    1491: New Revelations of the Americas Before C...           2.0   \n",
       "4                                                 1776           4.0   \n",
       "..                                                 ...           ...   \n",
       "995           Wyrd Sisters (Discworld  #6; Witches #2)           3.0   \n",
       "996                        Xenocide (Ender's Saga  #3)           3.0   \n",
       "997                                    Year of Wonders           4.0   \n",
       "998                        You Suck (A Love Story  #2)           2.0   \n",
       "999  Zen and the Art of Motorcycle Maintenance: An ...           4.0   \n",
       "\n",
       "     avg_rating  \n",
       "0          3.67  \n",
       "1          2.50  \n",
       "2          4.67  \n",
       "3          4.50  \n",
       "4          4.00  \n",
       "..          ...  \n",
       "995        3.67  \n",
       "996        3.40  \n",
       "997        3.20  \n",
       "998        4.50  \n",
       "999        3.83  \n",
       "\n",
       "[1000 rows x 3 columns]"
      ]
     },
     "execution_count": 7,
     "metadata": {},
     "output_type": "execute_result"
    }
   ],
   "source": [
    "# формируем запрос и выводим данные\n",
    "query = '''SELECT b.title , \n",
    "                r.count_review, \n",
    "                r2.avg_rating\n",
    "            FROM books b \n",
    "            LEFT JOIN (SELECT book_id, COUNT(review_id) AS count_review\n",
    "                        FROM reviews r \n",
    "                        GROUP BY book_id \n",
    "                        ORDER BY book_id) r on r.book_id = b.book_id \n",
    "            LEFT JOIN (SELECT book_id , ROUND(avg(rating), 2) AS avg_rating\n",
    "                        FROM ratings r \n",
    "                        GROUP BY book_id) r2 on r2.book_id = b.book_id \n",
    "            ORDER BY b.book_id; \n",
    "        '''\n",
    "get_sql_data(query)"
   ]
  },
  {
   "cell_type": "markdown",
   "metadata": {},
   "source": [
    "В результате запроса получена таблица с данными о названии книги, соттветствующем ей количестве рецензий и среднем рейтинге. Добавляя в запрос условия, например, рейтинг не ниже 4,5 с помощью WHERE, можно выгружать только издания нужных категорий."
   ]
  },
  {
   "cell_type": "markdown",
   "metadata": {},
   "source": [
    "### Определить издательство, которое выпустило наибольшее число книг толще 50 страниц, чтобы  исключить из анализа брошюры"
   ]
  },
  {
   "cell_type": "code",
   "execution_count": 8,
   "metadata": {},
   "outputs": [
    {
     "data": {
      "text/html": [
       "<div>\n",
       "<style scoped>\n",
       "    .dataframe tbody tr th:only-of-type {\n",
       "        vertical-align: middle;\n",
       "    }\n",
       "\n",
       "    .dataframe tbody tr th {\n",
       "        vertical-align: top;\n",
       "    }\n",
       "\n",
       "    .dataframe thead th {\n",
       "        text-align: right;\n",
       "    }\n",
       "</style>\n",
       "<table border=\"1\" class=\"dataframe\">\n",
       "  <thead>\n",
       "    <tr style=\"text-align: right;\">\n",
       "      <th></th>\n",
       "      <th>publisher</th>\n",
       "      <th>count</th>\n",
       "    </tr>\n",
       "  </thead>\n",
       "  <tbody>\n",
       "    <tr>\n",
       "      <th>0</th>\n",
       "      <td>Penguin Books</td>\n",
       "      <td>42</td>\n",
       "    </tr>\n",
       "  </tbody>\n",
       "</table>\n",
       "</div>"
      ],
      "text/plain": [
       "       publisher  count\n",
       "0  Penguin Books     42"
      ]
     },
     "execution_count": 8,
     "metadata": {},
     "output_type": "execute_result"
    }
   ],
   "source": [
    "# формируем запрос и выводим данные\n",
    "query = '''WITH \n",
    "        id AS (SELECT b.publisher_id, count(b.book_id) \n",
    "                FROM books b \n",
    "                WHERE b.num_pages >50\n",
    "                GROUP BY b.publisher_id \n",
    "                ORDER BY count(b.book_id) desc \n",
    "                LIMIT 1) \n",
    "            SELECT p.publisher, id.count\n",
    "            FROM publishers p \n",
    "            LEFT JOIN id ON id.publisher_id = p.publisher_id\n",
    "            WHERE p.publisher_id = (select publisher_id from id)\n",
    "     ; '''\n",
    "get_sql_data(query)"
   ]
  },
  {
   "cell_type": "markdown",
   "metadata": {},
   "source": [
    "Наиболее продуктивным оказалось издательство Penguin Books, ввыпустившее 42 книги, не являющиеся брошюрами.\n"
   ]
  },
  {
   "cell_type": "markdown",
   "metadata": {},
   "source": [
    "### Определить автора с самой высокой средней оценкой книг — учитывайть только книги с 50 и более оценками."
   ]
  },
  {
   "cell_type": "code",
   "execution_count": 9,
   "metadata": {},
   "outputs": [
    {
     "data": {
      "text/html": [
       "<div>\n",
       "<style scoped>\n",
       "    .dataframe tbody tr th:only-of-type {\n",
       "        vertical-align: middle;\n",
       "    }\n",
       "\n",
       "    .dataframe tbody tr th {\n",
       "        vertical-align: top;\n",
       "    }\n",
       "\n",
       "    .dataframe thead th {\n",
       "        text-align: right;\n",
       "    }\n",
       "</style>\n",
       "<table border=\"1\" class=\"dataframe\">\n",
       "  <thead>\n",
       "    <tr style=\"text-align: right;\">\n",
       "      <th></th>\n",
       "      <th>author</th>\n",
       "      <th>avg</th>\n",
       "    </tr>\n",
       "  </thead>\n",
       "  <tbody>\n",
       "    <tr>\n",
       "      <th>0</th>\n",
       "      <td>J.K. Rowling/Mary GrandPré</td>\n",
       "      <td>4.287097</td>\n",
       "    </tr>\n",
       "  </tbody>\n",
       "</table>\n",
       "</div>"
      ],
      "text/plain": [
       "                       author       avg\n",
       "0  J.K. Rowling/Mary GrandPré  4.287097"
      ]
     },
     "execution_count": 9,
     "metadata": {},
     "output_type": "execute_result"
    }
   ],
   "source": [
    "# формируем запрос и выводим данные\n",
    "query = '''WITH \n",
    "books_raiting AS (SELECT book_id, count(rating_id)\n",
    "                FROM ratings r2 \n",
    "                GROUP BY book_id\n",
    "                HAVING count(rating_id)>=50),\n",
    "books_avg as (SELECT book_id, \n",
    "                AVG(rating) OVER(PARTITION BY book_id) AS avg_raiting\n",
    "                FROM ratings r \n",
    "                WHERE book_id IN (SELECT book_id FROM books_raiting))\n",
    "SELECT a.author, \n",
    "        AVG(books_avg.avg_raiting) OVER(PARTITION BY a.author)\n",
    "FROM books_avg \n",
    "JOIN books b ON books_avg.book_id = b.book_id \n",
    "JOIN author a ON a.author_id = b.author_id \n",
    "ORDER BY avg DESC\n",
    "LIMIT 1\n",
    "     ; '''\n",
    "get_sql_data(query)"
   ]
  },
  {
   "cell_type": "markdown",
   "metadata": {},
   "source": [
    "Наибольшую оценку среди имеющихся данных имеет J.K. Rowling/Mary GrandPré. "
   ]
  },
  {
   "cell_type": "code",
   "execution_count": 10,
   "metadata": {},
   "outputs": [
    {
     "data": {
      "text/html": [
       "<div>\n",
       "<style scoped>\n",
       "    .dataframe tbody tr th:only-of-type {\n",
       "        vertical-align: middle;\n",
       "    }\n",
       "\n",
       "    .dataframe tbody tr th {\n",
       "        vertical-align: top;\n",
       "    }\n",
       "\n",
       "    .dataframe thead th {\n",
       "        text-align: right;\n",
       "    }\n",
       "</style>\n",
       "<table border=\"1\" class=\"dataframe\">\n",
       "  <thead>\n",
       "    <tr style=\"text-align: right;\">\n",
       "      <th></th>\n",
       "      <th>author</th>\n",
       "      <th>avg_rating</th>\n",
       "    </tr>\n",
       "  </thead>\n",
       "  <tbody>\n",
       "    <tr>\n",
       "      <th>0</th>\n",
       "      <td>J.K. Rowling/Mary GrandPré</td>\n",
       "      <td>4.287097</td>\n",
       "    </tr>\n",
       "  </tbody>\n",
       "</table>\n",
       "</div>"
      ],
      "text/plain": [
       "                       author  avg_rating\n",
       "0  J.K. Rowling/Mary GrandPré    4.287097"
      ]
     },
     "execution_count": 10,
     "metadata": {},
     "output_type": "execute_result"
    }
   ],
   "source": [
    "# формируем запрос и выводим данные\n",
    "query = '''WITH \n",
    "books_raiting AS (SELECT book_id, \n",
    "                        COUNT(rating_id)\n",
    "                FROM ratings r2 \n",
    "                GROUP BY book_id\n",
    "                HAVING COUNT(rating_id)>=50)\n",
    "SELECT DISTINCT a.author,\n",
    "    AVG(rating) OVER(PARTITION BY a.author_id) AS avg_rating\n",
    "FROM books b \n",
    "LEFT JOIN author a ON a.author_id = b.author_id \n",
    "LEFT JOIN ratings r ON r.book_id = b.book_id\n",
    "WHERE b.book_id in (SELECT book_id FROM books_raiting)\n",
    "ORDER BY avg_rating DESC\n",
    "LIMIT 1\n",
    "     ; '''\n",
    "get_sql_data(query)"
   ]
  },
  {
   "cell_type": "markdown",
   "metadata": {},
   "source": [
    "### Посчитайте среднее количество обзоров от пользователей, которые поставили больше 48 оценок."
   ]
  },
  {
   "cell_type": "code",
   "execution_count": 12,
   "metadata": {},
   "outputs": [
    {
     "data": {
      "text/html": [
       "<div>\n",
       "<style scoped>\n",
       "    .dataframe tbody tr th:only-of-type {\n",
       "        vertical-align: middle;\n",
       "    }\n",
       "\n",
       "    .dataframe tbody tr th {\n",
       "        vertical-align: top;\n",
       "    }\n",
       "\n",
       "    .dataframe thead th {\n",
       "        text-align: right;\n",
       "    }\n",
       "</style>\n",
       "<table border=\"1\" class=\"dataframe\">\n",
       "  <thead>\n",
       "    <tr style=\"text-align: right;\">\n",
       "      <th></th>\n",
       "      <th>avg_count_review</th>\n",
       "    </tr>\n",
       "  </thead>\n",
       "  <tbody>\n",
       "    <tr>\n",
       "      <th>0</th>\n",
       "      <td>24.0</td>\n",
       "    </tr>\n",
       "  </tbody>\n",
       "</table>\n",
       "</div>"
      ],
      "text/plain": [
       "   avg_count_review\n",
       "0              24.0"
      ]
     },
     "execution_count": 12,
     "metadata": {},
     "output_type": "execute_result"
    }
   ],
   "source": [
    "# формируем запрос и выводим данные\n",
    "query = '''WITH \n",
    "users_data AS (SELECT username, \n",
    "                    COUNT(rating_id) AS count_raiting\n",
    "                FROM ratings r \n",
    "                GROUP BY username\n",
    "                HAVING count(rating)>48),\n",
    "review_data as (SELECT username, \n",
    "                    COUNT(review_id) AS count_review\n",
    "                FROM reviews rv \n",
    "                GROUP BY username)\n",
    "SELECT ROUND(AVG(count_review)) AS avg_count_review\n",
    "FROM users_data ud\n",
    "LEFT JOIN review_data rd ON rd.username = ud.username\n",
    "     ; '''\n",
    "get_sql_data(query)"
   ]
  },
  {
   "cell_type": "markdown",
   "metadata": {},
   "source": [
    "Наиболее активные пользователи, имеющие более 48 оценок, в среднем сделали 24 обзора на имеющиеся книги."
   ]
  },
  {
   "cell_type": "markdown",
   "metadata": {},
   "source": [
    "## Выводы\n",
    "\n",
    "В ходе проведённого анализа данные были загружены и проверены с помощью SQL.\n",
    "\n",
    "Таблица с данными о книгах содержит 1000 строк и 6 столбцов. Замечено, что данные о дате публикации в неправильном типе, но в рамках имеющихся задач тип можно не менять.\n",
    "\n",
    "Таблица с данными авторов содержит 2 столбца и 636 строк, в которых хранится информация об идентификаторе автора и его или их имена, если это группа авторов. Таблица изменений не требует.\n",
    "\n",
    "Таблица с информацией об издательствах состоит из 340 строк уникальных названий издательств и изменений не требует.\n",
    "\n",
    "Таблица рейтинга пользователей содержит 6456 позиций оценок, принадлежащих каждому из 1000 изданий. Количество оценивавших пользователей меньше, так как каждый пользователь мог оценить по нескольку книг. Изменений таблица не требует.\n",
    "\n",
    "Таблица обзоров содержит 2793 рецензии, данные об авторе рецензии и оцениваемой книге. Правок не требует.\n",
    "\n",
    "Решение поставленных задач дало следующие результаты:\n",
    "\n",
    "- с 1 января 2000 года вышло 821 книга, что составляет 82,1% имеющейся базы данных.\n",
    "- в результате запроса получена таблица с данными о названии книги, сответствующим ей количестве рецензий и среднем рейтинге. Добавляя в запрос условия, например, рейтинг не ниже 4,5 с помощью WHERE, можно выгружать только издания нужных категорий.\n",
    "- наиболее продуктивным оказалось издательство Penguin Books, ввыпустившее 42 книги, не являющиеся брошюрами.\n",
    "- наибольшую оценку среди имеющихся данных имеет J.K. Rowling/Mary GrandPré.\n",
    "- наиболее активные пользователи, выставившие книгам более 48 оценок, в среднем сделали 24 обзора на имеющиеся книги."
   ]
  },
  {
   "cell_type": "markdown",
   "metadata": {},
   "source": [
    "Несмотря на нестабильную ситуацию и смену привычного режима жизни, люди не перестали выпускать и читать книги. В распоряжении менеджеров информация о 821 книге, изданной с 1 января по 31 марта 2000 года. Книги остаются популярным продуктом потребления челевечества и развитие в области современной подачи литературы - электронной библиотеки - может быть персепктивным.\n",
    "\n",
    "Для более детального изучения информации о современных изданиях, пользующихся спросом были получены данные о названии книги, сответствующим ей количестве рецензий и среднем рейтинге. Из этой таблицы можно получить информацию о наиболее популярных и высоко оцениваемых произведениях, чтобы предлагать их в первую очередь.\n",
    "\n",
    "Для рассмотрения наиболее общирных издательств был получен список и отобрано самое продуктивное, с точки зрения выпуска не являющихся брошюрами изданий.\n",
    "\n",
    "Для оценки популярных авторов из данных была взята информация об авторах с наибольшим количеством оценок и наибольшими рейтингами. В имеющейся базе наибольшую оценку имеет J.K. Rowling/Mary GrandPré.\n",
    "\n",
    "Рейтинг книги формируется не только за чсёт оценки читателей, но и благодаря отзывам и рецензиям на произведение и издание в целом. По имеющимся данным наиболее активные пользователи, выставившие более 48 оценок, в среднем сделали 24 обзора на имеющиеся книги. Пользователей сервиса столит поощрять и привлекать к написанию отзывов и выставлению оценок прочитанным произведениям. Это позволит в перспективе не только создать собственный рейтинг, но и предлагать пользователям произведения, с учётом их предпочтений."
   ]
  },
  {
   "cell_type": "code",
   "execution_count": 13,
   "metadata": {},
   "outputs": [
    {
     "name": "stdout",
     "output_type": "stream",
     "text": [
      "код работает во всех строках\n"
     ]
    }
   ],
   "source": [
    "print('код работает во всех строках')"
   ]
  }
 ],
 "metadata": {
  "ExecuteTimeLog": [
   {
    "duration": 561,
    "start_time": "2024-11-08T06:39:01.814Z"
   },
   {
    "duration": 68,
    "start_time": "2024-11-08T06:39:48.985Z"
   },
   {
    "duration": 2,
    "start_time": "2024-11-08T06:40:28.376Z"
   },
   {
    "duration": 8456,
    "start_time": "2024-11-08T06:40:29.706Z"
   },
   {
    "duration": 4,
    "start_time": "2024-11-08T06:41:01.130Z"
   },
   {
    "duration": 627,
    "start_time": "2024-11-08T06:41:43.352Z"
   },
   {
    "duration": 50,
    "start_time": "2024-11-08T06:43:07.844Z"
   },
   {
    "duration": 49,
    "start_time": "2024-11-08T06:43:50.798Z"
   },
   {
    "duration": 80,
    "start_time": "2024-11-08T06:44:25.730Z"
   },
   {
    "duration": 50,
    "start_time": "2024-11-08T06:45:01.064Z"
   },
   {
    "duration": 54,
    "start_time": "2024-11-08T06:45:38.042Z"
   },
   {
    "duration": 50,
    "start_time": "2024-11-08T06:46:23.921Z"
   },
   {
    "duration": 599,
    "start_time": "2024-11-08T13:40:47.653Z"
   },
   {
    "duration": 9907,
    "start_time": "2024-11-08T13:40:50.520Z"
   },
   {
    "duration": 117,
    "start_time": "2024-11-08T13:41:02.744Z"
   },
   {
    "duration": 4,
    "start_time": "2024-11-08T13:41:39.646Z"
   },
   {
    "duration": 4,
    "start_time": "2024-11-08T13:41:41.599Z"
   },
   {
    "duration": 4,
    "start_time": "2024-11-08T13:41:44.036Z"
   },
   {
    "duration": 706,
    "start_time": "2024-11-08T13:41:46.682Z"
   },
   {
    "duration": 54,
    "start_time": "2024-11-08T13:41:56.115Z"
   },
   {
    "duration": 54,
    "start_time": "2024-11-08T13:41:59.251Z"
   },
   {
    "duration": 90,
    "start_time": "2024-11-08T13:42:02.067Z"
   },
   {
    "duration": 53,
    "start_time": "2024-11-08T13:42:05.449Z"
   },
   {
    "duration": 56,
    "start_time": "2024-11-08T13:44:42.558Z"
   },
   {
    "duration": 72,
    "start_time": "2024-11-08T13:44:55.190Z"
   },
   {
    "duration": 62,
    "start_time": "2024-11-08T13:45:15.897Z"
   },
   {
    "duration": 59,
    "start_time": "2024-11-08T13:45:25.650Z"
   },
   {
    "duration": 58,
    "start_time": "2024-11-08T13:46:10.040Z"
   },
   {
    "duration": 3,
    "start_time": "2024-11-08T13:50:25.779Z"
   },
   {
    "duration": 3,
    "start_time": "2024-11-08T13:50:30.972Z"
   },
   {
    "duration": 3,
    "start_time": "2024-11-08T13:50:46.682Z"
   },
   {
    "duration": 85,
    "start_time": "2024-11-08T13:50:58.751Z"
   },
   {
    "duration": 57,
    "start_time": "2024-11-08T13:51:16.060Z"
   },
   {
    "duration": 263,
    "start_time": "2024-11-08T13:51:52.910Z"
   },
   {
    "duration": 131,
    "start_time": "2024-11-08T13:52:01.557Z"
   },
   {
    "duration": 65,
    "start_time": "2024-11-08T13:52:56.899Z"
   },
   {
    "duration": 62,
    "start_time": "2024-11-08T13:53:00.460Z"
   },
   {
    "duration": 62,
    "start_time": "2024-11-08T13:53:08.927Z"
   },
   {
    "duration": 63,
    "start_time": "2024-11-08T13:53:16.682Z"
   },
   {
    "duration": 77,
    "start_time": "2024-11-08T13:53:28.738Z"
   },
   {
    "duration": 122,
    "start_time": "2024-11-08T13:53:48.327Z"
   },
   {
    "duration": 99,
    "start_time": "2024-11-08T13:53:56.618Z"
   },
   {
    "duration": 91,
    "start_time": "2024-11-08T13:54:32.482Z"
   },
   {
    "duration": 75,
    "start_time": "2024-11-08T13:59:39.037Z"
   },
   {
    "duration": 65,
    "start_time": "2024-11-08T13:59:50.893Z"
   },
   {
    "duration": 66,
    "start_time": "2024-11-08T14:00:02.345Z"
   },
   {
    "duration": 62,
    "start_time": "2024-11-08T14:02:11.457Z"
   },
   {
    "duration": 63,
    "start_time": "2024-11-08T14:02:18.645Z"
   },
   {
    "duration": 112,
    "start_time": "2024-11-08T14:02:34.355Z"
   },
   {
    "duration": 74,
    "start_time": "2024-11-08T14:03:49.112Z"
   },
   {
    "duration": 67,
    "start_time": "2024-11-08T14:03:56.787Z"
   },
   {
    "duration": 75,
    "start_time": "2024-11-08T14:04:42.067Z"
   },
   {
    "duration": 76,
    "start_time": "2024-11-08T14:04:56.528Z"
   },
   {
    "duration": 124,
    "start_time": "2024-11-08T14:05:02.897Z"
   },
   {
    "duration": 63,
    "start_time": "2024-11-08T14:06:04.058Z"
   },
   {
    "duration": 114,
    "start_time": "2024-11-08T14:06:21.714Z"
   },
   {
    "duration": 118,
    "start_time": "2024-11-08T14:06:39.042Z"
   },
   {
    "duration": 84,
    "start_time": "2024-11-08T14:07:33.375Z"
   },
   {
    "duration": 61,
    "start_time": "2024-11-08T14:07:49.892Z"
   },
   {
    "duration": 59,
    "start_time": "2024-11-08T14:07:58.682Z"
   },
   {
    "duration": 55,
    "start_time": "2024-11-08T14:08:06.994Z"
   },
   {
    "duration": 3,
    "start_time": "2024-11-08T14:12:31.302Z"
   },
   {
    "duration": 65,
    "start_time": "2024-11-08T14:12:39.388Z"
   },
   {
    "duration": 73,
    "start_time": "2024-11-08T14:12:48.710Z"
   },
   {
    "duration": 63,
    "start_time": "2024-11-08T14:13:17.645Z"
   },
   {
    "duration": 55,
    "start_time": "2024-11-08T14:13:26.340Z"
   },
   {
    "duration": 544,
    "start_time": "2024-11-08T14:32:56.779Z"
   },
   {
    "duration": 8373,
    "start_time": "2024-11-08T14:32:57.325Z"
   },
   {
    "duration": 4,
    "start_time": "2024-11-08T14:33:05.699Z"
   },
   {
    "duration": 664,
    "start_time": "2024-11-08T14:33:05.706Z"
   },
   {
    "duration": 49,
    "start_time": "2024-11-08T14:33:06.372Z"
   },
   {
    "duration": 48,
    "start_time": "2024-11-08T14:33:06.423Z"
   },
   {
    "duration": 60,
    "start_time": "2024-11-08T14:33:06.473Z"
   },
   {
    "duration": 51,
    "start_time": "2024-11-08T14:33:06.535Z"
   },
   {
    "duration": 55,
    "start_time": "2024-11-08T14:33:06.588Z"
   },
   {
    "duration": 54,
    "start_time": "2024-11-08T14:33:06.646Z"
   },
   {
    "duration": 55,
    "start_time": "2024-11-08T14:33:06.702Z"
   },
   {
    "duration": 53,
    "start_time": "2024-11-08T14:33:06.759Z"
   },
   {
    "duration": 4,
    "start_time": "2024-11-08T14:33:36.862Z"
   },
   {
    "duration": 486,
    "start_time": "2024-11-08T14:33:41.800Z"
   },
   {
    "duration": 7870,
    "start_time": "2024-11-08T14:33:42.288Z"
   },
   {
    "duration": 3,
    "start_time": "2024-11-08T14:33:50.160Z"
   },
   {
    "duration": 692,
    "start_time": "2024-11-08T14:33:50.165Z"
   },
   {
    "duration": 53,
    "start_time": "2024-11-08T14:33:50.860Z"
   },
   {
    "duration": 51,
    "start_time": "2024-11-08T14:33:50.915Z"
   },
   {
    "duration": 70,
    "start_time": "2024-11-08T14:33:50.968Z"
   },
   {
    "duration": 52,
    "start_time": "2024-11-08T14:33:51.040Z"
   },
   {
    "duration": 61,
    "start_time": "2024-11-08T14:33:51.094Z"
   },
   {
    "duration": 60,
    "start_time": "2024-11-08T14:33:51.158Z"
   },
   {
    "duration": 56,
    "start_time": "2024-11-08T14:33:51.220Z"
   },
   {
    "duration": 54,
    "start_time": "2024-11-08T14:33:51.278Z"
   },
   {
    "duration": 3,
    "start_time": "2024-11-08T14:33:51.334Z"
   }
  ],
  "kernelspec": {
   "display_name": "Python 3 (ipykernel)",
   "language": "python",
   "name": "python3"
  },
  "language_info": {
   "codemirror_mode": {
    "name": "ipython",
    "version": 3
   },
   "file_extension": ".py",
   "mimetype": "text/x-python",
   "name": "python",
   "nbconvert_exporter": "python",
   "pygments_lexer": "ipython3",
   "version": "3.11.5"
  },
  "toc": {
   "base_numbering": 1,
   "nav_menu": {},
   "number_sections": true,
   "sideBar": true,
   "skip_h1_title": true,
   "title_cell": "Table of Contents",
   "title_sidebar": "Contents",
   "toc_cell": false,
   "toc_position": {},
   "toc_section_display": true,
   "toc_window_display": false
  }
 },
 "nbformat": 4,
 "nbformat_minor": 2
}
